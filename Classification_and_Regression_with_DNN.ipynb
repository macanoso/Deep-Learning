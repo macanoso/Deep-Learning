{
  "cells": [
    {
      "cell_type": "markdown",
      "metadata": {
        "id": "7S5YFHWVHx03"
      },
      "source": [
        "# Coding classification using Deep Learning from tabular data"
      ]
    },
    {
      "cell_type": "markdown",
      "metadata": {
        "id": "7rDfglIxHx07"
      },
      "source": [
        "In this notebook, we'll go through the code for the coding companion for Regression to create your very first neural network to predict whether the house price is below or above median value. We will go through the following in this notebook:\n",
        "\n",
        "- Exploring and Processing the Data\n",
        "- Building and Training our Neural Network\n",
        "- Visualizing Loss and Accuracy\n",
        "- Adding Regularization to our Neural Network\n",
        "\n",
        "The code is ready to run using house price data. Note that the results might differ because a degree of randomness in the way we split our dataset as well as the initialization of our neural network.\n",
        "\n",
        "This notebook is based on the work of Joseph Lee Wei En, 2019 at medium.com"
      ]
    },
    {
      "cell_type": "markdown",
      "metadata": {
        "id": "Jtrl3uCoHx09"
      },
      "source": [
        "# Exploring and Processing the Data"
      ]
    },
    {
      "cell_type": "markdown",
      "metadata": {
        "id": "FcWeaZgXHx0-"
      },
      "source": [
        "We first have to read in the CSV file that we've been given. We'll use a package called pandas for that:"
      ]
    },
    {
      "cell_type": "code",
      "execution_count": null,
      "metadata": {
        "ExecuteTime": {
          "end_time": "2021-10-23T15:32:24.452865Z",
          "start_time": "2021-10-23T15:32:14.825329Z"
        },
        "colab": {
          "base_uri": "https://localhost:8080/"
        },
        "collapsed": true,
        "id": "op8xjMF3Hx0-",
        "outputId": "8c54bbf7-de73-422c-edea-03ed3de8b8f1"
      },
      "outputs": [
        {
          "name": "stdout",
          "output_type": "stream",
          "text": [
            "Looking in indexes: https://pypi.org/simple, https://us-python.pkg.dev/colab-wheels/public/simple/\n",
            "Requirement already satisfied: pandas in /usr/local/lib/python3.7/dist-packages (1.3.5)\n",
            "Requirement already satisfied: pytz>=2017.3 in /usr/local/lib/python3.7/dist-packages (from pandas) (2022.1)\n",
            "Requirement already satisfied: numpy>=1.17.3 in /usr/local/lib/python3.7/dist-packages (from pandas) (1.21.6)\n",
            "Requirement already satisfied: python-dateutil>=2.7.3 in /usr/local/lib/python3.7/dist-packages (from pandas) (2.8.2)\n",
            "Requirement already satisfied: six>=1.5 in /usr/local/lib/python3.7/dist-packages (from python-dateutil>=2.7.3->pandas) (1.15.0)\n"
          ]
        }
      ],
      "source": [
        "pip install pandas"
      ]
    },
    {
      "cell_type": "code",
      "execution_count": null,
      "metadata": {
        "ExecuteTime": {
          "end_time": "2021-10-23T15:32:40.833742Z",
          "start_time": "2021-10-23T15:32:39.160959Z"
        },
        "id": "iYbFBcncHx1B"
      },
      "outputs": [],
      "source": [
        "import pandas as pd"
      ]
    },
    {
      "cell_type": "code",
      "execution_count": null,
      "metadata": {
        "colab": {
          "base_uri": "https://localhost:8080/",
          "height": 329
        },
        "id": "dNapO_eAHx1C",
        "outputId": "b194235a-70db-4ee0-a0bd-2fce7d0028ca"
      },
      "outputs": [
        {
          "data": {
            "text/html": [
              "<div>\n",
              "<style scoped>\n",
              "    .dataframe tbody tr th:only-of-type {\n",
              "        vertical-align: middle;\n",
              "    }\n",
              "\n",
              "    .dataframe tbody tr th {\n",
              "        vertical-align: top;\n",
              "    }\n",
              "\n",
              "    .dataframe thead th {\n",
              "        text-align: right;\n",
              "    }\n",
              "</style>\n",
              "<table border=\"1\" class=\"dataframe\">\n",
              "  <thead>\n",
              "    <tr style=\"text-align: right;\">\n",
              "      <th></th>\n",
              "      <th>LotArea</th>\n",
              "      <th>OverallQual</th>\n",
              "      <th>OverallCond</th>\n",
              "      <th>TotalBsmtSF</th>\n",
              "      <th>FullBath</th>\n",
              "      <th>HalfBath</th>\n",
              "      <th>BedroomAbvGr</th>\n",
              "      <th>TotRmsAbvGrd</th>\n",
              "      <th>Fireplaces</th>\n",
              "      <th>GarageArea</th>\n",
              "      <th>AboveMedianPrice</th>\n",
              "    </tr>\n",
              "  </thead>\n",
              "  <tbody>\n",
              "    <tr>\n",
              "      <th>0</th>\n",
              "      <td>8450</td>\n",
              "      <td>7</td>\n",
              "      <td>5</td>\n",
              "      <td>856</td>\n",
              "      <td>2</td>\n",
              "      <td>1</td>\n",
              "      <td>3</td>\n",
              "      <td>8</td>\n",
              "      <td>0</td>\n",
              "      <td>548</td>\n",
              "      <td>1</td>\n",
              "    </tr>\n",
              "    <tr>\n",
              "      <th>1</th>\n",
              "      <td>9600</td>\n",
              "      <td>6</td>\n",
              "      <td>8</td>\n",
              "      <td>1262</td>\n",
              "      <td>2</td>\n",
              "      <td>0</td>\n",
              "      <td>3</td>\n",
              "      <td>6</td>\n",
              "      <td>1</td>\n",
              "      <td>460</td>\n",
              "      <td>1</td>\n",
              "    </tr>\n",
              "    <tr>\n",
              "      <th>2</th>\n",
              "      <td>11250</td>\n",
              "      <td>7</td>\n",
              "      <td>5</td>\n",
              "      <td>920</td>\n",
              "      <td>2</td>\n",
              "      <td>1</td>\n",
              "      <td>3</td>\n",
              "      <td>6</td>\n",
              "      <td>1</td>\n",
              "      <td>608</td>\n",
              "      <td>1</td>\n",
              "    </tr>\n",
              "    <tr>\n",
              "      <th>3</th>\n",
              "      <td>9550</td>\n",
              "      <td>7</td>\n",
              "      <td>5</td>\n",
              "      <td>756</td>\n",
              "      <td>1</td>\n",
              "      <td>0</td>\n",
              "      <td>3</td>\n",
              "      <td>7</td>\n",
              "      <td>1</td>\n",
              "      <td>642</td>\n",
              "      <td>0</td>\n",
              "    </tr>\n",
              "    <tr>\n",
              "      <th>4</th>\n",
              "      <td>14260</td>\n",
              "      <td>8</td>\n",
              "      <td>5</td>\n",
              "      <td>1145</td>\n",
              "      <td>2</td>\n",
              "      <td>1</td>\n",
              "      <td>4</td>\n",
              "      <td>9</td>\n",
              "      <td>1</td>\n",
              "      <td>836</td>\n",
              "      <td>1</td>\n",
              "    </tr>\n",
              "  </tbody>\n",
              "</table>\n",
              "</div>"
            ],
            "text/plain": [
              "   LotArea  OverallQual  OverallCond  TotalBsmtSF  FullBath  HalfBath  \\\n",
              "0     8450            7            5          856         2         1   \n",
              "1     9600            6            8         1262         2         0   \n",
              "2    11250            7            5          920         2         1   \n",
              "3     9550            7            5          756         1         0   \n",
              "4    14260            8            5         1145         2         1   \n",
              "\n",
              "   BedroomAbvGr  TotRmsAbvGrd  Fireplaces  GarageArea  AboveMedianPrice  \n",
              "0             3             8           0         548                 1  \n",
              "1             3             6           1         460                 1  \n",
              "2             3             6           1         608                 1  \n",
              "3             3             7           1         642                 0  \n",
              "4             4             9           1         836                 1  "
            ]
          },
          "execution_count": 6,
          "metadata": {},
          "output_type": "execute_result"
        }
      ],
      "source": [
        "\n",
        "df = pd.read_csv('Tabular/housepricedata.csv', sep = ',', ) #wherever resides your data, if .ipnb and .csv are in the same folder no need to worry!\n",
        "df.head(5)\n"
      ]
    },
    {
      "cell_type": "code",
      "execution_count": null,
      "metadata": {
        "id": "LLAEAq01Hx1C",
        "outputId": "367277cb-0db2-4359-a99e-51e639bd3d15"
      },
      "outputs": [
        {
          "name": "stdout",
          "output_type": "stream",
          "text": [
            "11\n"
          ]
        },
        {
          "data": {
            "text/plain": [
              "1460"
            ]
          },
          "execution_count": 8,
          "metadata": {},
          "output_type": "execute_result"
        }
      ],
      "source": [
        "print(len(df. columns))\n",
        "len(df)\n"
      ]
    },
    {
      "cell_type": "markdown",
      "metadata": {
        "id": "gDow2eCLHx1D"
      },
      "source": [
        "The dataset that we have now is in what is called a pandas dataframe. To convert it to an array, simply access its values:"
      ]
    },
    {
      "cell_type": "code",
      "execution_count": null,
      "metadata": {
        "id": "GjKmTe_rHx1D"
      },
      "outputs": [],
      "source": [
        "dataset = df.values"
      ]
    },
    {
      "cell_type": "code",
      "execution_count": null,
      "metadata": {
        "id": "rQUb3ExuHx1E",
        "outputId": "7540b2b7-aa0e-4d4d-d90a-f3129c544dc1"
      },
      "outputs": [
        {
          "data": {
            "text/plain": [
              "array([[ 8450,     7,     5, ...,     0,   548,     1],\n",
              "       [ 9600,     6,     8, ...,     1,   460,     1],\n",
              "       [11250,     7,     5, ...,     1,   608,     1],\n",
              "       ...,\n",
              "       [ 9042,     7,     9, ...,     2,   252,     1],\n",
              "       [ 9717,     5,     6, ...,     0,   240,     0],\n",
              "       [ 9937,     5,     6, ...,     0,   276,     0]], dtype=int64)"
            ]
          },
          "execution_count": 10,
          "metadata": {},
          "output_type": "execute_result"
        }
      ],
      "source": [
        "dataset"
      ]
    },
    {
      "cell_type": "markdown",
      "metadata": {
        "id": "yTjlrFsiHx1F"
      },
      "source": [
        "Now, we choose our input features and the label we wish to predict."
      ]
    },
    {
      "cell_type": "code",
      "execution_count": null,
      "metadata": {
        "id": "UlqGtTDyHx1F"
      },
      "outputs": [],
      "source": [
        "X = dataset[:,0:10]\n",
        "Y = dataset[:,10]"
      ]
    },
    {
      "cell_type": "markdown",
      "metadata": {
        "id": "CKDnyObyHx1G"
      },
      "source": [
        "Normalizing our data is very important, as we want the input features to be on the same order of magnitude to make our training easier. We'll use a min-max scaler from scikit-learn which scales our data to be between 0 and 1."
      ]
    },
    {
      "cell_type": "code",
      "execution_count": null,
      "metadata": {
        "id": "4WIZGgVqHx1G",
        "outputId": "97c55e40-5090-4b59-d0a6-45df970e979a"
      },
      "outputs": [
        {
          "name": "stderr",
          "output_type": "stream",
          "text": [
            "C:\\Users\\JHON\\miniconda3\\lib\\site-packages\\scipy\\__init__.py:146: UserWarning: A NumPy version >=1.16.5 and <1.23.0 is required for this version of SciPy (detected version 1.23.1\n",
            "  warnings.warn(f\"A NumPy version >={np_minversion} and <{np_maxversion}\"\n"
          ]
        }
      ],
      "source": [
        "from sklearn import preprocessing"
      ]
    },
    {
      "cell_type": "code",
      "execution_count": null,
      "metadata": {
        "id": "0d2W1C-DHx1H"
      },
      "outputs": [],
      "source": [
        "pip install sklearn"
      ]
    },
    {
      "cell_type": "code",
      "execution_count": null,
      "metadata": {
        "id": "XRn7gs4bHx1H"
      },
      "outputs": [],
      "source": [
        "min_max_scaler = preprocessing.MinMaxScaler()\n",
        "X_scale = min_max_scaler.fit_transform(X)"
      ]
    },
    {
      "cell_type": "code",
      "execution_count": null,
      "metadata": {
        "id": "MI9GY0MZHx1I",
        "outputId": "a42aeff8-285f-4258-d249-351e2d62fa0c"
      },
      "outputs": [
        {
          "data": {
            "text/plain": [
              "array([[0.0334198 , 0.66666667, 0.5       , ..., 0.5       , 0.        ,\n",
              "        0.3864598 ],\n",
              "       [0.03879502, 0.55555556, 0.875     , ..., 0.33333333, 0.33333333,\n",
              "        0.32440056],\n",
              "       [0.04650728, 0.66666667, 0.5       , ..., 0.33333333, 0.33333333,\n",
              "        0.42877292],\n",
              "       ...,\n",
              "       [0.03618687, 0.66666667, 1.        , ..., 0.58333333, 0.66666667,\n",
              "        0.17771509],\n",
              "       [0.03934189, 0.44444444, 0.625     , ..., 0.25      , 0.        ,\n",
              "        0.16925247],\n",
              "       [0.04037019, 0.44444444, 0.625     , ..., 0.33333333, 0.        ,\n",
              "        0.19464034]])"
            ]
          },
          "execution_count": 16,
          "metadata": {},
          "output_type": "execute_result"
        }
      ],
      "source": [
        "X_scale"
      ]
    },
    {
      "cell_type": "markdown",
      "metadata": {
        "id": "v4gyYFNbHx1I"
      },
      "source": [
        "Lastly, we wish to set aside some parts of our dataset for a validation set and a test set. We use the function train_test_split from scikit-learn to do that."
      ]
    },
    {
      "cell_type": "code",
      "execution_count": null,
      "metadata": {
        "id": "TwViGKB7Hx1I"
      },
      "outputs": [],
      "source": [
        "from sklearn.model_selection import train_test_split"
      ]
    },
    {
      "cell_type": "code",
      "execution_count": null,
      "metadata": {
        "id": "oZlUjQltHx1J"
      },
      "outputs": [],
      "source": [
        "X_train, X_val_and_test, Y_train, Y_val_and_test = train_test_split(X_scale, Y, test_size=0.3)"
      ]
    },
    {
      "cell_type": "code",
      "execution_count": null,
      "metadata": {
        "id": "M6HsKoReHx1J"
      },
      "outputs": [],
      "source": [
        "X_val, X_test, Y_val, Y_test = train_test_split(X_val_and_test, Y_val_and_test, test_size=0.5)"
      ]
    },
    {
      "cell_type": "code",
      "execution_count": null,
      "metadata": {
        "id": "I0WYwvcAHx1J",
        "outputId": "9f5a958d-6daa-48d5-84dc-62771b3660c7"
      },
      "outputs": [
        {
          "name": "stdout",
          "output_type": "stream",
          "text": [
            "(1022, 10) (219, 10) (219, 10) (1022,) (219,) (219,)\n"
          ]
        }
      ],
      "source": [
        "print(X_train.shape, X_val.shape, X_test.shape, Y_train.shape, Y_val.shape, Y_test.shape)"
      ]
    },
    {
      "cell_type": "markdown",
      "metadata": {
        "id": "u0x1zCa1Hx1K"
      },
      "source": [
        "# Building and Training Our First Neural Network For \"Regression-Classification\""
      ]
    },
    {
      "cell_type": "markdown",
      "metadata": {
        "id": "y5qyY4gcHx1K"
      },
      "source": [
        "We will be using Keras to build our architecture. Let's import the code from Keras that we will need to use:"
      ]
    },
    {
      "cell_type": "code",
      "execution_count": null,
      "metadata": {
        "id": "OPE3vlkpHx1K"
      },
      "outputs": [],
      "source": [
        "from keras.models import Sequential\n",
        "from keras.layers import Dense"
      ]
    },
    {
      "cell_type": "markdown",
      "metadata": {
        "id": "nhiRPwwhHx1K"
      },
      "source": [
        "We will be using the Sequential model, which means that we merely need to describe the layers above in sequence. Our neural network has three layers:\n",
        "\n",
        "- Hidden layer 1: 32 neurons, ReLU activation\n",
        "- Hidden layer 2: 32 neurons, ReLU activation\n",
        "- Output Layer: 1 neuron, Sigmoid activation"
      ]
    },
    {
      "cell_type": "code",
      "execution_count": null,
      "metadata": {
        "id": "H-I7sFrHHx1L"
      },
      "outputs": [],
      "source": [
        "model = Sequential([\n",
        "    Dense(32, activation='relu', input_shape=(10,)),\n",
        "    Dense(32, activation='relu'),\n",
        "    Dense(1, activation='sigmoid'),\n",
        "])\n"
      ]
    },
    {
      "cell_type": "markdown",
      "metadata": {
        "id": "cdKJ1QueHx1L"
      },
      "source": [
        "Now that we've got our architecture specified, we need to find the best numbers for it. Before we start our training, we have to configure the model by\n",
        "- Telling it what algorithm you want to use to do the optimization (we'll use stochastic gradient descent)\n",
        "- Telling it what loss function to use (for binary classification, we will use binary cross entropy)\n",
        "- Telling it what other metrics you want to track apart from the loss function (we want to track accuracy as well)\n",
        "\n",
        "We do so below:"
      ]
    },
    {
      "cell_type": "code",
      "execution_count": null,
      "metadata": {
        "id": "1lh1zGt_Hx1M"
      },
      "outputs": [],
      "source": [
        "model.compile(optimizer='sgd',\n",
        "              loss='binary_crossentropy',\n",
        "              metrics=['accuracy'])"
      ]
    },
    {
      "cell_type": "markdown",
      "metadata": {
        "id": "jnuBtilSHx1M"
      },
      "source": [
        "Training on the data is pretty straightforward and requires us to write one line of code. The function is called 'fit' as we are fitting the parameters to the data. We specify:\n",
        "- what data we are training on, which is X_train and Y_train\n",
        "- the size of our mini-batch \n",
        "- how long we want to train it for (epochs)\n",
        "- what our validation data is so that the model will tell us how we are doing on the validation data at each point.\n",
        "\n",
        "This function will output a history, which we save under the variable hist. We'll use this variable a little later."
      ]
    },
    {
      "cell_type": "code",
      "execution_count": null,
      "metadata": {
        "id": "BYPB4_Y7Hx1M",
        "outputId": "9a714032-d9de-437d-bf31-3f62999b5551"
      },
      "outputs": [
        {
          "name": "stdout",
          "output_type": "stream",
          "text": [
            "Epoch 1/100\n",
            "32/32 [==============================] - 1s 8ms/step - loss: 0.6834 - accuracy: 0.5890 - val_loss: 0.6816 - val_accuracy: 0.5388\n",
            "Epoch 2/100\n",
            "32/32 [==============================] - 0s 2ms/step - loss: 0.6793 - accuracy: 0.5499 - val_loss: 0.6782 - val_accuracy: 0.4977\n",
            "Epoch 3/100\n",
            "32/32 [==============================] - 0s 2ms/step - loss: 0.6754 - accuracy: 0.5235 - val_loss: 0.6744 - val_accuracy: 0.4886\n",
            "Epoch 4/100\n",
            "32/32 [==============================] - 0s 2ms/step - loss: 0.6714 - accuracy: 0.5323 - val_loss: 0.6703 - val_accuracy: 0.4886\n",
            "Epoch 5/100\n",
            "32/32 [==============================] - 0s 2ms/step - loss: 0.6672 - accuracy: 0.5294 - val_loss: 0.6660 - val_accuracy: 0.4886\n",
            "Epoch 6/100\n",
            "32/32 [==============================] - 0s 2ms/step - loss: 0.6629 - accuracy: 0.5489 - val_loss: 0.6617 - val_accuracy: 0.4977\n",
            "Epoch 7/100\n",
            "32/32 [==============================] - 0s 2ms/step - loss: 0.6587 - accuracy: 0.5626 - val_loss: 0.6572 - val_accuracy: 0.5434\n",
            "Epoch 8/100\n",
            "32/32 [==============================] - 0s 2ms/step - loss: 0.6544 - accuracy: 0.5763 - val_loss: 0.6527 - val_accuracy: 0.5799\n",
            "Epoch 9/100\n",
            "32/32 [==============================] - 0s 2ms/step - loss: 0.6502 - accuracy: 0.6350 - val_loss: 0.6482 - val_accuracy: 0.6164\n",
            "Epoch 10/100\n",
            "32/32 [==============================] - 0s 2ms/step - loss: 0.6458 - accuracy: 0.6644 - val_loss: 0.6433 - val_accuracy: 0.6438\n",
            "Epoch 11/100\n",
            "32/32 [==============================] - 0s 2ms/step - loss: 0.6411 - accuracy: 0.6663 - val_loss: 0.6380 - val_accuracy: 0.6849\n",
            "Epoch 12/100\n",
            "32/32 [==============================] - 0s 2ms/step - loss: 0.6362 - accuracy: 0.7074 - val_loss: 0.6324 - val_accuracy: 0.7169\n",
            "Epoch 13/100\n",
            "32/32 [==============================] - 0s 2ms/step - loss: 0.6308 - accuracy: 0.7290 - val_loss: 0.6264 - val_accuracy: 0.7306\n",
            "Epoch 14/100\n",
            "32/32 [==============================] - 0s 2ms/step - loss: 0.6250 - accuracy: 0.7407 - val_loss: 0.6200 - val_accuracy: 0.7443\n",
            "Epoch 15/100\n",
            "32/32 [==============================] - 0s 2ms/step - loss: 0.6188 - accuracy: 0.7524 - val_loss: 0.6133 - val_accuracy: 0.7671\n",
            "Epoch 16/100\n",
            "32/32 [==============================] - 0s 2ms/step - loss: 0.6125 - accuracy: 0.7603 - val_loss: 0.6063 - val_accuracy: 0.7808\n",
            "Epoch 17/100\n",
            "32/32 [==============================] - 0s 2ms/step - loss: 0.6062 - accuracy: 0.7681 - val_loss: 0.5990 - val_accuracy: 0.7945\n",
            "Epoch 18/100\n",
            "32/32 [==============================] - 0s 2ms/step - loss: 0.5996 - accuracy: 0.7926 - val_loss: 0.5920 - val_accuracy: 0.7945\n",
            "Epoch 19/100\n",
            "32/32 [==============================] - 0s 2ms/step - loss: 0.5927 - accuracy: 0.7886 - val_loss: 0.5841 - val_accuracy: 0.7991\n",
            "Epoch 20/100\n",
            "32/32 [==============================] - 0s 2ms/step - loss: 0.5856 - accuracy: 0.7945 - val_loss: 0.5759 - val_accuracy: 0.8219\n",
            "Epoch 21/100\n",
            "32/32 [==============================] - 0s 2ms/step - loss: 0.5782 - accuracy: 0.8082 - val_loss: 0.5680 - val_accuracy: 0.8265\n",
            "Epoch 22/100\n",
            "32/32 [==============================] - 0s 2ms/step - loss: 0.5705 - accuracy: 0.8190 - val_loss: 0.5595 - val_accuracy: 0.8356\n",
            "Epoch 23/100\n",
            "32/32 [==============================] - 0s 2ms/step - loss: 0.5627 - accuracy: 0.8219 - val_loss: 0.5508 - val_accuracy: 0.8447\n",
            "Epoch 24/100\n",
            "32/32 [==============================] - 0s 2ms/step - loss: 0.5546 - accuracy: 0.8249 - val_loss: 0.5418 - val_accuracy: 0.8493\n",
            "Epoch 25/100\n",
            "32/32 [==============================] - 0s 2ms/step - loss: 0.5463 - accuracy: 0.8317 - val_loss: 0.5329 - val_accuracy: 0.8493\n",
            "Epoch 26/100\n",
            "32/32 [==============================] - 0s 2ms/step - loss: 0.5379 - accuracy: 0.8346 - val_loss: 0.5236 - val_accuracy: 0.8493\n",
            "Epoch 27/100\n",
            "32/32 [==============================] - 0s 2ms/step - loss: 0.5297 - accuracy: 0.8395 - val_loss: 0.5141 - val_accuracy: 0.8539\n",
            "Epoch 28/100\n",
            "32/32 [==============================] - 0s 2ms/step - loss: 0.5208 - accuracy: 0.8464 - val_loss: 0.5047 - val_accuracy: 0.8539\n",
            "Epoch 29/100\n",
            "32/32 [==============================] - 0s 2ms/step - loss: 0.5121 - accuracy: 0.8542 - val_loss: 0.4954 - val_accuracy: 0.8539\n",
            "Epoch 30/100\n",
            "32/32 [==============================] - 0s 2ms/step - loss: 0.5037 - accuracy: 0.8444 - val_loss: 0.4853 - val_accuracy: 0.8584\n",
            "Epoch 31/100\n",
            "32/32 [==============================] - 0s 2ms/step - loss: 0.4947 - accuracy: 0.8552 - val_loss: 0.4758 - val_accuracy: 0.8630\n",
            "Epoch 32/100\n",
            "32/32 [==============================] - 0s 2ms/step - loss: 0.4861 - accuracy: 0.8620 - val_loss: 0.4667 - val_accuracy: 0.8676\n",
            "Epoch 33/100\n",
            "32/32 [==============================] - 0s 2ms/step - loss: 0.4774 - accuracy: 0.8640 - val_loss: 0.4580 - val_accuracy: 0.8676\n",
            "Epoch 34/100\n",
            "32/32 [==============================] - 0s 2ms/step - loss: 0.4692 - accuracy: 0.8630 - val_loss: 0.4487 - val_accuracy: 0.8721\n",
            "Epoch 35/100\n",
            "32/32 [==============================] - 0s 2ms/step - loss: 0.4608 - accuracy: 0.8650 - val_loss: 0.4386 - val_accuracy: 0.8767\n",
            "Epoch 36/100\n",
            "32/32 [==============================] - 0s 2ms/step - loss: 0.4528 - accuracy: 0.8620 - val_loss: 0.4307 - val_accuracy: 0.8721\n",
            "Epoch 37/100\n",
            "32/32 [==============================] - 0s 2ms/step - loss: 0.4448 - accuracy: 0.8650 - val_loss: 0.4202 - val_accuracy: 0.8904\n",
            "Epoch 38/100\n",
            "32/32 [==============================] - 0s 2ms/step - loss: 0.4374 - accuracy: 0.8650 - val_loss: 0.4130 - val_accuracy: 0.8813\n",
            "Epoch 39/100\n",
            "32/32 [==============================] - 0s 1ms/step - loss: 0.4301 - accuracy: 0.8659 - val_loss: 0.4047 - val_accuracy: 0.8858\n",
            "Epoch 40/100\n",
            "32/32 [==============================] - 0s 1ms/step - loss: 0.4230 - accuracy: 0.8659 - val_loss: 0.3975 - val_accuracy: 0.8813\n",
            "Epoch 41/100\n",
            "32/32 [==============================] - 0s 2ms/step - loss: 0.4164 - accuracy: 0.8650 - val_loss: 0.3897 - val_accuracy: 0.8904\n",
            "Epoch 42/100\n",
            "32/32 [==============================] - 0s 2ms/step - loss: 0.4100 - accuracy: 0.8679 - val_loss: 0.3825 - val_accuracy: 0.8950\n",
            "Epoch 43/100\n",
            "32/32 [==============================] - 0s 2ms/step - loss: 0.4039 - accuracy: 0.8699 - val_loss: 0.3753 - val_accuracy: 0.8995\n",
            "Epoch 44/100\n",
            "32/32 [==============================] - 0s 2ms/step - loss: 0.3983 - accuracy: 0.8679 - val_loss: 0.3699 - val_accuracy: 0.8904\n",
            "Epoch 45/100\n",
            "32/32 [==============================] - 0s 2ms/step - loss: 0.3927 - accuracy: 0.8689 - val_loss: 0.3631 - val_accuracy: 0.8950\n",
            "Epoch 46/100\n",
            "32/32 [==============================] - 0s 2ms/step - loss: 0.3876 - accuracy: 0.8669 - val_loss: 0.3581 - val_accuracy: 0.8904\n",
            "Epoch 47/100\n",
            "32/32 [==============================] - 0s 2ms/step - loss: 0.3825 - accuracy: 0.8650 - val_loss: 0.3526 - val_accuracy: 0.8904\n",
            "Epoch 48/100\n",
            "32/32 [==============================] - 0s 2ms/step - loss: 0.3776 - accuracy: 0.8699 - val_loss: 0.3494 - val_accuracy: 0.8904\n",
            "Epoch 49/100\n",
            "32/32 [==============================] - 0s 2ms/step - loss: 0.3734 - accuracy: 0.8689 - val_loss: 0.3420 - val_accuracy: 0.8950\n",
            "Epoch 50/100\n",
            "32/32 [==============================] - 0s 2ms/step - loss: 0.3695 - accuracy: 0.8689 - val_loss: 0.3369 - val_accuracy: 0.8995\n",
            "Epoch 51/100\n",
            "32/32 [==============================] - 0s 2ms/step - loss: 0.3657 - accuracy: 0.8699 - val_loss: 0.3350 - val_accuracy: 0.8904\n",
            "Epoch 52/100\n",
            "32/32 [==============================] - 0s 2ms/step - loss: 0.3623 - accuracy: 0.8689 - val_loss: 0.3276 - val_accuracy: 0.8995\n",
            "Epoch 53/100\n",
            "32/32 [==============================] - 0s 2ms/step - loss: 0.3587 - accuracy: 0.8659 - val_loss: 0.3278 - val_accuracy: 0.8904\n",
            "Epoch 54/100\n",
            "32/32 [==============================] - 0s 2ms/step - loss: 0.3556 - accuracy: 0.8679 - val_loss: 0.3206 - val_accuracy: 0.8995\n",
            "Epoch 55/100\n",
            "32/32 [==============================] - 0s 2ms/step - loss: 0.3524 - accuracy: 0.8669 - val_loss: 0.3164 - val_accuracy: 0.8904\n",
            "Epoch 56/100\n",
            "32/32 [==============================] - 0s 2ms/step - loss: 0.3498 - accuracy: 0.8640 - val_loss: 0.3137 - val_accuracy: 0.8904\n",
            "Epoch 57/100\n",
            "32/32 [==============================] - 0s 2ms/step - loss: 0.3467 - accuracy: 0.8650 - val_loss: 0.3103 - val_accuracy: 0.8904\n",
            "Epoch 58/100\n",
            "32/32 [==============================] - 0s 2ms/step - loss: 0.3441 - accuracy: 0.8689 - val_loss: 0.3063 - val_accuracy: 0.8858\n"
          ]
        },
        {
          "name": "stdout",
          "output_type": "stream",
          "text": [
            "Epoch 59/100\n",
            "32/32 [==============================] - 0s 2ms/step - loss: 0.3419 - accuracy: 0.8708 - val_loss: 0.3048 - val_accuracy: 0.8904\n",
            "Epoch 60/100\n",
            "32/32 [==============================] - 0s 2ms/step - loss: 0.3393 - accuracy: 0.8689 - val_loss: 0.3021 - val_accuracy: 0.8904\n",
            "Epoch 61/100\n",
            "32/32 [==============================] - 0s 2ms/step - loss: 0.3374 - accuracy: 0.8718 - val_loss: 0.3000 - val_accuracy: 0.8904\n",
            "Epoch 62/100\n",
            "32/32 [==============================] - 0s 2ms/step - loss: 0.3354 - accuracy: 0.8708 - val_loss: 0.2987 - val_accuracy: 0.8813\n",
            "Epoch 63/100\n",
            "32/32 [==============================] - 0s 2ms/step - loss: 0.3334 - accuracy: 0.8708 - val_loss: 0.2934 - val_accuracy: 0.8904\n",
            "Epoch 64/100\n",
            "32/32 [==============================] - 0s 2ms/step - loss: 0.3322 - accuracy: 0.8689 - val_loss: 0.2911 - val_accuracy: 0.8904\n",
            "Epoch 65/100\n",
            "32/32 [==============================] - 0s 1ms/step - loss: 0.3299 - accuracy: 0.8738 - val_loss: 0.2898 - val_accuracy: 0.8904\n",
            "Epoch 66/100\n",
            "32/32 [==============================] - 0s 1ms/step - loss: 0.3280 - accuracy: 0.8718 - val_loss: 0.2862 - val_accuracy: 0.8950\n",
            "Epoch 67/100\n",
            "32/32 [==============================] - 0s 2ms/step - loss: 0.3267 - accuracy: 0.8718 - val_loss: 0.2846 - val_accuracy: 0.8950\n",
            "Epoch 68/100\n",
            "32/32 [==============================] - 0s 2ms/step - loss: 0.3257 - accuracy: 0.8728 - val_loss: 0.2831 - val_accuracy: 0.8950\n",
            "Epoch 69/100\n",
            "32/32 [==============================] - 0s 2ms/step - loss: 0.3241 - accuracy: 0.8708 - val_loss: 0.2834 - val_accuracy: 0.8858\n",
            "Epoch 70/100\n",
            "32/32 [==============================] - 0s 2ms/step - loss: 0.3226 - accuracy: 0.8718 - val_loss: 0.2801 - val_accuracy: 0.8950\n",
            "Epoch 71/100\n",
            "32/32 [==============================] - 0s 2ms/step - loss: 0.3211 - accuracy: 0.8748 - val_loss: 0.2826 - val_accuracy: 0.8858\n",
            "Epoch 72/100\n",
            "32/32 [==============================] - 0s 2ms/step - loss: 0.3201 - accuracy: 0.8718 - val_loss: 0.2761 - val_accuracy: 0.8950\n",
            "Epoch 73/100\n",
            "32/32 [==============================] - 0s 2ms/step - loss: 0.3190 - accuracy: 0.8738 - val_loss: 0.2775 - val_accuracy: 0.8858\n",
            "Epoch 74/100\n",
            "32/32 [==============================] - 0s 2ms/step - loss: 0.3177 - accuracy: 0.8738 - val_loss: 0.2741 - val_accuracy: 0.8950\n",
            "Epoch 75/100\n",
            "32/32 [==============================] - 0s 2ms/step - loss: 0.3173 - accuracy: 0.8796 - val_loss: 0.2734 - val_accuracy: 0.8950\n",
            "Epoch 76/100\n",
            "32/32 [==============================] - 0s 2ms/step - loss: 0.3157 - accuracy: 0.8816 - val_loss: 0.2727 - val_accuracy: 0.8858\n",
            "Epoch 77/100\n",
            "32/32 [==============================] - 0s 1ms/step - loss: 0.3148 - accuracy: 0.8748 - val_loss: 0.2701 - val_accuracy: 0.8950\n",
            "Epoch 78/100\n",
            "32/32 [==============================] - 0s 2ms/step - loss: 0.3140 - accuracy: 0.8806 - val_loss: 0.2709 - val_accuracy: 0.8858\n",
            "Epoch 79/100\n",
            "32/32 [==============================] - 0s 2ms/step - loss: 0.3128 - accuracy: 0.8767 - val_loss: 0.2705 - val_accuracy: 0.8858\n",
            "Epoch 80/100\n",
            "32/32 [==============================] - 0s 2ms/step - loss: 0.3122 - accuracy: 0.8787 - val_loss: 0.2670 - val_accuracy: 0.8950\n",
            "Epoch 81/100\n",
            "32/32 [==============================] - 0s 2ms/step - loss: 0.3109 - accuracy: 0.8757 - val_loss: 0.2673 - val_accuracy: 0.8904\n",
            "Epoch 82/100\n",
            "32/32 [==============================] - 0s 2ms/step - loss: 0.3101 - accuracy: 0.8777 - val_loss: 0.2672 - val_accuracy: 0.8858\n",
            "Epoch 83/100\n",
            "32/32 [==============================] - 0s 1ms/step - loss: 0.3092 - accuracy: 0.8748 - val_loss: 0.2680 - val_accuracy: 0.8858\n",
            "Epoch 84/100\n",
            "32/32 [==============================] - 0s 2ms/step - loss: 0.3088 - accuracy: 0.8796 - val_loss: 0.2670 - val_accuracy: 0.8858\n",
            "Epoch 85/100\n",
            "32/32 [==============================] - 0s 2ms/step - loss: 0.3072 - accuracy: 0.8757 - val_loss: 0.2607 - val_accuracy: 0.8995\n",
            "Epoch 86/100\n",
            "32/32 [==============================] - 0s 2ms/step - loss: 0.3070 - accuracy: 0.8777 - val_loss: 0.2636 - val_accuracy: 0.8904\n",
            "Epoch 87/100\n",
            "32/32 [==============================] - 0s 2ms/step - loss: 0.3058 - accuracy: 0.8767 - val_loss: 0.2589 - val_accuracy: 0.8995\n",
            "Epoch 88/100\n",
            "32/32 [==============================] - 0s 2ms/step - loss: 0.3059 - accuracy: 0.8836 - val_loss: 0.2586 - val_accuracy: 0.8995\n",
            "Epoch 89/100\n",
            "32/32 [==============================] - 0s 2ms/step - loss: 0.3051 - accuracy: 0.8796 - val_loss: 0.2601 - val_accuracy: 0.8904\n",
            "Epoch 90/100\n",
            "32/32 [==============================] - 0s 2ms/step - loss: 0.3025 - accuracy: 0.8777 - val_loss: 0.2550 - val_accuracy: 0.8950\n",
            "Epoch 91/100\n",
            "32/32 [==============================] - 0s 2ms/step - loss: 0.3036 - accuracy: 0.8826 - val_loss: 0.2575 - val_accuracy: 0.8950\n",
            "Epoch 92/100\n",
            "32/32 [==============================] - 0s 2ms/step - loss: 0.3031 - accuracy: 0.8816 - val_loss: 0.2574 - val_accuracy: 0.8950\n",
            "Epoch 93/100\n",
            "32/32 [==============================] - 0s 2ms/step - loss: 0.3015 - accuracy: 0.8796 - val_loss: 0.2539 - val_accuracy: 0.8995\n",
            "Epoch 94/100\n",
            "32/32 [==============================] - 0s 2ms/step - loss: 0.3014 - accuracy: 0.8787 - val_loss: 0.2562 - val_accuracy: 0.8950\n",
            "Epoch 95/100\n",
            "32/32 [==============================] - 0s 2ms/step - loss: 0.3007 - accuracy: 0.8787 - val_loss: 0.2523 - val_accuracy: 0.8995\n",
            "Epoch 96/100\n",
            "32/32 [==============================] - 0s 1ms/step - loss: 0.3000 - accuracy: 0.8816 - val_loss: 0.2525 - val_accuracy: 0.8950\n",
            "Epoch 97/100\n",
            "32/32 [==============================] - 0s 1ms/step - loss: 0.2994 - accuracy: 0.8806 - val_loss: 0.2518 - val_accuracy: 0.8950\n",
            "Epoch 98/100\n",
            "32/32 [==============================] - 0s 1ms/step - loss: 0.2988 - accuracy: 0.8796 - val_loss: 0.2535 - val_accuracy: 0.8950\n",
            "Epoch 99/100\n",
            "32/32 [==============================] - 0s 2ms/step - loss: 0.2986 - accuracy: 0.8787 - val_loss: 0.2511 - val_accuracy: 0.8950\n",
            "Epoch 100/100\n",
            "32/32 [==============================] - 0s 2ms/step - loss: 0.2976 - accuracy: 0.8845 - val_loss: 0.2493 - val_accuracy: 0.8995\n"
          ]
        }
      ],
      "source": [
        "hist = model.fit(X_train, Y_train,\n",
        "          batch_size=32, epochs=100,\n",
        "          validation_data=(X_val, Y_val))"
      ]
    },
    {
      "cell_type": "markdown",
      "metadata": {
        "id": "1kw-b2ZAHx1M"
      },
      "source": [
        "Evaluating our data on the test set:"
      ]
    },
    {
      "cell_type": "code",
      "execution_count": null,
      "metadata": {
        "id": "Dyrr8SKhHx1N",
        "outputId": "253a6338-01bb-4b13-fe8b-f3fb055b19ec"
      },
      "outputs": [
        {
          "name": "stdout",
          "output_type": "stream",
          "text": [
            "7/7 [==============================] - 0s 1ms/step - loss: 0.2592 - accuracy: 0.8950\n"
          ]
        },
        {
          "data": {
            "text/plain": [
              "0.8949771523475647"
            ]
          },
          "execution_count": 30,
          "metadata": {},
          "output_type": "execute_result"
        }
      ],
      "source": [
        "model.evaluate(X_test, Y_test)[1]"
      ]
    },
    {
      "cell_type": "markdown",
      "metadata": {
        "id": "9r564dyIHx1N"
      },
      "source": [
        "# Visualizing Loss and Accuracy"
      ]
    },
    {
      "cell_type": "markdown",
      "metadata": {
        "id": "8_yvAGP4Hx1N"
      },
      "source": [
        "Import the relevant package we need to do the visualization"
      ]
    },
    {
      "cell_type": "code",
      "execution_count": null,
      "metadata": {
        "id": "rgHDSizOHx1O"
      },
      "outputs": [],
      "source": [
        "import matplotlib.pyplot as plt"
      ]
    },
    {
      "cell_type": "markdown",
      "metadata": {
        "id": "ibg-7PvvHx1O"
      },
      "source": [
        "We want to visualize the training loss and the validation loss like this:"
      ]
    },
    {
      "cell_type": "code",
      "execution_count": null,
      "metadata": {
        "id": "y7eqWrInHx1O",
        "outputId": "d47523c5-7e89-4d6c-bc88-4ca0c5dffd4d"
      },
      "outputs": [
        {
          "data": {
            "image/png": "[encoded data removed]",
            "text/plain": [
              "<Figure size 432x288 with 1 Axes>"
            ]
          },
          "metadata": {
            "needs_background": "light"
          },
          "output_type": "display_data"
        }
      ],
      "source": [
        "plt.plot(hist.history['loss'])\n",
        "plt.plot(hist.history['val_loss'])\n",
        "plt.title('Model loss')\n",
        "plt.ylabel('Loss')\n",
        "plt.xlabel('Epochs')\n",
        "plt.legend(['Train_loss', 'Valid_loss'], loc='upper right')\n",
        "plt.show()"
      ]
    },
    {
      "cell_type": "markdown",
      "metadata": {
        "id": "rImOPNx6Hx1O"
      },
      "source": [
        "We can also visualize the training accuracy and the validation accuracy like this:"
      ]
    },
    {
      "cell_type": "code",
      "execution_count": null,
      "metadata": {
        "id": "-atjf4-9Hx1P",
        "outputId": "c45da858-b2e6-4969-f6db-602459c36ca5"
      },
      "outputs": [
        {
          "data": {
            "image/png": "[encoded data removed]",
            "text/plain": [
              "<Figure size 432x288 with 1 Axes>"
            ]
          },
          "metadata": {
            "needs_background": "light"
          },
          "output_type": "display_data"
        }
      ],
      "source": [
        "plt.plot(hist.history['accuracy'])\n",
        "plt.plot(hist.history['val_accuracy'])\n",
        "plt.title('Model accuracy')\n",
        "plt.ylabel('Accuracy')\n",
        "plt.xlabel('Epochs')\n",
        "plt.legend(['Train', 'Valid'], loc='lower right')\n",
        "plt.show()"
      ]
    },
    {
      "cell_type": "markdown",
      "metadata": {
        "id": "ySt7YxbhHx1P"
      },
      "source": [
        "# Adding Regularization to our Neural Network"
      ]
    },
    {
      "cell_type": "markdown",
      "metadata": {
        "id": "W8dJuQIdHx1P"
      },
      "source": [
        "We'll train a model which will overfit, which we call Model 2. This might take a few minutes."
      ]
    },
    {
      "cell_type": "code",
      "execution_count": null,
      "metadata": {
        "id": "8-W51zpXHx1P",
        "outputId": "48e13900-0672-428b-eb7a-656cbe691f81"
      },
      "outputs": [
        {
          "name": "stdout",
          "output_type": "stream",
          "text": [
            "Epoch 1/100\n",
            "32/32 [==============================] - 1s 13ms/step - loss: 0.5149 - accuracy: 0.7544 - val_loss: 0.3805 - val_accuracy: 0.8721\n",
            "Epoch 2/100\n",
            "32/32 [==============================] - 0s 8ms/step - loss: 0.3726 - accuracy: 0.8464 - val_loss: 0.2790 - val_accuracy: 0.8767\n",
            "Epoch 3/100\n",
            "32/32 [==============================] - 0s 8ms/step - loss: 0.3337 - accuracy: 0.8581 - val_loss: 0.2326 - val_accuracy: 0.8858\n",
            "Epoch 4/100\n",
            "32/32 [==============================] - 0s 8ms/step - loss: 0.3160 - accuracy: 0.8650 - val_loss: 0.2142 - val_accuracy: 0.8995\n",
            "Epoch 5/100\n",
            "32/32 [==============================] - 0s 8ms/step - loss: 0.3221 - accuracy: 0.8659 - val_loss: 0.2419 - val_accuracy: 0.8676\n",
            "Epoch 6/100\n",
            "32/32 [==============================] - 0s 8ms/step - loss: 0.2757 - accuracy: 0.8914 - val_loss: 0.2362 - val_accuracy: 0.9087\n",
            "Epoch 7/100\n",
            "32/32 [==============================] - 0s 8ms/step - loss: 0.2827 - accuracy: 0.8816 - val_loss: 0.2321 - val_accuracy: 0.8858\n",
            "Epoch 8/100\n",
            "32/32 [==============================] - 0s 8ms/step - loss: 0.2647 - accuracy: 0.8865 - val_loss: 0.1800 - val_accuracy: 0.9178\n",
            "Epoch 9/100\n",
            "32/32 [==============================] - 0s 8ms/step - loss: 0.2730 - accuracy: 0.9022 - val_loss: 0.2410 - val_accuracy: 0.8950\n",
            "Epoch 10/100\n",
            "32/32 [==============================] - 0s 8ms/step - loss: 0.2682 - accuracy: 0.8914 - val_loss: 0.2159 - val_accuracy: 0.9178\n",
            "Epoch 11/100\n",
            "32/32 [==============================] - 0s 8ms/step - loss: 0.2664 - accuracy: 0.8963 - val_loss: 0.1898 - val_accuracy: 0.9178\n",
            "Epoch 12/100\n",
            "32/32 [==============================] - 0s 8ms/step - loss: 0.2465 - accuracy: 0.8982 - val_loss: 0.2115 - val_accuracy: 0.9224\n",
            "Epoch 13/100\n",
            "32/32 [==============================] - 0s 8ms/step - loss: 0.2451 - accuracy: 0.8924 - val_loss: 0.1882 - val_accuracy: 0.8995\n",
            "Epoch 14/100\n",
            "32/32 [==============================] - 0s 8ms/step - loss: 0.2341 - accuracy: 0.9041 - val_loss: 0.1820 - val_accuracy: 0.9087\n",
            "Epoch 15/100\n",
            "32/32 [==============================] - 0s 8ms/step - loss: 0.2468 - accuracy: 0.8973 - val_loss: 0.1910 - val_accuracy: 0.9132\n",
            "Epoch 16/100\n",
            "32/32 [==============================] - 0s 8ms/step - loss: 0.2225 - accuracy: 0.9129 - val_loss: 0.1724 - val_accuracy: 0.9087\n",
            "Epoch 17/100\n",
            "32/32 [==============================] - 0s 8ms/step - loss: 0.2045 - accuracy: 0.9178 - val_loss: 0.1970 - val_accuracy: 0.9087\n",
            "Epoch 18/100\n",
            "32/32 [==============================] - 0s 8ms/step - loss: 0.2247 - accuracy: 0.9080 - val_loss: 0.2153 - val_accuracy: 0.9178\n",
            "Epoch 19/100\n",
            "32/32 [==============================] - 0s 8ms/step - loss: 0.2116 - accuracy: 0.9188 - val_loss: 0.1855 - val_accuracy: 0.8995\n",
            "Epoch 20/100\n",
            "32/32 [==============================] - 0s 8ms/step - loss: 0.2080 - accuracy: 0.9178 - val_loss: 0.1877 - val_accuracy: 0.9041\n",
            "Epoch 21/100\n",
            "32/32 [==============================] - 0s 8ms/step - loss: 0.2248 - accuracy: 0.9090 - val_loss: 0.1851 - val_accuracy: 0.8995\n",
            "Epoch 22/100\n",
            "32/32 [==============================] - 0s 8ms/step - loss: 0.2133 - accuracy: 0.9129 - val_loss: 0.2409 - val_accuracy: 0.8950\n",
            "Epoch 23/100\n",
            "32/32 [==============================] - 0s 9ms/step - loss: 0.2117 - accuracy: 0.9080 - val_loss: 0.1914 - val_accuracy: 0.9132\n",
            "Epoch 24/100\n",
            "32/32 [==============================] - 0s 8ms/step - loss: 0.2024 - accuracy: 0.9139 - val_loss: 0.2245 - val_accuracy: 0.8904\n",
            "Epoch 25/100\n",
            "32/32 [==============================] - 0s 8ms/step - loss: 0.2096 - accuracy: 0.9051 - val_loss: 0.2049 - val_accuracy: 0.8995\n",
            "Epoch 26/100\n",
            "32/32 [==============================] - 0s 8ms/step - loss: 0.1986 - accuracy: 0.9207 - val_loss: 0.1981 - val_accuracy: 0.9041\n",
            "Epoch 27/100\n",
            "32/32 [==============================] - 0s 8ms/step - loss: 0.2220 - accuracy: 0.8973 - val_loss: 0.1939 - val_accuracy: 0.9178\n",
            "Epoch 28/100\n",
            "32/32 [==============================] - 0s 8ms/step - loss: 0.2286 - accuracy: 0.9051 - val_loss: 0.2004 - val_accuracy: 0.8995\n",
            "Epoch 29/100\n",
            "32/32 [==============================] - 0s 8ms/step - loss: 0.1983 - accuracy: 0.9139 - val_loss: 0.1884 - val_accuracy: 0.9178\n",
            "Epoch 30/100\n",
            "32/32 [==============================] - 0s 8ms/step - loss: 0.1889 - accuracy: 0.9227 - val_loss: 0.2113 - val_accuracy: 0.8904\n",
            "Epoch 31/100\n",
            "32/32 [==============================] - 0s 8ms/step - loss: 0.1876 - accuracy: 0.9286 - val_loss: 0.2008 - val_accuracy: 0.9132\n",
            "Epoch 32/100\n",
            "32/32 [==============================] - 0s 8ms/step - loss: 0.1938 - accuracy: 0.9198 - val_loss: 0.2183 - val_accuracy: 0.9087\n",
            "Epoch 33/100\n",
            "32/32 [==============================] - 0s 8ms/step - loss: 0.2035 - accuracy: 0.9110 - val_loss: 0.2031 - val_accuracy: 0.8995\n",
            "Epoch 34/100\n",
            "32/32 [==============================] - 0s 8ms/step - loss: 0.1907 - accuracy: 0.9256 - val_loss: 0.2256 - val_accuracy: 0.9087\n",
            "Epoch 35/100\n",
            "32/32 [==============================] - 0s 8ms/step - loss: 0.1883 - accuracy: 0.9237 - val_loss: 0.1772 - val_accuracy: 0.9087\n",
            "Epoch 36/100\n",
            "32/32 [==============================] - 0s 8ms/step - loss: 0.1762 - accuracy: 0.9207 - val_loss: 0.2230 - val_accuracy: 0.9087\n",
            "Epoch 37/100\n",
            "32/32 [==============================] - 0s 9ms/step - loss: 0.1998 - accuracy: 0.9276 - val_loss: 0.1957 - val_accuracy: 0.8995\n",
            "Epoch 38/100\n",
            "32/32 [==============================] - 0s 9ms/step - loss: 0.1811 - accuracy: 0.9247 - val_loss: 0.2843 - val_accuracy: 0.8858\n",
            "Epoch 39/100\n",
            "32/32 [==============================] - 0s 8ms/step - loss: 0.1889 - accuracy: 0.9237 - val_loss: 0.2269 - val_accuracy: 0.8995\n",
            "Epoch 40/100\n",
            "32/32 [==============================] - 0s 8ms/step - loss: 0.1740 - accuracy: 0.9295 - val_loss: 0.2307 - val_accuracy: 0.8904\n",
            "Epoch 41/100\n",
            "32/32 [==============================] - 0s 8ms/step - loss: 0.1707 - accuracy: 0.9315 - val_loss: 0.2168 - val_accuracy: 0.9087\n",
            "Epoch 42/100\n",
            "32/32 [==============================] - 0s 8ms/step - loss: 0.1693 - accuracy: 0.9335 - val_loss: 0.2855 - val_accuracy: 0.8904\n",
            "Epoch 43/100\n",
            "32/32 [==============================] - 0s 8ms/step - loss: 0.1748 - accuracy: 0.9315 - val_loss: 0.2025 - val_accuracy: 0.9178\n",
            "Epoch 44/100\n",
            "32/32 [==============================] - 0s 8ms/step - loss: 0.1641 - accuracy: 0.9344 - val_loss: 0.1882 - val_accuracy: 0.9224\n",
            "Epoch 45/100\n",
            "32/32 [==============================] - 0s 9ms/step - loss: 0.1631 - accuracy: 0.9325 - val_loss: 0.2376 - val_accuracy: 0.9041\n",
            "Epoch 46/100\n",
            "32/32 [==============================] - 0s 8ms/step - loss: 0.1813 - accuracy: 0.9237 - val_loss: 0.2042 - val_accuracy: 0.8858\n",
            "Epoch 47/100\n",
            "32/32 [==============================] - 0s 8ms/step - loss: 0.2075 - accuracy: 0.9100 - val_loss: 0.2460 - val_accuracy: 0.8767\n",
            "Epoch 48/100\n",
            "32/32 [==============================] - 0s 8ms/step - loss: 0.2200 - accuracy: 0.9061 - val_loss: 0.1983 - val_accuracy: 0.9269\n",
            "Epoch 49/100\n",
            "32/32 [==============================] - 0s 8ms/step - loss: 0.1760 - accuracy: 0.9315 - val_loss: 0.2201 - val_accuracy: 0.8904\n",
            "Epoch 50/100\n",
            "32/32 [==============================] - 0s 8ms/step - loss: 0.1614 - accuracy: 0.9305 - val_loss: 0.2263 - val_accuracy: 0.8995\n",
            "Epoch 51/100\n",
            "32/32 [==============================] - 0s 8ms/step - loss: 0.1673 - accuracy: 0.9315 - val_loss: 0.2464 - val_accuracy: 0.9041\n",
            "Epoch 52/100\n",
            "32/32 [==============================] - 0s 8ms/step - loss: 0.1632 - accuracy: 0.9364 - val_loss: 0.2562 - val_accuracy: 0.9087\n",
            "Epoch 53/100\n",
            "32/32 [==============================] - 0s 9ms/step - loss: 0.1751 - accuracy: 0.9266 - val_loss: 0.2286 - val_accuracy: 0.9178\n",
            "Epoch 54/100\n",
            "32/32 [==============================] - 0s 8ms/step - loss: 0.1719 - accuracy: 0.9276 - val_loss: 0.3002 - val_accuracy: 0.8858\n",
            "Epoch 55/100\n",
            "32/32 [==============================] - 0s 8ms/step - loss: 0.1721 - accuracy: 0.9256 - val_loss: 0.2620 - val_accuracy: 0.8950\n",
            "Epoch 56/100\n",
            "32/32 [==============================] - 0s 8ms/step - loss: 0.1821 - accuracy: 0.9266 - val_loss: 0.2202 - val_accuracy: 0.8858\n",
            "Epoch 57/100\n",
            "32/32 [==============================] - 0s 8ms/step - loss: 0.1661 - accuracy: 0.9335 - val_loss: 0.2254 - val_accuracy: 0.9087\n",
            "Epoch 58/100\n",
            "32/32 [==============================] - 0s 8ms/step - loss: 0.1409 - accuracy: 0.9403 - val_loss: 0.2608 - val_accuracy: 0.8950\n"
          ]
        },
        {
          "name": "stdout",
          "output_type": "stream",
          "text": [
            "Epoch 59/100\n",
            "32/32 [==============================] - 0s 8ms/step - loss: 0.1636 - accuracy: 0.9276 - val_loss: 0.2178 - val_accuracy: 0.8904\n",
            "Epoch 60/100\n",
            "32/32 [==============================] - 0s 8ms/step - loss: 0.1457 - accuracy: 0.9452 - val_loss: 0.2962 - val_accuracy: 0.8767\n",
            "Epoch 61/100\n",
            "32/32 [==============================] - 0s 8ms/step - loss: 0.1587 - accuracy: 0.9354 - val_loss: 0.2552 - val_accuracy: 0.8950\n",
            "Epoch 62/100\n",
            "32/32 [==============================] - 0s 8ms/step - loss: 0.1640 - accuracy: 0.9364 - val_loss: 0.2666 - val_accuracy: 0.8904\n",
            "Epoch 63/100\n",
            "32/32 [==============================] - 0s 8ms/step - loss: 0.1307 - accuracy: 0.9442 - val_loss: 0.2478 - val_accuracy: 0.8858\n",
            "Epoch 64/100\n",
            "32/32 [==============================] - 0s 8ms/step - loss: 0.1652 - accuracy: 0.9286 - val_loss: 0.2193 - val_accuracy: 0.9041\n",
            "Epoch 65/100\n",
            "32/32 [==============================] - 0s 8ms/step - loss: 0.1520 - accuracy: 0.9354 - val_loss: 0.2618 - val_accuracy: 0.9178\n",
            "Epoch 66/100\n",
            "32/32 [==============================] - 0s 8ms/step - loss: 0.1404 - accuracy: 0.9403 - val_loss: 0.2864 - val_accuracy: 0.8904\n",
            "Epoch 67/100\n",
            "32/32 [==============================] - 0s 8ms/step - loss: 0.1244 - accuracy: 0.9530 - val_loss: 0.3186 - val_accuracy: 0.8995\n",
            "Epoch 68/100\n",
            "32/32 [==============================] - 0s 8ms/step - loss: 0.1332 - accuracy: 0.9472 - val_loss: 0.2857 - val_accuracy: 0.8950\n",
            "Epoch 69/100\n",
            "32/32 [==============================] - 0s 8ms/step - loss: 0.1432 - accuracy: 0.9423 - val_loss: 0.3533 - val_accuracy: 0.8630\n",
            "Epoch 70/100\n",
            "32/32 [==============================] - 0s 8ms/step - loss: 0.1740 - accuracy: 0.9374 - val_loss: 0.2120 - val_accuracy: 0.9087\n",
            "Epoch 71/100\n",
            "32/32 [==============================] - 0s 8ms/step - loss: 0.1514 - accuracy: 0.9413 - val_loss: 0.2572 - val_accuracy: 0.9087\n",
            "Epoch 72/100\n",
            "32/32 [==============================] - 0s 8ms/step - loss: 0.1487 - accuracy: 0.9442 - val_loss: 0.2210 - val_accuracy: 0.9178\n",
            "Epoch 73/100\n",
            "32/32 [==============================] - 0s 8ms/step - loss: 0.1677 - accuracy: 0.9325 - val_loss: 0.2263 - val_accuracy: 0.9087\n",
            "Epoch 74/100\n",
            "32/32 [==============================] - 0s 8ms/step - loss: 0.1254 - accuracy: 0.9521 - val_loss: 0.3123 - val_accuracy: 0.8995\n",
            "Epoch 75/100\n",
            "32/32 [==============================] - 0s 8ms/step - loss: 0.1270 - accuracy: 0.9432 - val_loss: 0.3288 - val_accuracy: 0.8950\n",
            "Epoch 76/100\n",
            "32/32 [==============================] - 0s 8ms/step - loss: 0.1254 - accuracy: 0.9462 - val_loss: 0.2793 - val_accuracy: 0.9087\n",
            "Epoch 77/100\n",
            "32/32 [==============================] - 0s 8ms/step - loss: 0.1366 - accuracy: 0.9481 - val_loss: 0.2643 - val_accuracy: 0.8813\n",
            "Epoch 78/100\n",
            "32/32 [==============================] - 0s 8ms/step - loss: 0.1353 - accuracy: 0.9452 - val_loss: 0.2987 - val_accuracy: 0.8858\n",
            "Epoch 79/100\n",
            "32/32 [==============================] - 0s 8ms/step - loss: 0.1085 - accuracy: 0.9540 - val_loss: 0.3220 - val_accuracy: 0.8904\n",
            "Epoch 80/100\n",
            "32/32 [==============================] - 0s 8ms/step - loss: 0.1084 - accuracy: 0.9599 - val_loss: 0.2924 - val_accuracy: 0.9178\n",
            "Epoch 81/100\n",
            "32/32 [==============================] - 0s 8ms/step - loss: 0.1252 - accuracy: 0.9521 - val_loss: 0.4310 - val_accuracy: 0.8767\n",
            "Epoch 82/100\n",
            "32/32 [==============================] - 0s 8ms/step - loss: 0.1459 - accuracy: 0.9423 - val_loss: 0.2338 - val_accuracy: 0.9178\n",
            "Epoch 83/100\n",
            "32/32 [==============================] - 0s 8ms/step - loss: 0.1397 - accuracy: 0.9403 - val_loss: 0.2347 - val_accuracy: 0.8813\n",
            "Epoch 84/100\n",
            "32/32 [==============================] - 0s 8ms/step - loss: 0.1299 - accuracy: 0.9491 - val_loss: 0.2299 - val_accuracy: 0.9041\n",
            "Epoch 85/100\n",
            "32/32 [==============================] - 0s 9ms/step - loss: 0.1405 - accuracy: 0.9432 - val_loss: 0.2792 - val_accuracy: 0.8995\n",
            "Epoch 86/100\n",
            "32/32 [==============================] - 0s 8ms/step - loss: 0.1424 - accuracy: 0.9442 - val_loss: 0.2558 - val_accuracy: 0.8858\n",
            "Epoch 87/100\n",
            "32/32 [==============================] - 0s 9ms/step - loss: 0.1679 - accuracy: 0.9276 - val_loss: 0.2505 - val_accuracy: 0.8813\n",
            "Epoch 88/100\n",
            "32/32 [==============================] - 0s 10ms/step - loss: 0.1223 - accuracy: 0.9569 - val_loss: 0.3330 - val_accuracy: 0.8904\n",
            "Epoch 89/100\n",
            "32/32 [==============================] - 0s 11ms/step - loss: 0.1263 - accuracy: 0.9501 - val_loss: 0.2999 - val_accuracy: 0.8950\n",
            "Epoch 90/100\n",
            "32/32 [==============================] - 0s 12ms/step - loss: 0.1119 - accuracy: 0.9569 - val_loss: 0.3389 - val_accuracy: 0.8858\n",
            "Epoch 91/100\n",
            "32/32 [==============================] - 0s 12ms/step - loss: 0.1271 - accuracy: 0.9491 - val_loss: 0.3455 - val_accuracy: 0.8767\n",
            "Epoch 92/100\n",
            "32/32 [==============================] - 0s 12ms/step - loss: 0.1230 - accuracy: 0.9511 - val_loss: 0.2931 - val_accuracy: 0.8767\n",
            "Epoch 93/100\n",
            "32/32 [==============================] - 0s 11ms/step - loss: 0.0927 - accuracy: 0.9667 - val_loss: 0.3507 - val_accuracy: 0.8630\n",
            "Epoch 94/100\n",
            "32/32 [==============================] - 0s 11ms/step - loss: 0.0887 - accuracy: 0.9658 - val_loss: 0.3113 - val_accuracy: 0.8858\n",
            "Epoch 95/100\n",
            "32/32 [==============================] - 0s 11ms/step - loss: 0.0900 - accuracy: 0.9618 - val_loss: 0.3087 - val_accuracy: 0.8721\n",
            "Epoch 96/100\n",
            "32/32 [==============================] - 0s 11ms/step - loss: 0.1246 - accuracy: 0.9491 - val_loss: 0.4773 - val_accuracy: 0.8630\n",
            "Epoch 97/100\n",
            "32/32 [==============================] - 0s 12ms/step - loss: 0.1407 - accuracy: 0.9452 - val_loss: 0.3082 - val_accuracy: 0.8858\n",
            "Epoch 98/100\n",
            "32/32 [==============================] - 0s 11ms/step - loss: 0.1158 - accuracy: 0.9501 - val_loss: 0.2348 - val_accuracy: 0.8858\n",
            "Epoch 99/100\n",
            "32/32 [==============================] - 0s 12ms/step - loss: 0.1166 - accuracy: 0.9560 - val_loss: 0.3454 - val_accuracy: 0.8950\n",
            "Epoch 100/100\n",
            "32/32 [==============================] - 0s 11ms/step - loss: 0.1058 - accuracy: 0.9589 - val_loss: 0.3353 - val_accuracy: 0.8904\n"
          ]
        }
      ],
      "source": [
        "model_2 = Sequential([\n",
        "    Dense(1000, activation='relu', input_shape=(10,)),\n",
        "    Dense(1000, activation='relu'),\n",
        "    Dense(1000, activation='relu'),\n",
        "    Dense(1000, activation='relu'),\n",
        "    Dense(1, activation='sigmoid'),\n",
        "])\n",
        "\n",
        "# using adaptative moment estimation (adam)\n",
        "\n",
        "model_2.compile(optimizer='adam',\n",
        "              loss='binary_crossentropy',\n",
        "              metrics=['accuracy'])\n",
        "hist_2 = model_2.fit(X_train, Y_train,\n",
        "          batch_size=32, epochs=100,\n",
        "          validation_data=(X_val, Y_val))"
      ]
    },
    {
      "cell_type": "markdown",
      "metadata": {
        "id": "NblvHjz1Hx1Q"
      },
      "source": [
        "Let's do the same visualization to see what overfitting looks like in terms of the loss and accuracy."
      ]
    },
    {
      "cell_type": "code",
      "execution_count": null,
      "metadata": {
        "id": "YxyMjiS8Hx1Q",
        "outputId": "a1339fe1-845e-4950-b40b-8ab9bceaef9d"
      },
      "outputs": [
        {
          "data": {
            "image/png": "[encoded data removed]",
            "text/plain": [
              "<Figure size 432x288 with 1 Axes>"
            ]
          },
          "metadata": {
            "needs_background": "light"
          },
          "output_type": "display_data"
        }
      ],
      "source": [
        "plt.plot(hist_2.history['loss'])\n",
        "plt.plot(hist_2.history['val_loss'])\n",
        "plt.title('Model loss')\n",
        "plt.ylabel('Loss')\n",
        "plt.xlabel('Epoch')\n",
        "plt.legend(['Train', 'Val'], loc='upper right')\n",
        "plt.show()"
      ]
    },
    {
      "cell_type": "code",
      "execution_count": null,
      "metadata": {
        "id": "DmcIOQNOHx1Q",
        "outputId": "f429b438-b69b-4900-d1ae-0363c031459d"
      },
      "outputs": [
        {
          "data": {
            "image/png": "[encoded data removed]",
            "text/plain": [
              "<Figure size 432x288 with 1 Axes>"
            ]
          },
          "metadata": {
            "needs_background": "light"
          },
          "output_type": "display_data"
        }
      ],
      "source": [
        "plt.plot(hist_2.history['accuracy'])\n",
        "plt.plot(hist_2.history['val_accuracy'])\n",
        "plt.title('Model accuracy')\n",
        "plt.ylabel('Accuracy')\n",
        "plt.xlabel('Epoch')\n",
        "plt.legend(['Train', 'Val'], loc='lower right')\n",
        "plt.show()"
      ]
    },
    {
      "cell_type": "markdown",
      "metadata": {
        "id": "D9RxOKnXHx1R"
      },
      "source": [
        "To address the overfitting we see in Model 2, we'll incorporate L2 regularization and dropout in our third model here (Model 3)."
      ]
    },
    {
      "cell_type": "code",
      "execution_count": null,
      "metadata": {
        "id": "fepW39q3Hx1R"
      },
      "outputs": [],
      "source": [
        "from keras.layers import Dropout\n",
        "from keras import regularizers"
      ]
    },
    {
      "cell_type": "code",
      "execution_count": null,
      "metadata": {
        "id": "YvGMhfmDHx1R"
      },
      "outputs": [],
      "source": [
        "model_3 = Sequential([\n",
        "    Dense(1000, activation='relu', kernel_regularizer=regularizers.l2(0.01), input_shape=(10,)),\n",
        "    Dropout(0.3),\n",
        "    Dense(1000, activation='relu', kernel_regularizer=regularizers.l2(0.01)),\n",
        "    Dropout(0.3),\n",
        "    Dense(1000, activation='relu', kernel_regularizer=regularizers.l2(0.01)),\n",
        "    Dropout(0.3),\n",
        "    Dense(1000, activation='relu', kernel_regularizer=regularizers.l2(0.01)),\n",
        "    Dropout(0.3),\n",
        "    Dense(1, activation='sigmoid', kernel_regularizer=regularizers.l2(0.01)),\n",
        "])"
      ]
    },
    {
      "cell_type": "code",
      "execution_count": null,
      "metadata": {
        "id": "atEGCss0Hx1R",
        "outputId": "d46c9a7f-1d89-49ad-f887-74cf132b660e"
      },
      "outputs": [
        {
          "name": "stdout",
          "output_type": "stream",
          "text": [
            "Epoch 1/100\n",
            "32/32 [==============================] - 2s 19ms/step - loss: 14.2467 - accuracy: 0.5978 - val_loss: 3.9109 - val_accuracy: 0.8721\n",
            "Epoch 2/100\n",
            "32/32 [==============================] - 0s 12ms/step - loss: 1.7069 - accuracy: 0.8063 - val_loss: 0.6436 - val_accuracy: 0.8630\n",
            "Epoch 3/100\n",
            "32/32 [==============================] - 0s 12ms/step - loss: 0.6044 - accuracy: 0.8386 - val_loss: 0.4903 - val_accuracy: 0.8995\n",
            "Epoch 4/100\n",
            "32/32 [==============================] - 0s 12ms/step - loss: 0.5524 - accuracy: 0.8493 - val_loss: 0.4555 - val_accuracy: 0.8904\n",
            "Epoch 5/100\n",
            "32/32 [==============================] - 0s 12ms/step - loss: 0.5137 - accuracy: 0.8679 - val_loss: 0.4281 - val_accuracy: 0.9087\n",
            "Epoch 6/100\n",
            "32/32 [==============================] - 0s 12ms/step - loss: 0.5237 - accuracy: 0.8503 - val_loss: 0.4771 - val_accuracy: 0.8447\n",
            "Epoch 7/100\n",
            "32/32 [==============================] - 0s 12ms/step - loss: 0.4951 - accuracy: 0.8659 - val_loss: 0.4412 - val_accuracy: 0.8630\n",
            "Epoch 8/100\n",
            "32/32 [==============================] - 0s 13ms/step - loss: 0.4967 - accuracy: 0.8767 - val_loss: 0.4229 - val_accuracy: 0.8767\n",
            "Epoch 9/100\n",
            "32/32 [==============================] - 0s 13ms/step - loss: 0.4800 - accuracy: 0.8679 - val_loss: 0.4101 - val_accuracy: 0.8995\n",
            "Epoch 10/100\n",
            "32/32 [==============================] - 0s 13ms/step - loss: 0.4845 - accuracy: 0.8718 - val_loss: 0.4344 - val_accuracy: 0.8904\n",
            "Epoch 11/100\n",
            "32/32 [==============================] - 0s 12ms/step - loss: 0.4811 - accuracy: 0.8630 - val_loss: 0.4260 - val_accuracy: 0.9041\n",
            "Epoch 12/100\n",
            "32/32 [==============================] - 0s 12ms/step - loss: 0.5031 - accuracy: 0.8640 - val_loss: 0.4720 - val_accuracy: 0.8630\n",
            "Epoch 13/100\n",
            "32/32 [==============================] - 0s 12ms/step - loss: 0.4696 - accuracy: 0.8708 - val_loss: 0.4245 - val_accuracy: 0.8995\n",
            "Epoch 14/100\n",
            "32/32 [==============================] - 0s 13ms/step - loss: 0.4785 - accuracy: 0.8630 - val_loss: 0.4349 - val_accuracy: 0.8858\n",
            "Epoch 15/100\n",
            "32/32 [==============================] - 0s 12ms/step - loss: 0.4708 - accuracy: 0.8748 - val_loss: 0.3928 - val_accuracy: 0.8950\n",
            "Epoch 16/100\n",
            "32/32 [==============================] - 0s 12ms/step - loss: 0.4798 - accuracy: 0.8757 - val_loss: 0.4035 - val_accuracy: 0.8904\n",
            "Epoch 17/100\n",
            "32/32 [==============================] - 0s 12ms/step - loss: 0.4784 - accuracy: 0.8601 - val_loss: 0.4259 - val_accuracy: 0.8721\n",
            "Epoch 18/100\n",
            "32/32 [==============================] - 0s 12ms/step - loss: 0.4731 - accuracy: 0.8728 - val_loss: 0.4166 - val_accuracy: 0.8767\n",
            "Epoch 19/100\n",
            "32/32 [==============================] - 0s 12ms/step - loss: 0.4514 - accuracy: 0.8796 - val_loss: 0.4225 - val_accuracy: 0.8676\n",
            "Epoch 20/100\n",
            "32/32 [==============================] - 0s 12ms/step - loss: 0.4574 - accuracy: 0.8777 - val_loss: 0.4023 - val_accuracy: 0.8950\n",
            "Epoch 21/100\n",
            "32/32 [==============================] - 0s 12ms/step - loss: 0.4594 - accuracy: 0.8806 - val_loss: 0.4038 - val_accuracy: 0.8904\n",
            "Epoch 22/100\n",
            "32/32 [==============================] - 0s 12ms/step - loss: 0.4603 - accuracy: 0.8650 - val_loss: 0.4261 - val_accuracy: 0.8676\n",
            "Epoch 23/100\n",
            "32/32 [==============================] - 0s 12ms/step - loss: 0.4605 - accuracy: 0.8767 - val_loss: 0.3924 - val_accuracy: 0.8995\n",
            "Epoch 24/100\n",
            "32/32 [==============================] - 0s 13ms/step - loss: 0.4484 - accuracy: 0.8914 - val_loss: 0.3931 - val_accuracy: 0.8950\n",
            "Epoch 25/100\n",
            "32/32 [==============================] - 0s 13ms/step - loss: 0.4445 - accuracy: 0.8816 - val_loss: 0.3870 - val_accuracy: 0.8995\n",
            "Epoch 26/100\n",
            "32/32 [==============================] - 0s 12ms/step - loss: 0.4533 - accuracy: 0.8836 - val_loss: 0.3928 - val_accuracy: 0.8904\n",
            "Epoch 27/100\n",
            "32/32 [==============================] - 0s 12ms/step - loss: 0.4535 - accuracy: 0.8699 - val_loss: 0.4129 - val_accuracy: 0.8721\n",
            "Epoch 28/100\n",
            "32/32 [==============================] - 0s 12ms/step - loss: 0.4464 - accuracy: 0.8777 - val_loss: 0.4170 - val_accuracy: 0.8721\n",
            "Epoch 29/100\n",
            "32/32 [==============================] - 0s 13ms/step - loss: 0.4746 - accuracy: 0.8611 - val_loss: 0.3996 - val_accuracy: 0.8950\n",
            "Epoch 30/100\n",
            "32/32 [==============================] - 0s 13ms/step - loss: 0.4479 - accuracy: 0.8787 - val_loss: 0.4064 - val_accuracy: 0.8721\n",
            "Epoch 31/100\n",
            "32/32 [==============================] - 0s 12ms/step - loss: 0.4593 - accuracy: 0.8679 - val_loss: 0.3959 - val_accuracy: 0.8995\n",
            "Epoch 32/100\n",
            "32/32 [==============================] - 0s 12ms/step - loss: 0.4554 - accuracy: 0.8748 - val_loss: 0.4059 - val_accuracy: 0.8904\n",
            "Epoch 33/100\n",
            "32/32 [==============================] - 0s 12ms/step - loss: 0.4436 - accuracy: 0.8865 - val_loss: 0.3842 - val_accuracy: 0.8995\n",
            "Epoch 34/100\n",
            "32/32 [==============================] - 0s 13ms/step - loss: 0.4713 - accuracy: 0.8659 - val_loss: 0.3934 - val_accuracy: 0.8904\n",
            "Epoch 35/100\n",
            "32/32 [==============================] - 0s 12ms/step - loss: 0.4663 - accuracy: 0.8689 - val_loss: 0.3919 - val_accuracy: 0.8904\n",
            "Epoch 36/100\n",
            "32/32 [==============================] - 0s 12ms/step - loss: 0.4392 - accuracy: 0.8826 - val_loss: 0.4100 - val_accuracy: 0.8767\n",
            "Epoch 37/100\n",
            "32/32 [==============================] - 0s 12ms/step - loss: 0.4480 - accuracy: 0.8855 - val_loss: 0.4036 - val_accuracy: 0.8767\n",
            "Epoch 38/100\n",
            "32/32 [==============================] - 0s 12ms/step - loss: 0.4602 - accuracy: 0.8757 - val_loss: 0.3877 - val_accuracy: 0.8995\n",
            "Epoch 39/100\n",
            "32/32 [==============================] - 0s 12ms/step - loss: 0.4488 - accuracy: 0.8826 - val_loss: 0.3863 - val_accuracy: 0.9041\n",
            "Epoch 40/100\n",
            "32/32 [==============================] - 0s 13ms/step - loss: 0.4555 - accuracy: 0.8718 - val_loss: 0.4089 - val_accuracy: 0.8813\n",
            "Epoch 41/100\n",
            "32/32 [==============================] - 0s 12ms/step - loss: 0.4418 - accuracy: 0.8845 - val_loss: 0.3981 - val_accuracy: 0.8904\n",
            "Epoch 42/100\n",
            "32/32 [==============================] - 0s 12ms/step - loss: 0.4614 - accuracy: 0.8659 - val_loss: 0.4077 - val_accuracy: 0.8721\n",
            "Epoch 43/100\n",
            "32/32 [==============================] - 0s 12ms/step - loss: 0.4412 - accuracy: 0.8904 - val_loss: 0.4025 - val_accuracy: 0.8904\n",
            "Epoch 44/100\n",
            "32/32 [==============================] - 0s 13ms/step - loss: 0.4445 - accuracy: 0.8904 - val_loss: 0.3882 - val_accuracy: 0.8995\n",
            "Epoch 45/100\n",
            "32/32 [==============================] - 0s 13ms/step - loss: 0.4474 - accuracy: 0.8708 - val_loss: 0.3830 - val_accuracy: 0.9041\n",
            "Epoch 46/100\n",
            "32/32 [==============================] - 0s 12ms/step - loss: 0.4500 - accuracy: 0.8914 - val_loss: 0.3902 - val_accuracy: 0.9041\n",
            "Epoch 47/100\n",
            "32/32 [==============================] - 0s 12ms/step - loss: 0.4506 - accuracy: 0.8748 - val_loss: 0.4930 - val_accuracy: 0.8630\n",
            "Epoch 48/100\n",
            "32/32 [==============================] - 0s 12ms/step - loss: 0.4501 - accuracy: 0.8757 - val_loss: 0.3992 - val_accuracy: 0.8904\n",
            "Epoch 49/100\n",
            "32/32 [==============================] - 0s 12ms/step - loss: 0.4862 - accuracy: 0.8650 - val_loss: 0.4069 - val_accuracy: 0.8950\n",
            "Epoch 50/100\n",
            "32/32 [==============================] - 0s 12ms/step - loss: 0.4593 - accuracy: 0.8699 - val_loss: 0.4265 - val_accuracy: 0.8630\n",
            "Epoch 51/100\n",
            "32/32 [==============================] - 0s 12ms/step - loss: 0.4555 - accuracy: 0.8806 - val_loss: 0.3921 - val_accuracy: 0.8995\n",
            "Epoch 52/100\n",
            "32/32 [==============================] - 0s 12ms/step - loss: 0.4541 - accuracy: 0.8816 - val_loss: 0.4044 - val_accuracy: 0.8904\n",
            "Epoch 53/100\n",
            "32/32 [==============================] - 0s 12ms/step - loss: 0.4709 - accuracy: 0.8787 - val_loss: 0.3947 - val_accuracy: 0.8995\n",
            "Epoch 54/100\n",
            "32/32 [==============================] - 0s 13ms/step - loss: 0.4425 - accuracy: 0.8875 - val_loss: 0.4065 - val_accuracy: 0.8721\n",
            "Epoch 55/100\n",
            "32/32 [==============================] - 1s 16ms/step - loss: 0.4354 - accuracy: 0.8875 - val_loss: 0.3808 - val_accuracy: 0.9087\n",
            "Epoch 56/100\n",
            "32/32 [==============================] - 1s 16ms/step - loss: 0.4616 - accuracy: 0.8826 - val_loss: 0.4105 - val_accuracy: 0.8721\n",
            "Epoch 57/100\n",
            "32/32 [==============================] - 1s 17ms/step - loss: 0.4542 - accuracy: 0.8816 - val_loss: 0.3990 - val_accuracy: 0.8904\n",
            "Epoch 58/100\n",
            "32/32 [==============================] - 1s 19ms/step - loss: 0.4558 - accuracy: 0.8787 - val_loss: 0.4052 - val_accuracy: 0.8950\n",
            "Epoch 59/100\n",
            "32/32 [==============================] - 1s 17ms/step - loss: 0.4653 - accuracy: 0.8689 - val_loss: 0.4200 - val_accuracy: 0.8721\n",
            "Epoch 60/100\n",
            "32/32 [==============================] - 0s 15ms/step - loss: 0.4484 - accuracy: 0.8787 - val_loss: 0.3943 - val_accuracy: 0.8995\n",
            "Epoch 61/100\n",
            "32/32 [==============================] - 1s 17ms/step - loss: 0.4491 - accuracy: 0.8865 - val_loss: 0.3861 - val_accuracy: 0.8995\n",
            "Epoch 62/100\n",
            "32/32 [==============================] - 1s 16ms/step - loss: 0.4541 - accuracy: 0.8728 - val_loss: 0.3818 - val_accuracy: 0.8995\n",
            "Epoch 63/100\n",
            "32/32 [==============================] - 1s 16ms/step - loss: 0.4402 - accuracy: 0.8836 - val_loss: 0.3878 - val_accuracy: 0.8950\n",
            "Epoch 64/100\n",
            "32/32 [==============================] - 1s 16ms/step - loss: 0.4453 - accuracy: 0.8748 - val_loss: 0.3882 - val_accuracy: 0.8904\n",
            "Epoch 65/100\n",
            "32/32 [==============================] - 1s 19ms/step - loss: 0.4405 - accuracy: 0.8933 - val_loss: 0.3968 - val_accuracy: 0.8904\n",
            "Epoch 66/100\n",
            "32/32 [==============================] - 1s 17ms/step - loss: 0.4537 - accuracy: 0.8748 - val_loss: 0.4059 - val_accuracy: 0.8904\n",
            "Epoch 67/100\n",
            "32/32 [==============================] - 1s 16ms/step - loss: 0.4516 - accuracy: 0.8806 - val_loss: 0.3803 - val_accuracy: 0.8995\n",
            "Epoch 68/100\n",
            "32/32 [==============================] - 1s 16ms/step - loss: 0.4561 - accuracy: 0.8708 - val_loss: 0.4032 - val_accuracy: 0.8904\n",
            "Epoch 69/100\n",
            "32/32 [==============================] - 1s 16ms/step - loss: 0.4529 - accuracy: 0.8748 - val_loss: 0.4678 - val_accuracy: 0.8721\n",
            "Epoch 70/100\n",
            "32/32 [==============================] - 1s 16ms/step - loss: 0.4518 - accuracy: 0.8777 - val_loss: 0.3921 - val_accuracy: 0.8950\n",
            "Epoch 71/100\n",
            "32/32 [==============================] - 1s 16ms/step - loss: 0.4362 - accuracy: 0.8806 - val_loss: 0.4760 - val_accuracy: 0.8630\n",
            "Epoch 72/100\n",
            "32/32 [==============================] - 1s 17ms/step - loss: 0.4563 - accuracy: 0.8757 - val_loss: 0.3883 - val_accuracy: 0.9087\n",
            "Epoch 73/100\n",
            "32/32 [==============================] - 1s 16ms/step - loss: 0.4360 - accuracy: 0.8845 - val_loss: 0.3788 - val_accuracy: 0.9041\n",
            "Epoch 74/100\n",
            "32/32 [==============================] - 1s 16ms/step - loss: 0.4382 - accuracy: 0.8806 - val_loss: 0.3951 - val_accuracy: 0.8904\n",
            "Epoch 75/100\n",
            "32/32 [==============================] - 1s 16ms/step - loss: 0.4442 - accuracy: 0.8855 - val_loss: 0.3837 - val_accuracy: 0.9087\n",
            "Epoch 76/100\n",
            "32/32 [==============================] - 1s 16ms/step - loss: 0.4395 - accuracy: 0.8865 - val_loss: 0.3855 - val_accuracy: 0.8904\n",
            "Epoch 77/100\n",
            "32/32 [==============================] - 1s 19ms/step - loss: 0.4443 - accuracy: 0.8728 - val_loss: 0.4356 - val_accuracy: 0.8721\n",
            "Epoch 78/100\n",
            "32/32 [==============================] - 1s 16ms/step - loss: 0.4664 - accuracy: 0.8659 - val_loss: 0.3807 - val_accuracy: 0.9087\n",
            "Epoch 79/100\n",
            "32/32 [==============================] - 0s 15ms/step - loss: 0.4533 - accuracy: 0.8787 - val_loss: 0.3857 - val_accuracy: 0.8904\n",
            "Epoch 80/100\n",
            "32/32 [==============================] - 1s 16ms/step - loss: 0.4615 - accuracy: 0.8748 - val_loss: 0.3840 - val_accuracy: 0.8995\n",
            "Epoch 81/100\n",
            "32/32 [==============================] - 1s 16ms/step - loss: 0.4474 - accuracy: 0.8865 - val_loss: 0.4329 - val_accuracy: 0.8767\n",
            "Epoch 82/100\n",
            "32/32 [==============================] - 1s 16ms/step - loss: 0.4531 - accuracy: 0.8738 - val_loss: 0.3860 - val_accuracy: 0.9087\n",
            "Epoch 83/100\n",
            "32/32 [==============================] - 1s 17ms/step - loss: 0.4404 - accuracy: 0.8914 - val_loss: 0.3834 - val_accuracy: 0.8995\n",
            "Epoch 84/100\n",
            "32/32 [==============================] - 1s 16ms/step - loss: 0.4417 - accuracy: 0.8806 - val_loss: 0.3989 - val_accuracy: 0.8858\n",
            "Epoch 85/100\n",
            "32/32 [==============================] - 1s 16ms/step - loss: 0.4449 - accuracy: 0.8796 - val_loss: 0.4317 - val_accuracy: 0.8676\n",
            "Epoch 86/100\n",
            "32/32 [==============================] - 1s 17ms/step - loss: 0.4660 - accuracy: 0.8748 - val_loss: 0.4138 - val_accuracy: 0.8721\n",
            "Epoch 87/100\n",
            "32/32 [==============================] - 1s 16ms/step - loss: 0.4424 - accuracy: 0.8787 - val_loss: 0.3879 - val_accuracy: 0.9041\n",
            "Epoch 88/100\n",
            "32/32 [==============================] - 0s 15ms/step - loss: 0.4553 - accuracy: 0.8718 - val_loss: 0.4011 - val_accuracy: 0.8904\n",
            "Epoch 89/100\n",
            "32/32 [==============================] - 1s 16ms/step - loss: 0.4675 - accuracy: 0.8718 - val_loss: 0.3903 - val_accuracy: 0.8904\n",
            "Epoch 90/100\n",
            "32/32 [==============================] - 1s 16ms/step - loss: 0.4530 - accuracy: 0.8826 - val_loss: 0.3817 - val_accuracy: 0.8904\n",
            "Epoch 91/100\n",
            "32/32 [==============================] - 1s 16ms/step - loss: 0.4528 - accuracy: 0.8767 - val_loss: 0.3816 - val_accuracy: 0.9087\n",
            "Epoch 92/100\n",
            "32/32 [==============================] - 1s 16ms/step - loss: 0.4537 - accuracy: 0.8748 - val_loss: 0.4124 - val_accuracy: 0.8813\n",
            "Epoch 93/100\n",
            "32/32 [==============================] - 1s 16ms/step - loss: 0.4709 - accuracy: 0.8659 - val_loss: 0.3894 - val_accuracy: 0.8904\n",
            "Epoch 94/100\n",
            "32/32 [==============================] - 0s 16ms/step - loss: 0.4494 - accuracy: 0.8689 - val_loss: 0.3847 - val_accuracy: 0.9041\n",
            "Epoch 95/100\n",
            "32/32 [==============================] - 1s 16ms/step - loss: 0.4404 - accuracy: 0.8796 - val_loss: 0.4386 - val_accuracy: 0.8676\n",
            "Epoch 96/100\n",
            "32/32 [==============================] - 1s 16ms/step - loss: 0.4535 - accuracy: 0.8816 - val_loss: 0.3917 - val_accuracy: 0.8995\n",
            "Epoch 97/100\n",
            "32/32 [==============================] - 1s 17ms/step - loss: 0.4377 - accuracy: 0.8806 - val_loss: 0.3778 - val_accuracy: 0.9041\n",
            "Epoch 98/100\n",
            "32/32 [==============================] - 1s 16ms/step - loss: 0.4475 - accuracy: 0.8826 - val_loss: 0.3886 - val_accuracy: 0.8904\n",
            "Epoch 99/100\n",
            "32/32 [==============================] - 1s 16ms/step - loss: 0.4431 - accuracy: 0.8845 - val_loss: 0.4001 - val_accuracy: 0.8904\n",
            "Epoch 100/100\n",
            "32/32 [==============================] - 1s 16ms/step - loss: 0.4478 - accuracy: 0.8767 - val_loss: 0.3766 - val_accuracy: 0.9087\n"
          ]
        }
      ],
      "source": [
        "model_3.compile(optimizer='adam',\n",
        "              loss='binary_crossentropy',\n",
        "              metrics=['accuracy'])\n",
        "hist_3 = model_3.fit(X_train, Y_train,\n",
        "          batch_size=32, epochs=100,\n",
        "          validation_data=(X_val, Y_val))"
      ]
    },
    {
      "cell_type": "markdown",
      "metadata": {
        "id": "DrPEspc3Hx1S"
      },
      "source": [
        "We'll now plot the loss and accuracy graphs for Model 3. You'll notice that the loss is a lot higher at the start, and that's because we've changed our loss function. To plot such that the window is zoomed in between 0 and 1.2 for the loss, we add an additional line of code (plt.ylim) when plotting"
      ]
    },
    {
      "cell_type": "code",
      "execution_count": null,
      "metadata": {
        "id": "PKw3znq8Hx1S",
        "outputId": "95219a3e-387e-4e54-c988-43db481ead1b"
      },
      "outputs": [
        {
          "data": {
            "image/png": "[encoded data removed]",
            "text/plain": [
              "<Figure size 432x288 with 1 Axes>"
            ]
          },
          "metadata": {
            "needs_background": "light"
          },
          "output_type": "display_data"
        }
      ],
      "source": [
        "plt.plot(hist_3.history['loss'])\n",
        "plt.plot(hist_3.history['val_loss'])\n",
        "plt.title('Model loss')\n",
        "plt.ylabel('Loss')\n",
        "plt.xlabel('Epoch')\n",
        "plt.legend(['Train', 'Val'], loc='upper right')\n",
        "plt.ylim(top=1.2, bottom=0)\n",
        "plt.show()"
      ]
    },
    {
      "cell_type": "code",
      "execution_count": null,
      "metadata": {
        "id": "OH7E5QMpHx1S",
        "outputId": "4980ef21-90fb-4972-da09-c1ab5c0b1a90"
      },
      "outputs": [
        {
          "data": {
            "image/png": "[encoded data removed]",
            "text/plain": [
              "<Figure size 432x288 with 1 Axes>"
            ]
          },
          "metadata": {
            "needs_background": "light"
          },
          "output_type": "display_data"
        }
      ],
      "source": [
        "plt.plot(hist_3.history['accuracy'])\n",
        "plt.plot(hist_3.history['val_accuracy'])\n",
        "plt.title('Model accuracy')\n",
        "plt.ylabel('Accuracy')\n",
        "plt.xlabel('Epoch')\n",
        "plt.legend(['Train', 'Val'], loc='lower right')\n",
        "plt.show()"
      ]
    },
    {
      "cell_type": "markdown",
      "metadata": {
        "id": "-lHvDhRaHx1T"
      },
      "source": [
        "As compared to Model 2, you should see that there's less overfitting!"
      ]
    },
    {
      "cell_type": "code",
      "execution_count": null,
      "metadata": {
        "id": "GZT8zBdeNShF"
      },
      "outputs": [],
      "source": [
        "model_3v2 = Sequential([\n",
        "    Dense(1000, activation='relu', kernel_regularizer=regularizers.l2(0.01), input_shape=(10,)),\n",
        "    Dropout(0.5),\n",
        "    Dense(1000, activation='relu', kernel_regularizer=regularizers.l2(0.01)),\n",
        "    Dropout(0.5),\n",
        "    Dense(1000, activation='relu', kernel_regularizer=regularizers.l2(0.01)),\n",
        "    Dropout(0.5),\n",
        "    Dense(1000, activation='relu', kernel_regularizer=regularizers.l2(0.01)),\n",
        "    Dropout(0.5),\n",
        "    Dense(1, activation='sigmoid', kernel_regularizer=regularizers.l2(0.01)),\n",
        "])"
      ]
    },
    {
      "cell_type": "code",
      "execution_count": null,
      "metadata": {
        "id": "9TfyPufyNShF",
        "outputId": "0308456b-e7e0-45a6-f287-c4633dc33929"
      },
      "outputs": [
        {
          "name": "stdout",
          "output_type": "stream",
          "text": [
            "Epoch 1/100\n",
            "32/32 [==============================] - 2s 21ms/step - loss: 14.5083 - accuracy: 0.5333 - val_loss: 4.1435 - val_accuracy: 0.6119\n",
            "Epoch 2/100\n",
            "32/32 [==============================] - 0s 13ms/step - loss: 1.8039 - accuracy: 0.7935 - val_loss: 0.6758 - val_accuracy: 0.8767\n",
            "Epoch 3/100\n",
            "32/32 [==============================] - 0s 15ms/step - loss: 0.6398 - accuracy: 0.8278 - val_loss: 0.6551 - val_accuracy: 0.8082\n",
            "Epoch 4/100\n",
            "32/32 [==============================] - 1s 16ms/step - loss: 0.5762 - accuracy: 0.8474 - val_loss: 0.5551 - val_accuracy: 0.8402\n",
            "Epoch 5/100\n",
            "32/32 [==============================] - 1s 17ms/step - loss: 0.5537 - accuracy: 0.8425 - val_loss: 0.4560 - val_accuracy: 0.9041\n",
            "Epoch 6/100\n",
            "32/32 [==============================] - 1s 16ms/step - loss: 0.5418 - accuracy: 0.8434 - val_loss: 0.4741 - val_accuracy: 0.8676\n",
            "Epoch 7/100\n",
            "32/32 [==============================] - 1s 17ms/step - loss: 0.5149 - accuracy: 0.8689 - val_loss: 0.4475 - val_accuracy: 0.9041\n",
            "Epoch 8/100\n",
            "32/32 [==============================] - 1s 17ms/step - loss: 0.5023 - accuracy: 0.8650 - val_loss: 0.4310 - val_accuracy: 0.9041\n",
            "Epoch 9/100\n",
            "32/32 [==============================] - 1s 17ms/step - loss: 0.5253 - accuracy: 0.8601 - val_loss: 0.4627 - val_accuracy: 0.8721\n",
            "Epoch 10/100\n",
            "32/32 [==============================] - 1s 18ms/step - loss: 0.5086 - accuracy: 0.8620 - val_loss: 0.4336 - val_accuracy: 0.8858\n",
            "Epoch 11/100\n",
            "32/32 [==============================] - 1s 16ms/step - loss: 0.4976 - accuracy: 0.8718 - val_loss: 0.4534 - val_accuracy: 0.8676\n",
            "Epoch 12/100\n",
            "32/32 [==============================] - 1s 17ms/step - loss: 0.5359 - accuracy: 0.8532 - val_loss: 0.4573 - val_accuracy: 0.8813\n",
            "Epoch 13/100\n",
            "32/32 [==============================] - 1s 16ms/step - loss: 0.5054 - accuracy: 0.8591 - val_loss: 0.4323 - val_accuracy: 0.8767\n",
            "Epoch 14/100\n",
            "32/32 [==============================] - 1s 17ms/step - loss: 0.4893 - accuracy: 0.8777 - val_loss: 0.4174 - val_accuracy: 0.8858\n",
            "Epoch 15/100\n",
            "32/32 [==============================] - 1s 17ms/step - loss: 0.5046 - accuracy: 0.8640 - val_loss: 0.4223 - val_accuracy: 0.9041\n",
            "Epoch 16/100\n",
            "32/32 [==============================] - 1s 16ms/step - loss: 0.4840 - accuracy: 0.8748 - val_loss: 0.4573 - val_accuracy: 0.8630\n",
            "Epoch 17/100\n",
            "32/32 [==============================] - 1s 17ms/step - loss: 0.4864 - accuracy: 0.8689 - val_loss: 0.4125 - val_accuracy: 0.8904\n",
            "Epoch 18/100\n",
            "32/32 [==============================] - 1s 17ms/step - loss: 0.5107 - accuracy: 0.8620 - val_loss: 0.5091 - val_accuracy: 0.8584\n",
            "Epoch 19/100\n",
            "32/32 [==============================] - 1s 18ms/step - loss: 0.5016 - accuracy: 0.8640 - val_loss: 0.4089 - val_accuracy: 0.8904\n",
            "Epoch 20/100\n",
            "32/32 [==============================] - 1s 17ms/step - loss: 0.5043 - accuracy: 0.8562 - val_loss: 0.4694 - val_accuracy: 0.8584\n",
            "Epoch 21/100\n",
            "32/32 [==============================] - 1s 16ms/step - loss: 0.4943 - accuracy: 0.8650 - val_loss: 0.4479 - val_accuracy: 0.8584\n",
            "Epoch 22/100\n",
            "32/32 [==============================] - 1s 17ms/step - loss: 0.4854 - accuracy: 0.8650 - val_loss: 0.4045 - val_accuracy: 0.8904\n",
            "Epoch 23/100\n",
            "32/32 [==============================] - 1s 18ms/step - loss: 0.4791 - accuracy: 0.8777 - val_loss: 0.4498 - val_accuracy: 0.8630\n",
            "Epoch 24/100\n",
            "32/32 [==============================] - 1s 17ms/step - loss: 0.4810 - accuracy: 0.8679 - val_loss: 0.4128 - val_accuracy: 0.8950\n",
            "Epoch 25/100\n",
            "32/32 [==============================] - 1s 17ms/step - loss: 0.5027 - accuracy: 0.8630 - val_loss: 0.4304 - val_accuracy: 0.8767\n",
            "Epoch 26/100\n",
            "32/32 [==============================] - 1s 16ms/step - loss: 0.4800 - accuracy: 0.8748 - val_loss: 0.4183 - val_accuracy: 0.8995\n",
            "Epoch 27/100\n",
            "32/32 [==============================] - 1s 17ms/step - loss: 0.4787 - accuracy: 0.8699 - val_loss: 0.4094 - val_accuracy: 0.8950\n",
            "Epoch 28/100\n",
            "32/32 [==============================] - 1s 17ms/step - loss: 0.4747 - accuracy: 0.8767 - val_loss: 0.4085 - val_accuracy: 0.8950\n",
            "Epoch 29/100\n",
            "32/32 [==============================] - 1s 17ms/step - loss: 0.4801 - accuracy: 0.8708 - val_loss: 0.4618 - val_accuracy: 0.8676\n",
            "Epoch 30/100\n",
            "32/32 [==============================] - 1s 18ms/step - loss: 0.4834 - accuracy: 0.8738 - val_loss: 0.4164 - val_accuracy: 0.8950\n",
            "Epoch 31/100\n",
            "32/32 [==============================] - 1s 18ms/step - loss: 0.4797 - accuracy: 0.8738 - val_loss: 0.4089 - val_accuracy: 0.8950\n",
            "Epoch 32/100\n",
            "32/32 [==============================] - 1s 16ms/step - loss: 0.4731 - accuracy: 0.8738 - val_loss: 0.4057 - val_accuracy: 0.8950\n",
            "Epoch 33/100\n",
            "32/32 [==============================] - 1s 16ms/step - loss: 0.4767 - accuracy: 0.8796 - val_loss: 0.4140 - val_accuracy: 0.8950\n",
            "Epoch 34/100\n",
            "32/32 [==============================] - 1s 18ms/step - loss: 0.4593 - accuracy: 0.8728 - val_loss: 0.4025 - val_accuracy: 0.8995\n",
            "Epoch 35/100\n",
            "32/32 [==============================] - 1s 17ms/step - loss: 0.4778 - accuracy: 0.8826 - val_loss: 0.4395 - val_accuracy: 0.8676\n",
            "Epoch 36/100\n",
            "32/32 [==============================] - 1s 16ms/step - loss: 0.5084 - accuracy: 0.8601 - val_loss: 0.4289 - val_accuracy: 0.8904\n",
            "Epoch 37/100\n",
            "32/32 [==============================] - 1s 17ms/step - loss: 0.4814 - accuracy: 0.8699 - val_loss: 0.3990 - val_accuracy: 0.8995\n",
            "Epoch 38/100\n",
            "32/32 [==============================] - 1s 18ms/step - loss: 0.4951 - accuracy: 0.8591 - val_loss: 0.4044 - val_accuracy: 0.8950\n",
            "Epoch 39/100\n",
            "32/32 [==============================] - 1s 17ms/step - loss: 0.4775 - accuracy: 0.8718 - val_loss: 0.4022 - val_accuracy: 0.8950\n",
            "Epoch 40/100\n",
            "32/32 [==============================] - 1s 17ms/step - loss: 0.4587 - accuracy: 0.8787 - val_loss: 0.3978 - val_accuracy: 0.8950\n",
            "Epoch 41/100\n",
            "32/32 [==============================] - 1s 17ms/step - loss: 0.4673 - accuracy: 0.8836 - val_loss: 0.4120 - val_accuracy: 0.8950\n",
            "Epoch 42/100\n",
            "32/32 [==============================] - 1s 17ms/step - loss: 0.4931 - accuracy: 0.8650 - val_loss: 0.5840 - val_accuracy: 0.8402\n",
            "Epoch 43/100\n",
            "32/32 [==============================] - 1s 16ms/step - loss: 0.4836 - accuracy: 0.8650 - val_loss: 0.4009 - val_accuracy: 0.9041\n",
            "Epoch 44/100\n",
            "32/32 [==============================] - 1s 17ms/step - loss: 0.4890 - accuracy: 0.8581 - val_loss: 0.4200 - val_accuracy: 0.8721\n",
            "Epoch 45/100\n",
            "32/32 [==============================] - 1s 17ms/step - loss: 0.4747 - accuracy: 0.8767 - val_loss: 0.4017 - val_accuracy: 0.8904\n",
            "Epoch 46/100\n",
            "32/32 [==============================] - 1s 17ms/step - loss: 0.4764 - accuracy: 0.8777 - val_loss: 0.4011 - val_accuracy: 0.8950\n",
            "Epoch 47/100\n",
            "32/32 [==============================] - 1s 18ms/step - loss: 0.4673 - accuracy: 0.8826 - val_loss: 0.4369 - val_accuracy: 0.8676\n",
            "Epoch 48/100\n",
            "32/32 [==============================] - 1s 17ms/step - loss: 0.4667 - accuracy: 0.8728 - val_loss: 0.4011 - val_accuracy: 0.8995\n",
            "Epoch 49/100\n",
            "32/32 [==============================] - 1s 17ms/step - loss: 0.4731 - accuracy: 0.8767 - val_loss: 0.4038 - val_accuracy: 0.8995\n",
            "Epoch 50/100\n",
            "32/32 [==============================] - 1s 16ms/step - loss: 0.4865 - accuracy: 0.8601 - val_loss: 0.4181 - val_accuracy: 0.8904\n",
            "Epoch 51/100\n",
            "32/32 [==============================] - 1s 18ms/step - loss: 0.4847 - accuracy: 0.8669 - val_loss: 0.4043 - val_accuracy: 0.9041\n",
            "Epoch 52/100\n",
            "32/32 [==============================] - 1s 17ms/step - loss: 0.4722 - accuracy: 0.8748 - val_loss: 0.4143 - val_accuracy: 0.8858\n",
            "Epoch 53/100\n",
            "32/32 [==============================] - 1s 18ms/step - loss: 0.4693 - accuracy: 0.8689 - val_loss: 0.4051 - val_accuracy: 0.9087\n",
            "Epoch 54/100\n",
            "32/32 [==============================] - 1s 17ms/step - loss: 0.4817 - accuracy: 0.8689 - val_loss: 0.4160 - val_accuracy: 0.8858\n",
            "Epoch 55/100\n",
            "32/32 [==============================] - 1s 17ms/step - loss: 0.4722 - accuracy: 0.8718 - val_loss: 0.4045 - val_accuracy: 0.9087\n",
            "Epoch 56/100\n",
            "32/32 [==============================] - 1s 17ms/step - loss: 0.4810 - accuracy: 0.8728 - val_loss: 0.4027 - val_accuracy: 0.8995\n",
            "Epoch 57/100\n",
            "32/32 [==============================] - 1s 17ms/step - loss: 0.4637 - accuracy: 0.8796 - val_loss: 0.4181 - val_accuracy: 0.8858\n",
            "Epoch 58/100\n",
            "32/32 [==============================] - 1s 16ms/step - loss: 0.4923 - accuracy: 0.8699 - val_loss: 0.4032 - val_accuracy: 0.8950\n",
            "Epoch 59/100\n",
            "32/32 [==============================] - 1s 16ms/step - loss: 0.4847 - accuracy: 0.8659 - val_loss: 0.3977 - val_accuracy: 0.8995\n",
            "Epoch 60/100\n",
            "32/32 [==============================] - 1s 18ms/step - loss: 0.4678 - accuracy: 0.8826 - val_loss: 0.4200 - val_accuracy: 0.8767\n",
            "Epoch 61/100\n",
            "32/32 [==============================] - 1s 16ms/step - loss: 0.4715 - accuracy: 0.8718 - val_loss: 0.3985 - val_accuracy: 0.8995\n",
            "Epoch 62/100\n",
            "32/32 [==============================] - 0s 15ms/step - loss: 0.4734 - accuracy: 0.8738 - val_loss: 0.4067 - val_accuracy: 0.9041\n",
            "Epoch 63/100\n",
            "32/32 [==============================] - 1s 17ms/step - loss: 0.4730 - accuracy: 0.8708 - val_loss: 0.4040 - val_accuracy: 0.9087\n",
            "Epoch 64/100\n",
            "32/32 [==============================] - 1s 16ms/step - loss: 0.4830 - accuracy: 0.8591 - val_loss: 0.4015 - val_accuracy: 0.8995\n",
            "Epoch 65/100\n",
            "32/32 [==============================] - 0s 15ms/step - loss: 0.4774 - accuracy: 0.8650 - val_loss: 0.4258 - val_accuracy: 0.8767\n",
            "Epoch 66/100\n",
            "32/32 [==============================] - 1s 16ms/step - loss: 0.4666 - accuracy: 0.8718 - val_loss: 0.3999 - val_accuracy: 0.8995\n",
            "Epoch 67/100\n",
            "32/32 [==============================] - 1s 17ms/step - loss: 0.4729 - accuracy: 0.8748 - val_loss: 0.4021 - val_accuracy: 0.8995\n",
            "Epoch 68/100\n",
            "32/32 [==============================] - 1s 17ms/step - loss: 0.4691 - accuracy: 0.8826 - val_loss: 0.4208 - val_accuracy: 0.8858\n",
            "Epoch 69/100\n",
            "32/32 [==============================] - 1s 18ms/step - loss: 0.4912 - accuracy: 0.8630 - val_loss: 0.4073 - val_accuracy: 0.8904\n",
            "Epoch 70/100\n",
            "32/32 [==============================] - 1s 16ms/step - loss: 0.4605 - accuracy: 0.8836 - val_loss: 0.3938 - val_accuracy: 0.8995\n",
            "Epoch 71/100\n",
            "32/32 [==============================] - 1s 16ms/step - loss: 0.4729 - accuracy: 0.8796 - val_loss: 0.4359 - val_accuracy: 0.8676\n",
            "Epoch 72/100\n",
            "32/32 [==============================] - 1s 17ms/step - loss: 0.4714 - accuracy: 0.8826 - val_loss: 0.4007 - val_accuracy: 0.8995\n",
            "Epoch 73/100\n",
            "32/32 [==============================] - 1s 16ms/step - loss: 0.4709 - accuracy: 0.8796 - val_loss: 0.4113 - val_accuracy: 0.8904\n",
            "Epoch 74/100\n",
            "32/32 [==============================] - 1s 17ms/step - loss: 0.4702 - accuracy: 0.8767 - val_loss: 0.4200 - val_accuracy: 0.8858\n",
            "Epoch 75/100\n",
            "32/32 [==============================] - 1s 20ms/step - loss: 0.4853 - accuracy: 0.8777 - val_loss: 0.4408 - val_accuracy: 0.8630\n",
            "Epoch 76/100\n",
            "32/32 [==============================] - 0s 16ms/step - loss: 0.4729 - accuracy: 0.8708 - val_loss: 0.4449 - val_accuracy: 0.8630\n",
            "Epoch 77/100\n",
            "32/32 [==============================] - 1s 16ms/step - loss: 0.4678 - accuracy: 0.8796 - val_loss: 0.4184 - val_accuracy: 0.8767\n",
            "Epoch 78/100\n",
            "32/32 [==============================] - 1s 16ms/step - loss: 0.4711 - accuracy: 0.8777 - val_loss: 0.3947 - val_accuracy: 0.9041\n",
            "Epoch 79/100\n",
            "32/32 [==============================] - 1s 16ms/step - loss: 0.4945 - accuracy: 0.8659 - val_loss: 0.4162 - val_accuracy: 0.8858\n",
            "Epoch 80/100\n",
            "32/32 [==============================] - 1s 16ms/step - loss: 0.4824 - accuracy: 0.8718 - val_loss: 0.4141 - val_accuracy: 0.8904\n",
            "Epoch 81/100\n",
            "32/32 [==============================] - 1s 16ms/step - loss: 0.4492 - accuracy: 0.8875 - val_loss: 0.4390 - val_accuracy: 0.8676\n",
            "Epoch 82/100\n",
            "32/32 [==============================] - 1s 16ms/step - loss: 0.4669 - accuracy: 0.8738 - val_loss: 0.3967 - val_accuracy: 0.8950\n",
            "Epoch 83/100\n",
            "32/32 [==============================] - 1s 17ms/step - loss: 0.4711 - accuracy: 0.8748 - val_loss: 0.4687 - val_accuracy: 0.8676\n",
            "Epoch 84/100\n",
            "32/32 [==============================] - 1s 16ms/step - loss: 0.4734 - accuracy: 0.8748 - val_loss: 0.3952 - val_accuracy: 0.9087\n",
            "Epoch 85/100\n",
            "32/32 [==============================] - 1s 17ms/step - loss: 0.4676 - accuracy: 0.8836 - val_loss: 0.4465 - val_accuracy: 0.8813\n",
            "Epoch 86/100\n",
            "32/32 [==============================] - 1s 17ms/step - loss: 0.4930 - accuracy: 0.8738 - val_loss: 0.4121 - val_accuracy: 0.8904\n",
            "Epoch 87/100\n",
            "32/32 [==============================] - 1s 17ms/step - loss: 0.4714 - accuracy: 0.8640 - val_loss: 0.4526 - val_accuracy: 0.8676\n",
            "Epoch 88/100\n",
            "32/32 [==============================] - 1s 19ms/step - loss: 0.4614 - accuracy: 0.8796 - val_loss: 0.3987 - val_accuracy: 0.9041\n",
            "Epoch 89/100\n",
            "32/32 [==============================] - 1s 16ms/step - loss: 0.4916 - accuracy: 0.8640 - val_loss: 0.4296 - val_accuracy: 0.8858\n",
            "Epoch 90/100\n",
            "32/32 [==============================] - 1s 17ms/step - loss: 0.4668 - accuracy: 0.8748 - val_loss: 0.3981 - val_accuracy: 0.8995\n",
            "Epoch 91/100\n",
            "32/32 [==============================] - 1s 18ms/step - loss: 0.4778 - accuracy: 0.8718 - val_loss: 0.4024 - val_accuracy: 0.8995\n",
            "Epoch 92/100\n",
            "32/32 [==============================] - 1s 16ms/step - loss: 0.4676 - accuracy: 0.8728 - val_loss: 0.3956 - val_accuracy: 0.8995\n",
            "Epoch 93/100\n",
            "32/32 [==============================] - 1s 16ms/step - loss: 0.4608 - accuracy: 0.8855 - val_loss: 0.3927 - val_accuracy: 0.9041\n",
            "Epoch 94/100\n",
            "32/32 [==============================] - 1s 17ms/step - loss: 0.4775 - accuracy: 0.8796 - val_loss: 0.4023 - val_accuracy: 0.8995\n",
            "Epoch 95/100\n",
            "32/32 [==============================] - 1s 16ms/step - loss: 0.4646 - accuracy: 0.8767 - val_loss: 0.4530 - val_accuracy: 0.8630\n",
            "Epoch 96/100\n",
            "32/32 [==============================] - 1s 17ms/step - loss: 0.4839 - accuracy: 0.8640 - val_loss: 0.4024 - val_accuracy: 0.8995\n",
            "Epoch 97/100\n",
            "32/32 [==============================] - 1s 17ms/step - loss: 0.4729 - accuracy: 0.8728 - val_loss: 0.3951 - val_accuracy: 0.8995\n",
            "Epoch 98/100\n",
            "32/32 [==============================] - 1s 16ms/step - loss: 0.4672 - accuracy: 0.8777 - val_loss: 0.4035 - val_accuracy: 0.8950\n",
            "Epoch 99/100\n",
            "32/32 [==============================] - 1s 17ms/step - loss: 0.4799 - accuracy: 0.8718 - val_loss: 0.3988 - val_accuracy: 0.9087\n",
            "Epoch 100/100\n",
            "32/32 [==============================] - 1s 18ms/step - loss: 0.4734 - accuracy: 0.8738 - val_loss: 0.4067 - val_accuracy: 0.8813\n"
          ]
        }
      ],
      "source": [
        "model_3v2.compile(optimizer='adam',\n",
        "              loss='binary_crossentropy',\n",
        "              metrics=['accuracy'])\n",
        "hist_3v2 = model_3v2.fit(X_train, Y_train,\n",
        "          batch_size=32, epochs=100,\n",
        "          validation_data=(X_val, Y_val))"
      ]
    },
    {
      "cell_type": "code",
      "execution_count": null,
      "metadata": {
        "id": "sNmkzXMwNShG",
        "outputId": "b78e7be9-b5b1-44b0-9d73-9f417c324fa2"
      },
      "outputs": [
        {
          "data": {
            "image/png": "[encoded data removed]",
            "text/plain": [
              "<Figure size 432x288 with 1 Axes>"
            ]
          },
          "metadata": {
            "needs_background": "light"
          },
          "output_type": "display_data"
        }
      ],
      "source": [
        "plt.plot(hist_3v2.history['loss'])\n",
        "plt.plot(hist_3v2.history['val_loss'])\n",
        "plt.title('Model loss')\n",
        "plt.ylabel('Loss')\n",
        "plt.xlabel('Epoch')\n",
        "plt.legend(['Train', 'Val'], loc='upper right')\n",
        "plt.ylim(top=1.2, bottom=0)\n",
        "plt.show()"
      ]
    },
    {
      "cell_type": "code",
      "execution_count": null,
      "metadata": {
        "id": "_mT7C16BNShG",
        "outputId": "644be48a-16ac-43a7-bd9f-df990327d48f"
      },
      "outputs": [
        {
          "data": {
            "image/png": "[encoded data removed]",
            "text/plain": [
              "<Figure size 432x288 with 1 Axes>"
            ]
          },
          "metadata": {
            "needs_background": "light"
          },
          "output_type": "display_data"
        }
      ],
      "source": [
        "plt.plot(hist_3v2.history['accuracy'])\n",
        "plt.plot(hist_3v2.history['val_accuracy'])\n",
        "plt.title('Model accuracy')\n",
        "plt.ylabel('Accuracy')\n",
        "plt.xlabel('Epoch')\n",
        "plt.legend(['Train', 'Val'], loc='lower right')\n",
        "plt.show()"
      ]
    },
    {
      "cell_type": "markdown",
      "metadata": {
        "id": "EpS54dyVNShG"
      },
      "source": [
        "What do you think? you decide which dp is better !"
      ]
    },
    {
      "cell_type": "code",
      "execution_count": null,
      "metadata": {
        "id": "dPJNX5YVNShG"
      },
      "outputs": [],
      "source": []
    },
    {
      "cell_type": "markdown",
      "metadata": {
        "id": "nI8y2MkeNShH"
      },
      "source": [
        "# Regression (Finding a value)"
      ]
    },
    {
      "cell_type": "markdown",
      "metadata": {
        "id": "8sfMSMwMNShH"
      },
      "source": [
        "Which features are available in the dataset?\n",
        "\n",
        "Which features are categorical?\n",
        "\n",
        "Which features are numerical?\n",
        "\n",
        "Which features contain blank, null or empty values?\n",
        "\n",
        "What are the data types for various features?\n",
        "\n",
        "What is the distribution of numerical feature values across the samples?\n",
        "\n",
        "Which features are more correlated to the price?"
      ]
    },
    {
      "cell_type": "markdown",
      "metadata": {
        "id": "JWtpZc-ANShH"
      },
      "source": [
        "Dataset\n",
        "This dataset contains house sale prices for King County, which includes Seattle.\n",
        "It includes homes sold between May 2014 and May 2015.\n",
        "21 columns. (features)\n",
        "21597 rows.\n",
        "Feature Columns\n",
        "\n",
        "id: Unique ID for each home sold\n",
        "\n",
        "date: Date of the home sale\n",
        "\n",
        "price: Price of each home sold\n",
        "\n",
        "bedrooms: Number of bedrooms\n",
        "\n",
        "bathrooms: Number of bathrooms, where .5 accounts for a room with a toilet but no shower\n",
        "\n",
        "sqft_living: Square footage of the apartments interior living space\n",
        "\n",
        "sqft_lot: Square footage of the land space\n",
        "\n",
        "floors: Number of floors\n",
        "\n",
        "waterfront: - A dummy variable for whether the apartment was overlooking the waterfront or not\n",
        "\n",
        "view: An index from 0 to 4 of how good the view of the property was\n",
        "\n",
        "condition: - An index from 1 to 5 on the condition of the apartment,\n",
        "\n",
        "grade: An index from 1 to 13, where 1-3 falls short of building construction and design, 7 has an average level of construction and design, and 11-13 have a high quality level of construction and design.\n",
        "\n",
        "sqft_above: The square footage of the interior housing space that is above ground level\n",
        "\n",
        "sqft_basement: The square footage of the interior housing space that is below ground level\n",
        "\n",
        "yr_built: The year the house was initially built\n",
        "\n",
        "yr_renovated: The year of the house’s last renovation\n",
        "\n",
        "zipcode: What zipcode area the house is in\n",
        "\n",
        "lat: Lattitude\n",
        "\n",
        "long: Longitude\n",
        "\n",
        "sqft_living15: The square footage of interior housing living space for the nearest 15 neighbors\n",
        "\n",
        "sqft_lot15: The square footage of the land lots of the nearest 15 neighbors"
      ]
    },
    {
      "cell_type": "code",
      "execution_count": null,
      "metadata": {
        "id": "nRrbRI-tNShH"
      },
      "outputs": [],
      "source": [
        "# data analysis\n",
        "import pandas as pd\n",
        "import numpy as np\n",
        "\n",
        "# models\n",
        "from keras import layers\n",
        "from keras import preprocessing\n",
        "from keras import regularizers\n",
        "from keras.models import Sequential\n",
        "from keras.layers import Dense, Activation\n",
        "from tensorflow.keras.optimizers import Adam   # if keras does not find it\n",
        "\n",
        "\n",
        "# preprocessing\n",
        "from sklearn import preprocessing\n",
        "\n",
        "# Split\n",
        "from sklearn.model_selection import train_test_split"
      ]
    },
    {
      "cell_type": "code",
      "execution_count": null,
      "metadata": {
        "id": "IREd5ChbNShI",
        "outputId": "35c5fe85-aa03-4ced-9db5-7919773291d2"
      },
      "outputs": [
        {
          "name": "stdout",
          "output_type": "stream",
          "text": [
            "21613\n"
          ]
        },
        {
          "data": {
            "text/html": [
              "<div>\n",
              "<style scoped>\n",
              "    .dataframe tbody tr th:only-of-type {\n",
              "        vertical-align: middle;\n",
              "    }\n",
              "\n",
              "    .dataframe tbody tr th {\n",
              "        vertical-align: top;\n",
              "    }\n",
              "\n",
              "    .dataframe thead th {\n",
              "        text-align: right;\n",
              "    }\n",
              "</style>\n",
              "<table border=\"1\" class=\"dataframe\">\n",
              "  <thead>\n",
              "    <tr style=\"text-align: right;\">\n",
              "      <th></th>\n",
              "      <th>id</th>\n",
              "      <th>date</th>\n",
              "      <th>price</th>\n",
              "      <th>bedrooms</th>\n",
              "      <th>bathrooms</th>\n",
              "      <th>sqft_living</th>\n",
              "      <th>sqft_lot</th>\n",
              "      <th>floors</th>\n",
              "      <th>waterfront</th>\n",
              "      <th>view</th>\n",
              "      <th>...</th>\n",
              "      <th>grade</th>\n",
              "      <th>sqft_above</th>\n",
              "      <th>sqft_basement</th>\n",
              "      <th>yr_built</th>\n",
              "      <th>yr_renovated</th>\n",
              "      <th>zipcode</th>\n",
              "      <th>lat</th>\n",
              "      <th>long</th>\n",
              "      <th>sqft_living15</th>\n",
              "      <th>sqft_lot15</th>\n",
              "    </tr>\n",
              "  </thead>\n",
              "  <tbody>\n",
              "    <tr>\n",
              "      <th>0</th>\n",
              "      <td>7129300520</td>\n",
              "      <td>20141013T000000</td>\n",
              "      <td>221900.0</td>\n",
              "      <td>3</td>\n",
              "      <td>1.00</td>\n",
              "      <td>1180</td>\n",
              "      <td>5650</td>\n",
              "      <td>1.0</td>\n",
              "      <td>0</td>\n",
              "      <td>0</td>\n",
              "      <td>...</td>\n",
              "      <td>7</td>\n",
              "      <td>1180</td>\n",
              "      <td>0</td>\n",
              "      <td>1955</td>\n",
              "      <td>0</td>\n",
              "      <td>98178</td>\n",
              "      <td>47.5112</td>\n",
              "      <td>-122.257</td>\n",
              "      <td>1340</td>\n",
              "      <td>5650</td>\n",
              "    </tr>\n",
              "    <tr>\n",
              "      <th>1</th>\n",
              "      <td>6414100192</td>\n",
              "      <td>20141209T000000</td>\n",
              "      <td>538000.0</td>\n",
              "      <td>3</td>\n",
              "      <td>2.25</td>\n",
              "      <td>2570</td>\n",
              "      <td>7242</td>\n",
              "      <td>2.0</td>\n",
              "      <td>0</td>\n",
              "      <td>0</td>\n",
              "      <td>...</td>\n",
              "      <td>7</td>\n",
              "      <td>2170</td>\n",
              "      <td>400</td>\n",
              "      <td>1951</td>\n",
              "      <td>1991</td>\n",
              "      <td>98125</td>\n",
              "      <td>47.7210</td>\n",
              "      <td>-122.319</td>\n",
              "      <td>1690</td>\n",
              "      <td>7639</td>\n",
              "    </tr>\n",
              "    <tr>\n",
              "      <th>2</th>\n",
              "      <td>5631500400</td>\n",
              "      <td>20150225T000000</td>\n",
              "      <td>180000.0</td>\n",
              "      <td>2</td>\n",
              "      <td>1.00</td>\n",
              "      <td>770</td>\n",
              "      <td>10000</td>\n",
              "      <td>1.0</td>\n",
              "      <td>0</td>\n",
              "      <td>0</td>\n",
              "      <td>...</td>\n",
              "      <td>6</td>\n",
              "      <td>770</td>\n",
              "      <td>0</td>\n",
              "      <td>1933</td>\n",
              "      <td>0</td>\n",
              "      <td>98028</td>\n",
              "      <td>47.7379</td>\n",
              "      <td>-122.233</td>\n",
              "      <td>2720</td>\n",
              "      <td>8062</td>\n",
              "    </tr>\n",
              "    <tr>\n",
              "      <th>3</th>\n",
              "      <td>2487200875</td>\n",
              "      <td>20141209T000000</td>\n",
              "      <td>604000.0</td>\n",
              "      <td>4</td>\n",
              "      <td>3.00</td>\n",
              "      <td>1960</td>\n",
              "      <td>5000</td>\n",
              "      <td>1.0</td>\n",
              "      <td>0</td>\n",
              "      <td>0</td>\n",
              "      <td>...</td>\n",
              "      <td>7</td>\n",
              "      <td>1050</td>\n",
              "      <td>910</td>\n",
              "      <td>1965</td>\n",
              "      <td>0</td>\n",
              "      <td>98136</td>\n",
              "      <td>47.5208</td>\n",
              "      <td>-122.393</td>\n",
              "      <td>1360</td>\n",
              "      <td>5000</td>\n",
              "    </tr>\n",
              "    <tr>\n",
              "      <th>4</th>\n",
              "      <td>1954400510</td>\n",
              "      <td>20150218T000000</td>\n",
              "      <td>510000.0</td>\n",
              "      <td>3</td>\n",
              "      <td>2.00</td>\n",
              "      <td>1680</td>\n",
              "      <td>8080</td>\n",
              "      <td>1.0</td>\n",
              "      <td>0</td>\n",
              "      <td>0</td>\n",
              "      <td>...</td>\n",
              "      <td>8</td>\n",
              "      <td>1680</td>\n",
              "      <td>0</td>\n",
              "      <td>1987</td>\n",
              "      <td>0</td>\n",
              "      <td>98074</td>\n",
              "      <td>47.6168</td>\n",
              "      <td>-122.045</td>\n",
              "      <td>1800</td>\n",
              "      <td>7503</td>\n",
              "    </tr>\n",
              "  </tbody>\n",
              "</table>\n",
              "<p>5 rows × 21 columns</p>\n",
              "</div>"
            ],
            "text/plain": [
              "           id             date     price  bedrooms  bathrooms  sqft_living  \\\n",
              "0  7129300520  20141013T000000  221900.0         3       1.00         1180   \n",
              "1  6414100192  20141209T000000  538000.0         3       2.25         2570   \n",
              "2  5631500400  20150225T000000  180000.0         2       1.00          770   \n",
              "3  2487200875  20141209T000000  604000.0         4       3.00         1960   \n",
              "4  1954400510  20150218T000000  510000.0         3       2.00         1680   \n",
              "\n",
              "   sqft_lot  floors  waterfront  view  ...  grade  sqft_above  sqft_basement  \\\n",
              "0      5650     1.0           0     0  ...      7        1180              0   \n",
              "1      7242     2.0           0     0  ...      7        2170            400   \n",
              "2     10000     1.0           0     0  ...      6         770              0   \n",
              "3      5000     1.0           0     0  ...      7        1050            910   \n",
              "4      8080     1.0           0     0  ...      8        1680              0   \n",
              "\n",
              "   yr_built  yr_renovated  zipcode      lat     long  sqft_living15  \\\n",
              "0      1955             0    98178  47.5112 -122.257           1340   \n",
              "1      1951          1991    98125  47.7210 -122.319           1690   \n",
              "2      1933             0    98028  47.7379 -122.233           2720   \n",
              "3      1965             0    98136  47.5208 -122.393           1360   \n",
              "4      1987             0    98074  47.6168 -122.045           1800   \n",
              "\n",
              "   sqft_lot15  \n",
              "0        5650  \n",
              "1        7639  \n",
              "2        8062  \n",
              "3        5000  \n",
              "4        7503  \n",
              "\n",
              "[5 rows x 21 columns]"
            ]
          },
          "execution_count": 38,
          "metadata": {},
          "output_type": "execute_result"
        }
      ],
      "source": [
        "housePrices=pd.read_csv('Tabular/kc_house_data.csv')\n",
        "print(len(housePrices))\n",
        "\n",
        "# preview the data desde la cabeza\n",
        "housePrices.head()\n"
      ]
    },
    {
      "cell_type": "code",
      "execution_count": null,
      "metadata": {
        "id": "iOQXSY3lNShI",
        "outputId": "39f25465-4c56-44da-da8d-d27645ad7af4"
      },
      "outputs": [
        {
          "data": {
            "text/html": [
              "<div>\n",
              "<style scoped>\n",
              "    .dataframe tbody tr th:only-of-type {\n",
              "        vertical-align: middle;\n",
              "    }\n",
              "\n",
              "    .dataframe tbody tr th {\n",
              "        vertical-align: top;\n",
              "    }\n",
              "\n",
              "    .dataframe thead th {\n",
              "        text-align: right;\n",
              "    }\n",
              "</style>\n",
              "<table border=\"1\" class=\"dataframe\">\n",
              "  <thead>\n",
              "    <tr style=\"text-align: right;\">\n",
              "      <th></th>\n",
              "      <th>id</th>\n",
              "      <th>date</th>\n",
              "      <th>price</th>\n",
              "      <th>bedrooms</th>\n",
              "      <th>bathrooms</th>\n",
              "      <th>sqft_living</th>\n",
              "      <th>sqft_lot</th>\n",
              "      <th>floors</th>\n",
              "      <th>waterfront</th>\n",
              "      <th>view</th>\n",
              "      <th>...</th>\n",
              "      <th>grade</th>\n",
              "      <th>sqft_above</th>\n",
              "      <th>sqft_basement</th>\n",
              "      <th>yr_built</th>\n",
              "      <th>yr_renovated</th>\n",
              "      <th>zipcode</th>\n",
              "      <th>lat</th>\n",
              "      <th>long</th>\n",
              "      <th>sqft_living15</th>\n",
              "      <th>sqft_lot15</th>\n",
              "    </tr>\n",
              "  </thead>\n",
              "  <tbody>\n",
              "    <tr>\n",
              "      <th>21608</th>\n",
              "      <td>263000018</td>\n",
              "      <td>20140521T000000</td>\n",
              "      <td>360000.0</td>\n",
              "      <td>3</td>\n",
              "      <td>2.50</td>\n",
              "      <td>1530</td>\n",
              "      <td>1131</td>\n",
              "      <td>3.0</td>\n",
              "      <td>0</td>\n",
              "      <td>0</td>\n",
              "      <td>...</td>\n",
              "      <td>8</td>\n",
              "      <td>1530</td>\n",
              "      <td>0</td>\n",
              "      <td>2009</td>\n",
              "      <td>0</td>\n",
              "      <td>98103</td>\n",
              "      <td>47.6993</td>\n",
              "      <td>-122.346</td>\n",
              "      <td>1530</td>\n",
              "      <td>1509</td>\n",
              "    </tr>\n",
              "    <tr>\n",
              "      <th>21609</th>\n",
              "      <td>6600060120</td>\n",
              "      <td>20150223T000000</td>\n",
              "      <td>400000.0</td>\n",
              "      <td>4</td>\n",
              "      <td>2.50</td>\n",
              "      <td>2310</td>\n",
              "      <td>5813</td>\n",
              "      <td>2.0</td>\n",
              "      <td>0</td>\n",
              "      <td>0</td>\n",
              "      <td>...</td>\n",
              "      <td>8</td>\n",
              "      <td>2310</td>\n",
              "      <td>0</td>\n",
              "      <td>2014</td>\n",
              "      <td>0</td>\n",
              "      <td>98146</td>\n",
              "      <td>47.5107</td>\n",
              "      <td>-122.362</td>\n",
              "      <td>1830</td>\n",
              "      <td>7200</td>\n",
              "    </tr>\n",
              "    <tr>\n",
              "      <th>21610</th>\n",
              "      <td>1523300141</td>\n",
              "      <td>20140623T000000</td>\n",
              "      <td>402101.0</td>\n",
              "      <td>2</td>\n",
              "      <td>0.75</td>\n",
              "      <td>1020</td>\n",
              "      <td>1350</td>\n",
              "      <td>2.0</td>\n",
              "      <td>0</td>\n",
              "      <td>0</td>\n",
              "      <td>...</td>\n",
              "      <td>7</td>\n",
              "      <td>1020</td>\n",
              "      <td>0</td>\n",
              "      <td>2009</td>\n",
              "      <td>0</td>\n",
              "      <td>98144</td>\n",
              "      <td>47.5944</td>\n",
              "      <td>-122.299</td>\n",
              "      <td>1020</td>\n",
              "      <td>2007</td>\n",
              "    </tr>\n",
              "    <tr>\n",
              "      <th>21611</th>\n",
              "      <td>291310100</td>\n",
              "      <td>20150116T000000</td>\n",
              "      <td>400000.0</td>\n",
              "      <td>3</td>\n",
              "      <td>2.50</td>\n",
              "      <td>1600</td>\n",
              "      <td>2388</td>\n",
              "      <td>2.0</td>\n",
              "      <td>0</td>\n",
              "      <td>0</td>\n",
              "      <td>...</td>\n",
              "      <td>8</td>\n",
              "      <td>1600</td>\n",
              "      <td>0</td>\n",
              "      <td>2004</td>\n",
              "      <td>0</td>\n",
              "      <td>98027</td>\n",
              "      <td>47.5345</td>\n",
              "      <td>-122.069</td>\n",
              "      <td>1410</td>\n",
              "      <td>1287</td>\n",
              "    </tr>\n",
              "    <tr>\n",
              "      <th>21612</th>\n",
              "      <td>1523300157</td>\n",
              "      <td>20141015T000000</td>\n",
              "      <td>325000.0</td>\n",
              "      <td>2</td>\n",
              "      <td>0.75</td>\n",
              "      <td>1020</td>\n",
              "      <td>1076</td>\n",
              "      <td>2.0</td>\n",
              "      <td>0</td>\n",
              "      <td>0</td>\n",
              "      <td>...</td>\n",
              "      <td>7</td>\n",
              "      <td>1020</td>\n",
              "      <td>0</td>\n",
              "      <td>2008</td>\n",
              "      <td>0</td>\n",
              "      <td>98144</td>\n",
              "      <td>47.5941</td>\n",
              "      <td>-122.299</td>\n",
              "      <td>1020</td>\n",
              "      <td>1357</td>\n",
              "    </tr>\n",
              "  </tbody>\n",
              "</table>\n",
              "<p>5 rows × 21 columns</p>\n",
              "</div>"
            ],
            "text/plain": [
              "               id             date     price  bedrooms  bathrooms  \\\n",
              "21608   263000018  20140521T000000  360000.0         3       2.50   \n",
              "21609  6600060120  20150223T000000  400000.0         4       2.50   \n",
              "21610  1523300141  20140623T000000  402101.0         2       0.75   \n",
              "21611   291310100  20150116T000000  400000.0         3       2.50   \n",
              "21612  1523300157  20141015T000000  325000.0         2       0.75   \n",
              "\n",
              "       sqft_living  sqft_lot  floors  waterfront  view  ...  grade  \\\n",
              "21608         1530      1131     3.0           0     0  ...      8   \n",
              "21609         2310      5813     2.0           0     0  ...      8   \n",
              "21610         1020      1350     2.0           0     0  ...      7   \n",
              "21611         1600      2388     2.0           0     0  ...      8   \n",
              "21612         1020      1076     2.0           0     0  ...      7   \n",
              "\n",
              "       sqft_above  sqft_basement  yr_built  yr_renovated  zipcode      lat  \\\n",
              "21608        1530              0      2009             0    98103  47.6993   \n",
              "21609        2310              0      2014             0    98146  47.5107   \n",
              "21610        1020              0      2009             0    98144  47.5944   \n",
              "21611        1600              0      2004             0    98027  47.5345   \n",
              "21612        1020              0      2008             0    98144  47.5941   \n",
              "\n",
              "          long  sqft_living15  sqft_lot15  \n",
              "21608 -122.346           1530        1509  \n",
              "21609 -122.362           1830        7200  \n",
              "21610 -122.299           1020        2007  \n",
              "21611 -122.069           1410        1287  \n",
              "21612 -122.299           1020        1357  \n",
              "\n",
              "[5 rows x 21 columns]"
            ]
          },
          "execution_count": 9,
          "metadata": {},
          "output_type": "execute_result"
        }
      ],
      "source": [
        "housePrices.tail()  # previewing the data from the backwards, this is from the tail !"
      ]
    },
    {
      "cell_type": "code",
      "execution_count": null,
      "metadata": {
        "id": "0LX1k529NShI",
        "outputId": "ebaadf84-b0b9-4026-b950-bb19f7580705"
      },
      "outputs": [
        {
          "data": {
            "text/plain": [
              "21"
            ]
          },
          "execution_count": 10,
          "metadata": {},
          "output_type": "execute_result"
        }
      ],
      "source": [
        "len(housePrices.columns)"
      ]
    },
    {
      "cell_type": "code",
      "execution_count": null,
      "metadata": {
        "id": "QInOZyMSNShI",
        "outputId": "a746229e-7fc3-4806-df94-d16c4054c493"
      },
      "outputs": [
        {
          "data": {
            "text/plain": [
              "id                 int64\n",
              "date              object\n",
              "price            float64\n",
              "bedrooms           int64\n",
              "bathrooms        float64\n",
              "sqft_living        int64\n",
              "sqft_lot           int64\n",
              "floors           float64\n",
              "waterfront         int64\n",
              "view               int64\n",
              "condition          int64\n",
              "grade              int64\n",
              "sqft_above         int64\n",
              "sqft_basement      int64\n",
              "yr_built           int64\n",
              "yr_renovated       int64\n",
              "zipcode            int64\n",
              "lat              float64\n",
              "long             float64\n",
              "sqft_living15      int64\n",
              "sqft_lot15         int64\n",
              "dtype: object"
            ]
          },
          "execution_count": 11,
          "metadata": {},
          "output_type": "execute_result"
        }
      ],
      "source": [
        "housePrices.dtypes   # Investigation data types is always good !  object type are strings**"
      ]
    },
    {
      "cell_type": "code",
      "execution_count": null,
      "metadata": {
        "id": "Ss1hwLPnNShJ",
        "outputId": "dfa096e9-57bd-44e2-9fc6-ab500e6aaa89"
      },
      "outputs": [
        {
          "name": "stdout",
          "output_type": "stream",
          "text": [
            "<class 'pandas.core.frame.DataFrame'>\n",
            "RangeIndex: 21613 entries, 0 to 21612\n",
            "Data columns (total 21 columns):\n",
            " #   Column         Non-Null Count  Dtype  \n",
            "---  ------         --------------  -----  \n",
            " 0   id             21613 non-null  int64  \n",
            " 1   date           21613 non-null  object \n",
            " 2   price          21613 non-null  float64\n",
            " 3   bedrooms       21613 non-null  int64  \n",
            " 4   bathrooms      21613 non-null  float64\n",
            " 5   sqft_living    21613 non-null  int64  \n",
            " 6   sqft_lot       21613 non-null  int64  \n",
            " 7   floors         21613 non-null  float64\n",
            " 8   waterfront     21613 non-null  int64  \n",
            " 9   view           21613 non-null  int64  \n",
            " 10  condition      21613 non-null  int64  \n",
            " 11  grade          21613 non-null  int64  \n",
            " 12  sqft_above     21613 non-null  int64  \n",
            " 13  sqft_basement  21613 non-null  int64  \n",
            " 14  yr_built       21613 non-null  int64  \n",
            " 15  yr_renovated   21613 non-null  int64  \n",
            " 16  zipcode        21613 non-null  int64  \n",
            " 17  lat            21613 non-null  float64\n",
            " 18  long           21613 non-null  float64\n",
            " 19  sqft_living15  21613 non-null  int64  \n",
            " 20  sqft_lot15     21613 non-null  int64  \n",
            "dtypes: float64(5), int64(15), object(1)\n",
            "memory usage: 3.5+ MB\n"
          ]
        }
      ],
      "source": [
        "housePrices.info()"
      ]
    },
    {
      "cell_type": "markdown",
      "metadata": {
        "id": "X0Qqqa01NShJ"
      },
      "source": [
        "Which features contain blank, null or empty values?\n",
        "\n",
        "We can check for missing values with pandas isnull(). This indicates whether values are missing or not. Then we can sum all the values to check every column."
      ]
    },
    {
      "cell_type": "code",
      "execution_count": null,
      "metadata": {
        "id": "1vFCJfyoNShJ",
        "outputId": "76bdd757-22d8-4d8c-b1b7-c5cb089b6170"
      },
      "outputs": [
        {
          "data": {
            "text/plain": [
              "id               0\n",
              "date             0\n",
              "price            0\n",
              "bedrooms         0\n",
              "bathrooms        0\n",
              "sqft_living      0\n",
              "sqft_lot         0\n",
              "floors           0\n",
              "waterfront       0\n",
              "view             0\n",
              "condition        0\n",
              "grade            0\n",
              "sqft_above       0\n",
              "sqft_basement    0\n",
              "yr_built         0\n",
              "yr_renovated     0\n",
              "zipcode          0\n",
              "lat              0\n",
              "long             0\n",
              "sqft_living15    0\n",
              "sqft_lot15       0\n",
              "dtype: int64"
            ]
          },
          "execution_count": 13,
          "metadata": {},
          "output_type": "execute_result"
        }
      ],
      "source": [
        "# Number of null values per feature\n",
        "housePrices.isnull().sum()"
      ]
    },
    {
      "cell_type": "markdown",
      "metadata": {
        "id": "yeB_Opy2NShJ"
      },
      "source": [
        "What is the distribution of numerical feature values across the samples?"
      ]
    },
    {
      "cell_type": "code",
      "execution_count": null,
      "metadata": {
        "id": "F32M_4_WNShK",
        "outputId": "8981f066-0b07-4c10-a485-b9faf7c02ba3"
      },
      "outputs": [
        {
          "data": {
            "text/html": [
              "<div>\n",
              "<style scoped>\n",
              "    .dataframe tbody tr th:only-of-type {\n",
              "        vertical-align: middle;\n",
              "    }\n",
              "\n",
              "    .dataframe tbody tr th {\n",
              "        vertical-align: top;\n",
              "    }\n",
              "\n",
              "    .dataframe thead th {\n",
              "        text-align: right;\n",
              "    }\n",
              "</style>\n",
              "<table border=\"1\" class=\"dataframe\">\n",
              "  <thead>\n",
              "    <tr style=\"text-align: right;\">\n",
              "      <th></th>\n",
              "      <th>count</th>\n",
              "      <th>mean</th>\n",
              "      <th>std</th>\n",
              "      <th>min</th>\n",
              "      <th>25%</th>\n",
              "      <th>50%</th>\n",
              "      <th>75%</th>\n",
              "      <th>max</th>\n",
              "    </tr>\n",
              "  </thead>\n",
              "  <tbody>\n",
              "    <tr>\n",
              "      <th>id</th>\n",
              "      <td>21613.0</td>\n",
              "      <td>4.580302e+09</td>\n",
              "      <td>2.876566e+09</td>\n",
              "      <td>1.000102e+06</td>\n",
              "      <td>2.123049e+09</td>\n",
              "      <td>3.904930e+09</td>\n",
              "      <td>7.308900e+09</td>\n",
              "      <td>9.900000e+09</td>\n",
              "    </tr>\n",
              "    <tr>\n",
              "      <th>price</th>\n",
              "      <td>21613.0</td>\n",
              "      <td>5.400881e+05</td>\n",
              "      <td>3.671272e+05</td>\n",
              "      <td>7.500000e+04</td>\n",
              "      <td>3.219500e+05</td>\n",
              "      <td>4.500000e+05</td>\n",
              "      <td>6.450000e+05</td>\n",
              "      <td>7.700000e+06</td>\n",
              "    </tr>\n",
              "    <tr>\n",
              "      <th>bedrooms</th>\n",
              "      <td>21613.0</td>\n",
              "      <td>3.370842e+00</td>\n",
              "      <td>9.300618e-01</td>\n",
              "      <td>0.000000e+00</td>\n",
              "      <td>3.000000e+00</td>\n",
              "      <td>3.000000e+00</td>\n",
              "      <td>4.000000e+00</td>\n",
              "      <td>3.300000e+01</td>\n",
              "    </tr>\n",
              "    <tr>\n",
              "      <th>bathrooms</th>\n",
              "      <td>21613.0</td>\n",
              "      <td>2.114757e+00</td>\n",
              "      <td>7.701632e-01</td>\n",
              "      <td>0.000000e+00</td>\n",
              "      <td>1.750000e+00</td>\n",
              "      <td>2.250000e+00</td>\n",
              "      <td>2.500000e+00</td>\n",
              "      <td>8.000000e+00</td>\n",
              "    </tr>\n",
              "    <tr>\n",
              "      <th>sqft_living</th>\n",
              "      <td>21613.0</td>\n",
              "      <td>2.079900e+03</td>\n",
              "      <td>9.184409e+02</td>\n",
              "      <td>2.900000e+02</td>\n",
              "      <td>1.427000e+03</td>\n",
              "      <td>1.910000e+03</td>\n",
              "      <td>2.550000e+03</td>\n",
              "      <td>1.354000e+04</td>\n",
              "    </tr>\n",
              "    <tr>\n",
              "      <th>sqft_lot</th>\n",
              "      <td>21613.0</td>\n",
              "      <td>1.510697e+04</td>\n",
              "      <td>4.142051e+04</td>\n",
              "      <td>5.200000e+02</td>\n",
              "      <td>5.040000e+03</td>\n",
              "      <td>7.618000e+03</td>\n",
              "      <td>1.068800e+04</td>\n",
              "      <td>1.651359e+06</td>\n",
              "    </tr>\n",
              "    <tr>\n",
              "      <th>floors</th>\n",
              "      <td>21613.0</td>\n",
              "      <td>1.494309e+00</td>\n",
              "      <td>5.399889e-01</td>\n",
              "      <td>1.000000e+00</td>\n",
              "      <td>1.000000e+00</td>\n",
              "      <td>1.500000e+00</td>\n",
              "      <td>2.000000e+00</td>\n",
              "      <td>3.500000e+00</td>\n",
              "    </tr>\n",
              "    <tr>\n",
              "      <th>waterfront</th>\n",
              "      <td>21613.0</td>\n",
              "      <td>7.541757e-03</td>\n",
              "      <td>8.651720e-02</td>\n",
              "      <td>0.000000e+00</td>\n",
              "      <td>0.000000e+00</td>\n",
              "      <td>0.000000e+00</td>\n",
              "      <td>0.000000e+00</td>\n",
              "      <td>1.000000e+00</td>\n",
              "    </tr>\n",
              "    <tr>\n",
              "      <th>view</th>\n",
              "      <td>21613.0</td>\n",
              "      <td>2.343034e-01</td>\n",
              "      <td>7.663176e-01</td>\n",
              "      <td>0.000000e+00</td>\n",
              "      <td>0.000000e+00</td>\n",
              "      <td>0.000000e+00</td>\n",
              "      <td>0.000000e+00</td>\n",
              "      <td>4.000000e+00</td>\n",
              "    </tr>\n",
              "    <tr>\n",
              "      <th>condition</th>\n",
              "      <td>21613.0</td>\n",
              "      <td>3.409430e+00</td>\n",
              "      <td>6.507430e-01</td>\n",
              "      <td>1.000000e+00</td>\n",
              "      <td>3.000000e+00</td>\n",
              "      <td>3.000000e+00</td>\n",
              "      <td>4.000000e+00</td>\n",
              "      <td>5.000000e+00</td>\n",
              "    </tr>\n",
              "    <tr>\n",
              "      <th>grade</th>\n",
              "      <td>21613.0</td>\n",
              "      <td>7.656873e+00</td>\n",
              "      <td>1.175459e+00</td>\n",
              "      <td>1.000000e+00</td>\n",
              "      <td>7.000000e+00</td>\n",
              "      <td>7.000000e+00</td>\n",
              "      <td>8.000000e+00</td>\n",
              "      <td>1.300000e+01</td>\n",
              "    </tr>\n",
              "    <tr>\n",
              "      <th>sqft_above</th>\n",
              "      <td>21613.0</td>\n",
              "      <td>1.788391e+03</td>\n",
              "      <td>8.280910e+02</td>\n",
              "      <td>2.900000e+02</td>\n",
              "      <td>1.190000e+03</td>\n",
              "      <td>1.560000e+03</td>\n",
              "      <td>2.210000e+03</td>\n",
              "      <td>9.410000e+03</td>\n",
              "    </tr>\n",
              "    <tr>\n",
              "      <th>sqft_basement</th>\n",
              "      <td>21613.0</td>\n",
              "      <td>2.915090e+02</td>\n",
              "      <td>4.425750e+02</td>\n",
              "      <td>0.000000e+00</td>\n",
              "      <td>0.000000e+00</td>\n",
              "      <td>0.000000e+00</td>\n",
              "      <td>5.600000e+02</td>\n",
              "      <td>4.820000e+03</td>\n",
              "    </tr>\n",
              "    <tr>\n",
              "      <th>yr_built</th>\n",
              "      <td>21613.0</td>\n",
              "      <td>1.971005e+03</td>\n",
              "      <td>2.937341e+01</td>\n",
              "      <td>1.900000e+03</td>\n",
              "      <td>1.951000e+03</td>\n",
              "      <td>1.975000e+03</td>\n",
              "      <td>1.997000e+03</td>\n",
              "      <td>2.015000e+03</td>\n",
              "    </tr>\n",
              "    <tr>\n",
              "      <th>yr_renovated</th>\n",
              "      <td>21613.0</td>\n",
              "      <td>8.440226e+01</td>\n",
              "      <td>4.016792e+02</td>\n",
              "      <td>0.000000e+00</td>\n",
              "      <td>0.000000e+00</td>\n",
              "      <td>0.000000e+00</td>\n",
              "      <td>0.000000e+00</td>\n",
              "      <td>2.015000e+03</td>\n",
              "    </tr>\n",
              "    <tr>\n",
              "      <th>zipcode</th>\n",
              "      <td>21613.0</td>\n",
              "      <td>9.807794e+04</td>\n",
              "      <td>5.350503e+01</td>\n",
              "      <td>9.800100e+04</td>\n",
              "      <td>9.803300e+04</td>\n",
              "      <td>9.806500e+04</td>\n",
              "      <td>9.811800e+04</td>\n",
              "      <td>9.819900e+04</td>\n",
              "    </tr>\n",
              "    <tr>\n",
              "      <th>lat</th>\n",
              "      <td>21613.0</td>\n",
              "      <td>4.756005e+01</td>\n",
              "      <td>1.385637e-01</td>\n",
              "      <td>4.715590e+01</td>\n",
              "      <td>4.747100e+01</td>\n",
              "      <td>4.757180e+01</td>\n",
              "      <td>4.767800e+01</td>\n",
              "      <td>4.777760e+01</td>\n",
              "    </tr>\n",
              "    <tr>\n",
              "      <th>long</th>\n",
              "      <td>21613.0</td>\n",
              "      <td>-1.222139e+02</td>\n",
              "      <td>1.408283e-01</td>\n",
              "      <td>-1.225190e+02</td>\n",
              "      <td>-1.223280e+02</td>\n",
              "      <td>-1.222300e+02</td>\n",
              "      <td>-1.221250e+02</td>\n",
              "      <td>-1.213150e+02</td>\n",
              "    </tr>\n",
              "    <tr>\n",
              "      <th>sqft_living15</th>\n",
              "      <td>21613.0</td>\n",
              "      <td>1.986552e+03</td>\n",
              "      <td>6.853913e+02</td>\n",
              "      <td>3.990000e+02</td>\n",
              "      <td>1.490000e+03</td>\n",
              "      <td>1.840000e+03</td>\n",
              "      <td>2.360000e+03</td>\n",
              "      <td>6.210000e+03</td>\n",
              "    </tr>\n",
              "    <tr>\n",
              "      <th>sqft_lot15</th>\n",
              "      <td>21613.0</td>\n",
              "      <td>1.276846e+04</td>\n",
              "      <td>2.730418e+04</td>\n",
              "      <td>6.510000e+02</td>\n",
              "      <td>5.100000e+03</td>\n",
              "      <td>7.620000e+03</td>\n",
              "      <td>1.008300e+04</td>\n",
              "      <td>8.712000e+05</td>\n",
              "    </tr>\n",
              "  </tbody>\n",
              "</table>\n",
              "</div>"
            ],
            "text/plain": [
              "                 count          mean           std           min  \\\n",
              "id             21613.0  4.580302e+09  2.876566e+09  1.000102e+06   \n",
              "price          21613.0  5.400881e+05  3.671272e+05  7.500000e+04   \n",
              "bedrooms       21613.0  3.370842e+00  9.300618e-01  0.000000e+00   \n",
              "bathrooms      21613.0  2.114757e+00  7.701632e-01  0.000000e+00   \n",
              "sqft_living    21613.0  2.079900e+03  9.184409e+02  2.900000e+02   \n",
              "sqft_lot       21613.0  1.510697e+04  4.142051e+04  5.200000e+02   \n",
              "floors         21613.0  1.494309e+00  5.399889e-01  1.000000e+00   \n",
              "waterfront     21613.0  7.541757e-03  8.651720e-02  0.000000e+00   \n",
              "view           21613.0  2.343034e-01  7.663176e-01  0.000000e+00   \n",
              "condition      21613.0  3.409430e+00  6.507430e-01  1.000000e+00   \n",
              "grade          21613.0  7.656873e+00  1.175459e+00  1.000000e+00   \n",
              "sqft_above     21613.0  1.788391e+03  8.280910e+02  2.900000e+02   \n",
              "sqft_basement  21613.0  2.915090e+02  4.425750e+02  0.000000e+00   \n",
              "yr_built       21613.0  1.971005e+03  2.937341e+01  1.900000e+03   \n",
              "yr_renovated   21613.0  8.440226e+01  4.016792e+02  0.000000e+00   \n",
              "zipcode        21613.0  9.807794e+04  5.350503e+01  9.800100e+04   \n",
              "lat            21613.0  4.756005e+01  1.385637e-01  4.715590e+01   \n",
              "long           21613.0 -1.222139e+02  1.408283e-01 -1.225190e+02   \n",
              "sqft_living15  21613.0  1.986552e+03  6.853913e+02  3.990000e+02   \n",
              "sqft_lot15     21613.0  1.276846e+04  2.730418e+04  6.510000e+02   \n",
              "\n",
              "                        25%           50%           75%           max  \n",
              "id             2.123049e+09  3.904930e+09  7.308900e+09  9.900000e+09  \n",
              "price          3.219500e+05  4.500000e+05  6.450000e+05  7.700000e+06  \n",
              "bedrooms       3.000000e+00  3.000000e+00  4.000000e+00  3.300000e+01  \n",
              "bathrooms      1.750000e+00  2.250000e+00  2.500000e+00  8.000000e+00  \n",
              "sqft_living    1.427000e+03  1.910000e+03  2.550000e+03  1.354000e+04  \n",
              "sqft_lot       5.040000e+03  7.618000e+03  1.068800e+04  1.651359e+06  \n",
              "floors         1.000000e+00  1.500000e+00  2.000000e+00  3.500000e+00  \n",
              "waterfront     0.000000e+00  0.000000e+00  0.000000e+00  1.000000e+00  \n",
              "view           0.000000e+00  0.000000e+00  0.000000e+00  4.000000e+00  \n",
              "condition      3.000000e+00  3.000000e+00  4.000000e+00  5.000000e+00  \n",
              "grade          7.000000e+00  7.000000e+00  8.000000e+00  1.300000e+01  \n",
              "sqft_above     1.190000e+03  1.560000e+03  2.210000e+03  9.410000e+03  \n",
              "sqft_basement  0.000000e+00  0.000000e+00  5.600000e+02  4.820000e+03  \n",
              "yr_built       1.951000e+03  1.975000e+03  1.997000e+03  2.015000e+03  \n",
              "yr_renovated   0.000000e+00  0.000000e+00  0.000000e+00  2.015000e+03  \n",
              "zipcode        9.803300e+04  9.806500e+04  9.811800e+04  9.819900e+04  \n",
              "lat            4.747100e+01  4.757180e+01  4.767800e+01  4.777760e+01  \n",
              "long          -1.223280e+02 -1.222300e+02 -1.221250e+02 -1.213150e+02  \n",
              "sqft_living15  1.490000e+03  1.840000e+03  2.360000e+03  6.210000e+03  \n",
              "sqft_lot15     5.100000e+03  7.620000e+03  1.008300e+04  8.712000e+05  "
            ]
          },
          "execution_count": 14,
          "metadata": {},
          "output_type": "execute_result"
        }
      ],
      "source": [
        "housePrices.describe().transpose()"
      ]
    },
    {
      "cell_type": "markdown",
      "metadata": {
        "id": "gRjsR7DnNShK"
      },
      "source": [
        "__Correlating__\n",
        "\n",
        "We want to know how well does each feature correlate with Price. We want to do this early in our project and match these quick correlations with modelled correlations later in the project."
      ]
    },
    {
      "cell_type": "markdown",
      "metadata": {
        "id": "7898YPbENShK"
      },
      "source": [
        "__Completing__\n",
        "\n",
        "Since there are no missing values we do not need to complete any values."
      ]
    },
    {
      "cell_type": "markdown",
      "metadata": {
        "id": "iHjE11HINShK"
      },
      "source": [
        "__Correcting__\n",
        "\n",
        "Id feature may be dropped from our analysis since it does not add value. Date feature may be dropped since we are going to do feature engineering and make a year and month column. Zipcode feature is a special case, we could use it, but since we do not know exactly the zones of King County we are just going to drop it. Treat strings as categories. Although Zip code is numeric, we cannot treat it as a number in the model, it may be converted to a string."
      ]
    },
    {
      "cell_type": "markdown",
      "metadata": {
        "id": "Tl2B04aANShK"
      },
      "source": [
        "__Creating__\n",
        "\n",
        "We may want to create a new feature called Year based on Date to analyze the price change throughout the years. We may want to create a new feature called Month based on Date to analyze the price change throughout the months."
      ]
    },
    {
      "cell_type": "markdown",
      "metadata": {
        "id": "fWj9EnKqNShL"
      },
      "source": [
        "Analyze by visualizing data == __Pearson correlation matrix__\n",
        "\n",
        "coefficient to examine the strength and direction of the linear relationship between two continuous variables.\n",
        "\n",
        "The correlation coefficient can range in value from −1 to +1. The larger the absolute value of the coefficient, the stronger the relationship between the variables. For the Pearson correlation, an absolute value of 1 indicates a perfect linear relationship. A correlation close to 0 indicates no linear relationship between the variables.\n",
        "\n",
        "The sign of the coefficient indicates the direction of the relationship. If both variables tend to increase or decrease together, the coefficient is positive, and the line that represents the correlation slopes upward. If one variable tends to increase as the other decreases, the coefficient is negative, and the line that represents the correlation slopes downward."
      ]
    },
    {
      "cell_type": "code",
      "execution_count": null,
      "metadata": {
        "id": "K_2bNploNShL",
        "outputId": "0e00b0a7-f6a5-4efb-c635-480d6ed3ef47"
      },
      "outputs": [
        {
          "name": "stdout",
          "output_type": "stream",
          "text": [
            "Collecting seaborn\n",
            "  Downloading seaborn-0.11.2-py3-none-any.whl (292 kB)\n",
            "     -------------------------------------- 292.8/292.8 kB 1.2 MB/s eta 0:00:00\n",
            "Requirement already satisfied: pandas>=0.23 in c:\\users\\jhon\\miniconda3\\lib\\site-packages (from seaborn) (1.4.3)\n",
            "Requirement already satisfied: scipy>=1.0 in c:\\users\\jhon\\miniconda3\\lib\\site-packages (from seaborn) (1.7.3)\n",
            "Requirement already satisfied: numpy>=1.15 in c:\\users\\jhon\\miniconda3\\lib\\site-packages (from seaborn) (1.23.1)\n",
            "Requirement already satisfied: matplotlib>=2.2 in c:\\users\\jhon\\miniconda3\\lib\\site-packages (from seaborn) (3.5.2)\n",
            "Requirement already satisfied: python-dateutil>=2.7 in c:\\users\\jhon\\miniconda3\\lib\\site-packages (from matplotlib>=2.2->seaborn) (2.8.2)\n",
            "Requirement already satisfied: kiwisolver>=1.0.1 in c:\\users\\jhon\\miniconda3\\lib\\site-packages (from matplotlib>=2.2->seaborn) (1.4.4)\n",
            "Requirement already satisfied: pyparsing>=2.2.1 in c:\\users\\jhon\\miniconda3\\lib\\site-packages (from matplotlib>=2.2->seaborn) (3.0.9)\n",
            "Requirement already satisfied: cycler>=0.10 in c:\\users\\jhon\\miniconda3\\lib\\site-packages (from matplotlib>=2.2->seaborn) (0.11.0)\n",
            "Requirement already satisfied: pillow>=6.2.0 in c:\\users\\jhon\\miniconda3\\lib\\site-packages (from matplotlib>=2.2->seaborn) (9.2.0)\n",
            "Requirement already satisfied: fonttools>=4.22.0 in c:\\users\\jhon\\miniconda3\\lib\\site-packages (from matplotlib>=2.2->seaborn) (4.34.4)\n",
            "Requirement already satisfied: packaging>=20.0 in c:\\users\\jhon\\miniconda3\\lib\\site-packages (from matplotlib>=2.2->seaborn) (21.3)\n",
            "Requirement already satisfied: pytz>=2020.1 in c:\\users\\jhon\\miniconda3\\lib\\site-packages (from pandas>=0.23->seaborn) (2022.1)\n",
            "Collecting numpy>=1.15\n",
            "  Downloading numpy-1.22.4-cp39-cp39-win_amd64.whl (14.7 MB)\n",
            "     ---------------------------------------- 14.7/14.7 MB 1.0 MB/s eta 0:00:00\n",
            "Requirement already satisfied: six>=1.5 in c:\\users\\jhon\\miniconda3\\lib\\site-packages (from python-dateutil>=2.7->matplotlib>=2.2->seaborn) (1.16.0)\n",
            "Installing collected packages: numpy, seaborn\n",
            "  Attempting uninstall: numpy\n",
            "    Found existing installation: numpy 1.23.1\n",
            "    Uninstalling numpy-1.23.1:\n",
            "      Successfully uninstalled numpy-1.23.1\n",
            "Successfully installed numpy-1.23.1 seaborn-0.11.2\n",
            "Note: you may need to restart the kernel to use updated packages.\n"
          ]
        },
        {
          "name": "stderr",
          "output_type": "stream",
          "text": [
            "Error processing line 1 of C:\\Users\\JHON\\miniconda3\\lib\\site-packages\\vision-1.0.0-py3.9-nspkg.pth:\n",
            "\n",
            "  Traceback (most recent call last):\n",
            "    File \"C:\\Users\\JHON\\miniconda3\\lib\\site.py\", line 169, in addpackage\n",
            "      exec(line)\n",
            "    File \"<string>\", line 1, in <module>\n",
            "    File \"<frozen importlib._bootstrap>\", line 562, in module_from_spec\n",
            "  AttributeError: 'NoneType' object has no attribute 'loader'\n",
            "\n",
            "Remainder of file ignored\n",
            "ERROR: pip's dependency resolver does not currently take into account all the packages that are installed. This behaviour is the source of the following dependency conflicts.\n",
            "tensorflow 2.6.0 requires clang~=5.0, which is not installed.\n",
            "tensorflow 2.6.0 requires absl-py~=0.10, but you have absl-py 1.2.0 which is incompatible.\n"
          ]
        }
      ],
      "source": [
        "pip install seaborn"
      ]
    },
    {
      "cell_type": "code",
      "execution_count": null,
      "metadata": {
        "id": "GUsfSuFDNShL",
        "outputId": "ff784357-42bf-4dd6-a1f4-4ed46dd1d30a"
      },
      "outputs": [
        {
          "data": {
            "text/plain": [
              "<AxesSubplot:title={'center':'Pearson Correlation Matrix'}>"
            ]
          },
          "execution_count": 15,
          "metadata": {},
          "output_type": "execute_result"
        },
        {
          "data": {
            "image/png": "[encoded data removed]",
            "text/plain": [
              "<Figure size 936x936 with 2 Axes>"
            ]
          },
          "metadata": {},
          "output_type": "display_data"
        }
      ],
      "source": [
        "# visualization\n",
        "import seaborn as sns\n",
        "import matplotlib.pyplot as plt\n",
        "%matplotlib inline\n",
        "\n",
        "sns.set(style=\"whitegrid\", font_scale=1)\n",
        "\n",
        "plt.figure(figsize=(13,13))\n",
        "plt.title('Pearson Correlation Matrix',fontsize=25)\n",
        "sns.heatmap(housePrices.corr(),linewidths=0.25,vmax=0.7,square=True,cmap=\"GnBu\",linecolor='w',\n",
        "            annot=True, annot_kws={\"size\":7}, cbar_kws={\"shrink\": .7})"
      ]
    },
    {
      "cell_type": "markdown",
      "metadata": {
        "id": "j_F5wu3JNShL"
      },
      "source": [
        "Which features are more correlated to the price?\n",
        "\n",
        "This allow us to explore labels that are highly correlated to the price.\n",
        "sqft_living looks like a highly correlated label to the price, as well as grade, sqft_above, sqft_living15 and bathrooms."
      ]
    },
    {
      "cell_type": "code",
      "execution_count": null,
      "metadata": {
        "id": "h2tZDrQUNShL",
        "outputId": "7fc8c272-0b07-42df-f288-b6df5933fae3"
      },
      "outputs": [
        {
          "name": "stdout",
          "output_type": "stream",
          "text": [
            "price            1.000000\n",
            "sqft_living      0.702035\n",
            "grade            0.667434\n",
            "sqft_above       0.605567\n",
            "sqft_living15    0.585379\n",
            "bathrooms        0.525138\n",
            "view             0.397293\n",
            "sqft_basement    0.323816\n",
            "bedrooms         0.308350\n",
            "lat              0.307003\n",
            "waterfront       0.266369\n",
            "floors           0.256794\n",
            "yr_renovated     0.126434\n",
            "sqft_lot         0.089661\n",
            "sqft_lot15       0.082447\n",
            "yr_built         0.054012\n",
            "condition        0.036362\n",
            "long             0.021626\n",
            "id              -0.016762\n",
            "zipcode         -0.053203\n",
            "Name: price, dtype: float64\n"
          ]
        }
      ],
      "source": [
        "price_corr = housePrices.corr()['price'].sort_values(ascending=False)\n",
        "print(price_corr)"
      ]
    },
    {
      "cell_type": "markdown",
      "metadata": {
        "id": "sZ6c9RQNNShM"
      },
      "source": [
        "__Price feature__\n",
        "\n",
        "Most of the house prices are between 0 and 1,500,000.\n",
        "\n",
        "The average house price is $540,000.\n",
        "\n",
        "Keep in mind that it may be a good idea to drop extreme values. For instance, we could focus on house from 0 to $3,000,000 and \n",
        "drop the other ones.\n",
        "\n",
        "It seems that there is a positive linear relationship between the price and sqft_living.\n",
        "\n",
        "An increase in living space generally corresponds to an increase in house price."
      ]
    },
    {
      "cell_type": "code",
      "execution_count": null,
      "metadata": {
        "id": "waaY-nOBNShM",
        "outputId": "90c1f669-b386-43e9-8cd9-f1e2148127d9"
      },
      "outputs": [
        {
          "name": "stderr",
          "output_type": "stream",
          "text": [
            "C:\\Users\\JHON\\miniconda3\\lib\\site-packages\\seaborn\\distributions.py:2619: FutureWarning: `distplot` is a deprecated function and will be removed in a future version. Please adapt your code to use either `displot` (a figure-level function with similar flexibility) or `histplot` (an axes-level function for histograms).\n",
            "  warnings.warn(msg, FutureWarning)\n"
          ]
        },
        {
          "data": {
            "image/png": "[encoded data removed]",
            "text/plain": [
              "<Figure size 1080x360 with 2 Axes>"
            ]
          },
          "metadata": {},
          "output_type": "display_data"
        }
      ],
      "source": [
        "f, axes = plt.subplots(1, 2,figsize=(15,5))\n",
        "sns.distplot(housePrices['price'], ax=axes[0])\n",
        "sns.scatterplot(x='price',y='sqft_living', data=housePrices, ax=axes[1])\n",
        "sns.despine(bottom=True, left=True)\n",
        "axes[0].set(xlabel='Price in millions [USD]', ylabel='', title='Price Distribuition')\n",
        "axes[1].set(xlabel='Price', ylabel='Sqft Living', title='Price vs Sqft Living')\n",
        "axes[1].yaxis.set_label_position(\"right\")\n",
        "axes[1].yaxis.tick_right()"
      ]
    },
    {
      "cell_type": "markdown",
      "metadata": {
        "id": "HGsamPcHNShM"
      },
      "source": [
        "__Bedrooms and floors box plots__\n",
        "\n",
        "Box plot is a method for graphically depicting groups of numerical data through their quartiles. Box plots may also have lines extending from the boxes (whiskers) indicating variability outside the upper and lower quartiles, hence the terms box-and-whisker plot. Outliers may be plotted as individual points. The spacings between the different parts of the box indicate the degree of dispersion (spread).\n",
        "\n",
        "We can see outliers plotted as individual points; this probably are the more expensive houses.\n",
        "We can see that the price tends to go up when the house has more bedrooms."
      ]
    },
    {
      "cell_type": "code",
      "execution_count": null,
      "metadata": {
        "id": "hZ7-Sa7yNShM",
        "outputId": "2df8a1d4-0de6-4cc5-e755-89bf91d0ec5e"
      },
      "outputs": [
        {
          "data": {
            "text/plain": [
              "[Text(0.5, 0, 'Floors'),\n",
              " Text(0, 0.5, 'Price'),\n",
              " Text(0.5, 1.0, 'Floors vs Price Box Plot')]"
            ]
          },
          "execution_count": 18,
          "metadata": {},
          "output_type": "execute_result"
        },
        {
          "data": {
            "image/png": "[encoded data removed]",
            "text/plain": [
              "<Figure size 1080x360 with 2 Axes>"
            ]
          },
          "metadata": {},
          "output_type": "display_data"
        }
      ],
      "source": [
        "sns.set(style=\"whitegrid\", font_scale=1)\n",
        "\n",
        "f, axes = plt.subplots(1, 2,figsize=(15,5))\n",
        "sns.boxplot(x=housePrices['bedrooms'],y=housePrices['price'], ax=axes[0])\n",
        "sns.boxplot(x=housePrices['floors'],y=housePrices['price'], ax=axes[1])\n",
        "sns.despine(bottom=True, left=True)\n",
        "axes[0].set(xlabel='Bedrooms', ylabel='Price', title='Bedrooms vs Price Box Plot')\n",
        "axes[1].set(xlabel='Floors', ylabel='Price', title='Floors vs Price Box Plot')"
      ]
    },
    {
      "cell_type": "markdown",
      "metadata": {
        "id": "Ucnaf0leNShN"
      },
      "source": [
        "__Waterfront, view and grade box plots__\n",
        "\n",
        "Waterfront houses tends to have a better price value.\n",
        "The price of waterfront houses tends to be more disperse and the price of houses without waterfront tend to be more concentrated.\n",
        "Grade and waterfront effect price. View seem to effect less but it also has an effect on price."
      ]
    },
    {
      "cell_type": "code",
      "execution_count": null,
      "metadata": {
        "id": "mEuz1d5rNShN",
        "outputId": "9383f269-4806-4a98-c1cb-756aba93f074"
      },
      "outputs": [
        {
          "data": {
            "text/plain": [
              "[Text(0.5, 0, 'Grade'),\n",
              " Text(0, 0.5, 'Price'),\n",
              " Text(0.5, 1.0, 'Grade vs Price Box Plot')]"
            ]
          },
          "execution_count": 19,
          "metadata": {},
          "output_type": "execute_result"
        },
        {
          "data": {
            "image/png": "[encoded data removed]",
            "text/plain": [
              "<Figure size 1080x360 with 2 Axes>"
            ]
          },
          "metadata": {},
          "output_type": "display_data"
        },
        {
          "data": {
            "image/png": "[encoded data removed]",
            "text/plain": [
              "<Figure size 1080x360 with 1 Axes>"
            ]
          },
          "metadata": {},
          "output_type": "display_data"
        }
      ],
      "source": [
        "f, axes = plt.subplots(1, 2,figsize=(15,5))\n",
        "sns.boxplot(x=housePrices['waterfront'],y=housePrices['price'], ax=axes[0])\n",
        "sns.boxplot(x=housePrices['view'],y=housePrices['price'], ax=axes[1])\n",
        "sns.despine(left=True, bottom=True)\n",
        "axes[0].set(xlabel='Waterfront', ylabel='Price', title='Waterfront vs Price Box Plot')\n",
        "axes[1].set(xlabel='View', ylabel='Price', title='View vs Price Box Plot')\n",
        "\n",
        "f, axe = plt.subplots(1, 1,figsize=(15,5))\n",
        "sns.boxplot(x=housePrices['grade'],y=housePrices['price'], ax=axe)\n",
        "sns.despine(left=True, bottom=True)\n",
        "axe.set(xlabel='Grade', ylabel='Price', title='Grade vs Price Box Plot')"
      ]
    },
    {
      "cell_type": "markdown",
      "metadata": {
        "id": "IoAMqZLsNShN"
      },
      "source": [
        "__Working with Feature Data = Feature engineering__\n",
        "\n",
        "__Correcting by dropping features__\n",
        "\n",
        "By dropping features, we are dealing with fewer data points. Speeds up our notebook and eases the analysis. Based on our assumptions and decisions we want to drop the Id, zipcode and Date features."
      ]
    },
    {
      "cell_type": "code",
      "execution_count": null,
      "metadata": {
        "id": "DAuQdI2oNShN",
        "outputId": "607fd0e8-371c-4907-db08-aa71f522609d"
      },
      "outputs": [
        {
          "name": "stdout",
          "output_type": "stream",
          "text": [
            "['date' 'price' 'bedrooms' 'bathrooms' 'sqft_living' 'sqft_lot' 'floors'\n",
            " 'waterfront' 'view' 'condition' 'grade' 'sqft_above' 'sqft_basement'\n",
            " 'yr_built' 'yr_renovated' 'lat' 'long' 'sqft_living15' 'sqft_lot15']\n"
          ]
        }
      ],
      "source": [
        "\n",
        "housePrices = housePrices.drop('id',axis=1)\n",
        "housePrices = housePrices.drop('zipcode',axis=1)\n",
        "print(housePrices.columns.values)\n"
      ]
    },
    {
      "cell_type": "markdown",
      "metadata": {
        "id": "MsIZiWL5NShN"
      },
      "source": [
        "We want to engineer the date feature to make a year and month column. The feature date is as a string. With pd.to_datetime we can convert an argument to datetime."
      ]
    },
    {
      "cell_type": "code",
      "execution_count": null,
      "metadata": {
        "id": "ijsdjBzRNShO",
        "outputId": "c836aaef-f500-4f45-a0a8-c160f2136e56"
      },
      "outputs": [
        {
          "name": "stdout",
          "output_type": "stream",
          "text": [
            "['price' 'bedrooms' 'bathrooms' 'sqft_living' 'sqft_lot' 'floors'\n",
            " 'waterfront' 'view' 'condition' 'grade' 'sqft_above' 'sqft_basement'\n",
            " 'yr_built' 'yr_renovated' 'lat' 'long' 'sqft_living15' 'sqft_lot15'\n",
            " 'month' 'year']\n"
          ]
        }
      ],
      "source": [
        "housePrices['date'] = pd.to_datetime(housePrices['date'])\n",
        "\n",
        "housePrices['month'] = housePrices['date'].apply(lambda date:date.month)\n",
        "housePrices['year'] = housePrices['date'].apply(lambda date:date.year)\n",
        "\n",
        "housePrices = housePrices.drop('date',axis=1)\n",
        "\n",
        "# Check the new columns\n",
        "print(housePrices.columns.values)"
      ]
    },
    {
      "cell_type": "markdown",
      "metadata": {
        "id": "Wgy7VNj0NShO"
      },
      "source": [
        "__House price trends, Price vs month, vs year__\n",
        "\n",
        "Looking the box plots we notice that there is not a big difference between 2014 and 2015.\n",
        "The number of houses sold by month tends to be similar every month.\n",
        "The line plot show that around April there is an increase in house prices."
      ]
    },
    {
      "cell_type": "code",
      "execution_count": null,
      "metadata": {
        "id": "AAI4JrMuNShO",
        "outputId": "065dd46a-37aa-4a56-87c0-530ba8b66f69"
      },
      "outputs": [
        {
          "data": {
            "text/plain": [
              "[Text(0.5, 0, 'Month'), Text(0, 0.5, 'Price'), Text(0.5, 1.0, 'Price Trends')]"
            ]
          },
          "execution_count": 41,
          "metadata": {},
          "output_type": "execute_result"
        },
        {
          "data": {
            "image/png": "[encoded data removed]",
            "text/plain": [
              "<Figure size 1080x360 with 2 Axes>"
            ]
          },
          "metadata": {},
          "output_type": "display_data"
        },
        {
          "data": {
            "image/png": "[encoded data removed]",
            "text/plain": [
              "<Figure size 1080x360 with 1 Axes>"
            ]
          },
          "metadata": {},
          "output_type": "display_data"
        }
      ],
      "source": [
        "f, axes = plt.subplots(1, 2,figsize=(15,5))\n",
        "sns.boxplot(x='year',y='price',data=housePrices, ax=axes[0])\n",
        "sns.boxplot(x='month',y='price',data=housePrices, ax=axes[1])\n",
        "sns.despine(left=True, bottom=True)\n",
        "axes[0].set(xlabel='Year', ylabel='Price', title='Price by Year Box Plot')\n",
        "axes[1].set(xlabel='Month', ylabel='Price', title='Price by Month Box Plot')\n",
        "\n",
        "f, axe = plt.subplots(1, 1,figsize=(15,5))\n",
        "housePrices.groupby('month').mean()['price'].plot()\n",
        "sns.despine(left=True, bottom=True)\n",
        "axe.set(xlabel='Month', ylabel='Price', title='Price Trends')"
      ]
    },
    {
      "cell_type": "markdown",
      "metadata": {
        "id": "TRLqyj5BNShO"
      },
      "source": [
        "__Splitting data into training, validation and testing__\n",
        "\n",
        "Instead of a class, Regression problems are measured by a `mean squared error or \"MSE\"`"
      ]
    },
    {
      "cell_type": "markdown",
      "metadata": {
        "id": "EeXIcFVONShO"
      },
      "source": [
        "Again, in supervised learning, we are training our model with a given dataset of examples f(X) = y, where X are a set of variables, y is the value to predict and f is the DNN !"
      ]
    },
    {
      "cell_type": "code",
      "execution_count": null,
      "metadata": {
        "id": "wBSJB6k-NShP"
      },
      "outputs": [],
      "source": [
        "# Features\n",
        "X = housePrices.drop('price',axis=1)\n",
        "\n",
        "# Label\n",
        "y = housePrices['price']\n",
        "\n",
        "# Split\n",
        "X_train, X_valid, y_train, y_valid = train_test_split(X,y,test_size=0.3,random_state=101)"
      ]
    },
    {
      "cell_type": "code",
      "execution_count": null,
      "metadata": {
        "id": "2K_A1ysYNShP",
        "outputId": "947f767b-12f3-434d-b602-e974ec815221"
      },
      "outputs": [
        {
          "name": "stdout",
          "output_type": "stream",
          "text": [
            "(15129, 19)\n",
            "(6484, 19)\n",
            "(15129,)\n",
            "(6484,)\n"
          ]
        }
      ],
      "source": [
        "print(X_train.shape)\n",
        "print(X_valid.shape)\n",
        "print(y_train.shape)\n",
        "print(y_valid.shape)"
      ]
    },
    {
      "cell_type": "markdown",
      "metadata": {
        "id": "fl3iyvLINShP"
      },
      "source": [
        "__Scaling Data__\n",
        "\n",
        "In Machine Learning, including Deep Learning, Gaussian distributions are the key, so adjusting data to gaussian is kean\n",
        "Even more, having a standard deviation of 1 and median of 0 is ideal.\n",
        "\n",
        "fit_transform(X[, y]): Fit to data, then transform it.\n",
        "transform(X): Scale features of X according to feature_range.\n"
      ]
    },
    {
      "cell_type": "code",
      "execution_count": null,
      "metadata": {
        "id": "yHlPZPRONShP",
        "outputId": "de24e694-4692-48b1-cad1-fd71be14240b"
      },
      "outputs": [
        {
          "name": "stdout",
          "output_type": "stream",
          "text": [
            "Max:  1.0000000000000002\n",
            "Min:  0.0\n"
          ]
        }
      ],
      "source": [
        "# scaling and train test split\n",
        "from sklearn.model_selection import train_test_split\n",
        "from sklearn.preprocessing import MinMaxScaler\n",
        "\n",
        "\n",
        "scaler = MinMaxScaler()\n",
        "\n",
        "# fit and transfrom\n",
        "X_train = scaler.fit_transform(X_train)\n",
        "\n",
        "# transform for avoiding data leakage\n",
        "X_valid = scaler.transform(X_valid)\n",
        "\n",
        "# everything has been scaled between 1 and 0\n",
        "print('Max: ',X_train.max())\n",
        "print('Min: ', X_train.min())"
      ]
    },
    {
      "cell_type": "markdown",
      "metadata": {
        "id": "vGmBkqRbNShP"
      },
      "source": [
        "__Creating a model == The f, the DNN__\n",
        "\n",
        "We estimate the number of neurons (units) from our features. Ex: X_train.shape (15129, 19). The optimizer is asking how you want to perform this gradient descent. In this case we are using the Adam optimizer and the mean square error loss function."
      ]
    },
    {
      "cell_type": "code",
      "execution_count": null,
      "metadata": {
        "id": "x_tH844QNShQ"
      },
      "outputs": [],
      "source": [
        "model = Sequential()\n",
        "\n",
        "# input layer\n",
        "model.add(Dense(19,activation='relu'))\n",
        "\n",
        "# hidden layers\n",
        "model.add(Dense(19,activation='relu'))\n",
        "model.add(Dense(19,activation='relu'))\n",
        "model.add(Dense(19,activation='relu'))\n",
        "\n",
        "# output layer\n",
        "model.add(Dense(1))  # This is the decision layer class or value depending on the need !\n",
        "\n",
        "model.compile(optimizer='adam',loss='mse')"
      ]
    },
    {
      "cell_type": "markdown",
      "metadata": {
        "id": "Pkp4fOfDNShQ"
      },
      "source": [
        "__Training the model, the f, the DNN__\n",
        "\n",
        "Now that the model, architecture, 'stomach' is ready, we can fit the model into the data.\n",
        "\n",
        "Since the dataset is large, we are going to use batch_size. It is typical to use batches of the power of 2 (32, 64, 128, 256...). In this case we are using 128. The smaller the batch size, the longer is going to take.\n"
      ]
    },
    {
      "cell_type": "code",
      "execution_count": null,
      "metadata": {
        "id": "VHmuYrlhNShQ",
        "outputId": "e3f777b4-1925-4e98-f45a-a679253c51ef"
      },
      "outputs": [
        {
          "name": "stdout",
          "output_type": "stream",
          "text": [
            "Epoch 1/400\n",
            "119/119 [==============================] - 2s 5ms/step - loss: 423624998912.0000 - mse: 423624998912.0000 - val_loss: 433004314624.0000 - val_mse: 433004314624.0000\n",
            "Epoch 2/400\n",
            "119/119 [==============================] - 0s 3ms/step - loss: 422595362816.0000 - mse: 422595362816.0000 - val_loss: 429386432512.0000 - val_mse: 429386432512.0000\n",
            "Epoch 3/400\n",
            "119/119 [==============================] - 0s 3ms/step - loss: 408117837824.0000 - mse: 408117837824.0000 - val_loss: 395389337600.0000 - val_mse: 395389337600.0000\n",
            "Epoch 4/400\n",
            "119/119 [==============================] - 0s 3ms/step - loss: 335366291456.0000 - mse: 335366291456.0000 - val_loss: 274284838912.0000 - val_mse: 274284838912.0000\n",
            "Epoch 5/400\n",
            "119/119 [==============================] - 0s 3ms/step - loss: 187984330752.0000 - mse: 187984330752.0000 - val_loss: 129438515200.0000 - val_mse: 129438515200.0000\n",
            "Epoch 6/400\n",
            "119/119 [==============================] - 0s 3ms/step - loss: 105188859904.0000 - mse: 105188859904.0000 - val_loss: 103898415104.0000 - val_mse: 103898415104.0000\n",
            "Epoch 7/400\n",
            "119/119 [==============================] - 0s 3ms/step - loss: 97738825728.0000 - mse: 97738825728.0000 - val_loss: 102091554816.0000 - val_mse: 102091554816.0000\n",
            "Epoch 8/400\n",
            "119/119 [==============================] - 0s 3ms/step - loss: 96241983488.0000 - mse: 96241983488.0000 - val_loss: 100510703616.0000 - val_mse: 100510703616.0000\n",
            "Epoch 9/400\n",
            "119/119 [==============================] - 0s 3ms/step - loss: 94758535168.0000 - mse: 94758535168.0000 - val_loss: 98877497344.0000 - val_mse: 98877497344.0000\n",
            "Epoch 10/400\n",
            "119/119 [==============================] - 0s 3ms/step - loss: 93239107584.0000 - mse: 93239107584.0000 - val_loss: 97215766528.0000 - val_mse: 97215766528.0000\n",
            "Epoch 11/400\n",
            "119/119 [==============================] - 0s 3ms/step - loss: 91709022208.0000 - mse: 91709022208.0000 - val_loss: 95508553728.0000 - val_mse: 95508553728.0000\n",
            "Epoch 12/400\n",
            "119/119 [==============================] - 0s 3ms/step - loss: 90103660544.0000 - mse: 90103660544.0000 - val_loss: 93734428672.0000 - val_mse: 93734428672.0000\n",
            "Epoch 13/400\n",
            "119/119 [==============================] - 0s 3ms/step - loss: 88432787456.0000 - mse: 88432787456.0000 - val_loss: 91925979136.0000 - val_mse: 91925979136.0000\n",
            "Epoch 14/400\n",
            "119/119 [==============================] - 0s 3ms/step - loss: 86679650304.0000 - mse: 86679650304.0000 - val_loss: 89961152512.0000 - val_mse: 89961152512.0000\n",
            "Epoch 15/400\n",
            "119/119 [==============================] - 0s 3ms/step - loss: 84854128640.0000 - mse: 84854128640.0000 - val_loss: 87933263872.0000 - val_mse: 87933263872.0000\n",
            "Epoch 16/400\n",
            "119/119 [==============================] - 0s 3ms/step - loss: 82958163968.0000 - mse: 82958163968.0000 - val_loss: 85803646976.0000 - val_mse: 85803646976.0000\n",
            "Epoch 17/400\n",
            "119/119 [==============================] - 0s 3ms/step - loss: 80945037312.0000 - mse: 80945037312.0000 - val_loss: 83580747776.0000 - val_mse: 83580747776.0000\n",
            "Epoch 18/400\n",
            "119/119 [==============================] - 0s 3ms/step - loss: 78843600896.0000 - mse: 78843600896.0000 - val_loss: 81270808576.0000 - val_mse: 81270808576.0000\n",
            "Epoch 19/400\n",
            "119/119 [==============================] - 0s 3ms/step - loss: 76673613824.0000 - mse: 76673613824.0000 - val_loss: 78843158528.0000 - val_mse: 78843158528.0000\n",
            "Epoch 20/400\n",
            "119/119 [==============================] - 0s 3ms/step - loss: 74404372480.0000 - mse: 74404372480.0000 - val_loss: 76332965888.0000 - val_mse: 76332965888.0000\n",
            "Epoch 21/400\n",
            "119/119 [==============================] - 0s 3ms/step - loss: 72056225792.0000 - mse: 72056225792.0000 - val_loss: 73712001024.0000 - val_mse: 73712001024.0000\n",
            "Epoch 22/400\n",
            "119/119 [==============================] - 0s 3ms/step - loss: 69672124416.0000 - mse: 69672124416.0000 - val_loss: 71112720384.0000 - val_mse: 71112720384.0000\n",
            "Epoch 23/400\n",
            "119/119 [==============================] - 0s 3ms/step - loss: 67248390144.0000 - mse: 67248390144.0000 - val_loss: 68437815296.0000 - val_mse: 68437815296.0000\n",
            "Epoch 24/400\n",
            "119/119 [==============================] - 0s 3ms/step - loss: 64874643456.0000 - mse: 64874643456.0000 - val_loss: 65930534912.0000 - val_mse: 65930534912.0000\n",
            "Epoch 25/400\n",
            "119/119 [==============================] - 0s 3ms/step - loss: 62674751488.0000 - mse: 62674751488.0000 - val_loss: 63350317056.0000 - val_mse: 63350317056.0000\n",
            "Epoch 26/400\n",
            "119/119 [==============================] - 0s 3ms/step - loss: 60545007616.0000 - mse: 60545007616.0000 - val_loss: 61206429696.0000 - val_mse: 61206429696.0000\n",
            "Epoch 27/400\n",
            "119/119 [==============================] - 0s 3ms/step - loss: 58669617152.0000 - mse: 58669617152.0000 - val_loss: 59305304064.0000 - val_mse: 59305304064.0000\n",
            "Epoch 28/400\n",
            "119/119 [==============================] - 0s 3ms/step - loss: 57037713408.0000 - mse: 57037713408.0000 - val_loss: 57462120448.0000 - val_mse: 57462120448.0000\n",
            "Epoch 29/400\n",
            "119/119 [==============================] - 0s 3ms/step - loss: 55689236480.0000 - mse: 55689236480.0000 - val_loss: 56000663552.0000 - val_mse: 56000663552.0000\n",
            "Epoch 30/400\n",
            "119/119 [==============================] - 0s 3ms/step - loss: 54503944192.0000 - mse: 54503944192.0000 - val_loss: 54787223552.0000 - val_mse: 54787223552.0000\n",
            "Epoch 31/400\n",
            "119/119 [==============================] - 0s 3ms/step - loss: 53482606592.0000 - mse: 53482606592.0000 - val_loss: 53687742464.0000 - val_mse: 53687742464.0000\n",
            "Epoch 32/400\n",
            "119/119 [==============================] - 0s 3ms/step - loss: 52565168128.0000 - mse: 52565168128.0000 - val_loss: 52774711296.0000 - val_mse: 52774711296.0000\n",
            "Epoch 33/400\n",
            "119/119 [==============================] - 0s 3ms/step - loss: 51812466688.0000 - mse: 51812466688.0000 - val_loss: 52005789696.0000 - val_mse: 52005789696.0000\n",
            "Epoch 34/400\n",
            "119/119 [==============================] - 0s 3ms/step - loss: 51076820992.0000 - mse: 51076820992.0000 - val_loss: 51218489344.0000 - val_mse: 51218489344.0000\n",
            "Epoch 35/400\n",
            "119/119 [==============================] - 0s 3ms/step - loss: 50416832512.0000 - mse: 50416832512.0000 - val_loss: 50503921664.0000 - val_mse: 50503921664.0000\n",
            "Epoch 36/400\n",
            "119/119 [==============================] - 0s 3ms/step - loss: 49810378752.0000 - mse: 49810378752.0000 - val_loss: 49913561088.0000 - val_mse: 49913561088.0000\n",
            "Epoch 37/400\n",
            "119/119 [==============================] - 0s 3ms/step - loss: 49310359552.0000 - mse: 49310359552.0000 - val_loss: 49306198016.0000 - val_mse: 49306198016.0000\n",
            "Epoch 38/400\n",
            "119/119 [==============================] - 0s 3ms/step - loss: 48704851968.0000 - mse: 48704851968.0000 - val_loss: 48744886272.0000 - val_mse: 48744886272.0000\n",
            "Epoch 39/400\n",
            "119/119 [==============================] - 0s 3ms/step - loss: 48212459520.0000 - mse: 48212459520.0000 - val_loss: 48242946048.0000 - val_mse: 48242946048.0000\n",
            "Epoch 40/400\n",
            "119/119 [==============================] - 0s 3ms/step - loss: 47725850624.0000 - mse: 47725850624.0000 - val_loss: 47747055616.0000 - val_mse: 47747055616.0000\n",
            "Epoch 41/400\n",
            "119/119 [==============================] - 0s 3ms/step - loss: 47336062976.0000 - mse: 47336062976.0000 - val_loss: 47356731392.0000 - val_mse: 47356731392.0000\n",
            "Epoch 42/400\n",
            "119/119 [==============================] - 0s 3ms/step - loss: 46857936896.0000 - mse: 46857936896.0000 - val_loss: 46904786944.0000 - val_mse: 46904786944.0000\n",
            "Epoch 43/400\n",
            "119/119 [==============================] - 0s 3ms/step - loss: 46462615552.0000 - mse: 46462615552.0000 - val_loss: 46495051776.0000 - val_mse: 46495051776.0000\n",
            "Epoch 44/400\n",
            "119/119 [==============================] - 0s 3ms/step - loss: 46060933120.0000 - mse: 46060933120.0000 - val_loss: 46089797632.0000 - val_mse: 46089797632.0000\n",
            "Epoch 45/400\n",
            "119/119 [==============================] - 0s 3ms/step - loss: 45698777088.0000 - mse: 45698777088.0000 - val_loss: 45699395584.0000 - val_mse: 45699395584.0000\n",
            "Epoch 46/400\n",
            "119/119 [==============================] - 0s 3ms/step - loss: 45319385088.0000 - mse: 45319385088.0000 - val_loss: 45344960512.0000 - val_mse: 45344960512.0000\n",
            "Epoch 47/400\n",
            "119/119 [==============================] - 0s 3ms/step - loss: 44956127232.0000 - mse: 44956127232.0000 - val_loss: 45066272768.0000 - val_mse: 45066272768.0000\n"
          ]
        },
        {
          "name": "stdout",
          "output_type": "stream",
          "text": [
            "Epoch 48/400\n",
            "119/119 [==============================] - 0s 3ms/step - loss: 44677464064.0000 - mse: 44677464064.0000 - val_loss: 44587044864.0000 - val_mse: 44587044864.0000\n",
            "Epoch 49/400\n",
            "119/119 [==============================] - 0s 3ms/step - loss: 44287131648.0000 - mse: 44287131648.0000 - val_loss: 44273913856.0000 - val_mse: 44273913856.0000\n",
            "Epoch 50/400\n",
            "119/119 [==============================] - 0s 3ms/step - loss: 43967156224.0000 - mse: 43967156224.0000 - val_loss: 43941695488.0000 - val_mse: 43941695488.0000\n",
            "Epoch 51/400\n",
            "119/119 [==============================] - 0s 3ms/step - loss: 43609694208.0000 - mse: 43609694208.0000 - val_loss: 43519782912.0000 - val_mse: 43519782912.0000\n",
            "Epoch 52/400\n",
            "119/119 [==============================] - 0s 3ms/step - loss: 43283476480.0000 - mse: 43283476480.0000 - val_loss: 43152125952.0000 - val_mse: 43152125952.0000\n",
            "Epoch 53/400\n",
            "119/119 [==============================] - 0s 3ms/step - loss: 42953646080.0000 - mse: 42953646080.0000 - val_loss: 42814365696.0000 - val_mse: 42814365696.0000\n",
            "Epoch 54/400\n",
            "119/119 [==============================] - 0s 3ms/step - loss: 42602610688.0000 - mse: 42602610688.0000 - val_loss: 42445230080.0000 - val_mse: 42445230080.0000\n",
            "Epoch 55/400\n",
            "119/119 [==============================] - 0s 3ms/step - loss: 42303168512.0000 - mse: 42303168512.0000 - val_loss: 42100776960.0000 - val_mse: 42100776960.0000\n",
            "Epoch 56/400\n",
            "119/119 [==============================] - 0s 3ms/step - loss: 41939197952.0000 - mse: 41939197952.0000 - val_loss: 41773047808.0000 - val_mse: 41773047808.0000\n",
            "Epoch 57/400\n",
            "119/119 [==============================] - 0s 3ms/step - loss: 41681973248.0000 - mse: 41681973248.0000 - val_loss: 41438056448.0000 - val_mse: 41438056448.0000\n",
            "Epoch 58/400\n",
            "119/119 [==============================] - 0s 3ms/step - loss: 41373954048.0000 - mse: 41373954048.0000 - val_loss: 41264668672.0000 - val_mse: 41264668672.0000\n",
            "Epoch 59/400\n",
            "119/119 [==============================] - 0s 3ms/step - loss: 41079701504.0000 - mse: 41079701504.0000 - val_loss: 40863698944.0000 - val_mse: 40863698944.0000\n",
            "Epoch 60/400\n",
            "119/119 [==============================] - 0s 3ms/step - loss: 40815558656.0000 - mse: 40815558656.0000 - val_loss: 40587997184.0000 - val_mse: 40587997184.0000\n",
            "Epoch 61/400\n",
            "119/119 [==============================] - 0s 3ms/step - loss: 40530055168.0000 - mse: 40530055168.0000 - val_loss: 40351330304.0000 - val_mse: 40351330304.0000\n",
            "Epoch 62/400\n",
            "119/119 [==============================] - 0s 3ms/step - loss: 40321531904.0000 - mse: 40321531904.0000 - val_loss: 40109424640.0000 - val_mse: 40109424640.0000\n",
            "Epoch 63/400\n",
            "119/119 [==============================] - 0s 3ms/step - loss: 40114515968.0000 - mse: 40114515968.0000 - val_loss: 39881052160.0000 - val_mse: 39881052160.0000\n",
            "Epoch 64/400\n",
            "119/119 [==============================] - 0s 3ms/step - loss: 39882493952.0000 - mse: 39882493952.0000 - val_loss: 39626579968.0000 - val_mse: 39626579968.0000\n",
            "Epoch 65/400\n",
            "119/119 [==============================] - 0s 3ms/step - loss: 39683186688.0000 - mse: 39683186688.0000 - val_loss: 39347286016.0000 - val_mse: 39347286016.0000\n",
            "Epoch 66/400\n",
            "119/119 [==============================] - 0s 3ms/step - loss: 39462060032.0000 - mse: 39462060032.0000 - val_loss: 39201677312.0000 - val_mse: 39201677312.0000\n",
            "Epoch 67/400\n",
            "119/119 [==============================] - 0s 3ms/step - loss: 39280906240.0000 - mse: 39280906240.0000 - val_loss: 38949564416.0000 - val_mse: 38949564416.0000\n",
            "Epoch 68/400\n",
            "119/119 [==============================] - 0s 3ms/step - loss: 39085338624.0000 - mse: 39085338624.0000 - val_loss: 38792912896.0000 - val_mse: 38792912896.0000\n",
            "Epoch 69/400\n",
            "119/119 [==============================] - 0s 3ms/step - loss: 38894219264.0000 - mse: 38894219264.0000 - val_loss: 38580781056.0000 - val_mse: 38580781056.0000\n",
            "Epoch 70/400\n",
            "119/119 [==============================] - 0s 3ms/step - loss: 38739345408.0000 - mse: 38739345408.0000 - val_loss: 38352424960.0000 - val_mse: 38352424960.0000\n",
            "Epoch 71/400\n",
            "119/119 [==============================] - 0s 3ms/step - loss: 38562271232.0000 - mse: 38562271232.0000 - val_loss: 38193172480.0000 - val_mse: 38193172480.0000\n",
            "Epoch 72/400\n",
            "119/119 [==============================] - 0s 3ms/step - loss: 38483169280.0000 - mse: 38483169280.0000 - val_loss: 37920620544.0000 - val_mse: 37920620544.0000\n",
            "Epoch 73/400\n",
            "119/119 [==============================] - 0s 3ms/step - loss: 38210277376.0000 - mse: 38210277376.0000 - val_loss: 37793935360.0000 - val_mse: 37793935360.0000\n",
            "Epoch 74/400\n",
            "119/119 [==============================] - 0s 3ms/step - loss: 38026489856.0000 - mse: 38026489856.0000 - val_loss: 37659852800.0000 - val_mse: 37659852800.0000\n",
            "Epoch 75/400\n",
            "119/119 [==============================] - 0s 3ms/step - loss: 37848805376.0000 - mse: 37848805376.0000 - val_loss: 37505789952.0000 - val_mse: 37505789952.0000\n",
            "Epoch 76/400\n",
            "119/119 [==============================] - 0s 3ms/step - loss: 37722923008.0000 - mse: 37722923008.0000 - val_loss: 37299290112.0000 - val_mse: 37299290112.0000\n",
            "Epoch 77/400\n",
            "119/119 [==============================] - 0s 3ms/step - loss: 37536190464.0000 - mse: 37536190464.0000 - val_loss: 37127098368.0000 - val_mse: 37127098368.0000\n",
            "Epoch 78/400\n",
            "119/119 [==============================] - 0s 3ms/step - loss: 37417672704.0000 - mse: 37417672704.0000 - val_loss: 36930301952.0000 - val_mse: 36930301952.0000\n",
            "Epoch 79/400\n",
            "119/119 [==============================] - 0s 3ms/step - loss: 37220372480.0000 - mse: 37220372480.0000 - val_loss: 36735229952.0000 - val_mse: 36735229952.0000\n",
            "Epoch 80/400\n",
            "119/119 [==============================] - 0s 3ms/step - loss: 37116583936.0000 - mse: 37116583936.0000 - val_loss: 36601290752.0000 - val_mse: 36601290752.0000\n",
            "Epoch 81/400\n",
            "119/119 [==============================] - 0s 3ms/step - loss: 36949671936.0000 - mse: 36949671936.0000 - val_loss: 36437626880.0000 - val_mse: 36437626880.0000\n",
            "Epoch 82/400\n",
            "119/119 [==============================] - 0s 3ms/step - loss: 36819193856.0000 - mse: 36819193856.0000 - val_loss: 36293042176.0000 - val_mse: 36293042176.0000\n",
            "Epoch 83/400\n",
            "119/119 [==============================] - 0s 3ms/step - loss: 36714971136.0000 - mse: 36714971136.0000 - val_loss: 36143382528.0000 - val_mse: 36143382528.0000\n",
            "Epoch 84/400\n",
            "119/119 [==============================] - 0s 3ms/step - loss: 36539420672.0000 - mse: 36539420672.0000 - val_loss: 35996540928.0000 - val_mse: 35996540928.0000\n",
            "Epoch 85/400\n",
            "119/119 [==============================] - 0s 3ms/step - loss: 36418342912.0000 - mse: 36418342912.0000 - val_loss: 35878100992.0000 - val_mse: 35878100992.0000\n",
            "Epoch 86/400\n",
            "119/119 [==============================] - 0s 3ms/step - loss: 36293111808.0000 - mse: 36293111808.0000 - val_loss: 35867865088.0000 - val_mse: 35867865088.0000\n",
            "Epoch 87/400\n",
            "119/119 [==============================] - 0s 3ms/step - loss: 36197597184.0000 - mse: 36197597184.0000 - val_loss: 35670724608.0000 - val_mse: 35670724608.0000\n",
            "Epoch 88/400\n",
            "119/119 [==============================] - 0s 3ms/step - loss: 36119199744.0000 - mse: 36119199744.0000 - val_loss: 35517104128.0000 - val_mse: 35517104128.0000\n",
            "Epoch 89/400\n",
            "119/119 [==============================] - 0s 3ms/step - loss: 36022820864.0000 - mse: 36022820864.0000 - val_loss: 35443986432.0000 - val_mse: 35443986432.0000\n",
            "Epoch 90/400\n",
            "119/119 [==============================] - 0s 3ms/step - loss: 35911823360.0000 - mse: 35911823360.0000 - val_loss: 35319799808.0000 - val_mse: 35319799808.0000\n",
            "Epoch 91/400\n",
            "119/119 [==============================] - 0s 3ms/step - loss: 35816546304.0000 - mse: 35816546304.0000 - val_loss: 35209662464.0000 - val_mse: 35209662464.0000\n",
            "Epoch 92/400\n",
            "119/119 [==============================] - 0s 3ms/step - loss: 35705823232.0000 - mse: 35705823232.0000 - val_loss: 35121614848.0000 - val_mse: 35121614848.0000\n",
            "Epoch 93/400\n",
            "119/119 [==============================] - 0s 3ms/step - loss: 35596222464.0000 - mse: 35596222464.0000 - val_loss: 35028828160.0000 - val_mse: 35028828160.0000\n",
            "Epoch 94/400\n",
            "119/119 [==============================] - 0s 3ms/step - loss: 35519131648.0000 - mse: 35519131648.0000 - val_loss: 34985025536.0000 - val_mse: 34985025536.0000\n",
            "Epoch 95/400\n",
            "119/119 [==============================] - 0s 3ms/step - loss: 35388100608.0000 - mse: 35388100608.0000 - val_loss: 34896568320.0000 - val_mse: 34896568320.0000\n",
            "Epoch 96/400\n",
            "119/119 [==============================] - 0s 3ms/step - loss: 35354746880.0000 - mse: 35354746880.0000 - val_loss: 34744684544.0000 - val_mse: 34744684544.0000\n",
            "Epoch 97/400\n",
            "119/119 [==============================] - 0s 3ms/step - loss: 35313975296.0000 - mse: 35313975296.0000 - val_loss: 34683166720.0000 - val_mse: 34683166720.0000\n",
            "Epoch 98/400\n",
            "119/119 [==============================] - 0s 3ms/step - loss: 35240824832.0000 - mse: 35240824832.0000 - val_loss: 34580824064.0000 - val_mse: 34580824064.0000\n",
            "Epoch 99/400\n",
            "119/119 [==============================] - 0s 3ms/step - loss: 35122823168.0000 - mse: 35122823168.0000 - val_loss: 34507505664.0000 - val_mse: 34507505664.0000\n",
            "Epoch 100/400\n",
            "119/119 [==============================] - 0s 3ms/step - loss: 35045277696.0000 - mse: 35045277696.0000 - val_loss: 34454306816.0000 - val_mse: 34454306816.0000\n",
            "Epoch 101/400\n",
            "119/119 [==============================] - 0s 3ms/step - loss: 34994008064.0000 - mse: 34994008064.0000 - val_loss: 34372407296.0000 - val_mse: 34372407296.0000\n",
            "Epoch 102/400\n",
            "119/119 [==============================] - 0s 3ms/step - loss: 34938150912.0000 - mse: 34938150912.0000 - val_loss: 34297765888.0000 - val_mse: 34297765888.0000\n",
            "Epoch 103/400\n",
            "119/119 [==============================] - 0s 3ms/step - loss: 34859200512.0000 - mse: 34859200512.0000 - val_loss: 34267187200.0000 - val_mse: 34267187200.0000\n",
            "Epoch 104/400\n",
            "119/119 [==============================] - 0s 3ms/step - loss: 34761957376.0000 - mse: 34761957376.0000 - val_loss: 34150768640.0000 - val_mse: 34150768640.0000\n",
            "Epoch 105/400\n",
            "119/119 [==============================] - 0s 3ms/step - loss: 34760523776.0000 - mse: 34760523776.0000 - val_loss: 34111946752.0000 - val_mse: 34111946752.0000\n",
            "Epoch 106/400\n",
            "119/119 [==============================] - 0s 3ms/step - loss: 34651422720.0000 - mse: 34651422720.0000 - val_loss: 34050103296.0000 - val_mse: 34050103296.0000\n",
            "Epoch 107/400\n",
            "119/119 [==============================] - 0s 3ms/step - loss: 34593955840.0000 - mse: 34593955840.0000 - val_loss: 33974140928.0000 - val_mse: 33974140928.0000\n",
            "Epoch 108/400\n",
            "119/119 [==============================] - 0s 3ms/step - loss: 34539286528.0000 - mse: 34539286528.0000 - val_loss: 33974398976.0000 - val_mse: 33974398976.0000\n",
            "Epoch 109/400\n",
            "119/119 [==============================] - 0s 3ms/step - loss: 34490454016.0000 - mse: 34490454016.0000 - val_loss: 33946163200.0000 - val_mse: 33946163200.0000\n",
            "Epoch 110/400\n",
            "119/119 [==============================] - 0s 3ms/step - loss: 34431737856.0000 - mse: 34431737856.0000 - val_loss: 33771354112.0000 - val_mse: 33771354112.0000\n",
            "Epoch 111/400\n",
            "119/119 [==============================] - 0s 3ms/step - loss: 34421661696.0000 - mse: 34421661696.0000 - val_loss: 33777467392.0000 - val_mse: 33777467392.0000\n",
            "Epoch 112/400\n",
            "119/119 [==============================] - 0s 3ms/step - loss: 34297620480.0000 - mse: 34297620480.0000 - val_loss: 33675849728.0000 - val_mse: 33675849728.0000\n",
            "Epoch 113/400\n",
            "119/119 [==============================] - 0s 3ms/step - loss: 34266376192.0000 - mse: 34266376192.0000 - val_loss: 33592803328.0000 - val_mse: 33592803328.0000\n",
            "Epoch 114/400\n",
            "119/119 [==============================] - 0s 3ms/step - loss: 34241058816.0000 - mse: 34241058816.0000 - val_loss: 33534648320.0000 - val_mse: 33534648320.0000\n",
            "Epoch 115/400\n",
            "119/119 [==============================] - 0s 3ms/step - loss: 34157066240.0000 - mse: 34157066240.0000 - val_loss: 33476878336.0000 - val_mse: 33476878336.0000\n",
            "Epoch 116/400\n",
            "119/119 [==============================] - 0s 3ms/step - loss: 34103697408.0000 - mse: 34103697408.0000 - val_loss: 33424773120.0000 - val_mse: 33424773120.0000\n",
            "Epoch 117/400\n",
            "119/119 [==============================] - 0s 3ms/step - loss: 34078005248.0000 - mse: 34078005248.0000 - val_loss: 33373278208.0000 - val_mse: 33373278208.0000\n",
            "Epoch 118/400\n",
            "119/119 [==============================] - 0s 3ms/step - loss: 34020595712.0000 - mse: 34020595712.0000 - val_loss: 33351993344.0000 - val_mse: 33351993344.0000\n",
            "Epoch 119/400\n",
            "119/119 [==============================] - 0s 3ms/step - loss: 33955153920.0000 - mse: 33955153920.0000 - val_loss: 33289228288.0000 - val_mse: 33289228288.0000\n",
            "Epoch 120/400\n",
            "119/119 [==============================] - 0s 3ms/step - loss: 33921366016.0000 - mse: 33921366016.0000 - val_loss: 33229729792.0000 - val_mse: 33229729792.0000\n",
            "Epoch 121/400\n",
            "119/119 [==============================] - 0s 3ms/step - loss: 33873690624.0000 - mse: 33873690624.0000 - val_loss: 33185015808.0000 - val_mse: 33185015808.0000\n",
            "Epoch 122/400\n",
            "119/119 [==============================] - 0s 3ms/step - loss: 33845026816.0000 - mse: 33845026816.0000 - val_loss: 33123706880.0000 - val_mse: 33123706880.0000\n",
            "Epoch 123/400\n",
            "119/119 [==============================] - 0s 3ms/step - loss: 33795325952.0000 - mse: 33795325952.0000 - val_loss: 33080367104.0000 - val_mse: 33080367104.0000\n",
            "Epoch 124/400\n",
            "119/119 [==============================] - 0s 3ms/step - loss: 33743101952.0000 - mse: 33743101952.0000 - val_loss: 33067675648.0000 - val_mse: 33067675648.0000\n",
            "Epoch 125/400\n",
            "119/119 [==============================] - 0s 3ms/step - loss: 33708984320.0000 - mse: 33708984320.0000 - val_loss: 32986972160.0000 - val_mse: 32986972160.0000\n",
            "Epoch 126/400\n",
            "119/119 [==============================] - 0s 3ms/step - loss: 33657161728.0000 - mse: 33657161728.0000 - val_loss: 32946982912.0000 - val_mse: 32946982912.0000\n",
            "Epoch 127/400\n",
            "119/119 [==============================] - 0s 3ms/step - loss: 33617606656.0000 - mse: 33617606656.0000 - val_loss: 32918638592.0000 - val_mse: 32918638592.0000\n",
            "Epoch 128/400\n",
            "119/119 [==============================] - 0s 3ms/step - loss: 33615710208.0000 - mse: 33615710208.0000 - val_loss: 32849952768.0000 - val_mse: 32849952768.0000\n",
            "Epoch 129/400\n",
            "119/119 [==============================] - 0s 3ms/step - loss: 33555378176.0000 - mse: 33555378176.0000 - val_loss: 32825204736.0000 - val_mse: 32825204736.0000\n",
            "Epoch 130/400\n",
            "119/119 [==============================] - 0s 3ms/step - loss: 33533542400.0000 - mse: 33533542400.0000 - val_loss: 32758091776.0000 - val_mse: 32758091776.0000\n",
            "Epoch 131/400\n",
            "119/119 [==============================] - 0s 3ms/step - loss: 33435645952.0000 - mse: 33435645952.0000 - val_loss: 32724727808.0000 - val_mse: 32724727808.0000\n",
            "Epoch 132/400\n",
            "119/119 [==============================] - 0s 3ms/step - loss: 33407539200.0000 - mse: 33407539200.0000 - val_loss: 32799297536.0000 - val_mse: 32799297536.0000\n",
            "Epoch 133/400\n",
            "119/119 [==============================] - 0s 3ms/step - loss: 33387943936.0000 - mse: 33387943936.0000 - val_loss: 32630460416.0000 - val_mse: 32630460416.0000\n",
            "Epoch 134/400\n",
            "119/119 [==============================] - 0s 3ms/step - loss: 33302908928.0000 - mse: 33302908928.0000 - val_loss: 32607903744.0000 - val_mse: 32607903744.0000\n",
            "Epoch 135/400\n",
            "119/119 [==============================] - 0s 3ms/step - loss: 33261953024.0000 - mse: 33261953024.0000 - val_loss: 32568080384.0000 - val_mse: 32568080384.0000\n",
            "Epoch 136/400\n",
            "119/119 [==============================] - 0s 3ms/step - loss: 33246398464.0000 - mse: 33246398464.0000 - val_loss: 32527261696.0000 - val_mse: 32527261696.0000\n",
            "Epoch 137/400\n",
            "119/119 [==============================] - 0s 3ms/step - loss: 33196722176.0000 - mse: 33196722176.0000 - val_loss: 32496082944.0000 - val_mse: 32496082944.0000\n",
            "Epoch 138/400\n",
            "119/119 [==============================] - 0s 3ms/step - loss: 33199572992.0000 - mse: 33199572992.0000 - val_loss: 32456202240.0000 - val_mse: 32456202240.0000\n",
            "Epoch 139/400\n",
            "119/119 [==============================] - 0s 3ms/step - loss: 33163685888.0000 - mse: 33163685888.0000 - val_loss: 32415479808.0000 - val_mse: 32415479808.0000\n",
            "Epoch 140/400\n",
            "119/119 [==============================] - 0s 3ms/step - loss: 33061316608.0000 - mse: 33061316608.0000 - val_loss: 32386719744.0000 - val_mse: 32386719744.0000\n",
            "Epoch 141/400\n",
            "119/119 [==============================] - 0s 3ms/step - loss: 33109137408.0000 - mse: 33109137408.0000 - val_loss: 32336003072.0000 - val_mse: 32336003072.0000\n"
          ]
        },
        {
          "name": "stdout",
          "output_type": "stream",
          "text": [
            "Epoch 142/400\n",
            "119/119 [==============================] - 0s 3ms/step - loss: 33017569280.0000 - mse: 33017569280.0000 - val_loss: 32299520000.0000 - val_mse: 32299520000.0000\n",
            "Epoch 143/400\n",
            "119/119 [==============================] - 0s 3ms/step - loss: 32973785088.0000 - mse: 32973785088.0000 - val_loss: 32402302976.0000 - val_mse: 32402302976.0000\n",
            "Epoch 144/400\n",
            "119/119 [==============================] - 0s 3ms/step - loss: 32979798016.0000 - mse: 32979798016.0000 - val_loss: 32224227328.0000 - val_mse: 32224227328.0000\n",
            "Epoch 145/400\n",
            "119/119 [==============================] - 0s 3ms/step - loss: 32919332864.0000 - mse: 32919332864.0000 - val_loss: 32224591872.0000 - val_mse: 32224591872.0000\n",
            "Epoch 146/400\n",
            "119/119 [==============================] - 0s 3ms/step - loss: 32920135680.0000 - mse: 32920135680.0000 - val_loss: 32157779968.0000 - val_mse: 32157779968.0000\n",
            "Epoch 147/400\n",
            "119/119 [==============================] - 0s 3ms/step - loss: 32963878912.0000 - mse: 32963878912.0000 - val_loss: 32167665664.0000 - val_mse: 32167665664.0000\n",
            "Epoch 148/400\n",
            "119/119 [==============================] - 0s 3ms/step - loss: 32826845184.0000 - mse: 32826845184.0000 - val_loss: 32151599104.0000 - val_mse: 32151599104.0000\n",
            "Epoch 149/400\n",
            "119/119 [==============================] - 0s 3ms/step - loss: 32840683520.0000 - mse: 32840683520.0000 - val_loss: 32105482240.0000 - val_mse: 32105482240.0000\n",
            "Epoch 150/400\n",
            "119/119 [==============================] - 0s 3ms/step - loss: 32773699584.0000 - mse: 32773699584.0000 - val_loss: 32057681920.0000 - val_mse: 32057681920.0000\n",
            "Epoch 151/400\n",
            "119/119 [==============================] - 0s 3ms/step - loss: 32731748352.0000 - mse: 32731748352.0000 - val_loss: 32037783552.0000 - val_mse: 32037783552.0000\n",
            "Epoch 152/400\n",
            "119/119 [==============================] - 0s 3ms/step - loss: 32698540032.0000 - mse: 32698540032.0000 - val_loss: 32027015168.0000 - val_mse: 32027015168.0000\n",
            "Epoch 153/400\n",
            "119/119 [==============================] - 0s 3ms/step - loss: 32668745728.0000 - mse: 32668745728.0000 - val_loss: 32015155200.0000 - val_mse: 32015155200.0000\n",
            "Epoch 154/400\n",
            "119/119 [==============================] - 0s 3ms/step - loss: 32648052736.0000 - mse: 32648052736.0000 - val_loss: 31951661056.0000 - val_mse: 31951661056.0000\n",
            "Epoch 155/400\n",
            "119/119 [==============================] - 0s 3ms/step - loss: 32640421888.0000 - mse: 32640421888.0000 - val_loss: 31960756224.0000 - val_mse: 31960756224.0000\n",
            "Epoch 156/400\n",
            "119/119 [==============================] - 0s 3ms/step - loss: 32601397248.0000 - mse: 32601397248.0000 - val_loss: 31897249792.0000 - val_mse: 31897249792.0000\n",
            "Epoch 157/400\n",
            "119/119 [==============================] - 0s 3ms/step - loss: 32594614272.0000 - mse: 32594614272.0000 - val_loss: 31898781696.0000 - val_mse: 31898781696.0000\n",
            "Epoch 158/400\n",
            "119/119 [==============================] - 0s 3ms/step - loss: 32530270208.0000 - mse: 32530270208.0000 - val_loss: 31838619648.0000 - val_mse: 31838619648.0000\n",
            "Epoch 159/400\n",
            "119/119 [==============================] - 0s 3ms/step - loss: 32498331648.0000 - mse: 32498331648.0000 - val_loss: 31829749760.0000 - val_mse: 31829749760.0000\n",
            "Epoch 160/400\n",
            "119/119 [==============================] - 0s 3ms/step - loss: 32519544832.0000 - mse: 32519544832.0000 - val_loss: 31768561664.0000 - val_mse: 31768561664.0000\n",
            "Epoch 161/400\n",
            "119/119 [==============================] - 0s 3ms/step - loss: 32463360000.0000 - mse: 32463360000.0000 - val_loss: 31761565696.0000 - val_mse: 31761565696.0000\n",
            "Epoch 162/400\n",
            "119/119 [==============================] - 0s 3ms/step - loss: 32433000448.0000 - mse: 32433000448.0000 - val_loss: 31723790336.0000 - val_mse: 31723790336.0000\n",
            "Epoch 163/400\n",
            "119/119 [==============================] - 0s 3ms/step - loss: 32418078720.0000 - mse: 32418078720.0000 - val_loss: 31810181120.0000 - val_mse: 31810181120.0000\n",
            "Epoch 164/400\n",
            "119/119 [==============================] - 0s 3ms/step - loss: 32378992640.0000 - mse: 32378992640.0000 - val_loss: 31720065024.0000 - val_mse: 31720065024.0000\n",
            "Epoch 165/400\n",
            "119/119 [==============================] - 0s 3ms/step - loss: 32341862400.0000 - mse: 32341862400.0000 - val_loss: 31667732480.0000 - val_mse: 31667732480.0000\n",
            "Epoch 166/400\n",
            "119/119 [==============================] - 0s 3ms/step - loss: 32313294848.0000 - mse: 32313294848.0000 - val_loss: 31615428608.0000 - val_mse: 31615428608.0000\n",
            "Epoch 167/400\n",
            "119/119 [==============================] - 0s 3ms/step - loss: 32293945344.0000 - mse: 32293945344.0000 - val_loss: 31623380992.0000 - val_mse: 31623380992.0000\n",
            "Epoch 168/400\n",
            "119/119 [==============================] - 0s 3ms/step - loss: 32280166400.0000 - mse: 32280166400.0000 - val_loss: 31608532992.0000 - val_mse: 31608532992.0000\n",
            "Epoch 169/400\n",
            "119/119 [==============================] - 0s 3ms/step - loss: 32220303360.0000 - mse: 32220303360.0000 - val_loss: 31555346432.0000 - val_mse: 31555346432.0000\n",
            "Epoch 170/400\n",
            "119/119 [==============================] - 0s 3ms/step - loss: 32207523840.0000 - mse: 32207523840.0000 - val_loss: 31510454272.0000 - val_mse: 31510454272.0000\n",
            "Epoch 171/400\n",
            "119/119 [==============================] - 0s 3ms/step - loss: 32168853504.0000 - mse: 32168853504.0000 - val_loss: 31471052800.0000 - val_mse: 31471052800.0000\n",
            "Epoch 172/400\n",
            "119/119 [==============================] - 0s 3ms/step - loss: 32147339264.0000 - mse: 32147339264.0000 - val_loss: 31512082432.0000 - val_mse: 31512082432.0000\n",
            "Epoch 173/400\n",
            "119/119 [==============================] - 0s 3ms/step - loss: 32138606592.0000 - mse: 32138606592.0000 - val_loss: 31558395904.0000 - val_mse: 31558395904.0000\n",
            "Epoch 174/400\n",
            "119/119 [==============================] - 0s 3ms/step - loss: 32132896768.0000 - mse: 32132896768.0000 - val_loss: 31400935424.0000 - val_mse: 31400935424.0000\n",
            "Epoch 175/400\n",
            "119/119 [==============================] - 0s 3ms/step - loss: 32065390592.0000 - mse: 32065390592.0000 - val_loss: 31364474880.0000 - val_mse: 31364474880.0000\n",
            "Epoch 176/400\n",
            "119/119 [==============================] - 0s 3ms/step - loss: 32101251072.0000 - mse: 32101251072.0000 - val_loss: 31381327872.0000 - val_mse: 31381327872.0000\n",
            "Epoch 177/400\n",
            "119/119 [==============================] - 0s 3ms/step - loss: 32027453440.0000 - mse: 32027453440.0000 - val_loss: 31356039168.0000 - val_mse: 31356039168.0000\n",
            "Epoch 178/400\n",
            "119/119 [==============================] - 0s 3ms/step - loss: 32031907840.0000 - mse: 32031907840.0000 - val_loss: 31421347840.0000 - val_mse: 31421347840.0000\n",
            "Epoch 179/400\n",
            "119/119 [==============================] - 0s 3ms/step - loss: 32000526336.0000 - mse: 32000526336.0000 - val_loss: 31293513728.0000 - val_mse: 31293513728.0000\n",
            "Epoch 180/400\n",
            "119/119 [==============================] - 0s 3ms/step - loss: 31939868672.0000 - mse: 31939868672.0000 - val_loss: 31274774528.0000 - val_mse: 31274774528.0000\n",
            "Epoch 181/400\n",
            "119/119 [==============================] - 0s 3ms/step - loss: 31956434944.0000 - mse: 31956434944.0000 - val_loss: 31261992960.0000 - val_mse: 31261992960.0000\n",
            "Epoch 182/400\n",
            "119/119 [==============================] - 0s 3ms/step - loss: 31960428544.0000 - mse: 31960428544.0000 - val_loss: 31252152320.0000 - val_mse: 31252152320.0000\n",
            "Epoch 183/400\n",
            "119/119 [==============================] - 0s 3ms/step - loss: 31899041792.0000 - mse: 31899041792.0000 - val_loss: 31243239424.0000 - val_mse: 31243239424.0000\n",
            "Epoch 184/400\n",
            "119/119 [==============================] - 0s 3ms/step - loss: 31893299200.0000 - mse: 31893299200.0000 - val_loss: 31294455808.0000 - val_mse: 31294455808.0000\n",
            "Epoch 185/400\n",
            "119/119 [==============================] - 0s 3ms/step - loss: 31874316288.0000 - mse: 31874316288.0000 - val_loss: 31167137792.0000 - val_mse: 31167137792.0000\n",
            "Epoch 186/400\n",
            "119/119 [==============================] - 0s 3ms/step - loss: 31814367232.0000 - mse: 31814367232.0000 - val_loss: 31157528576.0000 - val_mse: 31157528576.0000\n",
            "Epoch 187/400\n",
            "119/119 [==============================] - 0s 3ms/step - loss: 31804567552.0000 - mse: 31804567552.0000 - val_loss: 31163033600.0000 - val_mse: 31163033600.0000\n",
            "Epoch 188/400\n",
            "119/119 [==============================] - 0s 3ms/step - loss: 31815417856.0000 - mse: 31815417856.0000 - val_loss: 31103825920.0000 - val_mse: 31103825920.0000\n"
          ]
        },
        {
          "name": "stdout",
          "output_type": "stream",
          "text": [
            "Epoch 189/400\n",
            "119/119 [==============================] - 0s 3ms/step - loss: 31759435776.0000 - mse: 31759435776.0000 - val_loss: 31099465728.0000 - val_mse: 31099465728.0000\n",
            "Epoch 190/400\n",
            "119/119 [==============================] - 0s 3ms/step - loss: 31815970816.0000 - mse: 31815970816.0000 - val_loss: 31054295040.0000 - val_mse: 31054295040.0000\n",
            "Epoch 191/400\n",
            "119/119 [==============================] - 0s 3ms/step - loss: 31709394944.0000 - mse: 31709394944.0000 - val_loss: 31046211584.0000 - val_mse: 31046211584.0000\n",
            "Epoch 192/400\n",
            "119/119 [==============================] - 0s 3ms/step - loss: 31685206016.0000 - mse: 31685206016.0000 - val_loss: 31015938048.0000 - val_mse: 31015938048.0000\n",
            "Epoch 193/400\n",
            "119/119 [==============================] - 0s 3ms/step - loss: 31663996928.0000 - mse: 31663996928.0000 - val_loss: 31264153600.0000 - val_mse: 31264153600.0000\n",
            "Epoch 194/400\n",
            "119/119 [==============================] - 0s 3ms/step - loss: 31677306880.0000 - mse: 31677306880.0000 - val_loss: 30982875136.0000 - val_mse: 30982875136.0000\n",
            "Epoch 195/400\n",
            "119/119 [==============================] - 0s 3ms/step - loss: 31677493248.0000 - mse: 31677493248.0000 - val_loss: 31159293952.0000 - val_mse: 31159293952.0000\n",
            "Epoch 196/400\n",
            "119/119 [==============================] - 0s 3ms/step - loss: 31616251904.0000 - mse: 31616251904.0000 - val_loss: 30935052288.0000 - val_mse: 30935052288.0000\n",
            "Epoch 197/400\n",
            "119/119 [==============================] - 0s 3ms/step - loss: 31650347008.0000 - mse: 31650347008.0000 - val_loss: 30931726336.0000 - val_mse: 30931726336.0000\n",
            "Epoch 198/400\n",
            "119/119 [==============================] - 0s 3ms/step - loss: 31618136064.0000 - mse: 31618136064.0000 - val_loss: 30933123072.0000 - val_mse: 30933123072.0000\n",
            "Epoch 199/400\n",
            "119/119 [==============================] - 0s 3ms/step - loss: 31536926720.0000 - mse: 31536926720.0000 - val_loss: 30902947840.0000 - val_mse: 30902947840.0000\n",
            "Epoch 200/400\n",
            "119/119 [==============================] - 0s 3ms/step - loss: 31521968128.0000 - mse: 31521968128.0000 - val_loss: 30883610624.0000 - val_mse: 30883610624.0000\n",
            "Epoch 201/400\n",
            "119/119 [==============================] - 0s 3ms/step - loss: 31540168704.0000 - mse: 31540168704.0000 - val_loss: 30892539904.0000 - val_mse: 30892539904.0000\n",
            "Epoch 202/400\n",
            "119/119 [==============================] - 0s 3ms/step - loss: 31478396928.0000 - mse: 31478396928.0000 - val_loss: 30825656320.0000 - val_mse: 30825656320.0000\n",
            "Epoch 203/400\n",
            "119/119 [==============================] - 0s 3ms/step - loss: 31447582720.0000 - mse: 31447582720.0000 - val_loss: 30830354432.0000 - val_mse: 30830354432.0000\n",
            "Epoch 204/400\n",
            "119/119 [==============================] - 0s 3ms/step - loss: 31461873664.0000 - mse: 31461873664.0000 - val_loss: 30828572672.0000 - val_mse: 30828572672.0000\n",
            "Epoch 205/400\n",
            "119/119 [==============================] - 0s 3ms/step - loss: 31406444544.0000 - mse: 31406444544.0000 - val_loss: 30807869440.0000 - val_mse: 30807869440.0000\n",
            "Epoch 206/400\n",
            "119/119 [==============================] - 0s 3ms/step - loss: 31385718784.0000 - mse: 31385718784.0000 - val_loss: 30749888512.0000 - val_mse: 30749888512.0000\n",
            "Epoch 207/400\n",
            "119/119 [==============================] - 0s 3ms/step - loss: 31387639808.0000 - mse: 31387639808.0000 - val_loss: 30727954432.0000 - val_mse: 30727954432.0000\n",
            "Epoch 208/400\n",
            "119/119 [==============================] - 0s 3ms/step - loss: 31359117312.0000 - mse: 31359117312.0000 - val_loss: 30715824128.0000 - val_mse: 30715824128.0000\n",
            "Epoch 209/400\n",
            "119/119 [==============================] - 0s 3ms/step - loss: 31365912576.0000 - mse: 31365912576.0000 - val_loss: 30708654080.0000 - val_mse: 30708654080.0000\n",
            "Epoch 210/400\n",
            "119/119 [==============================] - 0s 3ms/step - loss: 31304505344.0000 - mse: 31304505344.0000 - val_loss: 30685374464.0000 - val_mse: 30685374464.0000\n",
            "Epoch 211/400\n",
            "119/119 [==============================] - 0s 3ms/step - loss: 31322118144.0000 - mse: 31322118144.0000 - val_loss: 30651736064.0000 - val_mse: 30651736064.0000\n",
            "Epoch 212/400\n",
            "119/119 [==============================] - 0s 3ms/step - loss: 31272404992.0000 - mse: 31272404992.0000 - val_loss: 30641737728.0000 - val_mse: 30641737728.0000\n",
            "Epoch 213/400\n",
            "119/119 [==============================] - 0s 3ms/step - loss: 31246098432.0000 - mse: 31246098432.0000 - val_loss: 30655987712.0000 - val_mse: 30655987712.0000\n",
            "Epoch 214/400\n",
            "119/119 [==============================] - 0s 3ms/step - loss: 31248588800.0000 - mse: 31248588800.0000 - val_loss: 30597545984.0000 - val_mse: 30597545984.0000\n",
            "Epoch 215/400\n",
            "119/119 [==============================] - 0s 3ms/step - loss: 31249639424.0000 - mse: 31249639424.0000 - val_loss: 30586380288.0000 - val_mse: 30586380288.0000\n",
            "Epoch 216/400\n",
            "119/119 [==============================] - 0s 3ms/step - loss: 31239548928.0000 - mse: 31239548928.0000 - val_loss: 30564984832.0000 - val_mse: 30564984832.0000\n",
            "Epoch 217/400\n",
            "119/119 [==============================] - 0s 3ms/step - loss: 31181045760.0000 - mse: 31181045760.0000 - val_loss: 30724976640.0000 - val_mse: 30724976640.0000\n",
            "Epoch 218/400\n",
            "119/119 [==============================] - 0s 3ms/step - loss: 31166242816.0000 - mse: 31166242816.0000 - val_loss: 30536896512.0000 - val_mse: 30536896512.0000\n",
            "Epoch 219/400\n",
            "119/119 [==============================] - 0s 3ms/step - loss: 31142098944.0000 - mse: 31142098944.0000 - val_loss: 30558271488.0000 - val_mse: 30558271488.0000\n",
            "Epoch 220/400\n",
            "119/119 [==============================] - 0s 3ms/step - loss: 31149774848.0000 - mse: 31149774848.0000 - val_loss: 30520150016.0000 - val_mse: 30520150016.0000\n",
            "Epoch 221/400\n",
            "119/119 [==============================] - 0s 3ms/step - loss: 31120314368.0000 - mse: 31120314368.0000 - val_loss: 30487334912.0000 - val_mse: 30487334912.0000\n",
            "Epoch 222/400\n",
            "119/119 [==============================] - 0s 3ms/step - loss: 31100227584.0000 - mse: 31100227584.0000 - val_loss: 30484097024.0000 - val_mse: 30484097024.0000\n",
            "Epoch 223/400\n",
            "119/119 [==============================] - 0s 3ms/step - loss: 31047088128.0000 - mse: 31047088128.0000 - val_loss: 30553767936.0000 - val_mse: 30553767936.0000\n",
            "Epoch 224/400\n",
            "119/119 [==============================] - 0s 3ms/step - loss: 31046131712.0000 - mse: 31046131712.0000 - val_loss: 30423289856.0000 - val_mse: 30423289856.0000\n",
            "Epoch 225/400\n",
            "119/119 [==============================] - 0s 3ms/step - loss: 31043053568.0000 - mse: 31043053568.0000 - val_loss: 30453645312.0000 - val_mse: 30453645312.0000\n",
            "Epoch 226/400\n",
            "119/119 [==============================] - 0s 3ms/step - loss: 31078934528.0000 - mse: 31078934528.0000 - val_loss: 30494865408.0000 - val_mse: 30494865408.0000\n",
            "Epoch 227/400\n",
            "119/119 [==============================] - 0s 3ms/step - loss: 30999713792.0000 - mse: 30999713792.0000 - val_loss: 30384783360.0000 - val_mse: 30384783360.0000\n",
            "Epoch 228/400\n",
            "119/119 [==============================] - 0s 3ms/step - loss: 30978680832.0000 - mse: 30978680832.0000 - val_loss: 30371772416.0000 - val_mse: 30371772416.0000\n",
            "Epoch 229/400\n",
            "119/119 [==============================] - 0s 3ms/step - loss: 30964295680.0000 - mse: 30964295680.0000 - val_loss: 30514343936.0000 - val_mse: 30514343936.0000\n",
            "Epoch 230/400\n",
            "119/119 [==============================] - 0s 3ms/step - loss: 30996244480.0000 - mse: 30996244480.0000 - val_loss: 30386290688.0000 - val_mse: 30386290688.0000\n",
            "Epoch 231/400\n",
            "119/119 [==============================] - 0s 3ms/step - loss: 30957912064.0000 - mse: 30957912064.0000 - val_loss: 30380511232.0000 - val_mse: 30380511232.0000\n",
            "Epoch 232/400\n",
            "119/119 [==============================] - 0s 3ms/step - loss: 30923737088.0000 - mse: 30923737088.0000 - val_loss: 30309619712.0000 - val_mse: 30309619712.0000\n",
            "Epoch 233/400\n",
            "119/119 [==============================] - 0s 3ms/step - loss: 30908712960.0000 - mse: 30908712960.0000 - val_loss: 30345330688.0000 - val_mse: 30345330688.0000\n",
            "Epoch 234/400\n",
            "119/119 [==============================] - 0s 3ms/step - loss: 30863237120.0000 - mse: 30863237120.0000 - val_loss: 30299805696.0000 - val_mse: 30299805696.0000\n",
            "Epoch 235/400\n",
            "119/119 [==============================] - 0s 3ms/step - loss: 30861230080.0000 - mse: 30861230080.0000 - val_loss: 30300084224.0000 - val_mse: 30300084224.0000\n"
          ]
        },
        {
          "name": "stdout",
          "output_type": "stream",
          "text": [
            "Epoch 236/400\n",
            "119/119 [==============================] - 0s 3ms/step - loss: 30872418304.0000 - mse: 30872418304.0000 - val_loss: 30233606144.0000 - val_mse: 30233606144.0000\n",
            "Epoch 237/400\n",
            "119/119 [==============================] - 0s 3ms/step - loss: 30865938432.0000 - mse: 30865938432.0000 - val_loss: 30208253952.0000 - val_mse: 30208253952.0000\n",
            "Epoch 238/400\n",
            "119/119 [==============================] - 0s 3ms/step - loss: 30824140800.0000 - mse: 30824140800.0000 - val_loss: 30237827072.0000 - val_mse: 30237827072.0000\n",
            "Epoch 239/400\n",
            "119/119 [==============================] - 0s 3ms/step - loss: 30866235392.0000 - mse: 30866235392.0000 - val_loss: 30189000704.0000 - val_mse: 30189000704.0000\n",
            "Epoch 240/400\n",
            "119/119 [==============================] - 0s 3ms/step - loss: 30766006272.0000 - mse: 30766006272.0000 - val_loss: 30170914816.0000 - val_mse: 30170914816.0000\n",
            "Epoch 241/400\n",
            "119/119 [==============================] - 0s 3ms/step - loss: 30776545280.0000 - mse: 30776545280.0000 - val_loss: 30154430464.0000 - val_mse: 30154430464.0000\n",
            "Epoch 242/400\n",
            "119/119 [==============================] - 0s 3ms/step - loss: 30766714880.0000 - mse: 30766714880.0000 - val_loss: 30169206784.0000 - val_mse: 30169206784.0000\n",
            "Epoch 243/400\n",
            "119/119 [==============================] - 0s 3ms/step - loss: 30742577152.0000 - mse: 30742577152.0000 - val_loss: 30133958656.0000 - val_mse: 30133958656.0000\n",
            "Epoch 244/400\n",
            "119/119 [==============================] - 0s 3ms/step - loss: 30717849600.0000 - mse: 30717849600.0000 - val_loss: 30131505152.0000 - val_mse: 30131505152.0000\n",
            "Epoch 245/400\n",
            "119/119 [==============================] - 0s 3ms/step - loss: 30713270272.0000 - mse: 30713270272.0000 - val_loss: 30134394880.0000 - val_mse: 30134394880.0000\n",
            "Epoch 246/400\n",
            "119/119 [==============================] - 0s 3ms/step - loss: 30693138432.0000 - mse: 30693138432.0000 - val_loss: 30120484864.0000 - val_mse: 30120484864.0000\n",
            "Epoch 247/400\n",
            "119/119 [==============================] - 0s 3ms/step - loss: 30699802624.0000 - mse: 30699802624.0000 - val_loss: 30080415744.0000 - val_mse: 30080415744.0000\n",
            "Epoch 248/400\n",
            "119/119 [==============================] - 0s 3ms/step - loss: 30650671104.0000 - mse: 30650671104.0000 - val_loss: 30065963008.0000 - val_mse: 30065963008.0000\n",
            "Epoch 249/400\n",
            "119/119 [==============================] - 0s 3ms/step - loss: 30625128448.0000 - mse: 30625128448.0000 - val_loss: 30106617856.0000 - val_mse: 30106617856.0000\n",
            "Epoch 250/400\n",
            "119/119 [==============================] - 0s 3ms/step - loss: 30658850816.0000 - mse: 30658850816.0000 - val_loss: 30046214144.0000 - val_mse: 30046214144.0000\n",
            "Epoch 251/400\n",
            "119/119 [==============================] - 0s 3ms/step - loss: 30586564608.0000 - mse: 30586564608.0000 - val_loss: 30031687680.0000 - val_mse: 30031687680.0000\n",
            "Epoch 252/400\n",
            "119/119 [==============================] - 0s 3ms/step - loss: 30572816384.0000 - mse: 30572816384.0000 - val_loss: 30004127744.0000 - val_mse: 30004127744.0000\n",
            "Epoch 253/400\n",
            "119/119 [==============================] - 0s 3ms/step - loss: 30604220416.0000 - mse: 30604220416.0000 - val_loss: 29988794368.0000 - val_mse: 29988794368.0000\n",
            "Epoch 254/400\n",
            "119/119 [==============================] - 0s 3ms/step - loss: 30544734208.0000 - mse: 30544734208.0000 - val_loss: 29979826176.0000 - val_mse: 29979826176.0000\n",
            "Epoch 255/400\n",
            "119/119 [==============================] - 0s 3ms/step - loss: 30529048576.0000 - mse: 30529048576.0000 - val_loss: 29970171904.0000 - val_mse: 29970171904.0000\n",
            "Epoch 256/400\n",
            "119/119 [==============================] - 0s 3ms/step - loss: 30554523648.0000 - mse: 30554523648.0000 - val_loss: 29941086208.0000 - val_mse: 29941086208.0000\n",
            "Epoch 257/400\n",
            "119/119 [==============================] - 0s 3ms/step - loss: 30528315392.0000 - mse: 30528315392.0000 - val_loss: 29941553152.0000 - val_mse: 29941553152.0000\n",
            "Epoch 258/400\n",
            "119/119 [==============================] - 0s 3ms/step - loss: 30471784448.0000 - mse: 30471784448.0000 - val_loss: 29983289344.0000 - val_mse: 29983289344.0000\n",
            "Epoch 259/400\n",
            "119/119 [==============================] - 0s 3ms/step - loss: 30463737856.0000 - mse: 30463737856.0000 - val_loss: 29939816448.0000 - val_mse: 29939816448.0000\n",
            "Epoch 260/400\n",
            "119/119 [==============================] - 0s 3ms/step - loss: 30497290240.0000 - mse: 30497290240.0000 - val_loss: 29925994496.0000 - val_mse: 29925994496.0000\n",
            "Epoch 261/400\n",
            "119/119 [==============================] - 0s 3ms/step - loss: 30432716800.0000 - mse: 30432716800.0000 - val_loss: 29934981120.0000 - val_mse: 29934981120.0000\n",
            "Epoch 262/400\n",
            "119/119 [==============================] - 0s 3ms/step - loss: 30414870528.0000 - mse: 30414870528.0000 - val_loss: 29898461184.0000 - val_mse: 29898461184.0000\n",
            "Epoch 263/400\n",
            "119/119 [==============================] - 0s 3ms/step - loss: 30428350464.0000 - mse: 30428350464.0000 - val_loss: 29855735808.0000 - val_mse: 29855735808.0000\n",
            "Epoch 264/400\n",
            "119/119 [==============================] - 0s 3ms/step - loss: 30407577600.0000 - mse: 30407577600.0000 - val_loss: 29865101312.0000 - val_mse: 29865101312.0000\n",
            "Epoch 265/400\n",
            "119/119 [==============================] - 0s 3ms/step - loss: 30395537408.0000 - mse: 30395537408.0000 - val_loss: 29839716352.0000 - val_mse: 29839716352.0000\n",
            "Epoch 266/400\n",
            "119/119 [==============================] - 0s 3ms/step - loss: 30352793600.0000 - mse: 30352793600.0000 - val_loss: 29819082752.0000 - val_mse: 29819082752.0000\n",
            "Epoch 267/400\n",
            "119/119 [==============================] - 0s 3ms/step - loss: 30364413952.0000 - mse: 30364413952.0000 - val_loss: 29842128896.0000 - val_mse: 29842128896.0000\n",
            "Epoch 268/400\n",
            "119/119 [==============================] - 0s 3ms/step - loss: 30343317504.0000 - mse: 30343317504.0000 - val_loss: 29805580288.0000 - val_mse: 29805580288.0000\n",
            "Epoch 269/400\n",
            "119/119 [==============================] - 0s 3ms/step - loss: 30350929920.0000 - mse: 30350929920.0000 - val_loss: 29804742656.0000 - val_mse: 29804742656.0000\n",
            "Epoch 270/400\n",
            "119/119 [==============================] - 0s 3ms/step - loss: 30321330176.0000 - mse: 30321330176.0000 - val_loss: 29744635904.0000 - val_mse: 29744635904.0000\n",
            "Epoch 271/400\n",
            "119/119 [==============================] - 0s 3ms/step - loss: 30270676992.0000 - mse: 30270676992.0000 - val_loss: 29729009664.0000 - val_mse: 29729009664.0000\n",
            "Epoch 272/400\n",
            "119/119 [==============================] - 0s 3ms/step - loss: 30279102464.0000 - mse: 30279102464.0000 - val_loss: 29701062656.0000 - val_mse: 29701062656.0000\n",
            "Epoch 273/400\n",
            "119/119 [==============================] - 0s 3ms/step - loss: 30247018496.0000 - mse: 30247018496.0000 - val_loss: 29712850944.0000 - val_mse: 29712850944.0000\n",
            "Epoch 274/400\n",
            "119/119 [==============================] - 0s 3ms/step - loss: 30269523968.0000 - mse: 30269523968.0000 - val_loss: 29756565504.0000 - val_mse: 29756565504.0000\n",
            "Epoch 275/400\n",
            "119/119 [==============================] - 0s 3ms/step - loss: 30231773184.0000 - mse: 30231773184.0000 - val_loss: 29672060928.0000 - val_mse: 29672060928.0000\n",
            "Epoch 276/400\n",
            "119/119 [==============================] - 0s 3ms/step - loss: 30256369664.0000 - mse: 30256369664.0000 - val_loss: 29647679488.0000 - val_mse: 29647679488.0000\n",
            "Epoch 277/400\n",
            "119/119 [==============================] - 0s 3ms/step - loss: 30201010176.0000 - mse: 30201010176.0000 - val_loss: 29639221248.0000 - val_mse: 29639221248.0000\n",
            "Epoch 278/400\n",
            "119/119 [==============================] - 0s 3ms/step - loss: 30166018048.0000 - mse: 30166018048.0000 - val_loss: 29617924096.0000 - val_mse: 29617924096.0000\n",
            "Epoch 279/400\n",
            "119/119 [==============================] - 0s 3ms/step - loss: 30139453440.0000 - mse: 30139453440.0000 - val_loss: 29695881216.0000 - val_mse: 29695881216.0000\n",
            "Epoch 280/400\n",
            "119/119 [==============================] - 0s 3ms/step - loss: 30190534656.0000 - mse: 30190534656.0000 - val_loss: 29605969920.0000 - val_mse: 29605969920.0000\n",
            "Epoch 281/400\n",
            "119/119 [==============================] - 0s 3ms/step - loss: 30122559488.0000 - mse: 30122559488.0000 - val_loss: 29681113088.0000 - val_mse: 29681113088.0000\n",
            "Epoch 282/400\n",
            "119/119 [==============================] - 0s 3ms/step - loss: 30059683840.0000 - mse: 30059683840.0000 - val_loss: 29561688064.0000 - val_mse: 29561688064.0000\n"
          ]
        },
        {
          "name": "stdout",
          "output_type": "stream",
          "text": [
            "Epoch 283/400\n",
            "119/119 [==============================] - 0s 3ms/step - loss: 30099263488.0000 - mse: 30099263488.0000 - val_loss: 29546866688.0000 - val_mse: 29546866688.0000\n",
            "Epoch 284/400\n",
            "119/119 [==============================] - 0s 3ms/step - loss: 30054068224.0000 - mse: 30054068224.0000 - val_loss: 29527420928.0000 - val_mse: 29527420928.0000\n",
            "Epoch 285/400\n",
            "119/119 [==============================] - 0s 3ms/step - loss: 30084820992.0000 - mse: 30084820992.0000 - val_loss: 29543274496.0000 - val_mse: 29543274496.0000\n",
            "Epoch 286/400\n",
            "119/119 [==============================] - 0s 3ms/step - loss: 30016868352.0000 - mse: 30016868352.0000 - val_loss: 29577023488.0000 - val_mse: 29577023488.0000\n",
            "Epoch 287/400\n",
            "119/119 [==============================] - 0s 3ms/step - loss: 30061740032.0000 - mse: 30061740032.0000 - val_loss: 29479786496.0000 - val_mse: 29479786496.0000\n",
            "Epoch 288/400\n",
            "119/119 [==============================] - 0s 3ms/step - loss: 30038917120.0000 - mse: 30038917120.0000 - val_loss: 29571907584.0000 - val_mse: 29571907584.0000\n",
            "Epoch 289/400\n",
            "119/119 [==============================] - 0s 3ms/step - loss: 29991307264.0000 - mse: 29991307264.0000 - val_loss: 29508698112.0000 - val_mse: 29508698112.0000\n",
            "Epoch 290/400\n",
            "119/119 [==============================] - 0s 3ms/step - loss: 30014455808.0000 - mse: 30014455808.0000 - val_loss: 29419780096.0000 - val_mse: 29419780096.0000\n",
            "Epoch 291/400\n",
            "119/119 [==============================] - 0s 3ms/step - loss: 29943445504.0000 - mse: 29943445504.0000 - val_loss: 29445498880.0000 - val_mse: 29445498880.0000\n",
            "Epoch 292/400\n",
            "119/119 [==============================] - 0s 3ms/step - loss: 29979598848.0000 - mse: 29979598848.0000 - val_loss: 29397442560.0000 - val_mse: 29397442560.0000\n",
            "Epoch 293/400\n",
            "119/119 [==============================] - 0s 3ms/step - loss: 29935986688.0000 - mse: 29935986688.0000 - val_loss: 29380646912.0000 - val_mse: 29380646912.0000\n",
            "Epoch 294/400\n",
            "119/119 [==============================] - 0s 3ms/step - loss: 29903720448.0000 - mse: 29903720448.0000 - val_loss: 29391480832.0000 - val_mse: 29391480832.0000\n",
            "Epoch 295/400\n",
            "119/119 [==============================] - 0s 3ms/step - loss: 29954299904.0000 - mse: 29954299904.0000 - val_loss: 29371691008.0000 - val_mse: 29371691008.0000\n",
            "Epoch 296/400\n",
            "119/119 [==============================] - 0s 3ms/step - loss: 29884035072.0000 - mse: 29884035072.0000 - val_loss: 29360527360.0000 - val_mse: 29360527360.0000\n",
            "Epoch 297/400\n",
            "119/119 [==============================] - 0s 3ms/step - loss: 29836550144.0000 - mse: 29836550144.0000 - val_loss: 29326708736.0000 - val_mse: 29326708736.0000\n",
            "Epoch 298/400\n",
            "119/119 [==============================] - 0s 3ms/step - loss: 29842311168.0000 - mse: 29842311168.0000 - val_loss: 29337554944.0000 - val_mse: 29337554944.0000\n",
            "Epoch 299/400\n",
            "119/119 [==============================] - 0s 3ms/step - loss: 29824077824.0000 - mse: 29824077824.0000 - val_loss: 29307881472.0000 - val_mse: 29307881472.0000\n",
            "Epoch 300/400\n",
            "119/119 [==============================] - 0s 3ms/step - loss: 29786206208.0000 - mse: 29786206208.0000 - val_loss: 29290532864.0000 - val_mse: 29290532864.0000\n",
            "Epoch 301/400\n",
            "119/119 [==============================] - 0s 3ms/step - loss: 29785178112.0000 - mse: 29785178112.0000 - val_loss: 29330040832.0000 - val_mse: 29330040832.0000\n",
            "Epoch 302/400\n",
            "119/119 [==============================] - 0s 3ms/step - loss: 29721597952.0000 - mse: 29721597952.0000 - val_loss: 29300654080.0000 - val_mse: 29300654080.0000\n",
            "Epoch 303/400\n",
            "119/119 [==============================] - 0s 3ms/step - loss: 29763377152.0000 - mse: 29763377152.0000 - val_loss: 29245810688.0000 - val_mse: 29245810688.0000\n",
            "Epoch 304/400\n",
            "119/119 [==============================] - 0s 3ms/step - loss: 29729116160.0000 - mse: 29729116160.0000 - val_loss: 29250891776.0000 - val_mse: 29250891776.0000\n",
            "Epoch 305/400\n",
            "119/119 [==============================] - 0s 3ms/step - loss: 29690333184.0000 - mse: 29690333184.0000 - val_loss: 29220253696.0000 - val_mse: 29220253696.0000\n",
            "Epoch 306/400\n",
            "119/119 [==============================] - 0s 3ms/step - loss: 29675624448.0000 - mse: 29675624448.0000 - val_loss: 29346217984.0000 - val_mse: 29346217984.0000\n",
            "Epoch 307/400\n",
            "119/119 [==============================] - 0s 3ms/step - loss: 29681790976.0000 - mse: 29681790976.0000 - val_loss: 29206482944.0000 - val_mse: 29206482944.0000\n",
            "Epoch 308/400\n",
            "119/119 [==============================] - 0s 3ms/step - loss: 29680103424.0000 - mse: 29680103424.0000 - val_loss: 29257193472.0000 - val_mse: 29257193472.0000\n",
            "Epoch 309/400\n",
            "119/119 [==============================] - 0s 3ms/step - loss: 29627392000.0000 - mse: 29627392000.0000 - val_loss: 29178671104.0000 - val_mse: 29178671104.0000\n",
            "Epoch 310/400\n",
            "119/119 [==============================] - 0s 3ms/step - loss: 29599555584.0000 - mse: 29599555584.0000 - val_loss: 29149949952.0000 - val_mse: 29149949952.0000\n",
            "Epoch 311/400\n",
            "119/119 [==============================] - 0s 3ms/step - loss: 29579122688.0000 - mse: 29579122688.0000 - val_loss: 29114114048.0000 - val_mse: 29114114048.0000\n",
            "Epoch 312/400\n",
            "119/119 [==============================] - 0s 3ms/step - loss: 29577719808.0000 - mse: 29577719808.0000 - val_loss: 29176463360.0000 - val_mse: 29176463360.0000\n",
            "Epoch 313/400\n",
            "119/119 [==============================] - 0s 3ms/step - loss: 29642002432.0000 - mse: 29642002432.0000 - val_loss: 29083523072.0000 - val_mse: 29083523072.0000\n",
            "Epoch 314/400\n",
            "119/119 [==============================] - 0s 3ms/step - loss: 29550514176.0000 - mse: 29550514176.0000 - val_loss: 29122543616.0000 - val_mse: 29122543616.0000\n",
            "Epoch 315/400\n",
            "119/119 [==============================] - 0s 3ms/step - loss: 29536540672.0000 - mse: 29536540672.0000 - val_loss: 29051258880.0000 - val_mse: 29051258880.0000\n",
            "Epoch 316/400\n",
            "119/119 [==============================] - 0s 3ms/step - loss: 29471989760.0000 - mse: 29471989760.0000 - val_loss: 29066201088.0000 - val_mse: 29066201088.0000\n",
            "Epoch 317/400\n",
            "119/119 [==============================] - 0s 3ms/step - loss: 29476669440.0000 - mse: 29476669440.0000 - val_loss: 29019174912.0000 - val_mse: 29019174912.0000\n",
            "Epoch 318/400\n",
            "119/119 [==============================] - 0s 3ms/step - loss: 29490747392.0000 - mse: 29490747392.0000 - val_loss: 29087141888.0000 - val_mse: 29087141888.0000\n",
            "Epoch 319/400\n",
            "119/119 [==============================] - 0s 3ms/step - loss: 29453027328.0000 - mse: 29453027328.0000 - val_loss: 28988174336.0000 - val_mse: 28988174336.0000\n",
            "Epoch 320/400\n",
            "119/119 [==============================] - 0s 3ms/step - loss: 29422501888.0000 - mse: 29422501888.0000 - val_loss: 29100777472.0000 - val_mse: 29100777472.0000\n",
            "Epoch 321/400\n",
            "119/119 [==============================] - 0s 3ms/step - loss: 29400164352.0000 - mse: 29400164352.0000 - val_loss: 28968460288.0000 - val_mse: 28968460288.0000\n",
            "Epoch 322/400\n",
            "119/119 [==============================] - 0s 3ms/step - loss: 29415264256.0000 - mse: 29415264256.0000 - val_loss: 29096986624.0000 - val_mse: 29096986624.0000\n",
            "Epoch 323/400\n",
            "119/119 [==============================] - 0s 3ms/step - loss: 29363908608.0000 - mse: 29363908608.0000 - val_loss: 28970274816.0000 - val_mse: 28970274816.0000\n",
            "Epoch 324/400\n",
            "119/119 [==============================] - 0s 3ms/step - loss: 29349806080.0000 - mse: 29349806080.0000 - val_loss: 29030221824.0000 - val_mse: 29030221824.0000\n",
            "Epoch 325/400\n",
            "119/119 [==============================] - 0s 3ms/step - loss: 29376655360.0000 - mse: 29376655360.0000 - val_loss: 28922644480.0000 - val_mse: 28922644480.0000\n",
            "Epoch 326/400\n",
            "119/119 [==============================] - 0s 3ms/step - loss: 29329504256.0000 - mse: 29329504256.0000 - val_loss: 28933607424.0000 - val_mse: 28933607424.0000\n",
            "Epoch 327/400\n",
            "119/119 [==============================] - 0s 3ms/step - loss: 29293058048.0000 - mse: 29293058048.0000 - val_loss: 28923508736.0000 - val_mse: 28923508736.0000\n",
            "Epoch 328/400\n",
            "119/119 [==============================] - 0s 3ms/step - loss: 29230934016.0000 - mse: 29230934016.0000 - val_loss: 28956358656.0000 - val_mse: 28956358656.0000\n",
            "Epoch 329/400\n",
            "119/119 [==============================] - 0s 3ms/step - loss: 29274720256.0000 - mse: 29274720256.0000 - val_loss: 28853030912.0000 - val_mse: 28853030912.0000\n"
          ]
        },
        {
          "name": "stdout",
          "output_type": "stream",
          "text": [
            "Epoch 330/400\n",
            "119/119 [==============================] - 0s 3ms/step - loss: 29221074944.0000 - mse: 29221074944.0000 - val_loss: 28850386944.0000 - val_mse: 28850386944.0000\n",
            "Epoch 331/400\n",
            "119/119 [==============================] - 0s 3ms/step - loss: 29269413888.0000 - mse: 29269413888.0000 - val_loss: 28827172864.0000 - val_mse: 28827172864.0000\n",
            "Epoch 332/400\n",
            "119/119 [==============================] - 0s 3ms/step - loss: 29230526464.0000 - mse: 29230526464.0000 - val_loss: 28824608768.0000 - val_mse: 28824608768.0000\n",
            "Epoch 333/400\n",
            "119/119 [==============================] - 0s 3ms/step - loss: 29179049984.0000 - mse: 29179049984.0000 - val_loss: 28827697152.0000 - val_mse: 28827697152.0000\n",
            "Epoch 334/400\n",
            "119/119 [==============================] - 0s 3ms/step - loss: 29185400832.0000 - mse: 29185400832.0000 - val_loss: 28791914496.0000 - val_mse: 28791914496.0000\n",
            "Epoch 335/400\n",
            "119/119 [==============================] - 0s 3ms/step - loss: 29140801536.0000 - mse: 29140801536.0000 - val_loss: 28862072832.0000 - val_mse: 28862072832.0000\n",
            "Epoch 336/400\n",
            "119/119 [==============================] - 0s 3ms/step - loss: 29133221888.0000 - mse: 29133221888.0000 - val_loss: 28834387968.0000 - val_mse: 28834387968.0000\n",
            "Epoch 337/400\n",
            "119/119 [==============================] - 0s 3ms/step - loss: 29094434816.0000 - mse: 29094434816.0000 - val_loss: 28747673600.0000 - val_mse: 28747673600.0000\n",
            "Epoch 338/400\n",
            "119/119 [==============================] - 0s 3ms/step - loss: 29101414400.0000 - mse: 29101414400.0000 - val_loss: 28787986432.0000 - val_mse: 28787986432.0000\n",
            "Epoch 339/400\n",
            "119/119 [==============================] - 0s 3ms/step - loss: 29103478784.0000 - mse: 29103478784.0000 - val_loss: 28716570624.0000 - val_mse: 28716570624.0000\n",
            "Epoch 340/400\n",
            "119/119 [==============================] - 0s 3ms/step - loss: 29040662528.0000 - mse: 29040662528.0000 - val_loss: 28748630016.0000 - val_mse: 28748630016.0000\n",
            "Epoch 341/400\n",
            "119/119 [==============================] - 0s 3ms/step - loss: 29082036224.0000 - mse: 29082036224.0000 - val_loss: 28818237440.0000 - val_mse: 28818237440.0000\n",
            "Epoch 342/400\n",
            "119/119 [==============================] - 0s 3ms/step - loss: 28994701312.0000 - mse: 28994701312.0000 - val_loss: 28744450048.0000 - val_mse: 28744450048.0000\n",
            "Epoch 343/400\n",
            "119/119 [==============================] - 0s 3ms/step - loss: 28992012288.0000 - mse: 28992012288.0000 - val_loss: 28694345728.0000 - val_mse: 28694345728.0000\n",
            "Epoch 344/400\n",
            "119/119 [==============================] - 0s 3ms/step - loss: 28977580032.0000 - mse: 28977580032.0000 - val_loss: 28666742784.0000 - val_mse: 28666742784.0000\n",
            "Epoch 345/400\n",
            "119/119 [==============================] - 0s 3ms/step - loss: 28936462336.0000 - mse: 28936462336.0000 - val_loss: 28654405632.0000 - val_mse: 28654405632.0000\n",
            "Epoch 346/400\n",
            "119/119 [==============================] - 0s 3ms/step - loss: 28929970176.0000 - mse: 28929970176.0000 - val_loss: 28737570816.0000 - val_mse: 28737570816.0000\n",
            "Epoch 347/400\n",
            "119/119 [==============================] - 0s 3ms/step - loss: 28915640320.0000 - mse: 28915640320.0000 - val_loss: 28596371456.0000 - val_mse: 28596371456.0000\n",
            "Epoch 348/400\n",
            "119/119 [==============================] - 0s 3ms/step - loss: 28938989568.0000 - mse: 28938989568.0000 - val_loss: 28686948352.0000 - val_mse: 28686948352.0000\n",
            "Epoch 349/400\n",
            "119/119 [==============================] - 0s 3ms/step - loss: 28990265344.0000 - mse: 28990265344.0000 - val_loss: 28604751872.0000 - val_mse: 28604751872.0000\n",
            "Epoch 350/400\n",
            "119/119 [==============================] - 0s 3ms/step - loss: 28845543424.0000 - mse: 28845543424.0000 - val_loss: 28607371264.0000 - val_mse: 28607371264.0000\n",
            "Epoch 351/400\n",
            "119/119 [==============================] - 0s 3ms/step - loss: 28910374912.0000 - mse: 28910374912.0000 - val_loss: 28690587648.0000 - val_mse: 28690587648.0000\n",
            "Epoch 352/400\n",
            "119/119 [==============================] - 0s 3ms/step - loss: 28834957312.0000 - mse: 28834957312.0000 - val_loss: 28534114304.0000 - val_mse: 28534114304.0000\n",
            "Epoch 353/400\n",
            "119/119 [==============================] - 0s 3ms/step - loss: 28853942272.0000 - mse: 28853942272.0000 - val_loss: 28508608512.0000 - val_mse: 28508608512.0000\n",
            "Epoch 354/400\n",
            "119/119 [==============================] - 0s 3ms/step - loss: 28819007488.0000 - mse: 28819007488.0000 - val_loss: 28535205888.0000 - val_mse: 28535205888.0000\n",
            "Epoch 355/400\n",
            "119/119 [==============================] - 0s 3ms/step - loss: 28779872256.0000 - mse: 28779872256.0000 - val_loss: 28493617152.0000 - val_mse: 28493617152.0000\n",
            "Epoch 356/400\n",
            "119/119 [==============================] - 0s 3ms/step - loss: 28747028480.0000 - mse: 28747028480.0000 - val_loss: 28463124480.0000 - val_mse: 28463124480.0000\n",
            "Epoch 357/400\n",
            "119/119 [==============================] - 0s 3ms/step - loss: 28806285312.0000 - mse: 28806285312.0000 - val_loss: 28505425920.0000 - val_mse: 28505425920.0000\n",
            "Epoch 358/400\n",
            "119/119 [==============================] - 0s 3ms/step - loss: 28743258112.0000 - mse: 28743258112.0000 - val_loss: 28474677248.0000 - val_mse: 28474677248.0000\n",
            "Epoch 359/400\n",
            "119/119 [==============================] - 0s 3ms/step - loss: 28728252416.0000 - mse: 28728252416.0000 - val_loss: 28415922176.0000 - val_mse: 28415922176.0000\n",
            "Epoch 360/400\n",
            "119/119 [==============================] - 0s 3ms/step - loss: 28675846144.0000 - mse: 28675846144.0000 - val_loss: 28432082944.0000 - val_mse: 28432082944.0000\n",
            "Epoch 361/400\n",
            "119/119 [==============================] - 0s 3ms/step - loss: 28666030080.0000 - mse: 28666030080.0000 - val_loss: 28378454016.0000 - val_mse: 28378454016.0000\n",
            "Epoch 362/400\n",
            "119/119 [==============================] - 0s 3ms/step - loss: 28653338624.0000 - mse: 28653338624.0000 - val_loss: 28408008704.0000 - val_mse: 28408008704.0000\n",
            "Epoch 363/400\n",
            "119/119 [==============================] - 0s 3ms/step - loss: 28627146752.0000 - mse: 28627146752.0000 - val_loss: 28464156672.0000 - val_mse: 28464156672.0000\n",
            "Epoch 364/400\n",
            "119/119 [==============================] - 0s 3ms/step - loss: 28640425984.0000 - mse: 28640425984.0000 - val_loss: 28426833920.0000 - val_mse: 28426833920.0000\n",
            "Epoch 365/400\n",
            "119/119 [==============================] - 0s 3ms/step - loss: 28590338048.0000 - mse: 28590338048.0000 - val_loss: 28368926720.0000 - val_mse: 28368926720.0000\n",
            "Epoch 366/400\n",
            "119/119 [==============================] - 0s 3ms/step - loss: 28569380864.0000 - mse: 28569380864.0000 - val_loss: 28300400640.0000 - val_mse: 28300400640.0000\n",
            "Epoch 367/400\n",
            "119/119 [==============================] - 0s 3ms/step - loss: 28558366720.0000 - mse: 28558366720.0000 - val_loss: 28296779776.0000 - val_mse: 28296779776.0000\n",
            "Epoch 368/400\n",
            "119/119 [==============================] - 0s 3ms/step - loss: 28560191488.0000 - mse: 28560191488.0000 - val_loss: 28385763328.0000 - val_mse: 28385763328.0000\n",
            "Epoch 369/400\n",
            "119/119 [==============================] - 0s 3ms/step - loss: 28528023552.0000 - mse: 28528023552.0000 - val_loss: 28258361344.0000 - val_mse: 28258361344.0000\n",
            "Epoch 370/400\n",
            "119/119 [==============================] - 0s 3ms/step - loss: 28522113024.0000 - mse: 28522113024.0000 - val_loss: 28304537600.0000 - val_mse: 28304537600.0000\n",
            "Epoch 371/400\n",
            "119/119 [==============================] - 0s 3ms/step - loss: 28506216448.0000 - mse: 28506216448.0000 - val_loss: 28344494080.0000 - val_mse: 28344494080.0000\n",
            "Epoch 372/400\n",
            "119/119 [==============================] - 0s 3ms/step - loss: 28482906112.0000 - mse: 28482906112.0000 - val_loss: 28320135168.0000 - val_mse: 28320135168.0000\n",
            "Epoch 373/400\n",
            "119/119 [==============================] - 0s 3ms/step - loss: 28461850624.0000 - mse: 28461850624.0000 - val_loss: 28229666816.0000 - val_mse: 28229666816.0000\n",
            "Epoch 374/400\n",
            "119/119 [==============================] - 0s 3ms/step - loss: 28440336384.0000 - mse: 28440336384.0000 - val_loss: 28176470016.0000 - val_mse: 28176470016.0000\n",
            "Epoch 375/400\n",
            "119/119 [==============================] - 0s 3ms/step - loss: 28420370432.0000 - mse: 28420370432.0000 - val_loss: 28339572736.0000 - val_mse: 28339572736.0000\n",
            "Epoch 376/400\n",
            "119/119 [==============================] - 0s 3ms/step - loss: 28414197760.0000 - mse: 28414197760.0000 - val_loss: 28208324608.0000 - val_mse: 28208324608.0000\n"
          ]
        },
        {
          "name": "stdout",
          "output_type": "stream",
          "text": [
            "Epoch 377/400\n",
            "119/119 [==============================] - 0s 3ms/step - loss: 28435486720.0000 - mse: 28435486720.0000 - val_loss: 28143945728.0000 - val_mse: 28143945728.0000\n",
            "Epoch 378/400\n",
            "119/119 [==============================] - 0s 3ms/step - loss: 28377753600.0000 - mse: 28377753600.0000 - val_loss: 28163059712.0000 - val_mse: 28163059712.0000\n",
            "Epoch 379/400\n",
            "119/119 [==============================] - 0s 3ms/step - loss: 28350750720.0000 - mse: 28350750720.0000 - val_loss: 28107945984.0000 - val_mse: 28107945984.0000\n",
            "Epoch 380/400\n",
            "119/119 [==============================] - 0s 3ms/step - loss: 28336304128.0000 - mse: 28336304128.0000 - val_loss: 28119121920.0000 - val_mse: 28119121920.0000\n",
            "Epoch 381/400\n",
            "119/119 [==============================] - 0s 3ms/step - loss: 28356214784.0000 - mse: 28356214784.0000 - val_loss: 28109701120.0000 - val_mse: 28109701120.0000\n",
            "Epoch 382/400\n",
            "119/119 [==============================] - 0s 3ms/step - loss: 28307306496.0000 - mse: 28307306496.0000 - val_loss: 28089970688.0000 - val_mse: 28089970688.0000\n",
            "Epoch 383/400\n",
            "119/119 [==============================] - 0s 3ms/step - loss: 28341024768.0000 - mse: 28341024768.0000 - val_loss: 28062494720.0000 - val_mse: 28062494720.0000\n",
            "Epoch 384/400\n",
            "119/119 [==============================] - 0s 3ms/step - loss: 28296445952.0000 - mse: 28296445952.0000 - val_loss: 28064356352.0000 - val_mse: 28064356352.0000\n",
            "Epoch 385/400\n",
            "119/119 [==============================] - 0s 3ms/step - loss: 28269490176.0000 - mse: 28269490176.0000 - val_loss: 28058423296.0000 - val_mse: 28058423296.0000\n",
            "Epoch 386/400\n",
            "119/119 [==============================] - 0s 3ms/step - loss: 28255600640.0000 - mse: 28255600640.0000 - val_loss: 28021022720.0000 - val_mse: 28021022720.0000\n",
            "Epoch 387/400\n",
            "119/119 [==============================] - 0s 3ms/step - loss: 28221904896.0000 - mse: 28221904896.0000 - val_loss: 28013684736.0000 - val_mse: 28013684736.0000\n",
            "Epoch 388/400\n",
            "119/119 [==============================] - 0s 3ms/step - loss: 28231712768.0000 - mse: 28231712768.0000 - val_loss: 28017129472.0000 - val_mse: 28017129472.0000\n",
            "Epoch 389/400\n",
            "119/119 [==============================] - 0s 3ms/step - loss: 28188983296.0000 - mse: 28188983296.0000 - val_loss: 28100491264.0000 - val_mse: 28100491264.0000\n",
            "Epoch 390/400\n",
            "119/119 [==============================] - 0s 3ms/step - loss: 28197715968.0000 - mse: 28197715968.0000 - val_loss: 28008204288.0000 - val_mse: 28008204288.0000\n",
            "Epoch 391/400\n",
            "119/119 [==============================] - 0s 3ms/step - loss: 28189878272.0000 - mse: 28189878272.0000 - val_loss: 27964260352.0000 - val_mse: 27964260352.0000\n",
            "Epoch 392/400\n",
            "119/119 [==============================] - 0s 3ms/step - loss: 28165533696.0000 - mse: 28165533696.0000 - val_loss: 27940298752.0000 - val_mse: 27940298752.0000\n",
            "Epoch 393/400\n",
            "119/119 [==============================] - 0s 3ms/step - loss: 28139851776.0000 - mse: 28139851776.0000 - val_loss: 27947538432.0000 - val_mse: 27947538432.0000\n",
            "Epoch 394/400\n",
            "119/119 [==============================] - 0s 3ms/step - loss: 28181817344.0000 - mse: 28181817344.0000 - val_loss: 27919316992.0000 - val_mse: 27919316992.0000\n",
            "Epoch 395/400\n",
            "119/119 [==============================] - 0s 3ms/step - loss: 28099198976.0000 - mse: 28099198976.0000 - val_loss: 27919122432.0000 - val_mse: 27919122432.0000\n",
            "Epoch 396/400\n",
            "119/119 [==============================] - 0s 3ms/step - loss: 28113969152.0000 - mse: 28113969152.0000 - val_loss: 27897704448.0000 - val_mse: 27897704448.0000\n",
            "Epoch 397/400\n",
            "119/119 [==============================] - 0s 3ms/step - loss: 28079011840.0000 - mse: 28079011840.0000 - val_loss: 27903705088.0000 - val_mse: 27903705088.0000\n",
            "Epoch 398/400\n",
            "119/119 [==============================] - 0s 3ms/step - loss: 28118554624.0000 - mse: 28118554624.0000 - val_loss: 27880728576.0000 - val_mse: 27880728576.0000\n",
            "Epoch 399/400\n",
            "119/119 [==============================] - 0s 3ms/step - loss: 28048556032.0000 - mse: 28048556032.0000 - val_loss: 27875891200.0000 - val_mse: 27875891200.0000\n",
            "Epoch 400/400\n",
            "119/119 [==============================] - 0s 3ms/step - loss: 28038225920.0000 - mse: 28038225920.0000 - val_loss: 27845167104.0000 - val_mse: 27845167104.0000\n"
          ]
        },
        {
          "data": {
            "text/plain": [
              "<keras.callbacks.History at 0x20bd5b7a640>"
            ]
          },
          "execution_count": 58,
          "metadata": {},
          "output_type": "execute_result"
        }
      ],
      "source": [
        "model.fit(x=X_train,y=y_train.values,\n",
        "          validation_data=(X_valid,y_valid.values),\n",
        "          batch_size=128,epochs=400)\n"
      ]
    },
    {
      "cell_type": "markdown",
      "metadata": {
        "id": "JNOXuhyNNShQ"
      },
      "source": [
        "__Training loss per epoch__\n",
        "\n",
        "This plot shows the training loss per epoch.\n",
        "This plot helps us to see if there is overfitting in the model. In this case there is no overfitting because both lines go down at the same time."
      ]
    },
    {
      "cell_type": "code",
      "execution_count": null,
      "metadata": {
        "scrolled": true,
        "id": "z22I0JVDNShQ",
        "outputId": "23c32bb9-7cae-49ed-8019-7e91a60948df"
      },
      "outputs": [
        {
          "data": {
            "image/png": "[encoded data removed]",
            "text/plain": [
              "<Figure size 1080x360 with 1 Axes>"
            ]
          },
          "metadata": {},
          "output_type": "display_data"
        }
      ],
      "source": [
        "losses = pd.DataFrame(model.history.history)\n",
        "\n",
        "plt.figure(figsize=(15,5))\n",
        "sns.lineplot(data=losses,lw=3)\n",
        "plt.xlabel('Epochs')\n",
        "plt.ylabel('Loss')\n",
        "plt.title('Training Loss per Epoch')\n",
        "sns.despine()"
      ]
    },
    {
      "cell_type": "markdown",
      "metadata": {
        "id": "3O1aRGLlNShR"
      },
      "source": [
        "__Regression Evaluation Metrics__\n",
        "\n",
        "Mean Absolute Error (MAE) is the mean of the absolute value of the errors:\n",
        "\n",
        "n∑i=1/n|yi−y^i|\n",
        " \n",
        "Mean Squared Error (MSE) is the mean of the squared errors:\n",
        "\n",
        "n∑i=1/n(yi−y^i)2\n",
        " \n",
        "Root Mean Squared Error (RMSE) is the square root of the mean of the squared errors:\n",
        "\n",
        "n∑i=1 √1/n(yi−y^i)2\n",
        " \n",
        "\n",
        "__Comparing these metrics__\n",
        "\n",
        "MAE is the easiest to understand, because it's the average error.\n",
        "MSE is more popular than MAE, because MSE \"punishes\" larger errors, which tends to be useful in the real world.\n",
        "RMSE is even more popular than MSE, because RMSE is interpretable in the \"y\" units."
      ]
    },
    {
      "cell_type": "markdown",
      "metadata": {
        "id": "00hdUE-JNShR"
      },
      "source": [
        "__Prediction (What we do on brand new data)__\n",
        "\n",
        "In this part we are giving the model the test set to get a list of predictions. Then we compare the correct values with the list of predictions. We use different metrics to compare the predictions, in this case we use MAE, MSE, RMSE and Variance Regression Score.\n",
        "\n",
        "Let us start by analyzing the MAE, which is 103,500. This means that our model is off on average about `$100,000`.\n",
        "\n",
        "Is that MAE good or bad?\n",
        "\n",
        "For that we must take into account our original data set and see what kind of values we have. For instance, the mean is 540,000, therefore the MEA is about 19% of the mean price. This is not a particularly good result.\n",
        "\n",
        "To better understand this error, we can use the variance regression score, where the best possible score is 1.0 and lower values are worse. This tells you how much variance is being explain by your model. In our case we have 0.80 which is a normal result."
      ]
    },
    {
      "cell_type": "code",
      "execution_count": null,
      "metadata": {
        "id": "OGGV1x2uNShR"
      },
      "outputs": [],
      "source": [
        "# evaluation on test data\n",
        "from sklearn.metrics import mean_squared_error,mean_absolute_error,explained_variance_score\n",
        "from sklearn.metrics import classification_report,confusion_matrix"
      ]
    },
    {
      "cell_type": "code",
      "execution_count": null,
      "metadata": {
        "id": "J4Oy_H4RNShR",
        "outputId": "72447a89-c033-4155-eb6d-4547d078c87c"
      },
      "outputs": [
        {
          "name": "stdout",
          "output_type": "stream",
          "text": [
            "MAE:  103174.76674795651\n",
            "MSE:  27845163702.41099\n",
            "RMSE:  166868.70198575582\n",
            "Variance Regression Score:  0.8015103207724289\n",
            "\n",
            "\n",
            "Descriptive Statistics:\n",
            " count    2.161300e+04\n",
            "mean     5.400881e+05\n",
            "std      3.671272e+05\n",
            "min      7.500000e+04\n",
            "25%      3.219500e+05\n",
            "50%      4.500000e+05\n",
            "75%      6.450000e+05\n",
            "max      7.700000e+06\n",
            "Name: price, dtype: float64\n"
          ]
        }
      ],
      "source": [
        "# predictions on the test set\n",
        "predictions = model.predict(X_valid)\n",
        "\n",
        "print('MAE: ', mean_absolute_error(y_valid,predictions))\n",
        "print('MSE: ', mean_squared_error(y_valid,predictions))\n",
        "print('RMSE: ', np.sqrt(mean_squared_error(y_valid,predictions)))\n",
        "print('Variance Regression Score: ', explained_variance_score(y_valid,predictions))\n",
        "\n",
        "print('\\n\\nDescriptive Statistics:\\n',housePrices['price'].describe())"
      ]
    },
    {
      "cell_type": "markdown",
      "metadata": {
        "id": "ysQ5xZvENShS"
      },
      "source": [
        "__Model predictions vs perfect fit__\n",
        "\n",
        "We can compare the model predictions with a perfect fit to see how accurate the model is.\n",
        "\n",
        "The red line represents the perfect prediction.\n",
        "\n",
        "We are being punish by the outliers, which are the expensive houses. Our model is not good predicting luxury houses.\n",
        "\n",
        "On the other hand, our model is good predicting the price of houses between 0 and $2 million. There is clearly a good fit.\n",
        "\n",
        "It may be worth it retraining our model just on price houses below $3 million.  df[df['price'] <= 3000000]"
      ]
    },
    {
      "cell_type": "code",
      "execution_count": null,
      "metadata": {
        "id": "Gmr_j2G0NShS",
        "outputId": "67d811a4-31fa-467b-b6e1-6960b7c2f057"
      },
      "outputs": [
        {
          "name": "stderr",
          "output_type": "stream",
          "text": [
            "C:\\Users\\JHON\\miniconda3\\lib\\site-packages\\seaborn\\distributions.py:2619: FutureWarning: `distplot` is a deprecated function and will be removed in a future version. Please adapt your code to use either `displot` (a figure-level function with similar flexibility) or `histplot` (an axes-level function for histograms).\n",
            "  warnings.warn(msg, FutureWarning)\n"
          ]
        },
        {
          "data": {
            "text/plain": [
              "[Text(0.5, 0, 'Test True Y'),\n",
              " Text(0, 0.5, 'Model Predictions'),\n",
              " Text(0.5, 1.0, 'Model Predictions vs Perfect Fit')]"
            ]
          },
          "execution_count": 63,
          "metadata": {},
          "output_type": "execute_result"
        },
        {
          "data": {
            "image/png": "[encoded data removed]",
            "text/plain": [
              "<Figure size 1080x360 with 2 Axes>"
            ]
          },
          "metadata": {},
          "output_type": "display_data"
        }
      ],
      "source": [
        "f, axes = plt.subplots(1, 2,figsize=(15,5))\n",
        "\n",
        "# Our model predictions\n",
        "plt.scatter(y_valid,predictions)\n",
        "\n",
        "# Perfect predictions\n",
        "plt.plot(y_valid,y_valid,'r')\n",
        "\n",
        "errors = y_valid.values.reshape(6484, 1) - predictions\n",
        "sns.distplot(errors, ax=axes[0])\n",
        "\n",
        "sns.despine(left=True, bottom=True)\n",
        "axes[0].set(xlabel='Error', ylabel='', title='Error Histogram')\n",
        "axes[1].set(xlabel='Test True Y', ylabel='Model Predictions', title='Model Predictions vs Perfect Fit')"
      ]
    },
    {
      "cell_type": "markdown",
      "metadata": {
        "id": "NUVu8Th0NShS"
      },
      "source": [
        "__Predicting a new comer house__\n",
        "\n",
        "We are going to use the model to predict the price on a brand-new house. We are going to choose the first house of the data set and drop the price. single_house is going to have all the features that we need to predict the price. After that we need to reshape the variable and scale the features.\n",
        "\n",
        "The original price is 221,900 and the model prediction is ~ $285,000.\n"
      ]
    },
    {
      "cell_type": "code",
      "execution_count": null,
      "metadata": {
        "id": "2esmcop0NShS",
        "outputId": "bfbe512b-b3bb-42e7-883c-1fed1c3400e9"
      },
      "outputs": [
        {
          "name": "stdout",
          "output_type": "stream",
          "text": [
            "Features of new house:\n",
            " bedrooms            3.0000\n",
            "bathrooms           1.0000\n",
            "sqft_living      1180.0000\n",
            "sqft_lot         5650.0000\n",
            "floors              1.0000\n",
            "waterfront          0.0000\n",
            "view                0.0000\n",
            "condition           3.0000\n",
            "grade               7.0000\n",
            "sqft_above       1180.0000\n",
            "sqft_basement       0.0000\n",
            "yr_built         1955.0000\n",
            "yr_renovated        0.0000\n",
            "lat                47.5112\n",
            "long             -122.2570\n",
            "sqft_living15    1340.0000\n",
            "sqft_lot15       5650.0000\n",
            "month              10.0000\n",
            "year             2014.0000\n",
            "Name: 0, dtype: float64\n",
            "\n",
            "Prediction Price: 285942.72\n",
            "\n",
            "Original Price: 221900.0\n"
          ]
        },
        {
          "name": "stderr",
          "output_type": "stream",
          "text": [
            "C:\\Users\\JHON\\miniconda3\\lib\\site-packages\\sklearn\\base.py:450: UserWarning: X does not have valid feature names, but MinMaxScaler was fitted with feature names\n",
            "  warnings.warn(\n"
          ]
        }
      ],
      "source": [
        "# features of new house\n",
        "single_house = housePrices.drop('price',axis=1).iloc[0]\n",
        "print(f'Features of new house:\\n {single_house}')\n",
        "\n",
        "# reshape the numpy array and scale the features\n",
        "single_house = scaler.transform(single_house.values.reshape(-1, 19))\n",
        "\n",
        "# run the model and get the price prediction\n",
        "print('\\nPrediction Price:', model.predict(single_house)[0,0])\n",
        "\n",
        "# original price\n",
        "print('\\nOriginal Price:', housePrices.iloc[0]['price'])"
      ]
    }
  ],
  "metadata": {
    "colab": {
      "name": "Classification and Regression with DNN.ipynb",
      "provenance": []
    },
    "kernelspec": {
      "display_name": "Python 3 (ipykernel)",
      "language": "python",
      "name": "python3"
    },
    "language_info": {
      "codemirror_mode": {
        "name": "ipython",
        "version": 3
      },
      "file_extension": ".py",
      "mimetype": "text/x-python",
      "name": "python",
      "nbconvert_exporter": "python",
      "pygments_lexer": "ipython3",
      "version": "3.9.12"
    },
    "latex_envs": {
      "LaTeX_envs_menu_present": true,
      "autoclose": false,
      "autocomplete": true,
      "bibliofile": "biblio.bib",
      "cite_by": "apalike",
      "current_citInitial": 1,
      "eqLabelWithNumbers": true,
      "eqNumInitial": 1,
      "hotkeys": {
        "equation": "Ctrl-E",
        "itemize": "Ctrl-I"
      },
      "labels_anchors": false,
      "latex_user_defs": false,
      "report_style_numbering": false,
      "user_envs_cfg": false
    },
    "toc": {
      "base_numbering": 1,
      "nav_menu": {},
      "number_sections": true,
      "sideBar": true,
      "skip_h1_title": false,
      "title_cell": "Table of Contents",
      "title_sidebar": "Contents",
      "toc_cell": false,
      "toc_position": {},
      "toc_section_display": true,
      "toc_window_display": false
    },
    "varInspector": {
      "cols": {
        "lenName": 16,
        "lenType": 16,
        "lenVar": 40
      },
      "kernels_config": {
        "python": {
          "delete_cmd_postfix": "",
          "delete_cmd_prefix": "del ",
          "library": "var_list.py",
          "varRefreshCmd": "print(var_dic_list())"
        },
        "r": {
          "delete_cmd_postfix": ") ",
          "delete_cmd_prefix": "rm(",
          "library": "var_list.r",
          "varRefreshCmd": "cat(var_dic_list()) "
        }
      },
      "types_to_exclude": [
        "module",
        "function",
        "builtin_function_or_method",
        "instance",
        "_Feature"
      ],
      "window_display": false
    }
  },
  "nbformat": 4,
  "nbformat_minor": 0
}