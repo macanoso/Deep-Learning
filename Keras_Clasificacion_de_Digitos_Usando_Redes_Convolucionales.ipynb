{
  "nbformat": 4,
  "nbformat_minor": 0,
  "metadata": {
    "kernelspec": {
      "display_name": "Python 3",
      "language": "python",
      "name": "python3"
    },
    "language_info": {
      "codemirror_mode": {
        "name": "ipython",
        "version": 3
      },
      "file_extension": ".py",
      "mimetype": "text/x-python",
      "name": "python",
      "nbconvert_exporter": "python",
      "pygments_lexer": "ipython3",
      "version": "3.4.5"
    },
    "colab": {
      "provenance": [],
      "collapsed_sections": []
    },
    "accelerator": "GPU",
    "gpuClass": "standard"
  },
  "cells": [
    {
      "cell_type": "markdown",
      "metadata": {
        "id": "thsoAFA65nyr"
      },
      "source": [
        "# Clasificación de dígitos usando Redes Convolucionales y Keras\n",
        "\n",
        "## 1 - El set de datos\n",
        "\n",
        "En este tutorial implementaremos una red convolucional capaz de clasificar los dígitos del 0 al 9. Para ello usaremos el set de datos [MNIST](http://yann.lecun.com/exdb/mnist/), que contiene un total de 70.000 imágenes escritas a mano por diferentes personas.\n",
        "\n",
        "\n",
        "\n",
        "Al final de este tutorial tendremos claro:\n",
        "1. Cómo funciona [LeNet-5](http://yann.lecun.com/exdb/lenet/), la red convolucional usada en este tutorial\n",
        "2. Cómo implementar esta red convolucional usando la librería Keras\n",
        "3. Cómo evaluar el desempeño de la red\n",
        "\n",
        "En primer lugar, veamos cómo es LeNet-5."
      ]
    },
    {
      "cell_type": "markdown",
      "metadata": {
        "id": "mGTHTkzS5nys"
      },
      "source": [
        "## 2 - LeNet-5\n",
        "\n",
        "Esta red es la precursora de todas las redes convolucionales usadas en la actualidad. Fue diseñada por [Yann LeCun] a finales de los años 90, con el fin de clasificar dígitos (del 0 al 9) escritos a mano.\n",
        "\n",
        "Esta red tiene como entradas imágenes de 28x28x1: 28 filas, 28 columnas y 1 sólo plano de color, es decir imágenes en escala de gris.\n",
        "\n",
        "\n",
        "Como se observa en la figura de arriba, la red cuenta con dos bloques de procesamiento:\n",
        "- Las *capas convolucionales* que se encargan de extraer características de las imágenes\n",
        "- La *red neuronal*, que toma dichas características y permite clasificar la imagen en uno de los posibles 10 dígitos (del 0 al 9)\n",
        "\n",
        "Además, podemos observar las siguientes características:\n",
        "- Después de realizar convoluciones se usa siempre la función de activación *ReLU*\n",
        "- El *max-pooling* se realiza después de las convoluciones\n",
        "- Las *dimensiones espaciales* (número de filas y columnas) de las imágenes se reducen entre una capa y otra, mientras que la profundidad (correspondiente a las características extraídas) aumenta entre una capa y otra\n",
        "\n",
        "Las redes convolucionales usadas en la actualidad implementan una lógica similar a la de LeNet-5."
      ]
    },
    {
      "cell_type": "markdown",
      "metadata": {
        "id": "wNfdEiir5nys"
      },
      "source": [
        "## 3 - Implementación en Keras\n",
        "\n",
        "### 3.1 - Librerías requeridas\n",
        "\n",
        "En primer lugar se importa la librería Numpy y se ajusta la semilla del generador aleatorio para garantizar la reproducibilidad del entrenamiento. También importaremos la librería Matplotlib, para poder visualizar las imágenes del set de datos :"
      ]
    },
    {
      "cell_type": "code",
      "metadata": {
        "id": "yznXmFhg5nys"
      },
      "source": [
        "import numpy as np\n",
        "np.random.seed(2)\n",
        "\n",
        "import matplotlib.pyplot as plt\n"
      ],
      "execution_count": null,
      "outputs": []
    },
    {
      "cell_type": "markdown",
      "metadata": {
        "id": "9MOsBZj85nyt"
      },
      "source": [
        "A continuación importamos las funciones *Sequential*, *Conv2D*, *MaxPooling2D*, *Flatten*, *Dense* y *SGD* de Keras:"
      ]
    },
    {
      "cell_type": "code",
      "metadata": {
        "id": "FOUJWooa5nyt"
      },
      "source": [
        "from keras.datasets import mnist\n",
        "from keras.utils import np_utils\n",
        "from keras.models import Sequential\n",
        "from keras.layers.convolutional import Conv2D, MaxPooling2D\n",
        "from keras.layers.core import Flatten, Dense\n",
        "from tensorflow.keras.optimizers import SGD"
      ],
      "execution_count": null,
      "outputs": []
    },
    {
      "cell_type": "markdown",
      "metadata": {
        "id": "jjIURq3o5nyv"
      },
      "source": [
        "### 3.2 - Pre-procesamiento del set de datos\n",
        "\n",
        "La función *mnist* de Keras permite leer el set de datos y crear automáticamente los sets de entrenamiento y validación. El primero de ellos tendrá 60,000 imágenes (cada una de 28x28) con sus correspondientes categorías, mientras que el segundo tendrá 10,000 datos:"
      ]
    },
    {
      "cell_type": "code",
      "metadata": {
        "colab": {
          "base_uri": "https://localhost:8080/"
        },
        "id": "E0FndcF-5nyv",
        "outputId": "dab7c253-67fa-4b98-9ea6-d322fb9949e6"
      },
      "source": [
        "(x_train, y_train), (x_test,y_test) = mnist.load_data()\n",
        "print(x_train.shape)\n",
        "print(y_train.shape)\n",
        "print(x_test.shape)\n",
        "print(y_test.shape)"
      ],
      "execution_count": null,
      "outputs": [
        {
          "output_type": "stream",
          "name": "stdout",
          "text": [
            "Downloading data from https://storage.googleapis.com/tensorflow/tf-keras-datasets/mnist.npz\n",
            "11493376/11490434 [==============================] - 0s 0us/step\n",
            "11501568/11490434 [==============================] - 0s 0us/step\n",
            "(60000, 28, 28)\n",
            "(60000,)\n",
            "(10000, 28, 28)\n",
            "(10000,)\n"
          ]
        }
      ]
    },
    {
      "cell_type": "markdown",
      "metadata": {
        "id": "VDSp_JMo5nyv"
      },
      "source": [
        "Los pixeles en las imágenes (tanto de entrenamiento como de validación) tienen valores entre 0 y 255; sin embargo, para garantizar la convergencia del entrenamiento es necesario normalizar estos valores entre 0 y 1:"
      ]
    },
    {
      "cell_type": "code",
      "metadata": {
        "id": "xIHz4gse5nyv"
      },
      "source": [
        "x_train = x_train/255.0\n",
        "x_test = x_test/255.0"
      ],
      "execution_count": null,
      "outputs": []
    },
    {
      "cell_type": "markdown",
      "metadata": {
        "id": "fkoAw-Es5nyv"
      },
      "source": [
        "También se deben codificar *y_train* y *y_test* en el formato *one-hot*:"
      ]
    },
    {
      "cell_type": "code",
      "metadata": {
        "id": "WfBS2Jto5nyv"
      },
      "source": [
        "nclases = 10\n",
        "y_train = np_utils.to_categorical(y_train,nclases)\n",
        "y_test = np_utils.to_categorical(y_test,nclases)"
      ],
      "execution_count": null,
      "outputs": []
    },
    {
      "cell_type": "markdown",
      "metadata": {
        "id": "av6fak5P5nyv"
      },
      "source": [
        "Finalmente, podemos visualizar un ejemplo de imagen dentro del dataset:"
      ]
    },
    {
      "cell_type": "code",
      "metadata": {
        "colab": {
          "base_uri": "https://localhost:8080/",
          "height": 281
        },
        "id": "nrvHrYPI5nyv",
        "outputId": "197b8720-ac16-41d8-9d4c-e6cf15a5be46"
      },
      "source": [
        "nimagen = 101\n",
        "plt.imshow(x_train[nimagen,:].reshape(28,28), cmap='gray_r')\n",
        "plt.title('Imagen ejemplo - Categoría: ' + str(np.argmax(y_train[nimagen])))\n",
        "plt.axis('off')"
      ],
      "execution_count": null,
      "outputs": [
        {
          "output_type": "execute_result",
          "data": {
            "text/plain": [
              "(-0.5, 27.5, 27.5, -0.5)"
            ]
          },
          "metadata": {},
          "execution_count": 7
        },
        {
          "output_type": "display_data",
          "data": {
            "text/plain": [
              "<Figure size 432x288 with 1 Axes>"
            ],
            "image/png": "[encoded data removed]"
          },
          "metadata": {
            "needs_background": "light"
          }
        }
      ]
    },
    {
      "cell_type": "markdown",
      "metadata": {
        "id": "WX6KA_Dt5nyw"
      },
      "source": [
        "Por defecto, Keras requiere cada dato de entrada en el formato nimagenes x nfilas x ncolumnas x ncanales, donde ncanales = 1 por ser imágenes en escala de gris. Se debe modificar el tamaño de *x_train* y *x_test* para cumplir con este requerimiento:"
      ]
    },
    {
      "cell_type": "code",
      "metadata": {
        "colab": {
          "base_uri": "https://localhost:8080/"
        },
        "id": "wh8n4Mnq5nyw",
        "outputId": "8e0ed651-21cb-4996-90c9-a8cc7a55b5f5"
      },
      "source": [
        "x_train = x_train.reshape(60000,28,28,1)\n",
        "x_test = x_test.reshape(10000,28,28,1)\n",
        "\n",
        "print(x_train.shape)\n",
        "print(x_test.shape)"
      ],
      "execution_count": null,
      "outputs": [
        {
          "output_type": "stream",
          "name": "stdout",
          "text": [
            "(60000, 28, 28, 1)\n",
            "(10000, 28, 28, 1)\n"
          ]
        }
      ]
    },
    {
      "cell_type": "markdown",
      "metadata": {
        "id": "wE7zm3ao5nyw"
      },
      "source": [
        "### 3.3 - Creación del modelo\n",
        "\n",
        "En la siguiente tabla se resumen las características de cada capa a implementar:\n",
        "    \n",
        "| **Capa**          | **Características**                            |\n",
        "|-------------------|------------------------------------------------|\n",
        "| CONV 1            | 6 filtros, 5x5, p=0, s=1, activación: ReLU     |\n",
        "| MAX-POOLING 1     | 6 filtros, 2x2, p=0, s=2, activación: Ninguna  |\n",
        "| CONV 2            | 16 filtros, 5x5, p=0, s=1, activación: ReLU    |\n",
        "| MAX-POOLING 2     | 16 filtros, 2x2, p=0, s=2, activación: Ninguna |\n",
        "| FLATTEN           | Simplemente convierte un volumen en un vector  |\n",
        "| FULLY CONNECTED 1 | 120 neuronas, activación: ReLU                 |\n",
        "| FULLY CONNECTED 2 | 84 neuronas, activación: ReLU                  |\n",
        "| SALIDA            | 10 categorías, activación: softmax             |\n",
        "\n"
      ]
    },
    {
      "cell_type": "markdown",
      "metadata": {
        "id": "QcxmVpbn5nyw"
      },
      "source": [
        "Creemos el contenedor del modelo usando *Sequential()*:"
      ]
    },
    {
      "cell_type": "code",
      "metadata": {
        "id": "2xt_Oyxa5nyx"
      },
      "source": [
        "modelo = Sequential()"
      ],
      "execution_count": null,
      "outputs": []
    },
    {
      "cell_type": "markdown",
      "metadata": {
        "id": "K2HyvtEJ5nyx"
      },
      "source": [
        "Y añadimos, de forma secuencial, las diferentes capas de la red convolucional. En particular, usamos *Conv2D* para las capas convolucionales y *MaxPooling2D* para el *max-pooling*, junto con *Flatten* y *Dense* para la etapa de clasificación con redes neuronales y la capa de salida:"
      ]
    },
    {
      "cell_type": "code",
      "metadata": {
        "id": "WJ0PYVKr5nyx"
      },
      "source": [
        "# CONV1 Y MAX-POOLING1\n",
        "modelo.add(Conv2D(filters=6, kernel_size=(5,5), activation='relu', input_shape=(28,28,1)))\n",
        "modelo.add(MaxPooling2D(pool_size=(2,2)))\n",
        "\n",
        "# CONV2 Y MAX-POOLING2\n",
        "modelo.add(Conv2D(filters=16, kernel_size=(5,5), activation='relu'))\n",
        "modelo.add(MaxPooling2D(pool_size=(2,2)))\n",
        "\n",
        "# Aplanar, FC1, FC2 y salida\n",
        "modelo.add(Flatten())\n",
        "modelo.add(Dense(120,activation='relu'))\n",
        "modelo.add(Dense(84,activation='relu'))\n",
        "modelo.add(Dense(nclases,activation='softmax'))"
      ],
      "execution_count": null,
      "outputs": []
    },
    {
      "cell_type": "markdown",
      "metadata": {
        "id": "t8zI6xTA5nyx"
      },
      "source": [
        "### 3.4 - Compilación del modelo\n",
        "\n",
        "En esta etapa definimos el optimizador a usar (gradiente descendente, tasa de aprendizaje = 0.1), así como la función de error (entropía cruzada) y la métrica de desempeño (precisión):"
      ]
    },
    {
      "cell_type": "code",
      "metadata": {
        "id": "lqUkO4Ov5nyx",
        "colab": {
          "base_uri": "https://localhost:8080/"
        },
        "outputId": "d3b042b5-0a35-489a-d464-a20177539238"
      },
      "source": [
        "sgd = SGD(lr=0.1)\n",
        "modelo.compile(loss='categorical_crossentropy', optimizer=sgd, metrics=['accuracy'])"
      ],
      "execution_count": null,
      "outputs": [
        {
          "output_type": "stream",
          "name": "stderr",
          "text": [
            "/usr/local/lib/python3.7/dist-packages/keras/optimizer_v2/gradient_descent.py:102: UserWarning: The `lr` argument is deprecated, use `learning_rate` instead.\n",
            "  super(SGD, self).__init__(name, **kwargs)\n"
          ]
        }
      ]
    },
    {
      "cell_type": "markdown",
      "metadata": {
        "id": "VfwYPgoM5nyx"
      },
      "source": [
        "### 3.5 - Entrenamiento\n",
        "\n",
        "Realicemos el entrenamiento usando 10 iteraciones, una tasa de aprendizaje de 0.1 y un tamaño de lote (*batch_size*) de 128:"
      ]
    },
    {
      "cell_type": "code",
      "metadata": {
        "colab": {
          "base_uri": "https://localhost:8080/"
        },
        "id": "Qls06eBI5nyy",
        "outputId": "fb2386df-6a99-4bc5-a093-46d517bc7442"
      },
      "source": [
        "nepochs = 10\n",
        "tam_lote = 128\n",
        "history = modelo.fit(x_train,y_train,epochs=nepochs,batch_size=tam_lote, verbose=1, validation_data=(x_test,y_test))"
      ],
      "execution_count": null,
      "outputs": [
        {
          "output_type": "stream",
          "name": "stdout",
          "text": [
            "Epoch 1/10\n",
            "469/469 [==============================] - 14s 5ms/step - loss: 0.3226 - accuracy: 0.8992 - val_loss: 0.0940 - val_accuracy: 0.9692\n",
            "Epoch 2/10\n",
            "469/469 [==============================] - 3s 5ms/step - loss: 0.0854 - accuracy: 0.9736 - val_loss: 0.0575 - val_accuracy: 0.9813\n",
            "Epoch 3/10\n",
            "469/469 [==============================] - 2s 5ms/step - loss: 0.0615 - accuracy: 0.9810 - val_loss: 0.0602 - val_accuracy: 0.9797\n",
            "Epoch 4/10\n",
            "469/469 [==============================] - 2s 4ms/step - loss: 0.0500 - accuracy: 0.9840 - val_loss: 0.0574 - val_accuracy: 0.9815\n",
            "Epoch 5/10\n",
            "469/469 [==============================] - 2s 5ms/step - loss: 0.0414 - accuracy: 0.9869 - val_loss: 0.0403 - val_accuracy: 0.9872\n",
            "Epoch 6/10\n",
            "469/469 [==============================] - 2s 5ms/step - loss: 0.0344 - accuracy: 0.9892 - val_loss: 0.0365 - val_accuracy: 0.9889\n",
            "Epoch 7/10\n",
            "469/469 [==============================] - 2s 4ms/step - loss: 0.0302 - accuracy: 0.9903 - val_loss: 0.0362 - val_accuracy: 0.9873\n",
            "Epoch 8/10\n",
            "469/469 [==============================] - 2s 4ms/step - loss: 0.0268 - accuracy: 0.9915 - val_loss: 0.0384 - val_accuracy: 0.9882\n",
            "Epoch 9/10\n",
            "469/469 [==============================] - 2s 5ms/step - loss: 0.0235 - accuracy: 0.9922 - val_loss: 0.0479 - val_accuracy: 0.9847\n",
            "Epoch 10/10\n",
            "469/469 [==============================] - 2s 4ms/step - loss: 0.0200 - accuracy: 0.9935 - val_loss: 0.0371 - val_accuracy: 0.9880\n"
          ]
        }
      ]
    },
    {
      "cell_type": "markdown",
      "metadata": {
        "id": "cC2GW2zx5nyz"
      },
      "source": [
        "Vemos que en la última iteración, el modelo alcanza una precisión de 99.3% para el set de entrenamiento y del 98.6% para el set de validación. Esta precisión nos indica que, en promedio, de cada 100 datos, aproximadamente 1 es clasificado incorrectamente. !Nada mal!"
      ]
    },
    {
      "cell_type": "code",
      "source": [
        "plt.plot(history.history['accuracy'], label='accuracy')\n",
        "plt.plot(history.history['val_accuracy'], label = 'val_accuracy')\n",
        "plt.xlabel('Epoch')\n",
        "plt.ylabel('Accuracy')\n",
        "plt.ylim([0.5, 1])\n",
        "plt.legend(loc='lower right')\n",
        "\n",
        "test_loss, test_acc = modelo.evaluate(x_test,  y_test, verbose=2)"
      ],
      "metadata": {
        "colab": {
          "base_uri": "https://localhost:8080/",
          "height": 300
        },
        "id": "Qg2s0Z_Fu7VO",
        "outputId": "aed5d105-4d06-4950-e642-e999b37248c3"
      },
      "execution_count": null,
      "outputs": [
        {
          "output_type": "stream",
          "name": "stdout",
          "text": [
            "313/313 - 1s - loss: 0.0371 - accuracy: 0.9880 - 691ms/epoch - 2ms/step\n"
          ]
        },
        {
          "output_type": "display_data",
          "data": {
            "text/plain": [
              "<Figure size 432x288 with 1 Axes>"
            ],
            "image/png": "[encoded data removed]"
          },
          "metadata": {
            "needs_background": "light"
          }
        }
      ]
    },
    {
      "cell_type": "markdown",
      "metadata": {
        "id": "KTSd0Bvg5nyz"
      },
      "source": [
        "## 4 - Desempeño del modelo\n",
        "\n",
        "La precisión obtenida anteriormente es una medida de desempeño global de la red convolucional, pero no nos permite verificar si algunos dígitos resultan mejor clasificados que otros. Para analizar en detalle este comportamiento, podemos usar la matriz de confusión:"
      ]
    },
    {
      "cell_type": "code",
      "source": [
        "from sklearn.metrics import confusion_matrix\n",
        "import seaborn as sns\n",
        "from sklearn.metrics import confusion_matrix, ConfusionMatrixDisplay\n",
        "\n",
        "\n",
        "y_pred = np.argmax(modelo.predict(x_test),axis=1)\n",
        "\n",
        "#y_pred = modelo.predict_classes(x_test)\n",
        "y_ref = np.argmax(y_test,axis=1)\n",
        "labels  = [0,1,2,3,4,5,6,7,8,9]\n",
        "cm = confusion_matrix(y_ref, y_pred)\n",
        "cm"
      ],
      "metadata": {
        "colab": {
          "base_uri": "https://localhost:8080/"
        },
        "id": "Ydlt4QHHhyDZ",
        "outputId": "4103b745-e35c-4f37-e0ce-d23fcac937cd"
      },
      "execution_count": null,
      "outputs": [
        {
          "output_type": "execute_result",
          "data": {
            "text/plain": [
              "array([[ 978,    1,    0,    0,    0,    0,    0,    1,    0,    0],\n",
              "       [   0, 1132,    0,    0,    0,    1,    1,    0,    1,    0],\n",
              "       [   2,    4, 1017,    1,    1,    0,    0,    5,    2,    0],\n",
              "       [   1,    0,    1,  999,    0,    3,    0,    1,    4,    1],\n",
              "       [   0,    0,    0,    0,  980,    0,    0,    0,    0,    2],\n",
              "       [   2,    0,    0,    7,    0,  879,    2,    1,    1,    0],\n",
              "       [   7,    3,    0,    0,    2,    2,  942,    0,    2,    0],\n",
              "       [   0,    7,    3,    1,    0,    1,    0, 1014,    1,    1],\n",
              "       [   4,    1,    1,    0,    1,    0,    1,    3,  957,    6],\n",
              "       [   1,    1,    0,    3,   12,    4,    0,    6,    0,  982]])"
            ]
          },
          "metadata": {},
          "execution_count": 17
        }
      ]
    },
    {
      "cell_type": "code",
      "source": [
        "cmd = ConfusionMatrixDisplay(cm, display_labels=labels)\n",
        "cmd.plot()"
      ],
      "metadata": {
        "colab": {
          "base_uri": "https://localhost:8080/",
          "height": 296
        },
        "id": "mKEouZx6zi0e",
        "outputId": "3ce41041-5430-4b85-dc89-da72713d6b43"
      },
      "execution_count": null,
      "outputs": [
        {
          "output_type": "execute_result",
          "data": {
            "text/plain": [
              "<sklearn.metrics._plot.confusion_matrix.ConfusionMatrixDisplay at 0x7f04323ace10>"
            ]
          },
          "metadata": {},
          "execution_count": 18
        },
        {
          "output_type": "display_data",
          "data": {
            "text/plain": [
              "<Figure size 432x288 with 2 Axes>"
            ],
            "image/png": "[encoded data removed]"
          },
          "metadata": {
            "needs_background": "light"
          }
        }
      ]
    }
  ]
}