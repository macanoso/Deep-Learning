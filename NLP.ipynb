{
  "nbformat": 4,
  "nbformat_minor": 0,
  "metadata": {
    "kernelspec": {
      "display_name": "Python 3",
      "language": "python",
      "name": "python3"
    },
    "language_info": {
      "codemirror_mode": {
        "name": "ipython",
        "version": 3
      },
      "file_extension": ".py",
      "mimetype": "text/x-python",
      "name": "python",
      "nbconvert_exporter": "python",
      "pygments_lexer": "ipython3",
      "version": "3.6.6"
    },
    "colab": {
      "provenance": [],
      "collapsed_sections": []
    },
    "accelerator": "GPU"
  },
  "cells": [
    {
      "cell_type": "markdown",
      "metadata": {
        "id": "Cax_qV6dDcJS"
      },
      "source": [
        "### Import Required Libraries"
      ]
    },
    {
      "cell_type": "code",
      "metadata": {
        "id": "FNWi65cFDcJa"
      },
      "source": [
        "# import Keras\n",
        "from keras.models import Sequential\n",
        "from keras.layers import Dense, LSTM, Embedding, Bidirectional, RepeatVector, TimeDistributed\n",
        "from keras.preprocessing.text import Tokenizer\n",
        "from keras.callbacks import ModelCheckpoint\n",
        "from keras.preprocessing.sequence import pad_sequences\n",
        "from keras.models import load_model\n",
        "from tensorflow.keras import optimizers\n",
        "\n",
        "# import other libraries\n",
        "import string\n",
        "import numpy as np\n",
        "import re\n",
        "from numpy import array, argmax, random, take\n",
        "import pandas as pd\n",
        "import matplotlib.pyplot as plt\n",
        "%matplotlib inline\n",
        "pd.set_option('display.max_colwidth', 200)"
      ],
      "execution_count": 1,
      "outputs": []
    },
    {
      "cell_type": "code",
      "metadata": {
        "colab": {
          "base_uri": "https://localhost:8080/"
        },
        "id": "oeCnsxrXHhxC",
        "outputId": "4b83f89a-d228-4154-ec6b-da7719032121"
      },
      "source": [
        "from google.colab import drive\n",
        "drive.mount('/content/drive', force_remount=True)\n",
        "root_dir = \"/content/drive/My Drive/\"\n",
        "base_dir = root_dir + 'deep_learning/NMT/'\n",
        "print(base_dir)"
      ],
      "execution_count": 2,
      "outputs": [
        {
          "output_type": "stream",
          "name": "stdout",
          "text": [
            "Mounted at /content/drive\n",
            "/content/drive/My Drive/deep_learning/NMT/\n"
          ]
        }
      ]
    },
    {
      "cell_type": "markdown",
      "metadata": {
        "id": "2vLAqP-uDcJd"
      },
      "source": [
        "### Read Data"
      ]
    },
    {
      "cell_type": "markdown",
      "metadata": {
        "id": "TEvoGKhcDcJe"
      },
      "source": [
        "Our data is a text file of English-Spanish parallel sentence pairs corpora. First we will read the file using the function defined below."
      ]
    },
    {
      "cell_type": "code",
      "metadata": {
        "id": "DLgyvEtSHFFk"
      },
      "source": [
        "import os\n",
        "# function to read raw text file\n",
        "#filename = os.path.join(base_dir, spa.txt)\n",
        "def read_text(filename):\n",
        "    # open the file\n",
        "    file = open(os.path.join(base_dir, filename), mode='rt', encoding='utf-8')\n",
        "    # read all text\n",
        "    text = file.read()\n",
        "    file.close()\n",
        "    return text\n",
        "data = read_text(\"spa.txt\")"
      ],
      "execution_count": 3,
      "outputs": []
    },
    {
      "cell_type": "markdown",
      "metadata": {
        "id": "k4yyHx5PDcJf"
      },
      "source": [
        "Now let's define a function to split the text into English-Spanish pairs separated by '\\n' and then split these pairs into English sentences and Spanish sentences."
      ]
    },
    {
      "cell_type": "code",
      "metadata": {
        "id": "1cTc66UNDcJg"
      },
      "source": [
        "# split a text into sentences\n",
        "def to_lines(text):\n",
        "    sents = text.strip().split('\\n')\n",
        "    sents = [i.split('\\t') for i in sents]\n",
        "    return sents"
      ],
      "execution_count": 4,
      "outputs": []
    },
    {
      "cell_type": "markdown",
      "metadata": {
        "id": "zhl9bPkIDcJh"
      },
      "source": [
        "__Download other parallel corpora data from [here.](http://www.manythings.org/anki/)__ You can download \"deu.txt\" (german to english) in your working directory."
      ]
    },
    {
      "cell_type": "code",
      "metadata": {
        "id": "Z66jmQlMDcJi",
        "colab": {
          "base_uri": "https://localhost:8080/"
        },
        "outputId": "8d80b065-ec11-4304-ad01-719277f8244a"
      },
      "source": [
        "data = read_text(\"spa.txt\")\n",
        "spa_eng = to_lines(data)\n",
        "spa_eng = array(spa_eng)\n",
        "print(len(spa_eng))  # what is the number of lines of this file?"
      ],
      "execution_count": 5,
      "outputs": [
        {
          "output_type": "stream",
          "name": "stdout",
          "text": [
            "128084\n"
          ]
        }
      ]
    },
    {
      "cell_type": "markdown",
      "metadata": {
        "id": "CNawP5giDcJj"
      },
      "source": [
        "The actual data contains over 128,000 sentence-pairs. However, we will use the first 50,000 sentence pairs only to reduce the training time of the model. You can change this number as per you system computation power."
      ]
    },
    {
      "cell_type": "markdown",
      "source": [
        "#### **50 mil lineas**"
      ],
      "metadata": {
        "id": "4_oIBZm9Izut"
      }
    },
    {
      "cell_type": "code",
      "metadata": {
        "id": "J4_T7Q0-DcJj",
        "colab": {
          "base_uri": "https://localhost:8080/"
        },
        "outputId": "ebc192b5-e086-419f-b08d-49d962fe5838"
      },
      "source": [
        "spa_eng = spa_eng[:50000,:]\n",
        "print(spa_eng)\n",
        "print(len(spa_eng))"
      ],
      "execution_count": 6,
      "outputs": [
        {
          "output_type": "stream",
          "name": "stdout",
          "text": [
            "[['Go.' 'Ve.'\n",
            "  'CC-BY 2.0 (France) Attribution: tatoeba.org #2877272 (CM) & #4986655 (cueyayotl)']\n",
            " ['Go.' 'Vete.'\n",
            "  'CC-BY 2.0 (France) Attribution: tatoeba.org #2877272 (CM) & #4986656 (cueyayotl)']\n",
            " ['Go.' 'Vaya.'\n",
            "  'CC-BY 2.0 (France) Attribution: tatoeba.org #2877272 (CM) & #4986657 (cueyayotl)']\n",
            " ...\n",
            " ['Please turn off the radio.' 'Por favor, apague la radio.'\n",
            "  'CC-BY 2.0 (France) Attribution: tatoeba.org #1197303 (waeltken) & #1198501 (cueyayotl)']\n",
            " ['Please turn off the radio.' 'Apagá la radio, por favor.'\n",
            "  'CC-BY 2.0 (France) Attribution: tatoeba.org #1197303 (waeltken) & #1215556 (El_mas_capo)']\n",
            " ['Please wake me up at 6:30.'\n",
            "  'Por favor despiértame a las seis y media.'\n",
            "  'CC-BY 2.0 (France) Attribution: tatoeba.org #2429736 (CK) & #2429789 (kuma)']]\n",
            "50000\n"
          ]
        }
      ]
    },
    {
      "cell_type": "markdown",
      "source": [
        "#### **128000 lineas**\n"
      ],
      "metadata": {
        "id": "soGLK9pfI3XB"
      }
    },
    {
      "cell_type": "code",
      "source": [
        "spa_eng = spa_eng\n",
        "print(spa_eng)\n",
        "print(len(spa_eng))"
      ],
      "metadata": {
        "colab": {
          "base_uri": "https://localhost:8080/"
        },
        "id": "LvRjiin8I6Ka",
        "outputId": "6e442b0e-315a-4df8-b0f5-2720b07f1de3"
      },
      "execution_count": 6,
      "outputs": [
        {
          "output_type": "stream",
          "name": "stdout",
          "text": [
            "[['Go.' 'Ve.'\n",
            "  'CC-BY 2.0 (France) Attribution: tatoeba.org #2877272 (CM) & #4986655 (cueyayotl)']\n",
            " ['Go.' 'Vete.'\n",
            "  'CC-BY 2.0 (France) Attribution: tatoeba.org #2877272 (CM) & #4986656 (cueyayotl)']\n",
            " ['Go.' 'Vaya.'\n",
            "  'CC-BY 2.0 (France) Attribution: tatoeba.org #2877272 (CM) & #4986657 (cueyayotl)']\n",
            " ...\n",
            " ['A carbon footprint is the amount of carbon dioxide pollution that we produce as a result of our activities. Some people try to reduce their carbon footprint because they are concerned about climate change.'\n",
            "  'Una huella de carbono es la cantidad de contaminación de dióxido de carbono que producimos como producto de nuestras actividades. Algunas personas intentan reducir su huella de carbono porque están preocupados acerca del cambio climático.'\n",
            "  'CC-BY 2.0 (France) Attribution: tatoeba.org #1141316 (Source_VOA) & #1336787 (marcelostockle)']\n",
            " ['Since there are usually multiple websites on any given topic, I usually just click the back button when I arrive on any webpage that has pop-up advertising. I just go to the next page found by Google and hope for something less irritating.'\n",
            "  'Como suele haber varias páginas web sobre cualquier tema, normalmente sólo le doy al botón de retroceso cuando entro en una página web que tiene anuncios en ventanas emergentes. Simplemente voy a la siguiente página encontrada por Google y espero encontrar algo menos irritante.'\n",
            "  'CC-BY 2.0 (France) Attribution: tatoeba.org #954270 (CK) & #1329373 (Shishir)']\n",
            " ['If you want to sound like a native speaker, you must be willing to practice saying the same sentence over and over in the same way that banjo players practice the same phrase over and over until they can play it correctly and at the desired tempo.'\n",
            "  'Si quieres sonar como un hablante nativo, debes estar dispuesto a practicar diciendo la misma frase una y otra vez de la misma manera en que un músico de banjo practica el mismo fraseo una y otra vez hasta que lo puedan tocar correctamente y en el tiempo esperado.'\n",
            "  'CC-BY 2.0 (France) Attribution: tatoeba.org #953962 (CK) & #1218695 (marcelostockle)']]\n",
            "128084\n"
          ]
        }
      ]
    },
    {
      "cell_type": "markdown",
      "metadata": {
        "id": "zcLSRuguDcJk"
      },
      "source": [
        "### Text Pre-Processing"
      ]
    },
    {
      "cell_type": "markdown",
      "metadata": {
        "id": "twhxkDRsDcJk"
      },
      "source": [
        "#### Text Cleaning\n",
        "\n",
        "Let's take a look at our data, then we will decide which pre-processing steps to adopt."
      ]
    },
    {
      "cell_type": "markdown",
      "source": [
        "50 mil lineas"
      ],
      "metadata": {
        "id": "St9oM8OmJGJ0"
      }
    },
    {
      "cell_type": "code",
      "metadata": {
        "scrolled": true,
        "id": "Znu6_COWDcJl",
        "colab": {
          "base_uri": "https://localhost:8080/"
        },
        "outputId": "80c75349-48f1-48e2-99d9-0170db10fbd3"
      },
      "source": [
        "spa_eng"
      ],
      "execution_count": 7,
      "outputs": [
        {
          "output_type": "execute_result",
          "data": {
            "text/plain": [
              "array([['Go.', 'Ve.',\n",
              "        'CC-BY 2.0 (France) Attribution: tatoeba.org #2877272 (CM) & #4986655 (cueyayotl)'],\n",
              "       ['Go.', 'Vete.',\n",
              "        'CC-BY 2.0 (France) Attribution: tatoeba.org #2877272 (CM) & #4986656 (cueyayotl)'],\n",
              "       ['Go.', 'Vaya.',\n",
              "        'CC-BY 2.0 (France) Attribution: tatoeba.org #2877272 (CM) & #4986657 (cueyayotl)'],\n",
              "       ...,\n",
              "       ['Please turn off the radio.', 'Por favor, apague la radio.',\n",
              "        'CC-BY 2.0 (France) Attribution: tatoeba.org #1197303 (waeltken) & #1198501 (cueyayotl)'],\n",
              "       ['Please turn off the radio.', 'Apagá la radio, por favor.',\n",
              "        'CC-BY 2.0 (France) Attribution: tatoeba.org #1197303 (waeltken) & #1215556 (El_mas_capo)'],\n",
              "       ['Please wake me up at 6:30.',\n",
              "        'Por favor despiértame a las seis y media.',\n",
              "        'CC-BY 2.0 (France) Attribution: tatoeba.org #2429736 (CK) & #2429789 (kuma)']],\n",
              "      dtype='<U278')"
            ]
          },
          "metadata": {},
          "execution_count": 7
        }
      ]
    },
    {
      "cell_type": "markdown",
      "source": [
        "128 mil lineas"
      ],
      "metadata": {
        "id": "ezNakvq8JH6r"
      }
    },
    {
      "cell_type": "code",
      "source": [
        "spa_eng"
      ],
      "metadata": {
        "id": "XWyK4kjsJJu5",
        "colab": {
          "base_uri": "https://localhost:8080/"
        },
        "outputId": "99155626-42e5-4495-d808-57ed25f70163"
      },
      "execution_count": 7,
      "outputs": [
        {
          "output_type": "execute_result",
          "data": {
            "text/plain": [
              "array([['Go.', 'Ve.',\n",
              "        'CC-BY 2.0 (France) Attribution: tatoeba.org #2877272 (CM) & #4986655 (cueyayotl)'],\n",
              "       ['Go.', 'Vete.',\n",
              "        'CC-BY 2.0 (France) Attribution: tatoeba.org #2877272 (CM) & #4986656 (cueyayotl)'],\n",
              "       ['Go.', 'Vaya.',\n",
              "        'CC-BY 2.0 (France) Attribution: tatoeba.org #2877272 (CM) & #4986657 (cueyayotl)'],\n",
              "       ...,\n",
              "       ['A carbon footprint is the amount of carbon dioxide pollution that we produce as a result of our activities. Some people try to reduce their carbon footprint because they are concerned about climate change.',\n",
              "        'Una huella de carbono es la cantidad de contaminación de dióxido de carbono que producimos como producto de nuestras actividades. Algunas personas intentan reducir su huella de carbono porque están preocupados acerca del cambio climático.',\n",
              "        'CC-BY 2.0 (France) Attribution: tatoeba.org #1141316 (Source_VOA) & #1336787 (marcelostockle)'],\n",
              "       ['Since there are usually multiple websites on any given topic, I usually just click the back button when I arrive on any webpage that has pop-up advertising. I just go to the next page found by Google and hope for something less irritating.',\n",
              "        'Como suele haber varias páginas web sobre cualquier tema, normalmente sólo le doy al botón de retroceso cuando entro en una página web que tiene anuncios en ventanas emergentes. Simplemente voy a la siguiente página encontrada por Google y espero encontrar algo menos irritante.',\n",
              "        'CC-BY 2.0 (France) Attribution: tatoeba.org #954270 (CK) & #1329373 (Shishir)'],\n",
              "       ['If you want to sound like a native speaker, you must be willing to practice saying the same sentence over and over in the same way that banjo players practice the same phrase over and over until they can play it correctly and at the desired tempo.',\n",
              "        'Si quieres sonar como un hablante nativo, debes estar dispuesto a practicar diciendo la misma frase una y otra vez de la misma manera en que un músico de banjo practica el mismo fraseo una y otra vez hasta que lo puedan tocar correctamente y en el tiempo esperado.',\n",
              "        'CC-BY 2.0 (France) Attribution: tatoeba.org #953962 (CK) & #1218695 (marcelostockle)']],\n",
              "      dtype='<U278')"
            ]
          },
          "metadata": {},
          "execution_count": 7
        }
      ]
    },
    {
      "cell_type": "markdown",
      "metadata": {
        "id": "K0CEqgzMDcJl"
      },
      "source": [
        "We will get rid of the punctuation marks, and then convert the text to lower case."
      ]
    },
    {
      "cell_type": "code",
      "metadata": {
        "id": "7FGfFAECDcJm"
      },
      "source": [
        "# Remove punctuation\n",
        "spa_eng[:,0] = [s.translate(str.maketrans('', '', string.punctuation)) for s in spa_eng[:,0]]\n",
        "spa_eng[:,1] = [s.translate(str.maketrans('', '', string.punctuation)) for s in spa_eng[:,1]]"
      ],
      "execution_count": 8,
      "outputs": []
    },
    {
      "cell_type": "markdown",
      "source": [
        "50 mil lineas"
      ],
      "metadata": {
        "id": "wTwBUX_cJ38f"
      }
    },
    {
      "cell_type": "code",
      "metadata": {
        "id": "RJsdLFivDcJm",
        "colab": {
          "base_uri": "https://localhost:8080/"
        },
        "outputId": "590278ff-b429-49af-e025-e22d8167cebe"
      },
      "source": [
        "spa_eng"
      ],
      "execution_count": 9,
      "outputs": [
        {
          "output_type": "execute_result",
          "data": {
            "text/plain": [
              "array([['Go', 'Ve',\n",
              "        'CC-BY 2.0 (France) Attribution: tatoeba.org #2877272 (CM) & #4986655 (cueyayotl)'],\n",
              "       ['Go', 'Vete',\n",
              "        'CC-BY 2.0 (France) Attribution: tatoeba.org #2877272 (CM) & #4986656 (cueyayotl)'],\n",
              "       ['Go', 'Vaya',\n",
              "        'CC-BY 2.0 (France) Attribution: tatoeba.org #2877272 (CM) & #4986657 (cueyayotl)'],\n",
              "       ...,\n",
              "       ['Please turn off the radio', 'Por favor apague la radio',\n",
              "        'CC-BY 2.0 (France) Attribution: tatoeba.org #1197303 (waeltken) & #1198501 (cueyayotl)'],\n",
              "       ['Please turn off the radio', 'Apagá la radio por favor',\n",
              "        'CC-BY 2.0 (France) Attribution: tatoeba.org #1197303 (waeltken) & #1215556 (El_mas_capo)'],\n",
              "       ['Please wake me up at 630',\n",
              "        'Por favor despiértame a las seis y media',\n",
              "        'CC-BY 2.0 (France) Attribution: tatoeba.org #2429736 (CK) & #2429789 (kuma)']],\n",
              "      dtype='<U278')"
            ]
          },
          "metadata": {},
          "execution_count": 9
        }
      ]
    },
    {
      "cell_type": "markdown",
      "source": [
        "128 mil lineas"
      ],
      "metadata": {
        "id": "NmZ3pVqvJ5_s"
      }
    },
    {
      "cell_type": "code",
      "source": [
        "spa_eng"
      ],
      "metadata": {
        "id": "6L3OujkQJ5iy",
        "colab": {
          "base_uri": "https://localhost:8080/"
        },
        "outputId": "b7f9aa0a-8d67-4041-8e98-a5fbf45a639d"
      },
      "execution_count": 9,
      "outputs": [
        {
          "output_type": "execute_result",
          "data": {
            "text/plain": [
              "array([['Go', 'Ve',\n",
              "        'CC-BY 2.0 (France) Attribution: tatoeba.org #2877272 (CM) & #4986655 (cueyayotl)'],\n",
              "       ['Go', 'Vete',\n",
              "        'CC-BY 2.0 (France) Attribution: tatoeba.org #2877272 (CM) & #4986656 (cueyayotl)'],\n",
              "       ['Go', 'Vaya',\n",
              "        'CC-BY 2.0 (France) Attribution: tatoeba.org #2877272 (CM) & #4986657 (cueyayotl)'],\n",
              "       ...,\n",
              "       ['A carbon footprint is the amount of carbon dioxide pollution that we produce as a result of our activities Some people try to reduce their carbon footprint because they are concerned about climate change',\n",
              "        'Una huella de carbono es la cantidad de contaminación de dióxido de carbono que producimos como producto de nuestras actividades Algunas personas intentan reducir su huella de carbono porque están preocupados acerca del cambio climático',\n",
              "        'CC-BY 2.0 (France) Attribution: tatoeba.org #1141316 (Source_VOA) & #1336787 (marcelostockle)'],\n",
              "       ['Since there are usually multiple websites on any given topic I usually just click the back button when I arrive on any webpage that has popup advertising I just go to the next page found by Google and hope for something less irritating',\n",
              "        'Como suele haber varias páginas web sobre cualquier tema normalmente sólo le doy al botón de retroceso cuando entro en una página web que tiene anuncios en ventanas emergentes Simplemente voy a la siguiente página encontrada por Google y espero encontrar algo menos irritante',\n",
              "        'CC-BY 2.0 (France) Attribution: tatoeba.org #954270 (CK) & #1329373 (Shishir)'],\n",
              "       ['If you want to sound like a native speaker you must be willing to practice saying the same sentence over and over in the same way that banjo players practice the same phrase over and over until they can play it correctly and at the desired tempo',\n",
              "        'Si quieres sonar como un hablante nativo debes estar dispuesto a practicar diciendo la misma frase una y otra vez de la misma manera en que un músico de banjo practica el mismo fraseo una y otra vez hasta que lo puedan tocar correctamente y en el tiempo esperado',\n",
              "        'CC-BY 2.0 (France) Attribution: tatoeba.org #953962 (CK) & #1218695 (marcelostockle)']],\n",
              "      dtype='<U278')"
            ]
          },
          "metadata": {},
          "execution_count": 9
        }
      ]
    },
    {
      "cell_type": "code",
      "metadata": {
        "scrolled": true,
        "id": "YyjDmN1eDcJn"
      },
      "source": [
        "# convert to lowercase\n",
        "for i in range(len(spa_eng)):\n",
        "    spa_eng[i,0] = spa_eng[i,0].lower()\n",
        "    spa_eng[i,1] = spa_eng[i,1].lower()  # sending over lowercase"
      ],
      "execution_count": 10,
      "outputs": []
    },
    {
      "cell_type": "markdown",
      "source": [
        "50 mil lineas"
      ],
      "metadata": {
        "id": "qKF8ztLzKCO9"
      }
    },
    {
      "cell_type": "code",
      "metadata": {
        "id": "DOpYOdZVDcJn",
        "colab": {
          "base_uri": "https://localhost:8080/"
        },
        "outputId": "2ddcd829-d098-4a2b-b595-125b3c12f211"
      },
      "source": [
        "spa_eng"
      ],
      "execution_count": 11,
      "outputs": [
        {
          "output_type": "execute_result",
          "data": {
            "text/plain": [
              "array([['go', 've',\n",
              "        'CC-BY 2.0 (France) Attribution: tatoeba.org #2877272 (CM) & #4986655 (cueyayotl)'],\n",
              "       ['go', 'vete',\n",
              "        'CC-BY 2.0 (France) Attribution: tatoeba.org #2877272 (CM) & #4986656 (cueyayotl)'],\n",
              "       ['go', 'vaya',\n",
              "        'CC-BY 2.0 (France) Attribution: tatoeba.org #2877272 (CM) & #4986657 (cueyayotl)'],\n",
              "       ...,\n",
              "       ['please turn off the radio', 'por favor apague la radio',\n",
              "        'CC-BY 2.0 (France) Attribution: tatoeba.org #1197303 (waeltken) & #1198501 (cueyayotl)'],\n",
              "       ['please turn off the radio', 'apagá la radio por favor',\n",
              "        'CC-BY 2.0 (France) Attribution: tatoeba.org #1197303 (waeltken) & #1215556 (El_mas_capo)'],\n",
              "       ['please wake me up at 630',\n",
              "        'por favor despiértame a las seis y media',\n",
              "        'CC-BY 2.0 (France) Attribution: tatoeba.org #2429736 (CK) & #2429789 (kuma)']],\n",
              "      dtype='<U278')"
            ]
          },
          "metadata": {},
          "execution_count": 11
        }
      ]
    },
    {
      "cell_type": "markdown",
      "source": [
        "128 mil lineas"
      ],
      "metadata": {
        "id": "UsWm9L9kKDfs"
      }
    },
    {
      "cell_type": "code",
      "source": [
        "spa_eng"
      ],
      "metadata": {
        "id": "Lf1faVHSKF72",
        "colab": {
          "base_uri": "https://localhost:8080/"
        },
        "outputId": "ef38da0c-dbda-4dc9-8630-aa156e89ef7a"
      },
      "execution_count": 11,
      "outputs": [
        {
          "output_type": "execute_result",
          "data": {
            "text/plain": [
              "array([['go', 've',\n",
              "        'CC-BY 2.0 (France) Attribution: tatoeba.org #2877272 (CM) & #4986655 (cueyayotl)'],\n",
              "       ['go', 'vete',\n",
              "        'CC-BY 2.0 (France) Attribution: tatoeba.org #2877272 (CM) & #4986656 (cueyayotl)'],\n",
              "       ['go', 'vaya',\n",
              "        'CC-BY 2.0 (France) Attribution: tatoeba.org #2877272 (CM) & #4986657 (cueyayotl)'],\n",
              "       ...,\n",
              "       ['a carbon footprint is the amount of carbon dioxide pollution that we produce as a result of our activities some people try to reduce their carbon footprint because they are concerned about climate change',\n",
              "        'una huella de carbono es la cantidad de contaminación de dióxido de carbono que producimos como producto de nuestras actividades algunas personas intentan reducir su huella de carbono porque están preocupados acerca del cambio climático',\n",
              "        'CC-BY 2.0 (France) Attribution: tatoeba.org #1141316 (Source_VOA) & #1336787 (marcelostockle)'],\n",
              "       ['since there are usually multiple websites on any given topic i usually just click the back button when i arrive on any webpage that has popup advertising i just go to the next page found by google and hope for something less irritating',\n",
              "        'como suele haber varias páginas web sobre cualquier tema normalmente sólo le doy al botón de retroceso cuando entro en una página web que tiene anuncios en ventanas emergentes simplemente voy a la siguiente página encontrada por google y espero encontrar algo menos irritante',\n",
              "        'CC-BY 2.0 (France) Attribution: tatoeba.org #954270 (CK) & #1329373 (Shishir)'],\n",
              "       ['if you want to sound like a native speaker you must be willing to practice saying the same sentence over and over in the same way that banjo players practice the same phrase over and over until they can play it correctly and at the desired tempo',\n",
              "        'si quieres sonar como un hablante nativo debes estar dispuesto a practicar diciendo la misma frase una y otra vez de la misma manera en que un músico de banjo practica el mismo fraseo una y otra vez hasta que lo puedan tocar correctamente y en el tiempo esperado',\n",
              "        'CC-BY 2.0 (France) Attribution: tatoeba.org #953962 (CK) & #1218695 (marcelostockle)']],\n",
              "      dtype='<U278')"
            ]
          },
          "metadata": {},
          "execution_count": 11
        }
      ]
    },
    {
      "cell_type": "markdown",
      "metadata": {
        "id": "c0blSTChDcJn"
      },
      "source": [
        "#### Text to Sequence Conversion\n",
        "\n",
        "To feed our data in a Seq2Seq model (By Google, the initial one !), we will have to convert both the input and the output sentences into integer sequences of __fixed length__. Before that, let's visualise the length of the sentences. We will capture the lengths of all the sentences in two separate lists for English and Spanish (German for the WorkShop), respectively."
      ]
    },
    {
      "cell_type": "code",
      "metadata": {
        "id": "gvJOuMcsDcJo"
      },
      "source": [
        "# empty lists\n",
        "eng_l = []\n",
        "spa_l = []\n",
        "\n",
        "# populate the lists with sentence lengths\n",
        "for i in spa_eng[:,0]:\n",
        "    eng_l.append(len(i.split()))\n",
        "\n",
        "for i in spa_eng[:,1]:\n",
        "    spa_l.append(len(i.split()))"
      ],
      "execution_count": 12,
      "outputs": []
    },
    {
      "cell_type": "code",
      "metadata": {
        "id": "iuKGjWfmDcJo",
        "colab": {
          "base_uri": "https://localhost:8080/",
          "height": 206
        },
        "outputId": "b096a38a-9812-41de-88a7-c91f6a19a423"
      },
      "source": [
        "#from pandas.core.arrays.datetimes import DataFrame\n",
        "length_df = pd.DataFrame({'eng':eng_l, 'spa':spa_l})\n",
        "length_df.head(5)"
      ],
      "execution_count": 13,
      "outputs": [
        {
          "output_type": "execute_result",
          "data": {
            "text/plain": [
              "   eng  spa\n",
              "0    1    1\n",
              "1    1    1\n",
              "2    1    1\n",
              "3    1    1\n",
              "4    1    1"
            ],
            "text/html": [
              "\n",
              "  <div id=\"df-8546e8db-3319-4253-9094-6e7f387af7fd\">\n",
              "    <div class=\"colab-df-container\">\n",
              "      <div>\n",
              "<style scoped>\n",
              "    .dataframe tbody tr th:only-of-type {\n",
              "        vertical-align: middle;\n",
              "    }\n",
              "\n",
              "    .dataframe tbody tr th {\n",
              "        vertical-align: top;\n",
              "    }\n",
              "\n",
              "    .dataframe thead th {\n",
              "        text-align: right;\n",
              "    }\n",
              "</style>\n",
              "<table border=\"1\" class=\"dataframe\">\n",
              "  <thead>\n",
              "    <tr style=\"text-align: right;\">\n",
              "      <th></th>\n",
              "      <th>eng</th>\n",
              "      <th>spa</th>\n",
              "    </tr>\n",
              "  </thead>\n",
              "  <tbody>\n",
              "    <tr>\n",
              "      <th>0</th>\n",
              "      <td>1</td>\n",
              "      <td>1</td>\n",
              "    </tr>\n",
              "    <tr>\n",
              "      <th>1</th>\n",
              "      <td>1</td>\n",
              "      <td>1</td>\n",
              "    </tr>\n",
              "    <tr>\n",
              "      <th>2</th>\n",
              "      <td>1</td>\n",
              "      <td>1</td>\n",
              "    </tr>\n",
              "    <tr>\n",
              "      <th>3</th>\n",
              "      <td>1</td>\n",
              "      <td>1</td>\n",
              "    </tr>\n",
              "    <tr>\n",
              "      <th>4</th>\n",
              "      <td>1</td>\n",
              "      <td>1</td>\n",
              "    </tr>\n",
              "  </tbody>\n",
              "</table>\n",
              "</div>\n",
              "      <button class=\"colab-df-convert\" onclick=\"convertToInteractive('df-8546e8db-3319-4253-9094-6e7f387af7fd')\"\n",
              "              title=\"Convert this dataframe to an interactive table.\"\n",
              "              style=\"display:none;\">\n",
              "        \n",
              "  <svg xmlns=\"http://www.w3.org/2000/svg\" height=\"24px\"viewBox=\"0 0 24 24\"\n",
              "       width=\"24px\">\n",
              "    <path d=\"M0 0h24v24H0V0z\" fill=\"none\"/>\n",
              "    <path d=\"M18.56 5.44l.94 2.06.94-2.06 2.06-.94-2.06-.94-.94-2.06-.94 2.06-2.06.94zm-11 1L8.5 8.5l.94-2.06 2.06-.94-2.06-.94L8.5 2.5l-.94 2.06-2.06.94zm10 10l.94 2.06.94-2.06 2.06-.94-2.06-.94-.94-2.06-.94 2.06-2.06.94z\"/><path d=\"M17.41 7.96l-1.37-1.37c-.4-.4-.92-.59-1.43-.59-.52 0-1.04.2-1.43.59L10.3 9.45l-7.72 7.72c-.78.78-.78 2.05 0 2.83L4 21.41c.39.39.9.59 1.41.59.51 0 1.02-.2 1.41-.59l7.78-7.78 2.81-2.81c.8-.78.8-2.07 0-2.86zM5.41 20L4 18.59l7.72-7.72 1.47 1.35L5.41 20z\"/>\n",
              "  </svg>\n",
              "      </button>\n",
              "      \n",
              "  <style>\n",
              "    .colab-df-container {\n",
              "      display:flex;\n",
              "      flex-wrap:wrap;\n",
              "      gap: 12px;\n",
              "    }\n",
              "\n",
              "    .colab-df-convert {\n",
              "      background-color: #E8F0FE;\n",
              "      border: none;\n",
              "      border-radius: 50%;\n",
              "      cursor: pointer;\n",
              "      display: none;\n",
              "      fill: #1967D2;\n",
              "      height: 32px;\n",
              "      padding: 0 0 0 0;\n",
              "      width: 32px;\n",
              "    }\n",
              "\n",
              "    .colab-df-convert:hover {\n",
              "      background-color: #E2EBFA;\n",
              "      box-shadow: 0px 1px 2px rgba(60, 64, 67, 0.3), 0px 1px 3px 1px rgba(60, 64, 67, 0.15);\n",
              "      fill: #174EA6;\n",
              "    }\n",
              "\n",
              "    [theme=dark] .colab-df-convert {\n",
              "      background-color: #3B4455;\n",
              "      fill: #D2E3FC;\n",
              "    }\n",
              "\n",
              "    [theme=dark] .colab-df-convert:hover {\n",
              "      background-color: #434B5C;\n",
              "      box-shadow: 0px 1px 3px 1px rgba(0, 0, 0, 0.15);\n",
              "      filter: drop-shadow(0px 1px 2px rgba(0, 0, 0, 0.3));\n",
              "      fill: #FFFFFF;\n",
              "    }\n",
              "  </style>\n",
              "\n",
              "      <script>\n",
              "        const buttonEl =\n",
              "          document.querySelector('#df-8546e8db-3319-4253-9094-6e7f387af7fd button.colab-df-convert');\n",
              "        buttonEl.style.display =\n",
              "          google.colab.kernel.accessAllowed ? 'block' : 'none';\n",
              "\n",
              "        async function convertToInteractive(key) {\n",
              "          const element = document.querySelector('#df-8546e8db-3319-4253-9094-6e7f387af7fd');\n",
              "          const dataTable =\n",
              "            await google.colab.kernel.invokeFunction('convertToInteractive',\n",
              "                                                     [key], {});\n",
              "          if (!dataTable) return;\n",
              "\n",
              "          const docLinkHtml = 'Like what you see? Visit the ' +\n",
              "            '<a target=\"_blank\" href=https://colab.research.google.com/notebooks/data_table.ipynb>data table notebook</a>'\n",
              "            + ' to learn more about interactive tables.';\n",
              "          element.innerHTML = '';\n",
              "          dataTable['output_type'] = 'display_data';\n",
              "          await google.colab.output.renderOutput(dataTable, element);\n",
              "          const docLink = document.createElement('div');\n",
              "          docLink.innerHTML = docLinkHtml;\n",
              "          element.appendChild(docLink);\n",
              "        }\n",
              "      </script>\n",
              "    </div>\n",
              "  </div>\n",
              "  "
            ]
          },
          "metadata": {},
          "execution_count": 13
        }
      ]
    },
    {
      "cell_type": "markdown",
      "source": [
        "50 mil lineas"
      ],
      "metadata": {
        "id": "jTi3T9tOKPFy"
      }
    },
    {
      "cell_type": "code",
      "metadata": {
        "id": "BXTGAsY6DcJo",
        "colab": {
          "base_uri": "https://localhost:8080/",
          "height": 281
        },
        "outputId": "5bc9c9c7-ee0f-4bf5-c23e-258e3003a506"
      },
      "source": [
        "length_df.hist(bins = 20)\n",
        "plt.show()"
      ],
      "execution_count": 14,
      "outputs": [
        {
          "output_type": "display_data",
          "data": {
            "text/plain": [
              "<Figure size 432x288 with 2 Axes>"
            ],
            "image/png": "[encoded data removed]"
          },
          "metadata": {
            "needs_background": "light"
          }
        }
      ]
    },
    {
      "cell_type": "markdown",
      "source": [
        "128 mil lineas"
      ],
      "metadata": {
        "id": "E4wJoiUhKQnR"
      }
    },
    {
      "cell_type": "code",
      "source": [
        "length_df.hist(bins = 20)\n",
        "plt.show()"
      ],
      "metadata": {
        "id": "mzVdnS95KRyC",
        "colab": {
          "base_uri": "https://localhost:8080/",
          "height": 281
        },
        "outputId": "98e46d1c-b476-48a8-d448-e92acffa9132"
      },
      "execution_count": 14,
      "outputs": [
        {
          "output_type": "display_data",
          "data": {
            "text/plain": [
              "<Figure size 432x288 with 2 Axes>"
            ],
            "image/png": "[encoded data removed]"
          },
          "metadata": {
            "needs_background": "light"
          }
        }
      ]
    },
    {
      "cell_type": "markdown",
      "metadata": {
        "id": "ghdkMTBKDcJo"
      },
      "source": [
        "The maximum length of the English sentences is 8 and that of the English phrases is 10."
      ]
    },
    {
      "cell_type": "markdown",
      "metadata": {
        "id": "l4c3czgQDcJp"
      },
      "source": [
        "Let's vectorize our text data by using Keras' Tokenizer() class. It will turn our sentences into sequences of integers. Then we will pad those sequences with zeros to make all the sequences of same length."
      ]
    },
    {
      "cell_type": "code",
      "metadata": {
        "id": "XfDj1nflDcJp"
      },
      "source": [
        "# function to build a tokenizer\n",
        "def tokenization(lines):\n",
        "    tokenizer = Tokenizer()\n",
        "    tokenizer.fit_on_texts(lines)\n",
        "    return tokenizer"
      ],
      "execution_count": 15,
      "outputs": []
    },
    {
      "cell_type": "markdown",
      "source": [
        "50 mil lineas"
      ],
      "metadata": {
        "id": "Cd3t2AH1KXWQ"
      }
    },
    {
      "cell_type": "code",
      "metadata": {
        "id": "inFRzGD0DcJq",
        "colab": {
          "base_uri": "https://localhost:8080/"
        },
        "outputId": "449ca774-ca5e-428d-a8b2-3df8cd51ab3c"
      },
      "source": [
        "# prepare english tokenizer\n",
        "eng_tokenizer = tokenization(spa_eng[:, 0])\n",
        "eng_vocab_size = len(eng_tokenizer.word_index) + 1\n",
        "\n",
        "eng_length = 8\n",
        "print('English Vocabulary Size: %d' % eng_vocab_size)"
      ],
      "execution_count": 16,
      "outputs": [
        {
          "output_type": "stream",
          "name": "stdout",
          "text": [
            "English Vocabulary Size: 6861\n"
          ]
        }
      ]
    },
    {
      "cell_type": "markdown",
      "source": [
        "128 mil lineas"
      ],
      "metadata": {
        "id": "k-J5PI0FKYoE"
      }
    },
    {
      "cell_type": "code",
      "source": [
        "# prepare english tokenizer\n",
        "eng_tokenizer = tokenization(spa_eng[:, 0])\n",
        "eng_vocab_size = len(eng_tokenizer.word_index) + 1\n",
        "\n",
        "eng_length = 8\n",
        "print('English Vocabulary Size: %d' % eng_vocab_size)"
      ],
      "metadata": {
        "id": "ZGtfQSHBKbKq",
        "colab": {
          "base_uri": "https://localhost:8080/"
        },
        "outputId": "2cbb09a5-cd86-4302-e663-10b3f300e9d8"
      },
      "execution_count": 17,
      "outputs": [
        {
          "output_type": "stream",
          "name": "stdout",
          "text": [
            "English Vocabulary Size: 6861\n"
          ]
        }
      ]
    },
    {
      "cell_type": "markdown",
      "source": [
        "50 mil lineas"
      ],
      "metadata": {
        "id": "nW3F6JsnKbx-"
      }
    },
    {
      "cell_type": "code",
      "metadata": {
        "id": "9TZ2UgI_DcJq",
        "colab": {
          "base_uri": "https://localhost:8080/"
        },
        "outputId": "504189d4-53ba-45a7-c2a5-fbf91ee0ebe8"
      },
      "source": [
        "# prepare Spanish - Deutch tokenizer\n",
        "spa_tokenizer = tokenization(spa_eng[:, 1])\n",
        "spa_vocab_size = len(spa_tokenizer.word_index) + 1\n",
        "\n",
        "spa_length = 8\n",
        "#deu_length = 8\n",
        "print('Spanish Vocabulary Size: %d' % spa_vocab_size)\n",
        "#print('Deutch Vocabulary Size: %d' % deu_vocab_size)"
      ],
      "execution_count": 18,
      "outputs": [
        {
          "output_type": "stream",
          "name": "stdout",
          "text": [
            "Spanish Vocabulary Size: 14058\n"
          ]
        }
      ]
    },
    {
      "cell_type": "markdown",
      "source": [
        "128 mil lineas"
      ],
      "metadata": {
        "id": "VpR_jAMKKgos"
      }
    },
    {
      "cell_type": "code",
      "source": [
        "# prepare Spanish - Deutch tokenizer\n",
        "spa_tokenizer = tokenization(spa_eng[:, 1])\n",
        "spa_vocab_size = len(spa_tokenizer.word_index) + 1\n",
        "\n",
        "spa_length = 8\n",
        "#deu_length = 8\n",
        "print('Spanish Vocabulary Size: %d' % spa_vocab_size)\n",
        "#print('Deutch Vocabulary Size: %d' % deu_vocab_size)"
      ],
      "metadata": {
        "id": "CKFEsGsCKi_8",
        "colab": {
          "base_uri": "https://localhost:8080/"
        },
        "outputId": "6c7d6dce-3514-4182-a29d-10e00797cf98"
      },
      "execution_count": 17,
      "outputs": [
        {
          "output_type": "stream",
          "name": "stdout",
          "text": [
            "Spanish Vocabulary Size: 27807\n"
          ]
        }
      ]
    },
    {
      "cell_type": "markdown",
      "metadata": {
        "id": "mpX1S56hDcJr"
      },
      "source": [
        "Given below is a function to prepare the sequences. It will also perform sequence padding to a maximum sentence length as mentioned above. "
      ]
    },
    {
      "cell_type": "code",
      "metadata": {
        "id": "CZlnLvuPDcJr"
      },
      "source": [
        "# encode and pad sequences\n",
        "def encode_sequences(tokenizer, length, lines):\n",
        "    # integer encode sequences\n",
        "    seq = tokenizer.texts_to_sequences(lines)\n",
        "    # pad sequences with 0 values\n",
        "    seq = pad_sequences(seq, maxlen=length, padding='post')\n",
        "    return seq"
      ],
      "execution_count": 19,
      "outputs": []
    },
    {
      "cell_type": "markdown",
      "metadata": {
        "id": "owhEh_P8DcJr"
      },
      "source": [
        "### Model Building"
      ]
    },
    {
      "cell_type": "markdown",
      "metadata": {
        "id": "RNBkWnS2DcJs"
      },
      "source": [
        "We will now split the data into train and test set for model training and evaluation, respectively."
      ]
    },
    {
      "cell_type": "code",
      "metadata": {
        "id": "llMhhvLbDcJs"
      },
      "source": [
        "from sklearn.model_selection import train_test_split\n",
        "train, test = train_test_split(spa_eng, test_size=0.1, random_state = 12)"
      ],
      "execution_count": 20,
      "outputs": []
    },
    {
      "cell_type": "markdown",
      "metadata": {
        "id": "JjYs5oM0DcJs"
      },
      "source": [
        "It's time to encode the sentences. We will encode Spanish (German) sentences as the input sequences and English sentences as the target sequences. It will be done for both train and test datasets."
      ]
    },
    {
      "cell_type": "code",
      "metadata": {
        "id": "-1P_ijTGDcJt"
      },
      "source": [
        "# prepare training data\n",
        "trainX = encode_sequences(eng_tokenizer, eng_length,train[:, 0])\n",
        "trainY = encode_sequences(spa_tokenizer, spa_length,train[:, 1])"
      ],
      "execution_count": 21,
      "outputs": []
    },
    {
      "cell_type": "code",
      "metadata": {
        "id": "dVFxO6SqDcJt"
      },
      "source": [
        "# prepare validation data\n",
        "testX = encode_sequences(eng_tokenizer, eng_length, test[:, 0])\n",
        "testY = encode_sequences(spa_tokenizer, spa_length, test[:, 1])"
      ],
      "execution_count": 22,
      "outputs": []
    },
    {
      "cell_type": "markdown",
      "metadata": {
        "id": "OU07FRg8DcJu"
      },
      "source": [
        "Now comes the exciting part! Let us define our Seq2Seq model architecture. We are using an Embedding layer and an LSTM layer as our encoder and another LSTM layer followed by a Dense layer as the decoder.  "
      ]
    },
    {
      "cell_type": "code",
      "metadata": {
        "id": "o51zMZv0DcJu"
      },
      "source": [
        "# build NMT model (encoder-decoder)  Remember the U-Net for images, the same rationale !\n",
        "def build_model(in_vocab, out_vocab, in_timesteps, out_timesteps, units):\n",
        "    model = Sequential()\n",
        "    model.add(Embedding(in_vocab, units, input_length=in_timesteps, mask_zero=True))\n",
        "    model.add(LSTM(units))\n",
        "\n",
        "    model.add(RepeatVector(out_timesteps))\n",
        "    model.add(LSTM(units, return_sequences=True))\n",
        "    \n",
        "    model.add(Dense(out_vocab, activation='softmax'))\n",
        "    return model"
      ],
      "execution_count": 22,
      "outputs": []
    },
    {
      "cell_type": "markdown",
      "metadata": {
        "id": "u8ms5ZNfDcJv"
      },
      "source": [
        "We are using RMSprop optimizer in this model as it is usually a good choice for recurrent neural networks."
      ]
    },
    {
      "cell_type": "code",
      "metadata": {
        "id": "KTzT9GxFDcJv"
      },
      "source": [
        "model = build_model(eng_vocab_size, spa_vocab_size, eng_length, spa_length, 512)\n",
        "rms = optimizers.RMSprop(learning_rate=0.001)\n",
        "model.compile(optimizer=rms, loss='sparse_categorical_crossentropy')"
      ],
      "execution_count": 23,
      "outputs": []
    },
    {
      "cell_type": "markdown",
      "metadata": {
        "id": "nxMvqU6UDcJw"
      },
      "source": [
        "Please note that we have used __'sparse_categorical_crossentropy'__ as the loss function because it allows us to use the target sequence as it is instead of one hot encoded format. One hot encoding the target sequences with such a huge vocabulary might consume our system's entire memory."
      ]
    },
    {
      "cell_type": "markdown",
      "metadata": {
        "id": "JIMCDrc_DcJw"
      },
      "source": [
        "It seems we are all set to start training our model. We will train it for 30 epochs and with a batch size of 512. You may change and play these hyperparameters. We will also be using __ModelCheckpoint()__ to save the best model with lowest validation loss. I personally prefer this method over early stopping (manually pick the model with the less distance between train and valid loss)."
      ]
    },
    {
      "cell_type": "markdown",
      "source": [
        "### **Modelo con 50 mil**"
      ],
      "metadata": {
        "id": "FDvGQQaQsyBJ"
      }
    },
    {
      "cell_type": "code",
      "source": [
        "epochs = 30\n",
        "batch_size = 512"
      ],
      "metadata": {
        "id": "LzrdA2eisyBS"
      },
      "execution_count": null,
      "outputs": []
    },
    {
      "cell_type": "code",
      "metadata": {
        "scrolled": true,
        "id": "pDhnyhAlsyBS"
      },
      "source": [
        "filename = '/content/drive/My Drive/deep_learning/NMT/model.h1.24_jan_19'\n",
        "checkpoint = ModelCheckpoint(filename, monitor='val_loss', verbose=1, save_best_only=True, mode='min')\n",
        "\n",
        "history = model.fit(trainX, trainY.reshape(trainY.shape[0], trainY.shape[1], 1), \n",
        "          epochs=epochs, batch_size=batch_size, \n",
        "          validation_split = 0.2,\n",
        "          callbacks=[checkpoint], verbose=1)"
      ],
      "execution_count": null,
      "outputs": []
    },
    {
      "cell_type": "markdown",
      "metadata": {
        "id": "z1-HS1DCsyBT"
      },
      "source": [
        "Let's compare the training loss and the validation loss."
      ]
    },
    {
      "cell_type": "code",
      "metadata": {
        "colab": {
          "base_uri": "https://localhost:8080/",
          "height": 265
        },
        "outputId": "99cfe994-f054-44da-dd0b-4ffafe59be98",
        "id": "6dytR3jAsyBT"
      },
      "source": [
        "plt.plot(history.history['loss'])\n",
        "plt.plot(history.history['val_loss'])\n",
        "plt.legend(['train','validation'])\n",
        "plt.show()"
      ],
      "execution_count": null,
      "outputs": [
        {
          "output_type": "display_data",
          "data": {
            "text/plain": [
              "<Figure size 432x288 with 1 Axes>"
            ],
            "image/png": "[encoded data removed]"
          },
          "metadata": {
            "needs_background": "light"
          }
        }
      ]
    },
    {
      "cell_type": "markdown",
      "metadata": {
        "id": "YHku90L6syBT"
      },
      "source": [
        "#### Make Predictions"
      ]
    },
    {
      "cell_type": "markdown",
      "metadata": {
        "id": "hXpXqZf_syBT"
      },
      "source": [
        "Let's load the saved model to make predictions."
      ]
    },
    {
      "cell_type": "code",
      "source": [
        "preds = model.predict(testX).astype('float16')\n",
        "preds = np.argmax(preds, axis=-1)"
      ],
      "metadata": {
        "id": "wdfb3TwJsyBT"
      },
      "execution_count": null,
      "outputs": []
    },
    {
      "cell_type": "code",
      "metadata": {
        "id": "2XgD0iLIsyBU"
      },
      "source": [
        "def get_word(n, tokenizer):\n",
        "    for word, index in tokenizer.word_index.items():\n",
        "        if index == n:\n",
        "            return word\n",
        "    return None"
      ],
      "execution_count": null,
      "outputs": []
    },
    {
      "cell_type": "code",
      "metadata": {
        "id": "LnnaPEXWsyBU"
      },
      "source": [
        "# convert predictions into text (English)\n",
        "preds_text = []\n",
        "for i in preds:\n",
        "    temp = []\n",
        "    for j in range(len(i)):\n",
        "        t = get_word(i[j], spa_tokenizer)\n",
        "        if j > 0:\n",
        "            if ((t == get_word(i[j-1], spa_tokenizer)) or (t == None)):\n",
        "                temp.append('')\n",
        "            else:\n",
        "                temp.append(t)\n",
        "             \n",
        "        else:\n",
        "            if(t == None):\n",
        "                temp.append('')\n",
        "            else:\n",
        "                temp.append(t)            \n",
        "        \n",
        "    preds_text.append(' '.join(temp))"
      ],
      "execution_count": null,
      "outputs": []
    },
    {
      "cell_type": "code",
      "metadata": {
        "id": "B-C1-SHysyBU"
      },
      "source": [
        "pred_df = pd.DataFrame({'predicted' : preds_text, 'spanish' : test[:,1], 'actual' : test[:,0]})"
      ],
      "execution_count": null,
      "outputs": []
    },
    {
      "cell_type": "code",
      "metadata": {
        "id": "DZuqN2nmsyBU"
      },
      "source": [
        "pd.set_option('display.max_colwidth', 200)"
      ],
      "execution_count": null,
      "outputs": []
    },
    {
      "cell_type": "code",
      "metadata": {
        "colab": {
          "base_uri": "https://localhost:8080/",
          "height": 520
        },
        "outputId": "af5686e2-58bc-4112-8800-e31cdd4fba67",
        "id": "-RHa8cnjsyBU"
      },
      "source": [
        "pred_df.head(15)"
      ],
      "execution_count": null,
      "outputs": [
        {
          "output_type": "execute_result",
          "data": {
            "text/plain": [
              "                        predicted                         spanish  \\\n",
              "0     te pedí que me llamarais           les pedí que me llamaran   \n",
              "1        él es un aristócrata                            él es dj   \n",
              "2            ellos quemaron                     ellos discutieron   \n",
              "3                  no  miedo                       no tengo miedo   \n",
              "4    estoy harto para contigo           estoy listo para seguirte   \n",
              "5       por favor  el teléfono         por favor coge el teléfono   \n",
              "6         ella se casarse con           le dijo adiós con la mano   \n",
              "7   el tom de tom se confiscado    el carro de tom fue confiscado   \n",
              "8         no pongáis excusas                     no ponga excusas   \n",
              "9   tienes ser  más respetuoso     tienen que ser más respetuosos   \n",
              "10       estábamos ocupados                       estabas ocupada   \n",
              "11                   eso es                           ésa es ella   \n",
              "12           ella jugó a casa                  ella se fue a casa   \n",
              "13                    esto                          memoriza esto   \n",
              "14                soy  joven                     estoy destrozado   \n",
              "\n",
              "                      actual  \n",
              "0     i asked you to call me  \n",
              "1                 he is a dj  \n",
              "2             they quarreled  \n",
              "3              im not scared  \n",
              "4   i am ready to follow you  \n",
              "5    please answer the phone  \n",
              "6   she waved goodbye to him  \n",
              "7     toms car was impounded  \n",
              "8          dont make excuses  \n",
              "9    you must be more polite  \n",
              "10             you were busy  \n",
              "11                 thats her  \n",
              "12             she went home  \n",
              "13             memorize this  \n",
              "14         i am very unhappy  "
            ],
            "text/html": [
              "\n",
              "  <div id=\"df-bbe35ca1-5c22-49c3-a0f5-4d69dc5f75cb\">\n",
              "    <div class=\"colab-df-container\">\n",
              "      <div>\n",
              "<style scoped>\n",
              "    .dataframe tbody tr th:only-of-type {\n",
              "        vertical-align: middle;\n",
              "    }\n",
              "\n",
              "    .dataframe tbody tr th {\n",
              "        vertical-align: top;\n",
              "    }\n",
              "\n",
              "    .dataframe thead th {\n",
              "        text-align: right;\n",
              "    }\n",
              "</style>\n",
              "<table border=\"1\" class=\"dataframe\">\n",
              "  <thead>\n",
              "    <tr style=\"text-align: right;\">\n",
              "      <th></th>\n",
              "      <th>predicted</th>\n",
              "      <th>spanish</th>\n",
              "      <th>actual</th>\n",
              "    </tr>\n",
              "  </thead>\n",
              "  <tbody>\n",
              "    <tr>\n",
              "      <th>0</th>\n",
              "      <td>te pedí que me llamarais</td>\n",
              "      <td>les pedí que me llamaran</td>\n",
              "      <td>i asked you to call me</td>\n",
              "    </tr>\n",
              "    <tr>\n",
              "      <th>1</th>\n",
              "      <td>él es un aristócrata</td>\n",
              "      <td>él es dj</td>\n",
              "      <td>he is a dj</td>\n",
              "    </tr>\n",
              "    <tr>\n",
              "      <th>2</th>\n",
              "      <td>ellos quemaron</td>\n",
              "      <td>ellos discutieron</td>\n",
              "      <td>they quarreled</td>\n",
              "    </tr>\n",
              "    <tr>\n",
              "      <th>3</th>\n",
              "      <td>no  miedo</td>\n",
              "      <td>no tengo miedo</td>\n",
              "      <td>im not scared</td>\n",
              "    </tr>\n",
              "    <tr>\n",
              "      <th>4</th>\n",
              "      <td>estoy harto para contigo</td>\n",
              "      <td>estoy listo para seguirte</td>\n",
              "      <td>i am ready to follow you</td>\n",
              "    </tr>\n",
              "    <tr>\n",
              "      <th>5</th>\n",
              "      <td>por favor  el teléfono</td>\n",
              "      <td>por favor coge el teléfono</td>\n",
              "      <td>please answer the phone</td>\n",
              "    </tr>\n",
              "    <tr>\n",
              "      <th>6</th>\n",
              "      <td>ella se casarse con</td>\n",
              "      <td>le dijo adiós con la mano</td>\n",
              "      <td>she waved goodbye to him</td>\n",
              "    </tr>\n",
              "    <tr>\n",
              "      <th>7</th>\n",
              "      <td>el tom de tom se confiscado</td>\n",
              "      <td>el carro de tom fue confiscado</td>\n",
              "      <td>toms car was impounded</td>\n",
              "    </tr>\n",
              "    <tr>\n",
              "      <th>8</th>\n",
              "      <td>no pongáis excusas</td>\n",
              "      <td>no ponga excusas</td>\n",
              "      <td>dont make excuses</td>\n",
              "    </tr>\n",
              "    <tr>\n",
              "      <th>9</th>\n",
              "      <td>tienes ser  más respetuoso</td>\n",
              "      <td>tienen que ser más respetuosos</td>\n",
              "      <td>you must be more polite</td>\n",
              "    </tr>\n",
              "    <tr>\n",
              "      <th>10</th>\n",
              "      <td>estábamos ocupados</td>\n",
              "      <td>estabas ocupada</td>\n",
              "      <td>you were busy</td>\n",
              "    </tr>\n",
              "    <tr>\n",
              "      <th>11</th>\n",
              "      <td>eso es</td>\n",
              "      <td>ésa es ella</td>\n",
              "      <td>thats her</td>\n",
              "    </tr>\n",
              "    <tr>\n",
              "      <th>12</th>\n",
              "      <td>ella jugó a casa</td>\n",
              "      <td>ella se fue a casa</td>\n",
              "      <td>she went home</td>\n",
              "    </tr>\n",
              "    <tr>\n",
              "      <th>13</th>\n",
              "      <td>esto</td>\n",
              "      <td>memoriza esto</td>\n",
              "      <td>memorize this</td>\n",
              "    </tr>\n",
              "    <tr>\n",
              "      <th>14</th>\n",
              "      <td>soy  joven</td>\n",
              "      <td>estoy destrozado</td>\n",
              "      <td>i am very unhappy</td>\n",
              "    </tr>\n",
              "  </tbody>\n",
              "</table>\n",
              "</div>\n",
              "      <button class=\"colab-df-convert\" onclick=\"convertToInteractive('df-bbe35ca1-5c22-49c3-a0f5-4d69dc5f75cb')\"\n",
              "              title=\"Convert this dataframe to an interactive table.\"\n",
              "              style=\"display:none;\">\n",
              "        \n",
              "  <svg xmlns=\"http://www.w3.org/2000/svg\" height=\"24px\"viewBox=\"0 0 24 24\"\n",
              "       width=\"24px\">\n",
              "    <path d=\"M0 0h24v24H0V0z\" fill=\"none\"/>\n",
              "    <path d=\"M18.56 5.44l.94 2.06.94-2.06 2.06-.94-2.06-.94-.94-2.06-.94 2.06-2.06.94zm-11 1L8.5 8.5l.94-2.06 2.06-.94-2.06-.94L8.5 2.5l-.94 2.06-2.06.94zm10 10l.94 2.06.94-2.06 2.06-.94-2.06-.94-.94-2.06-.94 2.06-2.06.94z\"/><path d=\"M17.41 7.96l-1.37-1.37c-.4-.4-.92-.59-1.43-.59-.52 0-1.04.2-1.43.59L10.3 9.45l-7.72 7.72c-.78.78-.78 2.05 0 2.83L4 21.41c.39.39.9.59 1.41.59.51 0 1.02-.2 1.41-.59l7.78-7.78 2.81-2.81c.8-.78.8-2.07 0-2.86zM5.41 20L4 18.59l7.72-7.72 1.47 1.35L5.41 20z\"/>\n",
              "  </svg>\n",
              "      </button>\n",
              "      \n",
              "  <style>\n",
              "    .colab-df-container {\n",
              "      display:flex;\n",
              "      flex-wrap:wrap;\n",
              "      gap: 12px;\n",
              "    }\n",
              "\n",
              "    .colab-df-convert {\n",
              "      background-color: #E8F0FE;\n",
              "      border: none;\n",
              "      border-radius: 50%;\n",
              "      cursor: pointer;\n",
              "      display: none;\n",
              "      fill: #1967D2;\n",
              "      height: 32px;\n",
              "      padding: 0 0 0 0;\n",
              "      width: 32px;\n",
              "    }\n",
              "\n",
              "    .colab-df-convert:hover {\n",
              "      background-color: #E2EBFA;\n",
              "      box-shadow: 0px 1px 2px rgba(60, 64, 67, 0.3), 0px 1px 3px 1px rgba(60, 64, 67, 0.15);\n",
              "      fill: #174EA6;\n",
              "    }\n",
              "\n",
              "    [theme=dark] .colab-df-convert {\n",
              "      background-color: #3B4455;\n",
              "      fill: #D2E3FC;\n",
              "    }\n",
              "\n",
              "    [theme=dark] .colab-df-convert:hover {\n",
              "      background-color: #434B5C;\n",
              "      box-shadow: 0px 1px 3px 1px rgba(0, 0, 0, 0.15);\n",
              "      filter: drop-shadow(0px 1px 2px rgba(0, 0, 0, 0.3));\n",
              "      fill: #FFFFFF;\n",
              "    }\n",
              "  </style>\n",
              "\n",
              "      <script>\n",
              "        const buttonEl =\n",
              "          document.querySelector('#df-bbe35ca1-5c22-49c3-a0f5-4d69dc5f75cb button.colab-df-convert');\n",
              "        buttonEl.style.display =\n",
              "          google.colab.kernel.accessAllowed ? 'block' : 'none';\n",
              "\n",
              "        async function convertToInteractive(key) {\n",
              "          const element = document.querySelector('#df-bbe35ca1-5c22-49c3-a0f5-4d69dc5f75cb');\n",
              "          const dataTable =\n",
              "            await google.colab.kernel.invokeFunction('convertToInteractive',\n",
              "                                                     [key], {});\n",
              "          if (!dataTable) return;\n",
              "\n",
              "          const docLinkHtml = 'Like what you see? Visit the ' +\n",
              "            '<a target=\"_blank\" href=https://colab.research.google.com/notebooks/data_table.ipynb>data table notebook</a>'\n",
              "            + ' to learn more about interactive tables.';\n",
              "          element.innerHTML = '';\n",
              "          dataTable['output_type'] = 'display_data';\n",
              "          await google.colab.output.renderOutput(dataTable, element);\n",
              "          const docLink = document.createElement('div');\n",
              "          docLink.innerHTML = docLinkHtml;\n",
              "          element.appendChild(docLink);\n",
              "        }\n",
              "      </script>\n",
              "    </div>\n",
              "  </div>\n",
              "  "
            ]
          },
          "metadata": {},
          "execution_count": 44
        }
      ]
    },
    {
      "cell_type": "code",
      "metadata": {
        "colab": {
          "base_uri": "https://localhost:8080/",
          "height": 520
        },
        "outputId": "4b079f5a-4c7a-41c3-891f-9e2c77f6bda5",
        "id": "XaxBX5tssyBU"
      },
      "source": [
        "pred_df.tail(15)"
      ],
      "execution_count": null,
      "outputs": [
        {
          "output_type": "execute_result",
          "data": {
            "text/plain": [
              "                          predicted                         spanish  \\\n",
              "4985            por favor no de        por favor no llores de nuevo   \n",
              "4986            me gustaría un             quisiera ver a un doctor   \n",
              "4987             mi dolor es de              mi empresa tiene éxito   \n",
              "4988           ¿puedes lo a tom      ¿puedes encontrar a tom por mí   \n",
              "4989          tengo perdido mi              voy a tener mi venganza   \n",
              "4990                    me un                            me divertí   \n",
              "4991  tokio es una ciudad grande           tokio es una gran ciudad   \n",
              "4992           él tiene un gran           tiene un cuello muy largo   \n",
              "4993                 tom está                    tom está esperando   \n",
              "4994          no era demasiado                    no fui preocupado   \n",
              "4995             yo su consejo                   respeto tu opinión   \n",
              "4996       enséñame otro reloj                  enséñeme otro reloj   \n",
              "4997                    esto                           terminá esto   \n",
              "4998        tengo que tomar a mi           tengo que hacer mi faena   \n",
              "4999                es verdad                             es verdad   \n",
              "\n",
              "                        actual  \n",
              "4985     please dont cry again  \n",
              "4986   id like to see a doctor  \n",
              "4987  my company is successful  \n",
              "4988   can you find tom for me  \n",
              "4989       ill have my revenge  \n",
              "4990            i had some fun  \n",
              "4991       tokyo is a big city  \n",
              "4992        he has a long neck  \n",
              "4993            tom is waiting  \n",
              "4994           i wasnt careful  \n",
              "4995    i respect your opinion  \n",
              "4996     show me another watch  \n",
              "4997               finish this  \n",
              "4998   ive got to do my chores  \n",
              "4999                  its true  "
            ],
            "text/html": [
              "\n",
              "  <div id=\"df-89e0fa3f-f00a-493f-9aee-d9e16fbbaf52\">\n",
              "    <div class=\"colab-df-container\">\n",
              "      <div>\n",
              "<style scoped>\n",
              "    .dataframe tbody tr th:only-of-type {\n",
              "        vertical-align: middle;\n",
              "    }\n",
              "\n",
              "    .dataframe tbody tr th {\n",
              "        vertical-align: top;\n",
              "    }\n",
              "\n",
              "    .dataframe thead th {\n",
              "        text-align: right;\n",
              "    }\n",
              "</style>\n",
              "<table border=\"1\" class=\"dataframe\">\n",
              "  <thead>\n",
              "    <tr style=\"text-align: right;\">\n",
              "      <th></th>\n",
              "      <th>predicted</th>\n",
              "      <th>spanish</th>\n",
              "      <th>actual</th>\n",
              "    </tr>\n",
              "  </thead>\n",
              "  <tbody>\n",
              "    <tr>\n",
              "      <th>4985</th>\n",
              "      <td>por favor no de</td>\n",
              "      <td>por favor no llores de nuevo</td>\n",
              "      <td>please dont cry again</td>\n",
              "    </tr>\n",
              "    <tr>\n",
              "      <th>4986</th>\n",
              "      <td>me gustaría un</td>\n",
              "      <td>quisiera ver a un doctor</td>\n",
              "      <td>id like to see a doctor</td>\n",
              "    </tr>\n",
              "    <tr>\n",
              "      <th>4987</th>\n",
              "      <td>mi dolor es de</td>\n",
              "      <td>mi empresa tiene éxito</td>\n",
              "      <td>my company is successful</td>\n",
              "    </tr>\n",
              "    <tr>\n",
              "      <th>4988</th>\n",
              "      <td>¿puedes lo a tom</td>\n",
              "      <td>¿puedes encontrar a tom por mí</td>\n",
              "      <td>can you find tom for me</td>\n",
              "    </tr>\n",
              "    <tr>\n",
              "      <th>4989</th>\n",
              "      <td>tengo perdido mi</td>\n",
              "      <td>voy a tener mi venganza</td>\n",
              "      <td>ill have my revenge</td>\n",
              "    </tr>\n",
              "    <tr>\n",
              "      <th>4990</th>\n",
              "      <td>me un</td>\n",
              "      <td>me divertí</td>\n",
              "      <td>i had some fun</td>\n",
              "    </tr>\n",
              "    <tr>\n",
              "      <th>4991</th>\n",
              "      <td>tokio es una ciudad grande</td>\n",
              "      <td>tokio es una gran ciudad</td>\n",
              "      <td>tokyo is a big city</td>\n",
              "    </tr>\n",
              "    <tr>\n",
              "      <th>4992</th>\n",
              "      <td>él tiene un gran</td>\n",
              "      <td>tiene un cuello muy largo</td>\n",
              "      <td>he has a long neck</td>\n",
              "    </tr>\n",
              "    <tr>\n",
              "      <th>4993</th>\n",
              "      <td>tom está</td>\n",
              "      <td>tom está esperando</td>\n",
              "      <td>tom is waiting</td>\n",
              "    </tr>\n",
              "    <tr>\n",
              "      <th>4994</th>\n",
              "      <td>no era demasiado</td>\n",
              "      <td>no fui preocupado</td>\n",
              "      <td>i wasnt careful</td>\n",
              "    </tr>\n",
              "    <tr>\n",
              "      <th>4995</th>\n",
              "      <td>yo su consejo</td>\n",
              "      <td>respeto tu opinión</td>\n",
              "      <td>i respect your opinion</td>\n",
              "    </tr>\n",
              "    <tr>\n",
              "      <th>4996</th>\n",
              "      <td>enséñame otro reloj</td>\n",
              "      <td>enséñeme otro reloj</td>\n",
              "      <td>show me another watch</td>\n",
              "    </tr>\n",
              "    <tr>\n",
              "      <th>4997</th>\n",
              "      <td>esto</td>\n",
              "      <td>terminá esto</td>\n",
              "      <td>finish this</td>\n",
              "    </tr>\n",
              "    <tr>\n",
              "      <th>4998</th>\n",
              "      <td>tengo que tomar a mi</td>\n",
              "      <td>tengo que hacer mi faena</td>\n",
              "      <td>ive got to do my chores</td>\n",
              "    </tr>\n",
              "    <tr>\n",
              "      <th>4999</th>\n",
              "      <td>es verdad</td>\n",
              "      <td>es verdad</td>\n",
              "      <td>its true</td>\n",
              "    </tr>\n",
              "  </tbody>\n",
              "</table>\n",
              "</div>\n",
              "      <button class=\"colab-df-convert\" onclick=\"convertToInteractive('df-89e0fa3f-f00a-493f-9aee-d9e16fbbaf52')\"\n",
              "              title=\"Convert this dataframe to an interactive table.\"\n",
              "              style=\"display:none;\">\n",
              "        \n",
              "  <svg xmlns=\"http://www.w3.org/2000/svg\" height=\"24px\"viewBox=\"0 0 24 24\"\n",
              "       width=\"24px\">\n",
              "    <path d=\"M0 0h24v24H0V0z\" fill=\"none\"/>\n",
              "    <path d=\"M18.56 5.44l.94 2.06.94-2.06 2.06-.94-2.06-.94-.94-2.06-.94 2.06-2.06.94zm-11 1L8.5 8.5l.94-2.06 2.06-.94-2.06-.94L8.5 2.5l-.94 2.06-2.06.94zm10 10l.94 2.06.94-2.06 2.06-.94-2.06-.94-.94-2.06-.94 2.06-2.06.94z\"/><path d=\"M17.41 7.96l-1.37-1.37c-.4-.4-.92-.59-1.43-.59-.52 0-1.04.2-1.43.59L10.3 9.45l-7.72 7.72c-.78.78-.78 2.05 0 2.83L4 21.41c.39.39.9.59 1.41.59.51 0 1.02-.2 1.41-.59l7.78-7.78 2.81-2.81c.8-.78.8-2.07 0-2.86zM5.41 20L4 18.59l7.72-7.72 1.47 1.35L5.41 20z\"/>\n",
              "  </svg>\n",
              "      </button>\n",
              "      \n",
              "  <style>\n",
              "    .colab-df-container {\n",
              "      display:flex;\n",
              "      flex-wrap:wrap;\n",
              "      gap: 12px;\n",
              "    }\n",
              "\n",
              "    .colab-df-convert {\n",
              "      background-color: #E8F0FE;\n",
              "      border: none;\n",
              "      border-radius: 50%;\n",
              "      cursor: pointer;\n",
              "      display: none;\n",
              "      fill: #1967D2;\n",
              "      height: 32px;\n",
              "      padding: 0 0 0 0;\n",
              "      width: 32px;\n",
              "    }\n",
              "\n",
              "    .colab-df-convert:hover {\n",
              "      background-color: #E2EBFA;\n",
              "      box-shadow: 0px 1px 2px rgba(60, 64, 67, 0.3), 0px 1px 3px 1px rgba(60, 64, 67, 0.15);\n",
              "      fill: #174EA6;\n",
              "    }\n",
              "\n",
              "    [theme=dark] .colab-df-convert {\n",
              "      background-color: #3B4455;\n",
              "      fill: #D2E3FC;\n",
              "    }\n",
              "\n",
              "    [theme=dark] .colab-df-convert:hover {\n",
              "      background-color: #434B5C;\n",
              "      box-shadow: 0px 1px 3px 1px rgba(0, 0, 0, 0.15);\n",
              "      filter: drop-shadow(0px 1px 2px rgba(0, 0, 0, 0.3));\n",
              "      fill: #FFFFFF;\n",
              "    }\n",
              "  </style>\n",
              "\n",
              "      <script>\n",
              "        const buttonEl =\n",
              "          document.querySelector('#df-89e0fa3f-f00a-493f-9aee-d9e16fbbaf52 button.colab-df-convert');\n",
              "        buttonEl.style.display =\n",
              "          google.colab.kernel.accessAllowed ? 'block' : 'none';\n",
              "\n",
              "        async function convertToInteractive(key) {\n",
              "          const element = document.querySelector('#df-89e0fa3f-f00a-493f-9aee-d9e16fbbaf52');\n",
              "          const dataTable =\n",
              "            await google.colab.kernel.invokeFunction('convertToInteractive',\n",
              "                                                     [key], {});\n",
              "          if (!dataTable) return;\n",
              "\n",
              "          const docLinkHtml = 'Like what you see? Visit the ' +\n",
              "            '<a target=\"_blank\" href=https://colab.research.google.com/notebooks/data_table.ipynb>data table notebook</a>'\n",
              "            + ' to learn more about interactive tables.';\n",
              "          element.innerHTML = '';\n",
              "          dataTable['output_type'] = 'display_data';\n",
              "          await google.colab.output.renderOutput(dataTable, element);\n",
              "          const docLink = document.createElement('div');\n",
              "          docLink.innerHTML = docLinkHtml;\n",
              "          element.appendChild(docLink);\n",
              "        }\n",
              "      </script>\n",
              "    </div>\n",
              "  </div>\n",
              "  "
            ]
          },
          "metadata": {},
          "execution_count": 45
        }
      ]
    },
    {
      "cell_type": "code",
      "metadata": {
        "colab": {
          "base_uri": "https://localhost:8080/",
          "height": 520
        },
        "outputId": "f72c59f0-cba1-4a12-bff5-99eb6b7fd53c",
        "id": "poGwL0h8syBU"
      },
      "source": [
        "pred_df.sample(15)"
      ],
      "execution_count": null,
      "outputs": [
        {
          "output_type": "execute_result",
          "data": {
            "text/plain": [
              "                      predicted                        spanish  \\\n",
              "2190                 tom                          tomás miente   \n",
              "2890      él se golpeó en la             se pegó en la rodilla   \n",
              "4109    ellos son nuestros        ellos son terribles enemigos   \n",
              "3145          eso es  ¿no es       eso es verdad ¿no es cierto   \n",
              "2586              él a  más      él va a regresar a las cuatro   \n",
              "705    tom nunca se enfermo        tom nunca ha estado enfermo   \n",
              "1688     los gente estaban         ambas historias son ciertas   \n",
              "2402       él vino en coche              ella llegó en un auto   \n",
              "1023  a madre no puede venir           mi madre no puede venir   \n",
              "4245             yo soy un              yo soy maestro también   \n",
              "3735        ¿qué son  cosas               ¿qué son estas cosas   \n",
              "1961        tom le que mary                  tom saludó a mary   \n",
              "3488       nunca estaba de             él estaba aquí entonces   \n",
              "2583      tengo que volver                        he de volver   \n",
              "1001                  te                    ellos te siguieron   \n",
              "\n",
              "                         actual  \n",
              "2190                   tom lies  \n",
              "2890         he banged his knee  \n",
              "4109    they are bitter enemies  \n",
              "3145         thats true isnt it  \n",
              "2586  he will come back at four  \n",
              "705     tom has never been sick  \n",
              "1688      both stories are true  \n",
              "2402       she arrived in a car  \n",
              "1023        my mother cant come  \n",
              "4245          im also a teacher  \n",
              "3735      what are these things  \n",
              "1961     tom said hello to mary  \n",
              "3488   he was here at that time  \n",
              "2583         ive got to go back  \n",
              "1001          they followed you  "
            ],
            "text/html": [
              "\n",
              "  <div id=\"df-2ca12de8-ac6d-46a6-a962-bf2264aadbad\">\n",
              "    <div class=\"colab-df-container\">\n",
              "      <div>\n",
              "<style scoped>\n",
              "    .dataframe tbody tr th:only-of-type {\n",
              "        vertical-align: middle;\n",
              "    }\n",
              "\n",
              "    .dataframe tbody tr th {\n",
              "        vertical-align: top;\n",
              "    }\n",
              "\n",
              "    .dataframe thead th {\n",
              "        text-align: right;\n",
              "    }\n",
              "</style>\n",
              "<table border=\"1\" class=\"dataframe\">\n",
              "  <thead>\n",
              "    <tr style=\"text-align: right;\">\n",
              "      <th></th>\n",
              "      <th>predicted</th>\n",
              "      <th>spanish</th>\n",
              "      <th>actual</th>\n",
              "    </tr>\n",
              "  </thead>\n",
              "  <tbody>\n",
              "    <tr>\n",
              "      <th>2190</th>\n",
              "      <td>tom</td>\n",
              "      <td>tomás miente</td>\n",
              "      <td>tom lies</td>\n",
              "    </tr>\n",
              "    <tr>\n",
              "      <th>2890</th>\n",
              "      <td>él se golpeó en la</td>\n",
              "      <td>se pegó en la rodilla</td>\n",
              "      <td>he banged his knee</td>\n",
              "    </tr>\n",
              "    <tr>\n",
              "      <th>4109</th>\n",
              "      <td>ellos son nuestros</td>\n",
              "      <td>ellos son terribles enemigos</td>\n",
              "      <td>they are bitter enemies</td>\n",
              "    </tr>\n",
              "    <tr>\n",
              "      <th>3145</th>\n",
              "      <td>eso es  ¿no es</td>\n",
              "      <td>eso es verdad ¿no es cierto</td>\n",
              "      <td>thats true isnt it</td>\n",
              "    </tr>\n",
              "    <tr>\n",
              "      <th>2586</th>\n",
              "      <td>él a  más</td>\n",
              "      <td>él va a regresar a las cuatro</td>\n",
              "      <td>he will come back at four</td>\n",
              "    </tr>\n",
              "    <tr>\n",
              "      <th>705</th>\n",
              "      <td>tom nunca se enfermo</td>\n",
              "      <td>tom nunca ha estado enfermo</td>\n",
              "      <td>tom has never been sick</td>\n",
              "    </tr>\n",
              "    <tr>\n",
              "      <th>1688</th>\n",
              "      <td>los gente estaban</td>\n",
              "      <td>ambas historias son ciertas</td>\n",
              "      <td>both stories are true</td>\n",
              "    </tr>\n",
              "    <tr>\n",
              "      <th>2402</th>\n",
              "      <td>él vino en coche</td>\n",
              "      <td>ella llegó en un auto</td>\n",
              "      <td>she arrived in a car</td>\n",
              "    </tr>\n",
              "    <tr>\n",
              "      <th>1023</th>\n",
              "      <td>a madre no puede venir</td>\n",
              "      <td>mi madre no puede venir</td>\n",
              "      <td>my mother cant come</td>\n",
              "    </tr>\n",
              "    <tr>\n",
              "      <th>4245</th>\n",
              "      <td>yo soy un</td>\n",
              "      <td>yo soy maestro también</td>\n",
              "      <td>im also a teacher</td>\n",
              "    </tr>\n",
              "    <tr>\n",
              "      <th>3735</th>\n",
              "      <td>¿qué son  cosas</td>\n",
              "      <td>¿qué son estas cosas</td>\n",
              "      <td>what are these things</td>\n",
              "    </tr>\n",
              "    <tr>\n",
              "      <th>1961</th>\n",
              "      <td>tom le que mary</td>\n",
              "      <td>tom saludó a mary</td>\n",
              "      <td>tom said hello to mary</td>\n",
              "    </tr>\n",
              "    <tr>\n",
              "      <th>3488</th>\n",
              "      <td>nunca estaba de</td>\n",
              "      <td>él estaba aquí entonces</td>\n",
              "      <td>he was here at that time</td>\n",
              "    </tr>\n",
              "    <tr>\n",
              "      <th>2583</th>\n",
              "      <td>tengo que volver</td>\n",
              "      <td>he de volver</td>\n",
              "      <td>ive got to go back</td>\n",
              "    </tr>\n",
              "    <tr>\n",
              "      <th>1001</th>\n",
              "      <td>te</td>\n",
              "      <td>ellos te siguieron</td>\n",
              "      <td>they followed you</td>\n",
              "    </tr>\n",
              "  </tbody>\n",
              "</table>\n",
              "</div>\n",
              "      <button class=\"colab-df-convert\" onclick=\"convertToInteractive('df-2ca12de8-ac6d-46a6-a962-bf2264aadbad')\"\n",
              "              title=\"Convert this dataframe to an interactive table.\"\n",
              "              style=\"display:none;\">\n",
              "        \n",
              "  <svg xmlns=\"http://www.w3.org/2000/svg\" height=\"24px\"viewBox=\"0 0 24 24\"\n",
              "       width=\"24px\">\n",
              "    <path d=\"M0 0h24v24H0V0z\" fill=\"none\"/>\n",
              "    <path d=\"M18.56 5.44l.94 2.06.94-2.06 2.06-.94-2.06-.94-.94-2.06-.94 2.06-2.06.94zm-11 1L8.5 8.5l.94-2.06 2.06-.94-2.06-.94L8.5 2.5l-.94 2.06-2.06.94zm10 10l.94 2.06.94-2.06 2.06-.94-2.06-.94-.94-2.06-.94 2.06-2.06.94z\"/><path d=\"M17.41 7.96l-1.37-1.37c-.4-.4-.92-.59-1.43-.59-.52 0-1.04.2-1.43.59L10.3 9.45l-7.72 7.72c-.78.78-.78 2.05 0 2.83L4 21.41c.39.39.9.59 1.41.59.51 0 1.02-.2 1.41-.59l7.78-7.78 2.81-2.81c.8-.78.8-2.07 0-2.86zM5.41 20L4 18.59l7.72-7.72 1.47 1.35L5.41 20z\"/>\n",
              "  </svg>\n",
              "      </button>\n",
              "      \n",
              "  <style>\n",
              "    .colab-df-container {\n",
              "      display:flex;\n",
              "      flex-wrap:wrap;\n",
              "      gap: 12px;\n",
              "    }\n",
              "\n",
              "    .colab-df-convert {\n",
              "      background-color: #E8F0FE;\n",
              "      border: none;\n",
              "      border-radius: 50%;\n",
              "      cursor: pointer;\n",
              "      display: none;\n",
              "      fill: #1967D2;\n",
              "      height: 32px;\n",
              "      padding: 0 0 0 0;\n",
              "      width: 32px;\n",
              "    }\n",
              "\n",
              "    .colab-df-convert:hover {\n",
              "      background-color: #E2EBFA;\n",
              "      box-shadow: 0px 1px 2px rgba(60, 64, 67, 0.3), 0px 1px 3px 1px rgba(60, 64, 67, 0.15);\n",
              "      fill: #174EA6;\n",
              "    }\n",
              "\n",
              "    [theme=dark] .colab-df-convert {\n",
              "      background-color: #3B4455;\n",
              "      fill: #D2E3FC;\n",
              "    }\n",
              "\n",
              "    [theme=dark] .colab-df-convert:hover {\n",
              "      background-color: #434B5C;\n",
              "      box-shadow: 0px 1px 3px 1px rgba(0, 0, 0, 0.15);\n",
              "      filter: drop-shadow(0px 1px 2px rgba(0, 0, 0, 0.3));\n",
              "      fill: #FFFFFF;\n",
              "    }\n",
              "  </style>\n",
              "\n",
              "      <script>\n",
              "        const buttonEl =\n",
              "          document.querySelector('#df-2ca12de8-ac6d-46a6-a962-bf2264aadbad button.colab-df-convert');\n",
              "        buttonEl.style.display =\n",
              "          google.colab.kernel.accessAllowed ? 'block' : 'none';\n",
              "\n",
              "        async function convertToInteractive(key) {\n",
              "          const element = document.querySelector('#df-2ca12de8-ac6d-46a6-a962-bf2264aadbad');\n",
              "          const dataTable =\n",
              "            await google.colab.kernel.invokeFunction('convertToInteractive',\n",
              "                                                     [key], {});\n",
              "          if (!dataTable) return;\n",
              "\n",
              "          const docLinkHtml = 'Like what you see? Visit the ' +\n",
              "            '<a target=\"_blank\" href=https://colab.research.google.com/notebooks/data_table.ipynb>data table notebook</a>'\n",
              "            + ' to learn more about interactive tables.';\n",
              "          element.innerHTML = '';\n",
              "          dataTable['output_type'] = 'display_data';\n",
              "          await google.colab.output.renderOutput(dataTable, element);\n",
              "          const docLink = document.createElement('div');\n",
              "          docLink.innerHTML = docLinkHtml;\n",
              "          element.appendChild(docLink);\n",
              "        }\n",
              "      </script>\n",
              "    </div>\n",
              "  </div>\n",
              "  "
            ]
          },
          "metadata": {},
          "execution_count": 46
        }
      ]
    },
    {
      "cell_type": "markdown",
      "source": [
        "### **Modelo con 128 mil**"
      ],
      "metadata": {
        "id": "C2FtuaW8QyqP"
      }
    },
    {
      "cell_type": "code",
      "source": [
        "epochs = 30\n",
        "batch_size = 512"
      ],
      "metadata": {
        "id": "P0PskKn-QyqZ"
      },
      "execution_count": 26,
      "outputs": []
    },
    {
      "cell_type": "code",
      "metadata": {
        "scrolled": true,
        "colab": {
          "base_uri": "https://localhost:8080/"
        },
        "outputId": "6a8ca773-c83c-4cdb-c27b-508b319deaee",
        "id": "KUx2Xo4aQyqZ"
      },
      "source": [
        "filename = '/content/drive/My Drive/deep_learning/NMT/model_128.h1.24_jan_19'\n",
        "checkpoint = ModelCheckpoint(filename, monitor='val_loss', verbose=1, save_best_only=True, mode='min')\n",
        "\n",
        "history = model.fit(trainX, trainY.reshape(trainY.shape[0], trainY.shape[1], 1), \n",
        "          epochs=epochs, batch_size=batch_size, \n",
        "          validation_split = 0.2,\n",
        "          callbacks=[checkpoint], verbose=1)"
      ],
      "execution_count": 27,
      "outputs": [
        {
          "output_type": "stream",
          "name": "stdout",
          "text": [
            "Epoch 1/30\n",
            "180/181 [============================>.] - ETA: 0s - loss: 4.8098\n",
            "Epoch 1: val_loss improved from inf to 4.70317, saving model to /content/drive/My Drive/deep_learning/NMT/model_128.h1.24_jan_19\n"
          ]
        },
        {
          "output_type": "stream",
          "name": "stderr",
          "text": [
            "WARNING:absl:Found untraced functions such as lstm_cell_layer_call_fn, lstm_cell_layer_call_and_return_conditional_losses, lstm_cell_1_layer_call_fn, lstm_cell_1_layer_call_and_return_conditional_losses while saving (showing 4 of 4). These functions will not be directly callable after loading.\n",
            "WARNING:absl:<keras.layers.recurrent.LSTMCell object at 0x7f6af9ec8510> has the same name 'LSTMCell' as a built-in Keras object. Consider renaming <class 'keras.layers.recurrent.LSTMCell'> to avoid naming conflicts when loading with `tf.keras.models.load_model`. If renaming is not possible, pass the object in the `custom_objects` parameter of the load function.\n",
            "WARNING:absl:<keras.layers.recurrent.LSTMCell object at 0x7f6af88d0750> has the same name 'LSTMCell' as a built-in Keras object. Consider renaming <class 'keras.layers.recurrent.LSTMCell'> to avoid naming conflicts when loading with `tf.keras.models.load_model`. If renaming is not possible, pass the object in the `custom_objects` parameter of the load function.\n"
          ]
        },
        {
          "output_type": "stream",
          "name": "stdout",
          "text": [
            "\b\b\b\b\b\b\b\b\b\b\b\b\b\b\b\b\b\b\b\b\b\b\b\b\b\b\b\b\b\b\b\b\b\b\b\b\b\b\b\b\b\b\b\b\b\b\b\b\b\b\b\b\b\b\b\b\b\b\b\b\b\b\b\b\b\r181/181 [==============================] - 46s 256ms/step - loss: 4.8095 - val_loss: 4.7032\n",
            "Epoch 2/30\n",
            "180/181 [============================>.] - ETA: 0s - loss: 4.4129\n",
            "Epoch 2: val_loss improved from 4.70317 to 4.32179, saving model to /content/drive/My Drive/deep_learning/NMT/model_128.h1.24_jan_19\n"
          ]
        },
        {
          "output_type": "stream",
          "name": "stderr",
          "text": [
            "WARNING:absl:Found untraced functions such as lstm_cell_layer_call_fn, lstm_cell_layer_call_and_return_conditional_losses, lstm_cell_1_layer_call_fn, lstm_cell_1_layer_call_and_return_conditional_losses while saving (showing 4 of 4). These functions will not be directly callable after loading.\n",
            "WARNING:absl:<keras.layers.recurrent.LSTMCell object at 0x7f6af9ec8510> has the same name 'LSTMCell' as a built-in Keras object. Consider renaming <class 'keras.layers.recurrent.LSTMCell'> to avoid naming conflicts when loading with `tf.keras.models.load_model`. If renaming is not possible, pass the object in the `custom_objects` parameter of the load function.\n",
            "WARNING:absl:<keras.layers.recurrent.LSTMCell object at 0x7f6af88d0750> has the same name 'LSTMCell' as a built-in Keras object. Consider renaming <class 'keras.layers.recurrent.LSTMCell'> to avoid naming conflicts when loading with `tf.keras.models.load_model`. If renaming is not possible, pass the object in the `custom_objects` parameter of the load function.\n"
          ]
        },
        {
          "output_type": "stream",
          "name": "stdout",
          "text": [
            "\b\b\b\b\b\b\b\b\b\b\b\b\b\b\b\b\b\b\b\b\b\b\b\b\b\b\b\b\b\b\b\b\b\b\b\b\b\b\b\b\b\b\b\b\b\b\b\b\b\b\b\b\b\b\b\b\b\b\b\b\b\b\b\b\b\r181/181 [==============================] - 45s 251ms/step - loss: 4.4127 - val_loss: 4.3218\n",
            "Epoch 3/30\n",
            "180/181 [============================>.] - ETA: 0s - loss: 4.0851\n",
            "Epoch 3: val_loss improved from 4.32179 to 4.05759, saving model to /content/drive/My Drive/deep_learning/NMT/model_128.h1.24_jan_19\n"
          ]
        },
        {
          "output_type": "stream",
          "name": "stderr",
          "text": [
            "WARNING:absl:Found untraced functions such as lstm_cell_layer_call_fn, lstm_cell_layer_call_and_return_conditional_losses, lstm_cell_1_layer_call_fn, lstm_cell_1_layer_call_and_return_conditional_losses while saving (showing 4 of 4). These functions will not be directly callable after loading.\n",
            "WARNING:absl:<keras.layers.recurrent.LSTMCell object at 0x7f6af9ec8510> has the same name 'LSTMCell' as a built-in Keras object. Consider renaming <class 'keras.layers.recurrent.LSTMCell'> to avoid naming conflicts when loading with `tf.keras.models.load_model`. If renaming is not possible, pass the object in the `custom_objects` parameter of the load function.\n",
            "WARNING:absl:<keras.layers.recurrent.LSTMCell object at 0x7f6af88d0750> has the same name 'LSTMCell' as a built-in Keras object. Consider renaming <class 'keras.layers.recurrent.LSTMCell'> to avoid naming conflicts when loading with `tf.keras.models.load_model`. If renaming is not possible, pass the object in the `custom_objects` parameter of the load function.\n"
          ]
        },
        {
          "output_type": "stream",
          "name": "stdout",
          "text": [
            "\b\b\b\b\b\b\b\b\b\b\b\b\b\b\b\b\b\b\b\b\b\b\b\b\b\b\b\b\b\b\b\b\b\b\b\b\b\b\b\b\b\b\b\b\b\b\b\b\b\b\b\b\b\b\b\b\b\b\b\b\b\b\b\b\b\r181/181 [==============================] - 48s 263ms/step - loss: 4.0851 - val_loss: 4.0576\n",
            "Epoch 4/30\n",
            "180/181 [============================>.] - ETA: 0s - loss: 3.7894\n",
            "Epoch 4: val_loss improved from 4.05759 to 3.85200, saving model to /content/drive/My Drive/deep_learning/NMT/model_128.h1.24_jan_19\n"
          ]
        },
        {
          "output_type": "stream",
          "name": "stderr",
          "text": [
            "WARNING:absl:Found untraced functions such as lstm_cell_layer_call_fn, lstm_cell_layer_call_and_return_conditional_losses, lstm_cell_1_layer_call_fn, lstm_cell_1_layer_call_and_return_conditional_losses while saving (showing 4 of 4). These functions will not be directly callable after loading.\n",
            "WARNING:absl:<keras.layers.recurrent.LSTMCell object at 0x7f6af9ec8510> has the same name 'LSTMCell' as a built-in Keras object. Consider renaming <class 'keras.layers.recurrent.LSTMCell'> to avoid naming conflicts when loading with `tf.keras.models.load_model`. If renaming is not possible, pass the object in the `custom_objects` parameter of the load function.\n",
            "WARNING:absl:<keras.layers.recurrent.LSTMCell object at 0x7f6af88d0750> has the same name 'LSTMCell' as a built-in Keras object. Consider renaming <class 'keras.layers.recurrent.LSTMCell'> to avoid naming conflicts when loading with `tf.keras.models.load_model`. If renaming is not possible, pass the object in the `custom_objects` parameter of the load function.\n"
          ]
        },
        {
          "output_type": "stream",
          "name": "stdout",
          "text": [
            "\b\b\b\b\b\b\b\b\b\b\b\b\b\b\b\b\b\b\b\b\b\b\b\b\b\b\b\b\b\b\b\b\b\b\b\b\b\b\b\b\b\b\b\b\b\b\b\b\b\b\b\b\b\b\b\b\b\b\b\b\b\b\b\b\b\r181/181 [==============================] - 46s 256ms/step - loss: 3.7894 - val_loss: 3.8520\n",
            "Epoch 5/30\n",
            "180/181 [============================>.] - ETA: 0s - loss: 3.5196\n",
            "Epoch 5: val_loss improved from 3.85200 to 3.63954, saving model to /content/drive/My Drive/deep_learning/NMT/model_128.h1.24_jan_19\n"
          ]
        },
        {
          "output_type": "stream",
          "name": "stderr",
          "text": [
            "WARNING:absl:Found untraced functions such as lstm_cell_layer_call_fn, lstm_cell_layer_call_and_return_conditional_losses, lstm_cell_1_layer_call_fn, lstm_cell_1_layer_call_and_return_conditional_losses while saving (showing 4 of 4). These functions will not be directly callable after loading.\n",
            "WARNING:absl:<keras.layers.recurrent.LSTMCell object at 0x7f6af9ec8510> has the same name 'LSTMCell' as a built-in Keras object. Consider renaming <class 'keras.layers.recurrent.LSTMCell'> to avoid naming conflicts when loading with `tf.keras.models.load_model`. If renaming is not possible, pass the object in the `custom_objects` parameter of the load function.\n",
            "WARNING:absl:<keras.layers.recurrent.LSTMCell object at 0x7f6af88d0750> has the same name 'LSTMCell' as a built-in Keras object. Consider renaming <class 'keras.layers.recurrent.LSTMCell'> to avoid naming conflicts when loading with `tf.keras.models.load_model`. If renaming is not possible, pass the object in the `custom_objects` parameter of the load function.\n"
          ]
        },
        {
          "output_type": "stream",
          "name": "stdout",
          "text": [
            "\b\b\b\b\b\b\b\b\b\b\b\b\b\b\b\b\b\b\b\b\b\b\b\b\b\b\b\b\b\b\b\b\b\b\b\b\b\b\b\b\b\b\b\b\b\b\b\b\b\b\b\b\b\b\b\b\b\b\b\b\b\b\b\b\b\r181/181 [==============================] - 49s 270ms/step - loss: 3.5195 - val_loss: 3.6395\n",
            "Epoch 6/30\n",
            "180/181 [============================>.] - ETA: 0s - loss: 3.2726\n",
            "Epoch 6: val_loss improved from 3.63954 to 3.45230, saving model to /content/drive/My Drive/deep_learning/NMT/model_128.h1.24_jan_19\n"
          ]
        },
        {
          "output_type": "stream",
          "name": "stderr",
          "text": [
            "WARNING:absl:Found untraced functions such as lstm_cell_layer_call_fn, lstm_cell_layer_call_and_return_conditional_losses, lstm_cell_1_layer_call_fn, lstm_cell_1_layer_call_and_return_conditional_losses while saving (showing 4 of 4). These functions will not be directly callable after loading.\n",
            "WARNING:absl:<keras.layers.recurrent.LSTMCell object at 0x7f6af9ec8510> has the same name 'LSTMCell' as a built-in Keras object. Consider renaming <class 'keras.layers.recurrent.LSTMCell'> to avoid naming conflicts when loading with `tf.keras.models.load_model`. If renaming is not possible, pass the object in the `custom_objects` parameter of the load function.\n",
            "WARNING:absl:<keras.layers.recurrent.LSTMCell object at 0x7f6af88d0750> has the same name 'LSTMCell' as a built-in Keras object. Consider renaming <class 'keras.layers.recurrent.LSTMCell'> to avoid naming conflicts when loading with `tf.keras.models.load_model`. If renaming is not possible, pass the object in the `custom_objects` parameter of the load function.\n"
          ]
        },
        {
          "output_type": "stream",
          "name": "stdout",
          "text": [
            "\b\b\b\b\b\b\b\b\b\b\b\b\b\b\b\b\b\b\b\b\b\b\b\b\b\b\b\b\b\b\b\b\b\b\b\b\b\b\b\b\b\b\b\b\b\b\b\b\b\b\b\b\b\b\b\b\b\b\b\b\b\b\b\b\b\r181/181 [==============================] - 47s 259ms/step - loss: 3.2725 - val_loss: 3.4523\n",
            "Epoch 7/30\n",
            "180/181 [============================>.] - ETA: 0s - loss: 3.0467\n",
            "Epoch 7: val_loss improved from 3.45230 to 3.32806, saving model to /content/drive/My Drive/deep_learning/NMT/model_128.h1.24_jan_19\n"
          ]
        },
        {
          "output_type": "stream",
          "name": "stderr",
          "text": [
            "WARNING:absl:Found untraced functions such as lstm_cell_layer_call_fn, lstm_cell_layer_call_and_return_conditional_losses, lstm_cell_1_layer_call_fn, lstm_cell_1_layer_call_and_return_conditional_losses while saving (showing 4 of 4). These functions will not be directly callable after loading.\n",
            "WARNING:absl:<keras.layers.recurrent.LSTMCell object at 0x7f6af9ec8510> has the same name 'LSTMCell' as a built-in Keras object. Consider renaming <class 'keras.layers.recurrent.LSTMCell'> to avoid naming conflicts when loading with `tf.keras.models.load_model`. If renaming is not possible, pass the object in the `custom_objects` parameter of the load function.\n",
            "WARNING:absl:<keras.layers.recurrent.LSTMCell object at 0x7f6af88d0750> has the same name 'LSTMCell' as a built-in Keras object. Consider renaming <class 'keras.layers.recurrent.LSTMCell'> to avoid naming conflicts when loading with `tf.keras.models.load_model`. If renaming is not possible, pass the object in the `custom_objects` parameter of the load function.\n"
          ]
        },
        {
          "output_type": "stream",
          "name": "stdout",
          "text": [
            "\b\b\b\b\b\b\b\b\b\b\b\b\b\b\b\b\b\b\b\b\b\b\b\b\b\b\b\b\b\b\b\b\b\b\b\b\b\b\b\b\b\b\b\b\b\b\b\b\b\b\b\b\b\b\b\b\b\b\b\b\b\b\b\b\b\r181/181 [==============================] - 47s 259ms/step - loss: 3.0467 - val_loss: 3.3281\n",
            "Epoch 8/30\n",
            "180/181 [============================>.] - ETA: 0s - loss: 2.8399\n",
            "Epoch 8: val_loss improved from 3.32806 to 3.18894, saving model to /content/drive/My Drive/deep_learning/NMT/model_128.h1.24_jan_19\n"
          ]
        },
        {
          "output_type": "stream",
          "name": "stderr",
          "text": [
            "WARNING:absl:Found untraced functions such as lstm_cell_layer_call_fn, lstm_cell_layer_call_and_return_conditional_losses, lstm_cell_1_layer_call_fn, lstm_cell_1_layer_call_and_return_conditional_losses while saving (showing 4 of 4). These functions will not be directly callable after loading.\n",
            "WARNING:absl:<keras.layers.recurrent.LSTMCell object at 0x7f6af9ec8510> has the same name 'LSTMCell' as a built-in Keras object. Consider renaming <class 'keras.layers.recurrent.LSTMCell'> to avoid naming conflicts when loading with `tf.keras.models.load_model`. If renaming is not possible, pass the object in the `custom_objects` parameter of the load function.\n",
            "WARNING:absl:<keras.layers.recurrent.LSTMCell object at 0x7f6af88d0750> has the same name 'LSTMCell' as a built-in Keras object. Consider renaming <class 'keras.layers.recurrent.LSTMCell'> to avoid naming conflicts when loading with `tf.keras.models.load_model`. If renaming is not possible, pass the object in the `custom_objects` parameter of the load function.\n"
          ]
        },
        {
          "output_type": "stream",
          "name": "stdout",
          "text": [
            "\b\b\b\b\b\b\b\b\b\b\b\b\b\b\b\b\b\b\b\b\b\b\b\b\b\b\b\b\b\b\b\b\b\b\b\b\b\b\b\b\b\b\b\b\b\b\b\b\b\b\b\b\b\b\b\b\b\b\b\b\b\b\b\b\b\r181/181 [==============================] - 47s 261ms/step - loss: 2.8400 - val_loss: 3.1889\n",
            "Epoch 9/30\n",
            "180/181 [============================>.] - ETA: 0s - loss: 2.6574\n",
            "Epoch 9: val_loss improved from 3.18894 to 3.07139, saving model to /content/drive/My Drive/deep_learning/NMT/model_128.h1.24_jan_19\n"
          ]
        },
        {
          "output_type": "stream",
          "name": "stderr",
          "text": [
            "WARNING:absl:Found untraced functions such as lstm_cell_layer_call_fn, lstm_cell_layer_call_and_return_conditional_losses, lstm_cell_1_layer_call_fn, lstm_cell_1_layer_call_and_return_conditional_losses while saving (showing 4 of 4). These functions will not be directly callable after loading.\n",
            "WARNING:absl:<keras.layers.recurrent.LSTMCell object at 0x7f6af9ec8510> has the same name 'LSTMCell' as a built-in Keras object. Consider renaming <class 'keras.layers.recurrent.LSTMCell'> to avoid naming conflicts when loading with `tf.keras.models.load_model`. If renaming is not possible, pass the object in the `custom_objects` parameter of the load function.\n",
            "WARNING:absl:<keras.layers.recurrent.LSTMCell object at 0x7f6af88d0750> has the same name 'LSTMCell' as a built-in Keras object. Consider renaming <class 'keras.layers.recurrent.LSTMCell'> to avoid naming conflicts when loading with `tf.keras.models.load_model`. If renaming is not possible, pass the object in the `custom_objects` parameter of the load function.\n"
          ]
        },
        {
          "output_type": "stream",
          "name": "stdout",
          "text": [
            "\b\b\b\b\b\b\b\b\b\b\b\b\b\b\b\b\b\b\b\b\b\b\b\b\b\b\b\b\b\b\b\b\b\b\b\b\b\b\b\b\b\b\b\b\b\b\b\b\b\b\b\b\b\b\b\b\b\b\b\b\b\b\b\b\b\r181/181 [==============================] - 47s 260ms/step - loss: 2.6576 - val_loss: 3.0714\n",
            "Epoch 10/30\n",
            "180/181 [============================>.] - ETA: 0s - loss: 2.4887\n",
            "Epoch 10: val_loss improved from 3.07139 to 3.00950, saving model to /content/drive/My Drive/deep_learning/NMT/model_128.h1.24_jan_19\n"
          ]
        },
        {
          "output_type": "stream",
          "name": "stderr",
          "text": [
            "WARNING:absl:Found untraced functions such as lstm_cell_layer_call_fn, lstm_cell_layer_call_and_return_conditional_losses, lstm_cell_1_layer_call_fn, lstm_cell_1_layer_call_and_return_conditional_losses while saving (showing 4 of 4). These functions will not be directly callable after loading.\n",
            "WARNING:absl:<keras.layers.recurrent.LSTMCell object at 0x7f6af9ec8510> has the same name 'LSTMCell' as a built-in Keras object. Consider renaming <class 'keras.layers.recurrent.LSTMCell'> to avoid naming conflicts when loading with `tf.keras.models.load_model`. If renaming is not possible, pass the object in the `custom_objects` parameter of the load function.\n",
            "WARNING:absl:<keras.layers.recurrent.LSTMCell object at 0x7f6af88d0750> has the same name 'LSTMCell' as a built-in Keras object. Consider renaming <class 'keras.layers.recurrent.LSTMCell'> to avoid naming conflicts when loading with `tf.keras.models.load_model`. If renaming is not possible, pass the object in the `custom_objects` parameter of the load function.\n"
          ]
        },
        {
          "output_type": "stream",
          "name": "stdout",
          "text": [
            "\b\b\b\b\b\b\b\b\b\b\b\b\b\b\b\b\b\b\b\b\b\b\b\b\b\b\b\b\b\b\b\b\b\b\b\b\b\b\b\b\b\b\b\b\b\b\b\b\b\b\b\b\b\b\b\b\b\b\b\b\b\b\b\b\b\r181/181 [==============================] - 47s 260ms/step - loss: 2.4888 - val_loss: 3.0095\n",
            "Epoch 11/30\n",
            "180/181 [============================>.] - ETA: 0s - loss: 2.3423\n",
            "Epoch 11: val_loss improved from 3.00950 to 2.93051, saving model to /content/drive/My Drive/deep_learning/NMT/model_128.h1.24_jan_19\n"
          ]
        },
        {
          "output_type": "stream",
          "name": "stderr",
          "text": [
            "WARNING:absl:Found untraced functions such as lstm_cell_layer_call_fn, lstm_cell_layer_call_and_return_conditional_losses, lstm_cell_1_layer_call_fn, lstm_cell_1_layer_call_and_return_conditional_losses while saving (showing 4 of 4). These functions will not be directly callable after loading.\n",
            "WARNING:absl:<keras.layers.recurrent.LSTMCell object at 0x7f6af9ec8510> has the same name 'LSTMCell' as a built-in Keras object. Consider renaming <class 'keras.layers.recurrent.LSTMCell'> to avoid naming conflicts when loading with `tf.keras.models.load_model`. If renaming is not possible, pass the object in the `custom_objects` parameter of the load function.\n",
            "WARNING:absl:<keras.layers.recurrent.LSTMCell object at 0x7f6af88d0750> has the same name 'LSTMCell' as a built-in Keras object. Consider renaming <class 'keras.layers.recurrent.LSTMCell'> to avoid naming conflicts when loading with `tf.keras.models.load_model`. If renaming is not possible, pass the object in the `custom_objects` parameter of the load function.\n"
          ]
        },
        {
          "output_type": "stream",
          "name": "stdout",
          "text": [
            "\b\b\b\b\b\b\b\b\b\b\b\b\b\b\b\b\b\b\b\b\b\b\b\b\b\b\b\b\b\b\b\b\b\b\b\b\b\b\b\b\b\b\b\b\b\b\b\b\b\b\b\b\b\b\b\b\b\b\b\b\b\b\b\b\b\r181/181 [==============================] - 47s 259ms/step - loss: 2.3421 - val_loss: 2.9305\n",
            "Epoch 12/30\n",
            "180/181 [============================>.] - ETA: 0s - loss: 2.2071\n",
            "Epoch 12: val_loss improved from 2.93051 to 2.88122, saving model to /content/drive/My Drive/deep_learning/NMT/model_128.h1.24_jan_19\n"
          ]
        },
        {
          "output_type": "stream",
          "name": "stderr",
          "text": [
            "WARNING:absl:Found untraced functions such as lstm_cell_layer_call_fn, lstm_cell_layer_call_and_return_conditional_losses, lstm_cell_1_layer_call_fn, lstm_cell_1_layer_call_and_return_conditional_losses while saving (showing 4 of 4). These functions will not be directly callable after loading.\n",
            "WARNING:absl:<keras.layers.recurrent.LSTMCell object at 0x7f6af9ec8510> has the same name 'LSTMCell' as a built-in Keras object. Consider renaming <class 'keras.layers.recurrent.LSTMCell'> to avoid naming conflicts when loading with `tf.keras.models.load_model`. If renaming is not possible, pass the object in the `custom_objects` parameter of the load function.\n",
            "WARNING:absl:<keras.layers.recurrent.LSTMCell object at 0x7f6af88d0750> has the same name 'LSTMCell' as a built-in Keras object. Consider renaming <class 'keras.layers.recurrent.LSTMCell'> to avoid naming conflicts when loading with `tf.keras.models.load_model`. If renaming is not possible, pass the object in the `custom_objects` parameter of the load function.\n"
          ]
        },
        {
          "output_type": "stream",
          "name": "stdout",
          "text": [
            "\b\b\b\b\b\b\b\b\b\b\b\b\b\b\b\b\b\b\b\b\b\b\b\b\b\b\b\b\b\b\b\b\b\b\b\b\b\b\b\b\b\b\b\b\b\b\b\b\b\b\b\b\b\b\b\b\b\b\b\b\b\b\b\b\b\r181/181 [==============================] - 48s 263ms/step - loss: 2.2072 - val_loss: 2.8812\n",
            "Epoch 13/30\n",
            "180/181 [============================>.] - ETA: 0s - loss: 2.0840\n",
            "Epoch 13: val_loss did not improve from 2.88122\n",
            "181/181 [==============================] - 35s 191ms/step - loss: 2.0840 - val_loss: 2.8924\n",
            "Epoch 14/30\n",
            "180/181 [============================>.] - ETA: 0s - loss: 1.9724\n",
            "Epoch 14: val_loss improved from 2.88122 to 2.82674, saving model to /content/drive/My Drive/deep_learning/NMT/model_128.h1.24_jan_19\n"
          ]
        },
        {
          "output_type": "stream",
          "name": "stderr",
          "text": [
            "WARNING:absl:Found untraced functions such as lstm_cell_layer_call_fn, lstm_cell_layer_call_and_return_conditional_losses, lstm_cell_1_layer_call_fn, lstm_cell_1_layer_call_and_return_conditional_losses while saving (showing 4 of 4). These functions will not be directly callable after loading.\n",
            "WARNING:absl:<keras.layers.recurrent.LSTMCell object at 0x7f6af9ec8510> has the same name 'LSTMCell' as a built-in Keras object. Consider renaming <class 'keras.layers.recurrent.LSTMCell'> to avoid naming conflicts when loading with `tf.keras.models.load_model`. If renaming is not possible, pass the object in the `custom_objects` parameter of the load function.\n",
            "WARNING:absl:<keras.layers.recurrent.LSTMCell object at 0x7f6af88d0750> has the same name 'LSTMCell' as a built-in Keras object. Consider renaming <class 'keras.layers.recurrent.LSTMCell'> to avoid naming conflicts when loading with `tf.keras.models.load_model`. If renaming is not possible, pass the object in the `custom_objects` parameter of the load function.\n"
          ]
        },
        {
          "output_type": "stream",
          "name": "stdout",
          "text": [
            "\b\b\b\b\b\b\b\b\b\b\b\b\b\b\b\b\b\b\b\b\b\b\b\b\b\b\b\b\b\b\b\b\b\b\b\b\b\b\b\b\b\b\b\b\b\b\b\b\b\b\b\b\b\b\b\b\b\b\b\b\b\b\b\b\b\r181/181 [==============================] - 47s 258ms/step - loss: 1.9723 - val_loss: 2.8267\n",
            "Epoch 15/30\n",
            "180/181 [============================>.] - ETA: 0s - loss: 1.8655\n",
            "Epoch 15: val_loss improved from 2.82674 to 2.81908, saving model to /content/drive/My Drive/deep_learning/NMT/model_128.h1.24_jan_19\n"
          ]
        },
        {
          "output_type": "stream",
          "name": "stderr",
          "text": [
            "WARNING:absl:Found untraced functions such as lstm_cell_layer_call_fn, lstm_cell_layer_call_and_return_conditional_losses, lstm_cell_1_layer_call_fn, lstm_cell_1_layer_call_and_return_conditional_losses while saving (showing 4 of 4). These functions will not be directly callable after loading.\n",
            "WARNING:absl:<keras.layers.recurrent.LSTMCell object at 0x7f6af9ec8510> has the same name 'LSTMCell' as a built-in Keras object. Consider renaming <class 'keras.layers.recurrent.LSTMCell'> to avoid naming conflicts when loading with `tf.keras.models.load_model`. If renaming is not possible, pass the object in the `custom_objects` parameter of the load function.\n",
            "WARNING:absl:<keras.layers.recurrent.LSTMCell object at 0x7f6af88d0750> has the same name 'LSTMCell' as a built-in Keras object. Consider renaming <class 'keras.layers.recurrent.LSTMCell'> to avoid naming conflicts when loading with `tf.keras.models.load_model`. If renaming is not possible, pass the object in the `custom_objects` parameter of the load function.\n"
          ]
        },
        {
          "output_type": "stream",
          "name": "stdout",
          "text": [
            "\b\b\b\b\b\b\b\b\b\b\b\b\b\b\b\b\b\b\b\b\b\b\b\b\b\b\b\b\b\b\b\b\b\b\b\b\b\b\b\b\b\b\b\b\b\b\b\b\b\b\b\b\b\b\b\b\b\b\b\b\b\b\b\b\b\r181/181 [==============================] - 47s 261ms/step - loss: 1.8655 - val_loss: 2.8191\n",
            "Epoch 16/30\n",
            "180/181 [============================>.] - ETA: 0s - loss: 1.7648\n",
            "Epoch 16: val_loss did not improve from 2.81908\n",
            "181/181 [==============================] - 35s 191ms/step - loss: 1.7648 - val_loss: 2.8303\n",
            "Epoch 17/30\n",
            "180/181 [============================>.] - ETA: 0s - loss: 1.6694\n",
            "Epoch 17: val_loss improved from 2.81908 to 2.81317, saving model to /content/drive/My Drive/deep_learning/NMT/model_128.h1.24_jan_19\n"
          ]
        },
        {
          "output_type": "stream",
          "name": "stderr",
          "text": [
            "WARNING:absl:Found untraced functions such as lstm_cell_layer_call_fn, lstm_cell_layer_call_and_return_conditional_losses, lstm_cell_1_layer_call_fn, lstm_cell_1_layer_call_and_return_conditional_losses while saving (showing 4 of 4). These functions will not be directly callable after loading.\n",
            "WARNING:absl:<keras.layers.recurrent.LSTMCell object at 0x7f6af9ec8510> has the same name 'LSTMCell' as a built-in Keras object. Consider renaming <class 'keras.layers.recurrent.LSTMCell'> to avoid naming conflicts when loading with `tf.keras.models.load_model`. If renaming is not possible, pass the object in the `custom_objects` parameter of the load function.\n",
            "WARNING:absl:<keras.layers.recurrent.LSTMCell object at 0x7f6af88d0750> has the same name 'LSTMCell' as a built-in Keras object. Consider renaming <class 'keras.layers.recurrent.LSTMCell'> to avoid naming conflicts when loading with `tf.keras.models.load_model`. If renaming is not possible, pass the object in the `custom_objects` parameter of the load function.\n"
          ]
        },
        {
          "output_type": "stream",
          "name": "stdout",
          "text": [
            "\b\b\b\b\b\b\b\b\b\b\b\b\b\b\b\b\b\b\b\b\b\b\b\b\b\b\b\b\b\b\b\b\b\b\b\b\b\b\b\b\b\b\b\b\b\b\b\b\b\b\b\b\b\b\b\b\b\b\b\b\b\b\b\b\b\r181/181 [==============================] - 47s 259ms/step - loss: 1.6693 - val_loss: 2.8132\n",
            "Epoch 18/30\n",
            "180/181 [============================>.] - ETA: 0s - loss: 1.5777\n",
            "Epoch 18: val_loss did not improve from 2.81317\n",
            "181/181 [==============================] - 35s 192ms/step - loss: 1.5779 - val_loss: 2.8375\n",
            "Epoch 19/30\n",
            "180/181 [============================>.] - ETA: 0s - loss: 1.4909\n",
            "Epoch 19: val_loss did not improve from 2.81317\n",
            "181/181 [==============================] - 34s 191ms/step - loss: 1.4909 - val_loss: 2.8271\n",
            "Epoch 20/30\n",
            "180/181 [============================>.] - ETA: 0s - loss: 1.4101\n",
            "Epoch 20: val_loss did not improve from 2.81317\n",
            "181/181 [==============================] - 34s 187ms/step - loss: 1.4101 - val_loss: 2.8321\n",
            "Epoch 21/30\n",
            "180/181 [============================>.] - ETA: 0s - loss: 1.3343\n",
            "Epoch 21: val_loss did not improve from 2.81317\n",
            "181/181 [==============================] - 34s 190ms/step - loss: 1.3344 - val_loss: 2.8595\n",
            "Epoch 22/30\n",
            "180/181 [============================>.] - ETA: 0s - loss: 1.2603\n",
            "Epoch 22: val_loss did not improve from 2.81317\n",
            "181/181 [==============================] - 34s 189ms/step - loss: 1.2604 - val_loss: 2.8765\n",
            "Epoch 23/30\n",
            "180/181 [============================>.] - ETA: 0s - loss: 1.1901\n",
            "Epoch 23: val_loss did not improve from 2.81317\n",
            "181/181 [==============================] - 34s 189ms/step - loss: 1.1902 - val_loss: 2.8864\n",
            "Epoch 24/30\n",
            "180/181 [============================>.] - ETA: 0s - loss: 1.1235\n",
            "Epoch 24: val_loss did not improve from 2.81317\n",
            "181/181 [==============================] - 34s 189ms/step - loss: 1.1236 - val_loss: 2.9256\n",
            "Epoch 25/30\n",
            "180/181 [============================>.] - ETA: 0s - loss: 1.0613\n",
            "Epoch 25: val_loss did not improve from 2.81317\n",
            "181/181 [==============================] - 34s 188ms/step - loss: 1.0613 - val_loss: 2.9397\n",
            "Epoch 26/30\n",
            "180/181 [============================>.] - ETA: 0s - loss: 1.0021\n",
            "Epoch 26: val_loss did not improve from 2.81317\n",
            "181/181 [==============================] - 34s 188ms/step - loss: 1.0022 - val_loss: 2.9785\n",
            "Epoch 27/30\n",
            "180/181 [============================>.] - ETA: 0s - loss: 0.9453\n",
            "Epoch 27: val_loss did not improve from 2.81317\n",
            "181/181 [==============================] - 34s 189ms/step - loss: 0.9454 - val_loss: 3.0200\n",
            "Epoch 28/30\n",
            "180/181 [============================>.] - ETA: 0s - loss: 0.8949\n",
            "Epoch 28: val_loss did not improve from 2.81317\n",
            "181/181 [==============================] - 34s 189ms/step - loss: 0.8950 - val_loss: 3.0315\n",
            "Epoch 29/30\n",
            "180/181 [============================>.] - ETA: 0s - loss: 0.8447\n",
            "Epoch 29: val_loss did not improve from 2.81317\n",
            "181/181 [==============================] - 34s 190ms/step - loss: 0.8447 - val_loss: 3.0619\n",
            "Epoch 30/30\n",
            "180/181 [============================>.] - ETA: 0s - loss: 0.7981\n",
            "Epoch 30: val_loss did not improve from 2.81317\n",
            "181/181 [==============================] - 34s 188ms/step - loss: 0.7982 - val_loss: 3.0948\n"
          ]
        }
      ]
    },
    {
      "cell_type": "markdown",
      "metadata": {
        "id": "AhyjN6nTQyqa"
      },
      "source": [
        "Let's compare the training loss and the validation loss."
      ]
    },
    {
      "cell_type": "code",
      "metadata": {
        "colab": {
          "base_uri": "https://localhost:8080/",
          "height": 269
        },
        "outputId": "305bb77a-861b-4c5b-a398-614f2051f4ff",
        "id": "99J7iTaoQyqa"
      },
      "source": [
        "plt.plot(history.history['loss'])\n",
        "plt.plot(history.history['val_loss'])\n",
        "plt.legend(['train','validation'])\n",
        "plt.show()"
      ],
      "execution_count": 28,
      "outputs": [
        {
          "output_type": "display_data",
          "data": {
            "text/plain": [
              "<Figure size 432x288 with 1 Axes>"
            ],
            "image/png": "[encoded data removed]"
          },
          "metadata": {
            "needs_background": "light"
          }
        }
      ]
    },
    {
      "cell_type": "markdown",
      "metadata": {
        "id": "DbAuqiFLQyqa"
      },
      "source": [
        "#### Make Predictions"
      ]
    },
    {
      "cell_type": "markdown",
      "metadata": {
        "id": "hL1-QWkAQyqa"
      },
      "source": [
        "Let's load the saved model to make predictions."
      ]
    },
    {
      "cell_type": "markdown",
      "source": [
        "Para la prediccion usamos solo 50 mil datos"
      ],
      "metadata": {
        "id": "Xj8HX7hx7SLr"
      }
    },
    {
      "cell_type": "code",
      "source": [
        "model = load_model('/content/drive/My Drive/deep_learning/NMT/model_128.h1.24_jan_19')\n"
      ],
      "metadata": {
        "id": "foFMdjkNZstx"
      },
      "execution_count": 23,
      "outputs": []
    },
    {
      "cell_type": "code",
      "source": [
        "preds = model.predict(testX).astype('float16')\n",
        "preds = np.argmax(preds, axis=-1)"
      ],
      "metadata": {
        "id": "-68nm9sTQyqa"
      },
      "execution_count": 25,
      "outputs": []
    },
    {
      "cell_type": "code",
      "metadata": {
        "id": "c64ksrAiQyqa"
      },
      "source": [
        "def get_word(n, tokenizer):\n",
        "    for word, index in tokenizer.word_index.items():\n",
        "        if index == n:\n",
        "            return word\n",
        "    return None"
      ],
      "execution_count": 26,
      "outputs": []
    },
    {
      "cell_type": "code",
      "metadata": {
        "id": "NBCPSCocQyqb"
      },
      "source": [
        "# convert predictions into text (English)\n",
        "preds_text = []\n",
        "for i in preds:\n",
        "    temp = []\n",
        "    for j in range(len(i)):\n",
        "        t = get_word(i[j], spa_tokenizer)\n",
        "        if j > 0:\n",
        "            if ((t == get_word(i[j-1], spa_tokenizer)) or (t == None)):\n",
        "                temp.append('')\n",
        "            else:\n",
        "                temp.append(t)\n",
        "             \n",
        "        else:\n",
        "            if(t == None):\n",
        "                temp.append('')\n",
        "            else:\n",
        "                temp.append(t)            \n",
        "        \n",
        "    preds_text.append(' '.join(temp))"
      ],
      "execution_count": 27,
      "outputs": []
    },
    {
      "cell_type": "code",
      "metadata": {
        "id": "KTXebxRpQyqb"
      },
      "source": [
        "pred_df = pd.DataFrame({'predicted' : preds_text, 'spanish' : test[:,1], 'actual' : test[:,0]})"
      ],
      "execution_count": 28,
      "outputs": []
    },
    {
      "cell_type": "code",
      "metadata": {
        "id": "EiFNW4wPQyqb"
      },
      "source": [
        "pd.set_option('display.max_colwidth', 200)"
      ],
      "execution_count": 29,
      "outputs": []
    },
    {
      "cell_type": "code",
      "metadata": {
        "id": "nwNd7ayWQyqb",
        "colab": {
          "base_uri": "https://localhost:8080/",
          "height": 520
        },
        "outputId": "45792f8a-5437-440d-f55b-79709b56e8a1"
      },
      "source": [
        "pred_df.head(15)"
      ],
      "execution_count": 30,
      "outputs": [
        {
          "output_type": "execute_result",
          "data": {
            "text/plain": [
              "                           predicted                         spanish  \\\n",
              "0                    la en la en            les pedí que me llamaran   \n",
              "1                          de                               él es dj   \n",
              "2                                                  ellos discutieron   \n",
              "3                       más el                        no tengo miedo   \n",
              "4   mi podría problema a problema          estoy listo para seguirte   \n",
              "5                la que  un salir         por favor coge el teléfono   \n",
              "6                    al lo no  me          le dijo adiós con la mano   \n",
              "7         necesito él  corriendo      el carro de tom fue confiscado   \n",
              "8              aprecio puedo un                     no ponga excusas   \n",
              "9         ¿quieres no el ustedes      tienen que ser más respetuosos   \n",
              "10                     su cree                       estabas ocupada   \n",
              "11                       mismo                           ésa es ella   \n",
              "12                     al aquí                    ella se fue a casa   \n",
              "13                       gusta                         memoriza esto   \n",
              "14      te hombre quiero café tom                   estoy destrozado   \n",
              "\n",
              "                      actual  \n",
              "0     i asked you to call me  \n",
              "1                 he is a dj  \n",
              "2             they quarreled  \n",
              "3              im not scared  \n",
              "4   i am ready to follow you  \n",
              "5    please answer the phone  \n",
              "6   she waved goodbye to him  \n",
              "7     toms car was impounded  \n",
              "8          dont make excuses  \n",
              "9    you must be more polite  \n",
              "10             you were busy  \n",
              "11                 thats her  \n",
              "12             she went home  \n",
              "13             memorize this  \n",
              "14         i am very unhappy  "
            ],
            "text/html": [
              "\n",
              "  <div id=\"df-cd485eb9-c60a-46c2-bc3a-fa30c296ef15\">\n",
              "    <div class=\"colab-df-container\">\n",
              "      <div>\n",
              "<style scoped>\n",
              "    .dataframe tbody tr th:only-of-type {\n",
              "        vertical-align: middle;\n",
              "    }\n",
              "\n",
              "    .dataframe tbody tr th {\n",
              "        vertical-align: top;\n",
              "    }\n",
              "\n",
              "    .dataframe thead th {\n",
              "        text-align: right;\n",
              "    }\n",
              "</style>\n",
              "<table border=\"1\" class=\"dataframe\">\n",
              "  <thead>\n",
              "    <tr style=\"text-align: right;\">\n",
              "      <th></th>\n",
              "      <th>predicted</th>\n",
              "      <th>spanish</th>\n",
              "      <th>actual</th>\n",
              "    </tr>\n",
              "  </thead>\n",
              "  <tbody>\n",
              "    <tr>\n",
              "      <th>0</th>\n",
              "      <td>la en la en</td>\n",
              "      <td>les pedí que me llamaran</td>\n",
              "      <td>i asked you to call me</td>\n",
              "    </tr>\n",
              "    <tr>\n",
              "      <th>1</th>\n",
              "      <td>de</td>\n",
              "      <td>él es dj</td>\n",
              "      <td>he is a dj</td>\n",
              "    </tr>\n",
              "    <tr>\n",
              "      <th>2</th>\n",
              "      <td></td>\n",
              "      <td>ellos discutieron</td>\n",
              "      <td>they quarreled</td>\n",
              "    </tr>\n",
              "    <tr>\n",
              "      <th>3</th>\n",
              "      <td>más el</td>\n",
              "      <td>no tengo miedo</td>\n",
              "      <td>im not scared</td>\n",
              "    </tr>\n",
              "    <tr>\n",
              "      <th>4</th>\n",
              "      <td>mi podría problema a problema</td>\n",
              "      <td>estoy listo para seguirte</td>\n",
              "      <td>i am ready to follow you</td>\n",
              "    </tr>\n",
              "    <tr>\n",
              "      <th>5</th>\n",
              "      <td>la que  un salir</td>\n",
              "      <td>por favor coge el teléfono</td>\n",
              "      <td>please answer the phone</td>\n",
              "    </tr>\n",
              "    <tr>\n",
              "      <th>6</th>\n",
              "      <td>al lo no  me</td>\n",
              "      <td>le dijo adiós con la mano</td>\n",
              "      <td>she waved goodbye to him</td>\n",
              "    </tr>\n",
              "    <tr>\n",
              "      <th>7</th>\n",
              "      <td>necesito él  corriendo</td>\n",
              "      <td>el carro de tom fue confiscado</td>\n",
              "      <td>toms car was impounded</td>\n",
              "    </tr>\n",
              "    <tr>\n",
              "      <th>8</th>\n",
              "      <td>aprecio puedo un</td>\n",
              "      <td>no ponga excusas</td>\n",
              "      <td>dont make excuses</td>\n",
              "    </tr>\n",
              "    <tr>\n",
              "      <th>9</th>\n",
              "      <td>¿quieres no el ustedes</td>\n",
              "      <td>tienen que ser más respetuosos</td>\n",
              "      <td>you must be more polite</td>\n",
              "    </tr>\n",
              "    <tr>\n",
              "      <th>10</th>\n",
              "      <td>su cree</td>\n",
              "      <td>estabas ocupada</td>\n",
              "      <td>you were busy</td>\n",
              "    </tr>\n",
              "    <tr>\n",
              "      <th>11</th>\n",
              "      <td>mismo</td>\n",
              "      <td>ésa es ella</td>\n",
              "      <td>thats her</td>\n",
              "    </tr>\n",
              "    <tr>\n",
              "      <th>12</th>\n",
              "      <td>al aquí</td>\n",
              "      <td>ella se fue a casa</td>\n",
              "      <td>she went home</td>\n",
              "    </tr>\n",
              "    <tr>\n",
              "      <th>13</th>\n",
              "      <td>gusta</td>\n",
              "      <td>memoriza esto</td>\n",
              "      <td>memorize this</td>\n",
              "    </tr>\n",
              "    <tr>\n",
              "      <th>14</th>\n",
              "      <td>te hombre quiero café tom</td>\n",
              "      <td>estoy destrozado</td>\n",
              "      <td>i am very unhappy</td>\n",
              "    </tr>\n",
              "  </tbody>\n",
              "</table>\n",
              "</div>\n",
              "      <button class=\"colab-df-convert\" onclick=\"convertToInteractive('df-cd485eb9-c60a-46c2-bc3a-fa30c296ef15')\"\n",
              "              title=\"Convert this dataframe to an interactive table.\"\n",
              "              style=\"display:none;\">\n",
              "        \n",
              "  <svg xmlns=\"http://www.w3.org/2000/svg\" height=\"24px\"viewBox=\"0 0 24 24\"\n",
              "       width=\"24px\">\n",
              "    <path d=\"M0 0h24v24H0V0z\" fill=\"none\"/>\n",
              "    <path d=\"M18.56 5.44l.94 2.06.94-2.06 2.06-.94-2.06-.94-.94-2.06-.94 2.06-2.06.94zm-11 1L8.5 8.5l.94-2.06 2.06-.94-2.06-.94L8.5 2.5l-.94 2.06-2.06.94zm10 10l.94 2.06.94-2.06 2.06-.94-2.06-.94-.94-2.06-.94 2.06-2.06.94z\"/><path d=\"M17.41 7.96l-1.37-1.37c-.4-.4-.92-.59-1.43-.59-.52 0-1.04.2-1.43.59L10.3 9.45l-7.72 7.72c-.78.78-.78 2.05 0 2.83L4 21.41c.39.39.9.59 1.41.59.51 0 1.02-.2 1.41-.59l7.78-7.78 2.81-2.81c.8-.78.8-2.07 0-2.86zM5.41 20L4 18.59l7.72-7.72 1.47 1.35L5.41 20z\"/>\n",
              "  </svg>\n",
              "      </button>\n",
              "      \n",
              "  <style>\n",
              "    .colab-df-container {\n",
              "      display:flex;\n",
              "      flex-wrap:wrap;\n",
              "      gap: 12px;\n",
              "    }\n",
              "\n",
              "    .colab-df-convert {\n",
              "      background-color: #E8F0FE;\n",
              "      border: none;\n",
              "      border-radius: 50%;\n",
              "      cursor: pointer;\n",
              "      display: none;\n",
              "      fill: #1967D2;\n",
              "      height: 32px;\n",
              "      padding: 0 0 0 0;\n",
              "      width: 32px;\n",
              "    }\n",
              "\n",
              "    .colab-df-convert:hover {\n",
              "      background-color: #E2EBFA;\n",
              "      box-shadow: 0px 1px 2px rgba(60, 64, 67, 0.3), 0px 1px 3px 1px rgba(60, 64, 67, 0.15);\n",
              "      fill: #174EA6;\n",
              "    }\n",
              "\n",
              "    [theme=dark] .colab-df-convert {\n",
              "      background-color: #3B4455;\n",
              "      fill: #D2E3FC;\n",
              "    }\n",
              "\n",
              "    [theme=dark] .colab-df-convert:hover {\n",
              "      background-color: #434B5C;\n",
              "      box-shadow: 0px 1px 3px 1px rgba(0, 0, 0, 0.15);\n",
              "      filter: drop-shadow(0px 1px 2px rgba(0, 0, 0, 0.3));\n",
              "      fill: #FFFFFF;\n",
              "    }\n",
              "  </style>\n",
              "\n",
              "      <script>\n",
              "        const buttonEl =\n",
              "          document.querySelector('#df-cd485eb9-c60a-46c2-bc3a-fa30c296ef15 button.colab-df-convert');\n",
              "        buttonEl.style.display =\n",
              "          google.colab.kernel.accessAllowed ? 'block' : 'none';\n",
              "\n",
              "        async function convertToInteractive(key) {\n",
              "          const element = document.querySelector('#df-cd485eb9-c60a-46c2-bc3a-fa30c296ef15');\n",
              "          const dataTable =\n",
              "            await google.colab.kernel.invokeFunction('convertToInteractive',\n",
              "                                                     [key], {});\n",
              "          if (!dataTable) return;\n",
              "\n",
              "          const docLinkHtml = 'Like what you see? Visit the ' +\n",
              "            '<a target=\"_blank\" href=https://colab.research.google.com/notebooks/data_table.ipynb>data table notebook</a>'\n",
              "            + ' to learn more about interactive tables.';\n",
              "          element.innerHTML = '';\n",
              "          dataTable['output_type'] = 'display_data';\n",
              "          await google.colab.output.renderOutput(dataTable, element);\n",
              "          const docLink = document.createElement('div');\n",
              "          docLink.innerHTML = docLinkHtml;\n",
              "          element.appendChild(docLink);\n",
              "        }\n",
              "      </script>\n",
              "    </div>\n",
              "  </div>\n",
              "  "
            ]
          },
          "metadata": {},
          "execution_count": 30
        }
      ]
    },
    {
      "cell_type": "code",
      "metadata": {
        "id": "3Hmb7k7TQyqb"
      },
      "source": [
        "pred_df.tail(15)"
      ],
      "execution_count": null,
      "outputs": []
    },
    {
      "cell_type": "code",
      "metadata": {
        "id": "JJGtSEIGQyqb"
      },
      "source": [
        "pred_df.sample(15)"
      ],
      "execution_count": null,
      "outputs": []
    },
    {
      "cell_type": "markdown",
      "source": [
        "## **Conclusiones**"
      ],
      "metadata": {
        "id": "vfoFo8ZkfVOM"
      }
    },
    {
      "cell_type": "markdown",
      "source": [
        "El modelo de 128 mil registros tuvo un peor rendimiento, con el set de validacion con un evidente overfitting. Además en el dataframe se evidencia que las traducciones son bastantes malas y sin coherencia. \n",
        "\n",
        "Para el modelo de 50 mil palabras se tiene una mejoria a través de las épocas, con un mejor rendimiento para el set de entrenamiento y con un overfitting evidente. \n",
        "\n",
        "A nivel de predicciones hay un comportamiento aceptable pero con bastantes errores en general, para ambos, pero con un mejor resultado para 50 mil registros. "
      ],
      "metadata": {
        "id": "rcKa_ZQLfbMZ"
      }
    },
    {
      "cell_type": "markdown",
      "source": [
        "# **Aleman - Inglés**"
      ],
      "metadata": {
        "id": "hI076OyYkFhh"
      }
    },
    {
      "cell_type": "markdown",
      "source": [
        "## **Carga Datos**"
      ],
      "metadata": {
        "id": "Kz3hkzC6tct3"
      }
    },
    {
      "cell_type": "code",
      "source": [
        "import os\n",
        "# function to read raw text file\n",
        "#filename = os.path.join(base_dir, spa.txt)\n",
        "def read_text(filename):\n",
        "    # open the file\n",
        "    file = open(os.path.join(base_dir, filename), mode='rt', encoding='utf-8')\n",
        "    # read all text\n",
        "    text = file.read()\n",
        "    file.close()\n",
        "    return text\n",
        "data = read_text(\"deu.txt\")"
      ],
      "metadata": {
        "id": "JpVduRzelOAZ"
      },
      "execution_count": null,
      "outputs": []
    },
    {
      "cell_type": "code",
      "source": [
        "# split a text into sentences\n",
        "def to_lines(text):\n",
        "    sents = text.strip().split('\\n')\n",
        "    sents = [i.split('\\t') for i in sents]\n",
        "    return sents"
      ],
      "metadata": {
        "id": "btmjOjvHlYRx"
      },
      "execution_count": null,
      "outputs": []
    },
    {
      "cell_type": "code",
      "source": [
        "data = read_text(\"deu.txt\")\n",
        "deu_eng = to_lines(data)\n",
        "deu_eng = array(deu_eng)\n",
        "print(len(deu_eng))  # what is the number of lines of this file?"
      ],
      "metadata": {
        "colab": {
          "base_uri": "https://localhost:8080/"
        },
        "id": "kSsmZgr4lc42",
        "outputId": "31ef21df-ab33-44b8-82c3-04f62855bab9"
      },
      "execution_count": null,
      "outputs": [
        {
          "output_type": "stream",
          "name": "stdout",
          "text": [
            "255817\n"
          ]
        }
      ]
    },
    {
      "cell_type": "code",
      "source": [
        "deu_eng = deu_eng[:50000,:]\n",
        "print(deu_eng)\n",
        "print(len(deu_eng))"
      ],
      "metadata": {
        "colab": {
          "base_uri": "https://localhost:8080/"
        },
        "id": "m8UG-Q5kn30f",
        "outputId": "980ecce0-fb7d-41c2-c798-742e11ef8e84"
      },
      "execution_count": null,
      "outputs": [
        {
          "output_type": "stream",
          "name": "stdout",
          "text": [
            "[['Go.' 'Geh.'\n",
            "  'CC-BY 2.0 (France) Attribution: tatoeba.org #2877272 (CM) & #8597805 (Roujin)']\n",
            " ['Hi.' 'Hallo!'\n",
            "  'CC-BY 2.0 (France) Attribution: tatoeba.org #538123 (CM) & #380701 (cburgmer)']\n",
            " ['Hi.' 'Grüß Gott!'\n",
            "  'CC-BY 2.0 (France) Attribution: tatoeba.org #538123 (CM) & #659813 (Esperantostern)']\n",
            " ...\n",
            " [\"They're coming again.\" 'Sie kommen wieder.'\n",
            "  'CC-BY 2.0 (France) Attribution: tatoeba.org #2243605 (CK) & #6643044 (Felixjp)']\n",
            " [\"They're coming again.\" 'Die kommen wieder.'\n",
            "  'CC-BY 2.0 (France) Attribution: tatoeba.org #2243605 (CK) & #6645385 (Felixjp)']\n",
            " [\"They're doing it now.\" 'Sie tun es jetzt.'\n",
            "  'CC-BY 2.0 (France) Attribution: tatoeba.org #3740220 (CK) & #3815719 (nGerman)']]\n",
            "50000\n"
          ]
        }
      ]
    },
    {
      "cell_type": "code",
      "source": [
        "# Remove punctuation\n",
        "deu_eng[:,0] = [s.translate(str.maketrans('', '', string.punctuation)) for s in deu_eng[:,0]]\n",
        "deu_eng[:,1] = [s.translate(str.maketrans('', '', string.punctuation)) for s in deu_eng[:,1]]"
      ],
      "metadata": {
        "id": "sSx9fFpsn_H8"
      },
      "execution_count": null,
      "outputs": []
    },
    {
      "cell_type": "code",
      "source": [
        "deu_eng"
      ],
      "metadata": {
        "colab": {
          "base_uri": "https://localhost:8080/"
        },
        "id": "MlyHNKj2oHBp",
        "outputId": "a0af32b9-df81-4c2b-8935-b126b0f34260"
      },
      "execution_count": null,
      "outputs": [
        {
          "output_type": "execute_result",
          "data": {
            "text/plain": [
              "array([['Go', 'Geh',\n",
              "        'CC-BY 2.0 (France) Attribution: tatoeba.org #2877272 (CM) & #8597805 (Roujin)'],\n",
              "       ['Hi', 'Hallo',\n",
              "        'CC-BY 2.0 (France) Attribution: tatoeba.org #538123 (CM) & #380701 (cburgmer)'],\n",
              "       ['Hi', 'Grüß Gott',\n",
              "        'CC-BY 2.0 (France) Attribution: tatoeba.org #538123 (CM) & #659813 (Esperantostern)'],\n",
              "       ...,\n",
              "       ['Theyre coming again', 'Sie kommen wieder',\n",
              "        'CC-BY 2.0 (France) Attribution: tatoeba.org #2243605 (CK) & #6643044 (Felixjp)'],\n",
              "       ['Theyre coming again', 'Die kommen wieder',\n",
              "        'CC-BY 2.0 (France) Attribution: tatoeba.org #2243605 (CK) & #6645385 (Felixjp)'],\n",
              "       ['Theyre doing it now', 'Sie tun es jetzt',\n",
              "        'CC-BY 2.0 (France) Attribution: tatoeba.org #3740220 (CK) & #3815719 (nGerman)']],\n",
              "      dtype='<U537')"
            ]
          },
          "metadata": {},
          "execution_count": 15
        }
      ]
    },
    {
      "cell_type": "code",
      "source": [
        "# convert to lowercase\n",
        "for i in range(len(deu_eng)):\n",
        "    deu_eng[i,0] = deu_eng[i,0].lower()\n",
        "    deu_eng[i,1] = deu_eng[i,1].lower()  # sending over lowercase"
      ],
      "metadata": {
        "id": "uVtp6nFboJ3Q"
      },
      "execution_count": null,
      "outputs": []
    },
    {
      "cell_type": "code",
      "source": [
        "# empty lists\n",
        "eng_l = []\n",
        "deu_l = []\n",
        "\n",
        "# populate the lists with sentence lengths\n",
        "for i in deu_eng[:,0]:\n",
        "    eng_l.append(len(i.split()))\n",
        "\n",
        "for i in deu_eng[:,1]:\n",
        "    deu_l.append(len(i.split()))"
      ],
      "metadata": {
        "id": "38vSNX2GoRWg"
      },
      "execution_count": null,
      "outputs": []
    },
    {
      "cell_type": "code",
      "source": [
        "#from pandas.core.arrays.datetimes import DataFrame\n",
        "length_df = pd.DataFrame({'eng':eng_l, 'deu':deu_l})\n",
        "length_df.head(5)"
      ],
      "metadata": {
        "colab": {
          "base_uri": "https://localhost:8080/",
          "height": 206
        },
        "id": "uAKh2VfaotOk",
        "outputId": "418a1315-a7b7-4b25-b3e3-690ecd1d52d5"
      },
      "execution_count": null,
      "outputs": [
        {
          "output_type": "execute_result",
          "data": {
            "text/plain": [
              "   eng  deu\n",
              "0    1    1\n",
              "1    1    1\n",
              "2    1    2\n",
              "3    1    1\n",
              "4    1    1"
            ],
            "text/html": [
              "\n",
              "  <div id=\"df-defc0f45-23b2-44fd-a39d-1eb25ce39f1c\">\n",
              "    <div class=\"colab-df-container\">\n",
              "      <div>\n",
              "<style scoped>\n",
              "    .dataframe tbody tr th:only-of-type {\n",
              "        vertical-align: middle;\n",
              "    }\n",
              "\n",
              "    .dataframe tbody tr th {\n",
              "        vertical-align: top;\n",
              "    }\n",
              "\n",
              "    .dataframe thead th {\n",
              "        text-align: right;\n",
              "    }\n",
              "</style>\n",
              "<table border=\"1\" class=\"dataframe\">\n",
              "  <thead>\n",
              "    <tr style=\"text-align: right;\">\n",
              "      <th></th>\n",
              "      <th>eng</th>\n",
              "      <th>deu</th>\n",
              "    </tr>\n",
              "  </thead>\n",
              "  <tbody>\n",
              "    <tr>\n",
              "      <th>0</th>\n",
              "      <td>1</td>\n",
              "      <td>1</td>\n",
              "    </tr>\n",
              "    <tr>\n",
              "      <th>1</th>\n",
              "      <td>1</td>\n",
              "      <td>1</td>\n",
              "    </tr>\n",
              "    <tr>\n",
              "      <th>2</th>\n",
              "      <td>1</td>\n",
              "      <td>2</td>\n",
              "    </tr>\n",
              "    <tr>\n",
              "      <th>3</th>\n",
              "      <td>1</td>\n",
              "      <td>1</td>\n",
              "    </tr>\n",
              "    <tr>\n",
              "      <th>4</th>\n",
              "      <td>1</td>\n",
              "      <td>1</td>\n",
              "    </tr>\n",
              "  </tbody>\n",
              "</table>\n",
              "</div>\n",
              "      <button class=\"colab-df-convert\" onclick=\"convertToInteractive('df-defc0f45-23b2-44fd-a39d-1eb25ce39f1c')\"\n",
              "              title=\"Convert this dataframe to an interactive table.\"\n",
              "              style=\"display:none;\">\n",
              "        \n",
              "  <svg xmlns=\"http://www.w3.org/2000/svg\" height=\"24px\"viewBox=\"0 0 24 24\"\n",
              "       width=\"24px\">\n",
              "    <path d=\"M0 0h24v24H0V0z\" fill=\"none\"/>\n",
              "    <path d=\"M18.56 5.44l.94 2.06.94-2.06 2.06-.94-2.06-.94-.94-2.06-.94 2.06-2.06.94zm-11 1L8.5 8.5l.94-2.06 2.06-.94-2.06-.94L8.5 2.5l-.94 2.06-2.06.94zm10 10l.94 2.06.94-2.06 2.06-.94-2.06-.94-.94-2.06-.94 2.06-2.06.94z\"/><path d=\"M17.41 7.96l-1.37-1.37c-.4-.4-.92-.59-1.43-.59-.52 0-1.04.2-1.43.59L10.3 9.45l-7.72 7.72c-.78.78-.78 2.05 0 2.83L4 21.41c.39.39.9.59 1.41.59.51 0 1.02-.2 1.41-.59l7.78-7.78 2.81-2.81c.8-.78.8-2.07 0-2.86zM5.41 20L4 18.59l7.72-7.72 1.47 1.35L5.41 20z\"/>\n",
              "  </svg>\n",
              "      </button>\n",
              "      \n",
              "  <style>\n",
              "    .colab-df-container {\n",
              "      display:flex;\n",
              "      flex-wrap:wrap;\n",
              "      gap: 12px;\n",
              "    }\n",
              "\n",
              "    .colab-df-convert {\n",
              "      background-color: #E8F0FE;\n",
              "      border: none;\n",
              "      border-radius: 50%;\n",
              "      cursor: pointer;\n",
              "      display: none;\n",
              "      fill: #1967D2;\n",
              "      height: 32px;\n",
              "      padding: 0 0 0 0;\n",
              "      width: 32px;\n",
              "    }\n",
              "\n",
              "    .colab-df-convert:hover {\n",
              "      background-color: #E2EBFA;\n",
              "      box-shadow: 0px 1px 2px rgba(60, 64, 67, 0.3), 0px 1px 3px 1px rgba(60, 64, 67, 0.15);\n",
              "      fill: #174EA6;\n",
              "    }\n",
              "\n",
              "    [theme=dark] .colab-df-convert {\n",
              "      background-color: #3B4455;\n",
              "      fill: #D2E3FC;\n",
              "    }\n",
              "\n",
              "    [theme=dark] .colab-df-convert:hover {\n",
              "      background-color: #434B5C;\n",
              "      box-shadow: 0px 1px 3px 1px rgba(0, 0, 0, 0.15);\n",
              "      filter: drop-shadow(0px 1px 2px rgba(0, 0, 0, 0.3));\n",
              "      fill: #FFFFFF;\n",
              "    }\n",
              "  </style>\n",
              "\n",
              "      <script>\n",
              "        const buttonEl =\n",
              "          document.querySelector('#df-defc0f45-23b2-44fd-a39d-1eb25ce39f1c button.colab-df-convert');\n",
              "        buttonEl.style.display =\n",
              "          google.colab.kernel.accessAllowed ? 'block' : 'none';\n",
              "\n",
              "        async function convertToInteractive(key) {\n",
              "          const element = document.querySelector('#df-defc0f45-23b2-44fd-a39d-1eb25ce39f1c');\n",
              "          const dataTable =\n",
              "            await google.colab.kernel.invokeFunction('convertToInteractive',\n",
              "                                                     [key], {});\n",
              "          if (!dataTable) return;\n",
              "\n",
              "          const docLinkHtml = 'Like what you see? Visit the ' +\n",
              "            '<a target=\"_blank\" href=https://colab.research.google.com/notebooks/data_table.ipynb>data table notebook</a>'\n",
              "            + ' to learn more about interactive tables.';\n",
              "          element.innerHTML = '';\n",
              "          dataTable['output_type'] = 'display_data';\n",
              "          await google.colab.output.renderOutput(dataTable, element);\n",
              "          const docLink = document.createElement('div');\n",
              "          docLink.innerHTML = docLinkHtml;\n",
              "          element.appendChild(docLink);\n",
              "        }\n",
              "      </script>\n",
              "    </div>\n",
              "  </div>\n",
              "  "
            ]
          },
          "metadata": {},
          "execution_count": 19
        }
      ]
    },
    {
      "cell_type": "code",
      "source": [
        "length_df.hist(bins = 20)\n",
        "plt.show()"
      ],
      "metadata": {
        "colab": {
          "base_uri": "https://localhost:8080/",
          "height": 281
        },
        "id": "wwPVxraJrHwZ",
        "outputId": "3e6737fb-90c4-44ee-d488-f88bbe8fb0f3"
      },
      "execution_count": null,
      "outputs": [
        {
          "output_type": "display_data",
          "data": {
            "text/plain": [
              "<Figure size 432x288 with 2 Axes>"
            ],
            "image/png": "[encoded data removed]"
          },
          "metadata": {
            "needs_background": "light"
          }
        }
      ]
    },
    {
      "cell_type": "code",
      "source": [
        "# function to build a tokenizer\n",
        "def tokenization(lines):\n",
        "    tokenizer = Tokenizer()\n",
        "    tokenizer.fit_on_texts(lines)\n",
        "    return tokenizer"
      ],
      "metadata": {
        "id": "sNtj7Xa3rRFB"
      },
      "execution_count": null,
      "outputs": []
    },
    {
      "cell_type": "code",
      "source": [
        "# prepare english tokenizer\n",
        "eng_tokenizer = tokenization(deu_eng[:, 0])\n",
        "eng_vocab_size = len(eng_tokenizer.word_index) + 1\n",
        "\n",
        "eng_length = 8\n",
        "print('English Vocabulary Size: %d' % eng_vocab_size)"
      ],
      "metadata": {
        "colab": {
          "base_uri": "https://localhost:8080/"
        },
        "id": "-Pw-87verUpg",
        "outputId": "34a16fb9-2ce9-4472-878c-9cb13e408b59"
      },
      "execution_count": null,
      "outputs": [
        {
          "output_type": "stream",
          "name": "stdout",
          "text": [
            "English Vocabulary Size: 6125\n"
          ]
        }
      ]
    },
    {
      "cell_type": "code",
      "source": [
        "# prepare Spanish - Deutch tokenizer\n",
        "deu_tokenizer = tokenization(deu_eng[:, 1])\n",
        "deu_vocab_size = len(deu_tokenizer.word_index) + 1\n",
        "\n",
        "spa_length = 8\n",
        "deu_length = 8\n",
        "#print('Spanish Vocabulary Size: %d' % spa_vocab_size)\n",
        "print('Deutch Vocabulary Size: %d' % deu_vocab_size)"
      ],
      "metadata": {
        "colab": {
          "base_uri": "https://localhost:8080/"
        },
        "id": "DzdKZAG6re2-",
        "outputId": "1c9f0ce8-4650-4fcf-a91e-73da29706b9f"
      },
      "execution_count": null,
      "outputs": [
        {
          "output_type": "stream",
          "name": "stdout",
          "text": [
            "Deutch Vocabulary Size: 10059\n"
          ]
        }
      ]
    },
    {
      "cell_type": "code",
      "source": [
        "# encode and pad sequences\n",
        "def encode_sequences(tokenizer, length, lines):\n",
        "    # integer encode sequences\n",
        "    seq = tokenizer.texts_to_sequences(lines)\n",
        "    # pad sequences with 0 values\n",
        "    seq = pad_sequences(seq, maxlen=length, padding='post')\n",
        "    return seq"
      ],
      "metadata": {
        "id": "dYUXogQvr4Fi"
      },
      "execution_count": null,
      "outputs": []
    },
    {
      "cell_type": "code",
      "source": [
        "from sklearn.model_selection import train_test_split\n",
        "train, test = train_test_split(deu_eng, test_size=0.1, random_state = 12)"
      ],
      "metadata": {
        "id": "DD2iNODWr904"
      },
      "execution_count": null,
      "outputs": []
    },
    {
      "cell_type": "code",
      "source": [
        "trainX = encode_sequences(eng_tokenizer, eng_length,train[:, 0])\n",
        "trainY = encode_sequences(deu_tokenizer, deu_length,train[:, 1])"
      ],
      "metadata": {
        "id": "QX4xCxvJsC-s"
      },
      "execution_count": null,
      "outputs": []
    },
    {
      "cell_type": "code",
      "source": [
        "# prepare validation data\n",
        "testX = encode_sequences(eng_tokenizer, eng_length, test[:, 0])\n",
        "testY = encode_sequences(deu_tokenizer, deu_length, test[:, 1])"
      ],
      "metadata": {
        "id": "kKh2gP9ZsC5n"
      },
      "execution_count": null,
      "outputs": []
    },
    {
      "cell_type": "code",
      "source": [
        "# build NMT model (encoder-decoder)  Remember the U-Net for images, the same rationale !\n",
        "def build_model(in_vocab, out_vocab, in_timesteps, out_timesteps, units):\n",
        "    model = Sequential()\n",
        "    model.add(Embedding(in_vocab, units, input_length=in_timesteps, mask_zero=True))\n",
        "    model.add(LSTM(units))\n",
        "\n",
        "    model.add(RepeatVector(out_timesteps))\n",
        "    model.add(LSTM(units, return_sequences=True))\n",
        "    \n",
        "    model.add(Dense(out_vocab, activation='softmax'))\n",
        "    return model"
      ],
      "metadata": {
        "id": "Ob_bW0WisPT1"
      },
      "execution_count": null,
      "outputs": []
    },
    {
      "cell_type": "code",
      "source": [
        "model = build_model(eng_vocab_size, deu_vocab_size, eng_length, deu_length, 512)\n",
        "rms = optimizers.RMSprop(learning_rate=0.001)\n",
        "model.compile(optimizer=rms, loss='sparse_categorical_crossentropy')"
      ],
      "metadata": {
        "id": "o9S7sHLjsTMT"
      },
      "execution_count": null,
      "outputs": []
    },
    {
      "cell_type": "code",
      "source": [
        "filename = '/content/drive/My Drive/deep_learning/NMT/model_deu.h1.24_jan_19'"
      ],
      "metadata": {
        "id": "yg8a_-KbsaKT"
      },
      "execution_count": null,
      "outputs": []
    },
    {
      "cell_type": "markdown",
      "source": [
        "## **Modelo con 50 mil**"
      ],
      "metadata": {
        "id": "tA2xjyukK8IC"
      }
    },
    {
      "cell_type": "code",
      "source": [
        "epochs = 30\n",
        "batch_size = 512"
      ],
      "metadata": {
        "id": "HMCEE7wgunEw"
      },
      "execution_count": null,
      "outputs": []
    },
    {
      "cell_type": "code",
      "metadata": {
        "scrolled": true,
        "id": "FnOILAvbDcJx",
        "colab": {
          "base_uri": "https://localhost:8080/"
        },
        "outputId": "822dc59a-08b4-4227-dc23-e52f717e0872"
      },
      "source": [
        "filename = '/content/drive/My Drive/deep_learning/NMT/model_deu.h1.24_jan_19'\n",
        "checkpoint = ModelCheckpoint(filename, monitor='val_loss', verbose=1, save_best_only=True, mode='min')\n",
        "\n",
        "history = model.fit(trainX, trainY.reshape(trainY.shape[0], trainY.shape[1], 1), \n",
        "          epochs=epochs, batch_size=batch_size, \n",
        "          validation_split = 0.2,\n",
        "          callbacks=[checkpoint], verbose=1)"
      ],
      "execution_count": null,
      "outputs": [
        {
          "output_type": "stream",
          "name": "stdout",
          "text": [
            "Epoch 1/30\n",
            "70/71 [============================>.] - ETA: 0s - loss: 3.7306\n",
            "Epoch 1: val_loss improved from inf to 3.18443, saving model to /content/drive/My Drive/deep_learning/NMT/model_deu.h1.24_jan_19\n"
          ]
        },
        {
          "output_type": "stream",
          "name": "stderr",
          "text": [
            "WARNING:absl:Found untraced functions such as lstm_cell_layer_call_fn, lstm_cell_layer_call_and_return_conditional_losses, lstm_cell_1_layer_call_fn, lstm_cell_1_layer_call_and_return_conditional_losses while saving (showing 4 of 4). These functions will not be directly callable after loading.\n",
            "WARNING:absl:<keras.layers.recurrent.LSTMCell object at 0x7f0cfe104190> has the same name 'LSTMCell' as a built-in Keras object. Consider renaming <class 'keras.layers.recurrent.LSTMCell'> to avoid naming conflicts when loading with `tf.keras.models.load_model`. If renaming is not possible, pass the object in the `custom_objects` parameter of the load function.\n",
            "WARNING:absl:<keras.layers.recurrent.LSTMCell object at 0x7f0cf91fd2d0> has the same name 'LSTMCell' as a built-in Keras object. Consider renaming <class 'keras.layers.recurrent.LSTMCell'> to avoid naming conflicts when loading with `tf.keras.models.load_model`. If renaming is not possible, pass the object in the `custom_objects` parameter of the load function.\n"
          ]
        },
        {
          "output_type": "stream",
          "name": "stdout",
          "text": [
            "\b\b\b\b\b\b\b\b\b\b\b\b\b\b\b\b\b\b\b\b\b\b\b\b\b\b\b\b\b\b\b\b\b\b\b\b\b\b\b\b\b\b\b\b\b\b\b\b\b\b\b\b\b\b\b\b\b\b\b\b\b\b\b\r71/71 [==============================] - 29s 289ms/step - loss: 3.7285 - val_loss: 3.1844\n",
            "Epoch 2/30\n",
            "70/71 [============================>.] - ETA: 0s - loss: 3.0202\n",
            "Epoch 2: val_loss improved from 3.18443 to 2.95603, saving model to /content/drive/My Drive/deep_learning/NMT/model_deu.h1.24_jan_19\n"
          ]
        },
        {
          "output_type": "stream",
          "name": "stderr",
          "text": [
            "WARNING:absl:Found untraced functions such as lstm_cell_layer_call_fn, lstm_cell_layer_call_and_return_conditional_losses, lstm_cell_1_layer_call_fn, lstm_cell_1_layer_call_and_return_conditional_losses while saving (showing 4 of 4). These functions will not be directly callable after loading.\n",
            "WARNING:absl:<keras.layers.recurrent.LSTMCell object at 0x7f0cfe104190> has the same name 'LSTMCell' as a built-in Keras object. Consider renaming <class 'keras.layers.recurrent.LSTMCell'> to avoid naming conflicts when loading with `tf.keras.models.load_model`. If renaming is not possible, pass the object in the `custom_objects` parameter of the load function.\n",
            "WARNING:absl:<keras.layers.recurrent.LSTMCell object at 0x7f0cf91fd2d0> has the same name 'LSTMCell' as a built-in Keras object. Consider renaming <class 'keras.layers.recurrent.LSTMCell'> to avoid naming conflicts when loading with `tf.keras.models.load_model`. If renaming is not possible, pass the object in the `custom_objects` parameter of the load function.\n"
          ]
        },
        {
          "output_type": "stream",
          "name": "stdout",
          "text": [
            "\b\b\b\b\b\b\b\b\b\b\b\b\b\b\b\b\b\b\b\b\b\b\b\b\b\b\b\b\b\b\b\b\b\b\b\b\b\b\b\b\b\b\b\b\b\b\b\b\b\b\b\b\b\b\b\b\b\b\b\b\b\b\b\r71/71 [==============================] - 18s 262ms/step - loss: 3.0196 - val_loss: 2.9560\n",
            "Epoch 3/30\n",
            "70/71 [============================>.] - ETA: 0s - loss: 2.7958\n",
            "Epoch 3: val_loss improved from 2.95603 to 2.78744, saving model to /content/drive/My Drive/deep_learning/NMT/model_deu.h1.24_jan_19\n"
          ]
        },
        {
          "output_type": "stream",
          "name": "stderr",
          "text": [
            "WARNING:absl:Found untraced functions such as lstm_cell_layer_call_fn, lstm_cell_layer_call_and_return_conditional_losses, lstm_cell_1_layer_call_fn, lstm_cell_1_layer_call_and_return_conditional_losses while saving (showing 4 of 4). These functions will not be directly callable after loading.\n",
            "WARNING:absl:<keras.layers.recurrent.LSTMCell object at 0x7f0cfe104190> has the same name 'LSTMCell' as a built-in Keras object. Consider renaming <class 'keras.layers.recurrent.LSTMCell'> to avoid naming conflicts when loading with `tf.keras.models.load_model`. If renaming is not possible, pass the object in the `custom_objects` parameter of the load function.\n",
            "WARNING:absl:<keras.layers.recurrent.LSTMCell object at 0x7f0cf91fd2d0> has the same name 'LSTMCell' as a built-in Keras object. Consider renaming <class 'keras.layers.recurrent.LSTMCell'> to avoid naming conflicts when loading with `tf.keras.models.load_model`. If renaming is not possible, pass the object in the `custom_objects` parameter of the load function.\n"
          ]
        },
        {
          "output_type": "stream",
          "name": "stdout",
          "text": [
            "\b\b\b\b\b\b\b\b\b\b\b\b\b\b\b\b\b\b\b\b\b\b\b\b\b\b\b\b\b\b\b\b\b\b\b\b\b\b\b\b\b\b\b\b\b\b\b\b\b\b\b\b\b\b\b\b\b\b\b\b\b\b\b\r71/71 [==============================] - 19s 263ms/step - loss: 2.7955 - val_loss: 2.7874\n",
            "Epoch 4/30\n",
            "70/71 [============================>.] - ETA: 0s - loss: 2.6379\n",
            "Epoch 4: val_loss improved from 2.78744 to 2.69915, saving model to /content/drive/My Drive/deep_learning/NMT/model_deu.h1.24_jan_19\n"
          ]
        },
        {
          "output_type": "stream",
          "name": "stderr",
          "text": [
            "WARNING:absl:Found untraced functions such as lstm_cell_layer_call_fn, lstm_cell_layer_call_and_return_conditional_losses, lstm_cell_1_layer_call_fn, lstm_cell_1_layer_call_and_return_conditional_losses while saving (showing 4 of 4). These functions will not be directly callable after loading.\n",
            "WARNING:absl:<keras.layers.recurrent.LSTMCell object at 0x7f0cfe104190> has the same name 'LSTMCell' as a built-in Keras object. Consider renaming <class 'keras.layers.recurrent.LSTMCell'> to avoid naming conflicts when loading with `tf.keras.models.load_model`. If renaming is not possible, pass the object in the `custom_objects` parameter of the load function.\n",
            "WARNING:absl:<keras.layers.recurrent.LSTMCell object at 0x7f0cf91fd2d0> has the same name 'LSTMCell' as a built-in Keras object. Consider renaming <class 'keras.layers.recurrent.LSTMCell'> to avoid naming conflicts when loading with `tf.keras.models.load_model`. If renaming is not possible, pass the object in the `custom_objects` parameter of the load function.\n"
          ]
        },
        {
          "output_type": "stream",
          "name": "stdout",
          "text": [
            "\b\b\b\b\b\b\b\b\b\b\b\b\b\b\b\b\b\b\b\b\b\b\b\b\b\b\b\b\b\b\b\b\b\b\b\b\b\b\b\b\b\b\b\b\b\b\b\b\b\b\b\b\b\b\b\b\b\b\b\b\b\b\b\r71/71 [==============================] - 18s 261ms/step - loss: 2.6381 - val_loss: 2.6991\n",
            "Epoch 5/30\n",
            "70/71 [============================>.] - ETA: 0s - loss: 2.5035\n",
            "Epoch 5: val_loss improved from 2.69915 to 2.56825, saving model to /content/drive/My Drive/deep_learning/NMT/model_deu.h1.24_jan_19\n"
          ]
        },
        {
          "output_type": "stream",
          "name": "stderr",
          "text": [
            "WARNING:absl:Found untraced functions such as lstm_cell_layer_call_fn, lstm_cell_layer_call_and_return_conditional_losses, lstm_cell_1_layer_call_fn, lstm_cell_1_layer_call_and_return_conditional_losses while saving (showing 4 of 4). These functions will not be directly callable after loading.\n",
            "WARNING:absl:<keras.layers.recurrent.LSTMCell object at 0x7f0cfe104190> has the same name 'LSTMCell' as a built-in Keras object. Consider renaming <class 'keras.layers.recurrent.LSTMCell'> to avoid naming conflicts when loading with `tf.keras.models.load_model`. If renaming is not possible, pass the object in the `custom_objects` parameter of the load function.\n",
            "WARNING:absl:<keras.layers.recurrent.LSTMCell object at 0x7f0cf91fd2d0> has the same name 'LSTMCell' as a built-in Keras object. Consider renaming <class 'keras.layers.recurrent.LSTMCell'> to avoid naming conflicts when loading with `tf.keras.models.load_model`. If renaming is not possible, pass the object in the `custom_objects` parameter of the load function.\n"
          ]
        },
        {
          "output_type": "stream",
          "name": "stdout",
          "text": [
            "\b\b\b\b\b\b\b\b\b\b\b\b\b\b\b\b\b\b\b\b\b\b\b\b\b\b\b\b\b\b\b\b\b\b\b\b\b\b\b\b\b\b\b\b\b\b\b\b\b\b\b\b\b\b\b\b\b\b\b\b\b\b\b\r71/71 [==============================] - 18s 262ms/step - loss: 2.5035 - val_loss: 2.5683\n",
            "Epoch 6/30\n",
            "70/71 [============================>.] - ETA: 0s - loss: 2.3874\n",
            "Epoch 6: val_loss improved from 2.56825 to 2.48550, saving model to /content/drive/My Drive/deep_learning/NMT/model_deu.h1.24_jan_19\n"
          ]
        },
        {
          "output_type": "stream",
          "name": "stderr",
          "text": [
            "WARNING:absl:Found untraced functions such as lstm_cell_layer_call_fn, lstm_cell_layer_call_and_return_conditional_losses, lstm_cell_1_layer_call_fn, lstm_cell_1_layer_call_and_return_conditional_losses while saving (showing 4 of 4). These functions will not be directly callable after loading.\n",
            "WARNING:absl:<keras.layers.recurrent.LSTMCell object at 0x7f0cfe104190> has the same name 'LSTMCell' as a built-in Keras object. Consider renaming <class 'keras.layers.recurrent.LSTMCell'> to avoid naming conflicts when loading with `tf.keras.models.load_model`. If renaming is not possible, pass the object in the `custom_objects` parameter of the load function.\n",
            "WARNING:absl:<keras.layers.recurrent.LSTMCell object at 0x7f0cf91fd2d0> has the same name 'LSTMCell' as a built-in Keras object. Consider renaming <class 'keras.layers.recurrent.LSTMCell'> to avoid naming conflicts when loading with `tf.keras.models.load_model`. If renaming is not possible, pass the object in the `custom_objects` parameter of the load function.\n"
          ]
        },
        {
          "output_type": "stream",
          "name": "stdout",
          "text": [
            "\b\b\b\b\b\b\b\b\b\b\b\b\b\b\b\b\b\b\b\b\b\b\b\b\b\b\b\b\b\b\b\b\b\b\b\b\b\b\b\b\b\b\b\b\b\b\b\b\b\b\b\b\b\b\b\b\b\b\b\b\b\b\b\r71/71 [==============================] - 19s 264ms/step - loss: 2.3872 - val_loss: 2.4855\n",
            "Epoch 7/30\n",
            "70/71 [============================>.] - ETA: 0s - loss: 2.2711\n",
            "Epoch 7: val_loss improved from 2.48550 to 2.41947, saving model to /content/drive/My Drive/deep_learning/NMT/model_deu.h1.24_jan_19\n"
          ]
        },
        {
          "output_type": "stream",
          "name": "stderr",
          "text": [
            "WARNING:absl:Found untraced functions such as lstm_cell_layer_call_fn, lstm_cell_layer_call_and_return_conditional_losses, lstm_cell_1_layer_call_fn, lstm_cell_1_layer_call_and_return_conditional_losses while saving (showing 4 of 4). These functions will not be directly callable after loading.\n",
            "WARNING:absl:<keras.layers.recurrent.LSTMCell object at 0x7f0cfe104190> has the same name 'LSTMCell' as a built-in Keras object. Consider renaming <class 'keras.layers.recurrent.LSTMCell'> to avoid naming conflicts when loading with `tf.keras.models.load_model`. If renaming is not possible, pass the object in the `custom_objects` parameter of the load function.\n",
            "WARNING:absl:<keras.layers.recurrent.LSTMCell object at 0x7f0cf91fd2d0> has the same name 'LSTMCell' as a built-in Keras object. Consider renaming <class 'keras.layers.recurrent.LSTMCell'> to avoid naming conflicts when loading with `tf.keras.models.load_model`. If renaming is not possible, pass the object in the `custom_objects` parameter of the load function.\n"
          ]
        },
        {
          "output_type": "stream",
          "name": "stdout",
          "text": [
            "\b\b\b\b\b\b\b\b\b\b\b\b\b\b\b\b\b\b\b\b\b\b\b\b\b\b\b\b\b\b\b\b\b\b\b\b\b\b\b\b\b\b\b\b\b\b\b\b\b\b\b\b\b\b\b\b\b\b\b\b\b\b\b\r71/71 [==============================] - 18s 263ms/step - loss: 2.2713 - val_loss: 2.4195\n",
            "Epoch 8/30\n",
            "70/71 [============================>.] - ETA: 0s - loss: 2.1637\n",
            "Epoch 8: val_loss improved from 2.41947 to 2.32547, saving model to /content/drive/My Drive/deep_learning/NMT/model_deu.h1.24_jan_19\n"
          ]
        },
        {
          "output_type": "stream",
          "name": "stderr",
          "text": [
            "WARNING:absl:Found untraced functions such as lstm_cell_layer_call_fn, lstm_cell_layer_call_and_return_conditional_losses, lstm_cell_1_layer_call_fn, lstm_cell_1_layer_call_and_return_conditional_losses while saving (showing 4 of 4). These functions will not be directly callable after loading.\n",
            "WARNING:absl:<keras.layers.recurrent.LSTMCell object at 0x7f0cfe104190> has the same name 'LSTMCell' as a built-in Keras object. Consider renaming <class 'keras.layers.recurrent.LSTMCell'> to avoid naming conflicts when loading with `tf.keras.models.load_model`. If renaming is not possible, pass the object in the `custom_objects` parameter of the load function.\n",
            "WARNING:absl:<keras.layers.recurrent.LSTMCell object at 0x7f0cf91fd2d0> has the same name 'LSTMCell' as a built-in Keras object. Consider renaming <class 'keras.layers.recurrent.LSTMCell'> to avoid naming conflicts when loading with `tf.keras.models.load_model`. If renaming is not possible, pass the object in the `custom_objects` parameter of the load function.\n"
          ]
        },
        {
          "output_type": "stream",
          "name": "stdout",
          "text": [
            "\b\b\b\b\b\b\b\b\b\b\b\b\b\b\b\b\b\b\b\b\b\b\b\b\b\b\b\b\b\b\b\b\b\b\b\b\b\b\b\b\b\b\b\b\b\b\b\b\b\b\b\b\b\b\b\b\b\b\b\b\b\b\b\r71/71 [==============================] - 19s 265ms/step - loss: 2.1629 - val_loss: 2.3255\n",
            "Epoch 9/30\n",
            "70/71 [============================>.] - ETA: 0s - loss: 2.0591\n",
            "Epoch 9: val_loss improved from 2.32547 to 2.23246, saving model to /content/drive/My Drive/deep_learning/NMT/model_deu.h1.24_jan_19\n"
          ]
        },
        {
          "output_type": "stream",
          "name": "stderr",
          "text": [
            "WARNING:absl:Found untraced functions such as lstm_cell_layer_call_fn, lstm_cell_layer_call_and_return_conditional_losses, lstm_cell_1_layer_call_fn, lstm_cell_1_layer_call_and_return_conditional_losses while saving (showing 4 of 4). These functions will not be directly callable after loading.\n",
            "WARNING:absl:<keras.layers.recurrent.LSTMCell object at 0x7f0cfe104190> has the same name 'LSTMCell' as a built-in Keras object. Consider renaming <class 'keras.layers.recurrent.LSTMCell'> to avoid naming conflicts when loading with `tf.keras.models.load_model`. If renaming is not possible, pass the object in the `custom_objects` parameter of the load function.\n",
            "WARNING:absl:<keras.layers.recurrent.LSTMCell object at 0x7f0cf91fd2d0> has the same name 'LSTMCell' as a built-in Keras object. Consider renaming <class 'keras.layers.recurrent.LSTMCell'> to avoid naming conflicts when loading with `tf.keras.models.load_model`. If renaming is not possible, pass the object in the `custom_objects` parameter of the load function.\n"
          ]
        },
        {
          "output_type": "stream",
          "name": "stdout",
          "text": [
            "\b\b\b\b\b\b\b\b\b\b\b\b\b\b\b\b\b\b\b\b\b\b\b\b\b\b\b\b\b\b\b\b\b\b\b\b\b\b\b\b\b\b\b\b\b\b\b\b\b\b\b\b\b\b\b\b\b\b\b\b\b\b\b\r71/71 [==============================] - 19s 269ms/step - loss: 2.0596 - val_loss: 2.2325\n",
            "Epoch 10/30\n",
            "70/71 [============================>.] - ETA: 0s - loss: 1.9517\n",
            "Epoch 10: val_loss improved from 2.23246 to 2.16177, saving model to /content/drive/My Drive/deep_learning/NMT/model_deu.h1.24_jan_19\n"
          ]
        },
        {
          "output_type": "stream",
          "name": "stderr",
          "text": [
            "WARNING:absl:Found untraced functions such as lstm_cell_layer_call_fn, lstm_cell_layer_call_and_return_conditional_losses, lstm_cell_1_layer_call_fn, lstm_cell_1_layer_call_and_return_conditional_losses while saving (showing 4 of 4). These functions will not be directly callable after loading.\n",
            "WARNING:absl:<keras.layers.recurrent.LSTMCell object at 0x7f0cfe104190> has the same name 'LSTMCell' as a built-in Keras object. Consider renaming <class 'keras.layers.recurrent.LSTMCell'> to avoid naming conflicts when loading with `tf.keras.models.load_model`. If renaming is not possible, pass the object in the `custom_objects` parameter of the load function.\n",
            "WARNING:absl:<keras.layers.recurrent.LSTMCell object at 0x7f0cf91fd2d0> has the same name 'LSTMCell' as a built-in Keras object. Consider renaming <class 'keras.layers.recurrent.LSTMCell'> to avoid naming conflicts when loading with `tf.keras.models.load_model`. If renaming is not possible, pass the object in the `custom_objects` parameter of the load function.\n"
          ]
        },
        {
          "output_type": "stream",
          "name": "stdout",
          "text": [
            "\b\b\b\b\b\b\b\b\b\b\b\b\b\b\b\b\b\b\b\b\b\b\b\b\b\b\b\b\b\b\b\b\b\b\b\b\b\b\b\b\b\b\b\b\b\b\b\b\b\b\b\b\b\b\b\b\b\b\b\b\b\b\b\r71/71 [==============================] - 19s 268ms/step - loss: 1.9520 - val_loss: 2.1618\n",
            "Epoch 11/30\n",
            "70/71 [============================>.] - ETA: 0s - loss: 1.8486\n",
            "Epoch 11: val_loss improved from 2.16177 to 2.08638, saving model to /content/drive/My Drive/deep_learning/NMT/model_deu.h1.24_jan_19\n"
          ]
        },
        {
          "output_type": "stream",
          "name": "stderr",
          "text": [
            "WARNING:absl:Found untraced functions such as lstm_cell_layer_call_fn, lstm_cell_layer_call_and_return_conditional_losses, lstm_cell_1_layer_call_fn, lstm_cell_1_layer_call_and_return_conditional_losses while saving (showing 4 of 4). These functions will not be directly callable after loading.\n",
            "WARNING:absl:<keras.layers.recurrent.LSTMCell object at 0x7f0cfe104190> has the same name 'LSTMCell' as a built-in Keras object. Consider renaming <class 'keras.layers.recurrent.LSTMCell'> to avoid naming conflicts when loading with `tf.keras.models.load_model`. If renaming is not possible, pass the object in the `custom_objects` parameter of the load function.\n",
            "WARNING:absl:<keras.layers.recurrent.LSTMCell object at 0x7f0cf91fd2d0> has the same name 'LSTMCell' as a built-in Keras object. Consider renaming <class 'keras.layers.recurrent.LSTMCell'> to avoid naming conflicts when loading with `tf.keras.models.load_model`. If renaming is not possible, pass the object in the `custom_objects` parameter of the load function.\n"
          ]
        },
        {
          "output_type": "stream",
          "name": "stdout",
          "text": [
            "\b\b\b\b\b\b\b\b\b\b\b\b\b\b\b\b\b\b\b\b\b\b\b\b\b\b\b\b\b\b\b\b\b\b\b\b\b\b\b\b\b\b\b\b\b\b\b\b\b\b\b\b\b\b\b\b\b\b\b\b\b\b\b\r71/71 [==============================] - 18s 263ms/step - loss: 1.8483 - val_loss: 2.0864\n",
            "Epoch 12/30\n",
            "70/71 [============================>.] - ETA: 0s - loss: 1.7503\n",
            "Epoch 12: val_loss improved from 2.08638 to 2.01643, saving model to /content/drive/My Drive/deep_learning/NMT/model_deu.h1.24_jan_19\n"
          ]
        },
        {
          "output_type": "stream",
          "name": "stderr",
          "text": [
            "WARNING:absl:Found untraced functions such as lstm_cell_layer_call_fn, lstm_cell_layer_call_and_return_conditional_losses, lstm_cell_1_layer_call_fn, lstm_cell_1_layer_call_and_return_conditional_losses while saving (showing 4 of 4). These functions will not be directly callable after loading.\n",
            "WARNING:absl:<keras.layers.recurrent.LSTMCell object at 0x7f0cfe104190> has the same name 'LSTMCell' as a built-in Keras object. Consider renaming <class 'keras.layers.recurrent.LSTMCell'> to avoid naming conflicts when loading with `tf.keras.models.load_model`. If renaming is not possible, pass the object in the `custom_objects` parameter of the load function.\n",
            "WARNING:absl:<keras.layers.recurrent.LSTMCell object at 0x7f0cf91fd2d0> has the same name 'LSTMCell' as a built-in Keras object. Consider renaming <class 'keras.layers.recurrent.LSTMCell'> to avoid naming conflicts when loading with `tf.keras.models.load_model`. If renaming is not possible, pass the object in the `custom_objects` parameter of the load function.\n"
          ]
        },
        {
          "output_type": "stream",
          "name": "stdout",
          "text": [
            "\b\b\b\b\b\b\b\b\b\b\b\b\b\b\b\b\b\b\b\b\b\b\b\b\b\b\b\b\b\b\b\b\b\b\b\b\b\b\b\b\b\b\b\b\b\b\b\b\b\b\b\b\b\b\b\b\b\b\b\b\b\b\b\r71/71 [==============================] - 18s 262ms/step - loss: 1.7502 - val_loss: 2.0164\n",
            "Epoch 13/30\n",
            "70/71 [============================>.] - ETA: 0s - loss: 1.6534\n",
            "Epoch 13: val_loss improved from 2.01643 to 1.97033, saving model to /content/drive/My Drive/deep_learning/NMT/model_deu.h1.24_jan_19\n"
          ]
        },
        {
          "output_type": "stream",
          "name": "stderr",
          "text": [
            "WARNING:absl:Found untraced functions such as lstm_cell_layer_call_fn, lstm_cell_layer_call_and_return_conditional_losses, lstm_cell_1_layer_call_fn, lstm_cell_1_layer_call_and_return_conditional_losses while saving (showing 4 of 4). These functions will not be directly callable after loading.\n",
            "WARNING:absl:<keras.layers.recurrent.LSTMCell object at 0x7f0cfe104190> has the same name 'LSTMCell' as a built-in Keras object. Consider renaming <class 'keras.layers.recurrent.LSTMCell'> to avoid naming conflicts when loading with `tf.keras.models.load_model`. If renaming is not possible, pass the object in the `custom_objects` parameter of the load function.\n",
            "WARNING:absl:<keras.layers.recurrent.LSTMCell object at 0x7f0cf91fd2d0> has the same name 'LSTMCell' as a built-in Keras object. Consider renaming <class 'keras.layers.recurrent.LSTMCell'> to avoid naming conflicts when loading with `tf.keras.models.load_model`. If renaming is not possible, pass the object in the `custom_objects` parameter of the load function.\n"
          ]
        },
        {
          "output_type": "stream",
          "name": "stdout",
          "text": [
            "\b\b\b\b\b\b\b\b\b\b\b\b\b\b\b\b\b\b\b\b\b\b\b\b\b\b\b\b\b\b\b\b\b\b\b\b\b\b\b\b\b\b\b\b\b\b\b\b\b\b\b\b\b\b\b\b\b\b\b\b\b\b\b\r71/71 [==============================] - 19s 269ms/step - loss: 1.6529 - val_loss: 1.9703\n",
            "Epoch 14/30\n",
            "70/71 [============================>.] - ETA: 0s - loss: 1.5602\n",
            "Epoch 14: val_loss improved from 1.97033 to 1.90777, saving model to /content/drive/My Drive/deep_learning/NMT/model_deu.h1.24_jan_19\n"
          ]
        },
        {
          "output_type": "stream",
          "name": "stderr",
          "text": [
            "WARNING:absl:Found untraced functions such as lstm_cell_layer_call_fn, lstm_cell_layer_call_and_return_conditional_losses, lstm_cell_1_layer_call_fn, lstm_cell_1_layer_call_and_return_conditional_losses while saving (showing 4 of 4). These functions will not be directly callable after loading.\n",
            "WARNING:absl:<keras.layers.recurrent.LSTMCell object at 0x7f0cfe104190> has the same name 'LSTMCell' as a built-in Keras object. Consider renaming <class 'keras.layers.recurrent.LSTMCell'> to avoid naming conflicts when loading with `tf.keras.models.load_model`. If renaming is not possible, pass the object in the `custom_objects` parameter of the load function.\n",
            "WARNING:absl:<keras.layers.recurrent.LSTMCell object at 0x7f0cf91fd2d0> has the same name 'LSTMCell' as a built-in Keras object. Consider renaming <class 'keras.layers.recurrent.LSTMCell'> to avoid naming conflicts when loading with `tf.keras.models.load_model`. If renaming is not possible, pass the object in the `custom_objects` parameter of the load function.\n"
          ]
        },
        {
          "output_type": "stream",
          "name": "stdout",
          "text": [
            "\b\b\b\b\b\b\b\b\b\b\b\b\b\b\b\b\b\b\b\b\b\b\b\b\b\b\b\b\b\b\b\b\b\b\b\b\b\b\b\b\b\b\b\b\b\b\b\b\b\b\b\b\b\b\b\b\b\b\b\b\b\b\b\r71/71 [==============================] - 19s 265ms/step - loss: 1.5602 - val_loss: 1.9078\n",
            "Epoch 15/30\n",
            "70/71 [============================>.] - ETA: 0s - loss: 1.4732\n",
            "Epoch 15: val_loss improved from 1.90777 to 1.86053, saving model to /content/drive/My Drive/deep_learning/NMT/model_deu.h1.24_jan_19\n"
          ]
        },
        {
          "output_type": "stream",
          "name": "stderr",
          "text": [
            "WARNING:absl:Found untraced functions such as lstm_cell_layer_call_fn, lstm_cell_layer_call_and_return_conditional_losses, lstm_cell_1_layer_call_fn, lstm_cell_1_layer_call_and_return_conditional_losses while saving (showing 4 of 4). These functions will not be directly callable after loading.\n",
            "WARNING:absl:<keras.layers.recurrent.LSTMCell object at 0x7f0cfe104190> has the same name 'LSTMCell' as a built-in Keras object. Consider renaming <class 'keras.layers.recurrent.LSTMCell'> to avoid naming conflicts when loading with `tf.keras.models.load_model`. If renaming is not possible, pass the object in the `custom_objects` parameter of the load function.\n",
            "WARNING:absl:<keras.layers.recurrent.LSTMCell object at 0x7f0cf91fd2d0> has the same name 'LSTMCell' as a built-in Keras object. Consider renaming <class 'keras.layers.recurrent.LSTMCell'> to avoid naming conflicts when loading with `tf.keras.models.load_model`. If renaming is not possible, pass the object in the `custom_objects` parameter of the load function.\n"
          ]
        },
        {
          "output_type": "stream",
          "name": "stdout",
          "text": [
            "\b\b\b\b\b\b\b\b\b\b\b\b\b\b\b\b\b\b\b\b\b\b\b\b\b\b\b\b\b\b\b\b\b\b\b\b\b\b\b\b\b\b\b\b\b\b\b\b\b\b\b\b\b\b\b\b\b\b\b\b\b\b\b\r71/71 [==============================] - 19s 266ms/step - loss: 1.4735 - val_loss: 1.8605\n",
            "Epoch 16/30\n",
            "70/71 [============================>.] - ETA: 0s - loss: 1.3908\n",
            "Epoch 16: val_loss improved from 1.86053 to 1.79372, saving model to /content/drive/My Drive/deep_learning/NMT/model_deu.h1.24_jan_19\n"
          ]
        },
        {
          "output_type": "stream",
          "name": "stderr",
          "text": [
            "WARNING:absl:Found untraced functions such as lstm_cell_layer_call_fn, lstm_cell_layer_call_and_return_conditional_losses, lstm_cell_1_layer_call_fn, lstm_cell_1_layer_call_and_return_conditional_losses while saving (showing 4 of 4). These functions will not be directly callable after loading.\n",
            "WARNING:absl:<keras.layers.recurrent.LSTMCell object at 0x7f0cfe104190> has the same name 'LSTMCell' as a built-in Keras object. Consider renaming <class 'keras.layers.recurrent.LSTMCell'> to avoid naming conflicts when loading with `tf.keras.models.load_model`. If renaming is not possible, pass the object in the `custom_objects` parameter of the load function.\n",
            "WARNING:absl:<keras.layers.recurrent.LSTMCell object at 0x7f0cf91fd2d0> has the same name 'LSTMCell' as a built-in Keras object. Consider renaming <class 'keras.layers.recurrent.LSTMCell'> to avoid naming conflicts when loading with `tf.keras.models.load_model`. If renaming is not possible, pass the object in the `custom_objects` parameter of the load function.\n"
          ]
        },
        {
          "output_type": "stream",
          "name": "stdout",
          "text": [
            "\b\b\b\b\b\b\b\b\b\b\b\b\b\b\b\b\b\b\b\b\b\b\b\b\b\b\b\b\b\b\b\b\b\b\b\b\b\b\b\b\b\b\b\b\b\b\b\b\b\b\b\b\b\b\b\b\b\b\b\b\b\b\b\r71/71 [==============================] - 19s 265ms/step - loss: 1.3905 - val_loss: 1.7937\n",
            "Epoch 17/30\n",
            "70/71 [============================>.] - ETA: 0s - loss: 1.3123\n",
            "Epoch 17: val_loss improved from 1.79372 to 1.78496, saving model to /content/drive/My Drive/deep_learning/NMT/model_deu.h1.24_jan_19\n"
          ]
        },
        {
          "output_type": "stream",
          "name": "stderr",
          "text": [
            "WARNING:absl:Found untraced functions such as lstm_cell_layer_call_fn, lstm_cell_layer_call_and_return_conditional_losses, lstm_cell_1_layer_call_fn, lstm_cell_1_layer_call_and_return_conditional_losses while saving (showing 4 of 4). These functions will not be directly callable after loading.\n",
            "WARNING:absl:<keras.layers.recurrent.LSTMCell object at 0x7f0cfe104190> has the same name 'LSTMCell' as a built-in Keras object. Consider renaming <class 'keras.layers.recurrent.LSTMCell'> to avoid naming conflicts when loading with `tf.keras.models.load_model`. If renaming is not possible, pass the object in the `custom_objects` parameter of the load function.\n",
            "WARNING:absl:<keras.layers.recurrent.LSTMCell object at 0x7f0cf91fd2d0> has the same name 'LSTMCell' as a built-in Keras object. Consider renaming <class 'keras.layers.recurrent.LSTMCell'> to avoid naming conflicts when loading with `tf.keras.models.load_model`. If renaming is not possible, pass the object in the `custom_objects` parameter of the load function.\n"
          ]
        },
        {
          "output_type": "stream",
          "name": "stdout",
          "text": [
            "\b\b\b\b\b\b\b\b\b\b\b\b\b\b\b\b\b\b\b\b\b\b\b\b\b\b\b\b\b\b\b\b\b\b\b\b\b\b\b\b\b\b\b\b\b\b\b\b\b\b\b\b\b\b\b\b\b\b\b\b\b\b\b\r71/71 [==============================] - 19s 265ms/step - loss: 1.3120 - val_loss: 1.7850\n",
            "Epoch 18/30\n",
            "70/71 [============================>.] - ETA: 0s - loss: 1.2385\n",
            "Epoch 18: val_loss improved from 1.78496 to 1.72741, saving model to /content/drive/My Drive/deep_learning/NMT/model_deu.h1.24_jan_19\n"
          ]
        },
        {
          "output_type": "stream",
          "name": "stderr",
          "text": [
            "WARNING:absl:Found untraced functions such as lstm_cell_layer_call_fn, lstm_cell_layer_call_and_return_conditional_losses, lstm_cell_1_layer_call_fn, lstm_cell_1_layer_call_and_return_conditional_losses while saving (showing 4 of 4). These functions will not be directly callable after loading.\n",
            "WARNING:absl:<keras.layers.recurrent.LSTMCell object at 0x7f0cfe104190> has the same name 'LSTMCell' as a built-in Keras object. Consider renaming <class 'keras.layers.recurrent.LSTMCell'> to avoid naming conflicts when loading with `tf.keras.models.load_model`. If renaming is not possible, pass the object in the `custom_objects` parameter of the load function.\n",
            "WARNING:absl:<keras.layers.recurrent.LSTMCell object at 0x7f0cf91fd2d0> has the same name 'LSTMCell' as a built-in Keras object. Consider renaming <class 'keras.layers.recurrent.LSTMCell'> to avoid naming conflicts when loading with `tf.keras.models.load_model`. If renaming is not possible, pass the object in the `custom_objects` parameter of the load function.\n"
          ]
        },
        {
          "output_type": "stream",
          "name": "stdout",
          "text": [
            "\b\b\b\b\b\b\b\b\b\b\b\b\b\b\b\b\b\b\b\b\b\b\b\b\b\b\b\b\b\b\b\b\b\b\b\b\b\b\b\b\b\b\b\b\b\b\b\b\b\b\b\b\b\b\b\b\b\b\b\b\b\b\b\r71/71 [==============================] - 19s 276ms/step - loss: 1.2388 - val_loss: 1.7274\n",
            "Epoch 19/30\n",
            "70/71 [============================>.] - ETA: 0s - loss: 1.1700\n",
            "Epoch 19: val_loss improved from 1.72741 to 1.69099, saving model to /content/drive/My Drive/deep_learning/NMT/model_deu.h1.24_jan_19\n"
          ]
        },
        {
          "output_type": "stream",
          "name": "stderr",
          "text": [
            "WARNING:absl:Found untraced functions such as lstm_cell_layer_call_fn, lstm_cell_layer_call_and_return_conditional_losses, lstm_cell_1_layer_call_fn, lstm_cell_1_layer_call_and_return_conditional_losses while saving (showing 4 of 4). These functions will not be directly callable after loading.\n",
            "WARNING:absl:<keras.layers.recurrent.LSTMCell object at 0x7f0cfe104190> has the same name 'LSTMCell' as a built-in Keras object. Consider renaming <class 'keras.layers.recurrent.LSTMCell'> to avoid naming conflicts when loading with `tf.keras.models.load_model`. If renaming is not possible, pass the object in the `custom_objects` parameter of the load function.\n",
            "WARNING:absl:<keras.layers.recurrent.LSTMCell object at 0x7f0cf91fd2d0> has the same name 'LSTMCell' as a built-in Keras object. Consider renaming <class 'keras.layers.recurrent.LSTMCell'> to avoid naming conflicts when loading with `tf.keras.models.load_model`. If renaming is not possible, pass the object in the `custom_objects` parameter of the load function.\n"
          ]
        },
        {
          "output_type": "stream",
          "name": "stdout",
          "text": [
            "\b\b\b\b\b\b\b\b\b\b\b\b\b\b\b\b\b\b\b\b\b\b\b\b\b\b\b\b\b\b\b\b\b\b\b\b\b\b\b\b\b\b\b\b\b\b\b\b\b\b\b\b\b\b\b\b\b\b\b\b\b\b\b\r71/71 [==============================] - 19s 265ms/step - loss: 1.1700 - val_loss: 1.6910\n",
            "Epoch 20/30\n",
            "70/71 [============================>.] - ETA: 0s - loss: 1.1038\n",
            "Epoch 20: val_loss improved from 1.69099 to 1.64789, saving model to /content/drive/My Drive/deep_learning/NMT/model_deu.h1.24_jan_19\n"
          ]
        },
        {
          "output_type": "stream",
          "name": "stderr",
          "text": [
            "WARNING:absl:Found untraced functions such as lstm_cell_layer_call_fn, lstm_cell_layer_call_and_return_conditional_losses, lstm_cell_1_layer_call_fn, lstm_cell_1_layer_call_and_return_conditional_losses while saving (showing 4 of 4). These functions will not be directly callable after loading.\n",
            "WARNING:absl:<keras.layers.recurrent.LSTMCell object at 0x7f0cfe104190> has the same name 'LSTMCell' as a built-in Keras object. Consider renaming <class 'keras.layers.recurrent.LSTMCell'> to avoid naming conflicts when loading with `tf.keras.models.load_model`. If renaming is not possible, pass the object in the `custom_objects` parameter of the load function.\n",
            "WARNING:absl:<keras.layers.recurrent.LSTMCell object at 0x7f0cf91fd2d0> has the same name 'LSTMCell' as a built-in Keras object. Consider renaming <class 'keras.layers.recurrent.LSTMCell'> to avoid naming conflicts when loading with `tf.keras.models.load_model`. If renaming is not possible, pass the object in the `custom_objects` parameter of the load function.\n"
          ]
        },
        {
          "output_type": "stream",
          "name": "stdout",
          "text": [
            "\b\b\b\b\b\b\b\b\b\b\b\b\b\b\b\b\b\b\b\b\b\b\b\b\b\b\b\b\b\b\b\b\b\b\b\b\b\b\b\b\b\b\b\b\b\b\b\b\b\b\b\b\b\b\b\b\b\b\b\b\b\b\b\r71/71 [==============================] - 19s 267ms/step - loss: 1.1035 - val_loss: 1.6479\n",
            "Epoch 21/30\n",
            "70/71 [============================>.] - ETA: 0s - loss: 1.0395\n",
            "Epoch 21: val_loss improved from 1.64789 to 1.64248, saving model to /content/drive/My Drive/deep_learning/NMT/model_deu.h1.24_jan_19\n"
          ]
        },
        {
          "output_type": "stream",
          "name": "stderr",
          "text": [
            "WARNING:absl:Found untraced functions such as lstm_cell_layer_call_fn, lstm_cell_layer_call_and_return_conditional_losses, lstm_cell_1_layer_call_fn, lstm_cell_1_layer_call_and_return_conditional_losses while saving (showing 4 of 4). These functions will not be directly callable after loading.\n",
            "WARNING:absl:<keras.layers.recurrent.LSTMCell object at 0x7f0cfe104190> has the same name 'LSTMCell' as a built-in Keras object. Consider renaming <class 'keras.layers.recurrent.LSTMCell'> to avoid naming conflicts when loading with `tf.keras.models.load_model`. If renaming is not possible, pass the object in the `custom_objects` parameter of the load function.\n",
            "WARNING:absl:<keras.layers.recurrent.LSTMCell object at 0x7f0cf91fd2d0> has the same name 'LSTMCell' as a built-in Keras object. Consider renaming <class 'keras.layers.recurrent.LSTMCell'> to avoid naming conflicts when loading with `tf.keras.models.load_model`. If renaming is not possible, pass the object in the `custom_objects` parameter of the load function.\n"
          ]
        },
        {
          "output_type": "stream",
          "name": "stdout",
          "text": [
            "\b\b\b\b\b\b\b\b\b\b\b\b\b\b\b\b\b\b\b\b\b\b\b\b\b\b\b\b\b\b\b\b\b\b\b\b\b\b\b\b\b\b\b\b\b\b\b\b\b\b\b\b\b\b\b\b\b\b\b\b\b\b\b\r71/71 [==============================] - 19s 263ms/step - loss: 1.0401 - val_loss: 1.6425\n",
            "Epoch 22/30\n",
            "70/71 [============================>.] - ETA: 0s - loss: 0.9840\n",
            "Epoch 22: val_loss improved from 1.64248 to 1.60070, saving model to /content/drive/My Drive/deep_learning/NMT/model_deu.h1.24_jan_19\n"
          ]
        },
        {
          "output_type": "stream",
          "name": "stderr",
          "text": [
            "WARNING:absl:Found untraced functions such as lstm_cell_layer_call_fn, lstm_cell_layer_call_and_return_conditional_losses, lstm_cell_1_layer_call_fn, lstm_cell_1_layer_call_and_return_conditional_losses while saving (showing 4 of 4). These functions will not be directly callable after loading.\n",
            "WARNING:absl:<keras.layers.recurrent.LSTMCell object at 0x7f0cfe104190> has the same name 'LSTMCell' as a built-in Keras object. Consider renaming <class 'keras.layers.recurrent.LSTMCell'> to avoid naming conflicts when loading with `tf.keras.models.load_model`. If renaming is not possible, pass the object in the `custom_objects` parameter of the load function.\n",
            "WARNING:absl:<keras.layers.recurrent.LSTMCell object at 0x7f0cf91fd2d0> has the same name 'LSTMCell' as a built-in Keras object. Consider renaming <class 'keras.layers.recurrent.LSTMCell'> to avoid naming conflicts when loading with `tf.keras.models.load_model`. If renaming is not possible, pass the object in the `custom_objects` parameter of the load function.\n"
          ]
        },
        {
          "output_type": "stream",
          "name": "stdout",
          "text": [
            "\b\b\b\b\b\b\b\b\b\b\b\b\b\b\b\b\b\b\b\b\b\b\b\b\b\b\b\b\b\b\b\b\b\b\b\b\b\b\b\b\b\b\b\b\b\b\b\b\b\b\b\b\b\b\b\b\b\b\b\b\b\b\b\r71/71 [==============================] - 19s 272ms/step - loss: 0.9839 - val_loss: 1.6007\n",
            "Epoch 23/30\n",
            "70/71 [============================>.] - ETA: 0s - loss: 0.9265\n",
            "Epoch 23: val_loss improved from 1.60070 to 1.57874, saving model to /content/drive/My Drive/deep_learning/NMT/model_deu.h1.24_jan_19\n"
          ]
        },
        {
          "output_type": "stream",
          "name": "stderr",
          "text": [
            "WARNING:absl:Found untraced functions such as lstm_cell_layer_call_fn, lstm_cell_layer_call_and_return_conditional_losses, lstm_cell_1_layer_call_fn, lstm_cell_1_layer_call_and_return_conditional_losses while saving (showing 4 of 4). These functions will not be directly callable after loading.\n",
            "WARNING:absl:<keras.layers.recurrent.LSTMCell object at 0x7f0cfe104190> has the same name 'LSTMCell' as a built-in Keras object. Consider renaming <class 'keras.layers.recurrent.LSTMCell'> to avoid naming conflicts when loading with `tf.keras.models.load_model`. If renaming is not possible, pass the object in the `custom_objects` parameter of the load function.\n",
            "WARNING:absl:<keras.layers.recurrent.LSTMCell object at 0x7f0cf91fd2d0> has the same name 'LSTMCell' as a built-in Keras object. Consider renaming <class 'keras.layers.recurrent.LSTMCell'> to avoid naming conflicts when loading with `tf.keras.models.load_model`. If renaming is not possible, pass the object in the `custom_objects` parameter of the load function.\n"
          ]
        },
        {
          "output_type": "stream",
          "name": "stdout",
          "text": [
            "\b\b\b\b\b\b\b\b\b\b\b\b\b\b\b\b\b\b\b\b\b\b\b\b\b\b\b\b\b\b\b\b\b\b\b\b\b\b\b\b\b\b\b\b\b\b\b\b\b\b\b\b\b\b\b\b\b\b\b\b\b\b\b\r71/71 [==============================] - 19s 269ms/step - loss: 0.9268 - val_loss: 1.5787\n",
            "Epoch 24/30\n",
            "70/71 [============================>.] - ETA: 0s - loss: 0.8769\n",
            "Epoch 24: val_loss improved from 1.57874 to 1.56901, saving model to /content/drive/My Drive/deep_learning/NMT/model_deu.h1.24_jan_19\n"
          ]
        },
        {
          "output_type": "stream",
          "name": "stderr",
          "text": [
            "WARNING:absl:Found untraced functions such as lstm_cell_layer_call_fn, lstm_cell_layer_call_and_return_conditional_losses, lstm_cell_1_layer_call_fn, lstm_cell_1_layer_call_and_return_conditional_losses while saving (showing 4 of 4). These functions will not be directly callable after loading.\n",
            "WARNING:absl:<keras.layers.recurrent.LSTMCell object at 0x7f0cfe104190> has the same name 'LSTMCell' as a built-in Keras object. Consider renaming <class 'keras.layers.recurrent.LSTMCell'> to avoid naming conflicts when loading with `tf.keras.models.load_model`. If renaming is not possible, pass the object in the `custom_objects` parameter of the load function.\n",
            "WARNING:absl:<keras.layers.recurrent.LSTMCell object at 0x7f0cf91fd2d0> has the same name 'LSTMCell' as a built-in Keras object. Consider renaming <class 'keras.layers.recurrent.LSTMCell'> to avoid naming conflicts when loading with `tf.keras.models.load_model`. If renaming is not possible, pass the object in the `custom_objects` parameter of the load function.\n"
          ]
        },
        {
          "output_type": "stream",
          "name": "stdout",
          "text": [
            "\b\b\b\b\b\b\b\b\b\b\b\b\b\b\b\b\b\b\b\b\b\b\b\b\b\b\b\b\b\b\b\b\b\b\b\b\b\b\b\b\b\b\b\b\b\b\b\b\b\b\b\b\b\b\b\b\b\b\b\b\b\b\b\r71/71 [==============================] - 19s 267ms/step - loss: 0.8774 - val_loss: 1.5690\n",
            "Epoch 25/30\n",
            "70/71 [============================>.] - ETA: 0s - loss: 0.8293\n",
            "Epoch 25: val_loss improved from 1.56901 to 1.55735, saving model to /content/drive/My Drive/deep_learning/NMT/model_deu.h1.24_jan_19\n"
          ]
        },
        {
          "output_type": "stream",
          "name": "stderr",
          "text": [
            "WARNING:absl:Found untraced functions such as lstm_cell_layer_call_fn, lstm_cell_layer_call_and_return_conditional_losses, lstm_cell_1_layer_call_fn, lstm_cell_1_layer_call_and_return_conditional_losses while saving (showing 4 of 4). These functions will not be directly callable after loading.\n",
            "WARNING:absl:<keras.layers.recurrent.LSTMCell object at 0x7f0cfe104190> has the same name 'LSTMCell' as a built-in Keras object. Consider renaming <class 'keras.layers.recurrent.LSTMCell'> to avoid naming conflicts when loading with `tf.keras.models.load_model`. If renaming is not possible, pass the object in the `custom_objects` parameter of the load function.\n",
            "WARNING:absl:<keras.layers.recurrent.LSTMCell object at 0x7f0cf91fd2d0> has the same name 'LSTMCell' as a built-in Keras object. Consider renaming <class 'keras.layers.recurrent.LSTMCell'> to avoid naming conflicts when loading with `tf.keras.models.load_model`. If renaming is not possible, pass the object in the `custom_objects` parameter of the load function.\n"
          ]
        },
        {
          "output_type": "stream",
          "name": "stdout",
          "text": [
            "\b\b\b\b\b\b\b\b\b\b\b\b\b\b\b\b\b\b\b\b\b\b\b\b\b\b\b\b\b\b\b\b\b\b\b\b\b\b\b\b\b\b\b\b\b\b\b\b\b\b\b\b\b\b\b\b\b\b\b\b\b\b\b\r71/71 [==============================] - 19s 269ms/step - loss: 0.8295 - val_loss: 1.5573\n",
            "Epoch 26/30\n",
            "70/71 [============================>.] - ETA: 0s - loss: 0.7823\n",
            "Epoch 26: val_loss improved from 1.55735 to 1.53984, saving model to /content/drive/My Drive/deep_learning/NMT/model_deu.h1.24_jan_19\n"
          ]
        },
        {
          "output_type": "stream",
          "name": "stderr",
          "text": [
            "WARNING:absl:Found untraced functions such as lstm_cell_layer_call_fn, lstm_cell_layer_call_and_return_conditional_losses, lstm_cell_1_layer_call_fn, lstm_cell_1_layer_call_and_return_conditional_losses while saving (showing 4 of 4). These functions will not be directly callable after loading.\n",
            "WARNING:absl:<keras.layers.recurrent.LSTMCell object at 0x7f0cfe104190> has the same name 'LSTMCell' as a built-in Keras object. Consider renaming <class 'keras.layers.recurrent.LSTMCell'> to avoid naming conflicts when loading with `tf.keras.models.load_model`. If renaming is not possible, pass the object in the `custom_objects` parameter of the load function.\n",
            "WARNING:absl:<keras.layers.recurrent.LSTMCell object at 0x7f0cf91fd2d0> has the same name 'LSTMCell' as a built-in Keras object. Consider renaming <class 'keras.layers.recurrent.LSTMCell'> to avoid naming conflicts when loading with `tf.keras.models.load_model`. If renaming is not possible, pass the object in the `custom_objects` parameter of the load function.\n"
          ]
        },
        {
          "output_type": "stream",
          "name": "stdout",
          "text": [
            "\b\b\b\b\b\b\b\b\b\b\b\b\b\b\b\b\b\b\b\b\b\b\b\b\b\b\b\b\b\b\b\b\b\b\b\b\b\b\b\b\b\b\b\b\b\b\b\b\b\b\b\b\b\b\b\b\b\b\b\b\b\b\b\r71/71 [==============================] - 19s 275ms/step - loss: 0.7827 - val_loss: 1.5398\n",
            "Epoch 27/30\n",
            "70/71 [============================>.] - ETA: 0s - loss: 0.7400\n",
            "Epoch 27: val_loss improved from 1.53984 to 1.53747, saving model to /content/drive/My Drive/deep_learning/NMT/model_deu.h1.24_jan_19\n"
          ]
        },
        {
          "output_type": "stream",
          "name": "stderr",
          "text": [
            "WARNING:absl:Found untraced functions such as lstm_cell_layer_call_fn, lstm_cell_layer_call_and_return_conditional_losses, lstm_cell_1_layer_call_fn, lstm_cell_1_layer_call_and_return_conditional_losses while saving (showing 4 of 4). These functions will not be directly callable after loading.\n",
            "WARNING:absl:<keras.layers.recurrent.LSTMCell object at 0x7f0cfe104190> has the same name 'LSTMCell' as a built-in Keras object. Consider renaming <class 'keras.layers.recurrent.LSTMCell'> to avoid naming conflicts when loading with `tf.keras.models.load_model`. If renaming is not possible, pass the object in the `custom_objects` parameter of the load function.\n",
            "WARNING:absl:<keras.layers.recurrent.LSTMCell object at 0x7f0cf91fd2d0> has the same name 'LSTMCell' as a built-in Keras object. Consider renaming <class 'keras.layers.recurrent.LSTMCell'> to avoid naming conflicts when loading with `tf.keras.models.load_model`. If renaming is not possible, pass the object in the `custom_objects` parameter of the load function.\n"
          ]
        },
        {
          "output_type": "stream",
          "name": "stdout",
          "text": [
            "\b\b\b\b\b\b\b\b\b\b\b\b\b\b\b\b\b\b\b\b\b\b\b\b\b\b\b\b\b\b\b\b\b\b\b\b\b\b\b\b\b\b\b\b\b\b\b\b\b\b\b\b\b\b\b\b\b\b\b\b\b\b\b\r71/71 [==============================] - 19s 269ms/step - loss: 0.7401 - val_loss: 1.5375\n",
            "Epoch 28/30\n",
            "70/71 [============================>.] - ETA: 0s - loss: 0.6978\n",
            "Epoch 28: val_loss improved from 1.53747 to 1.52362, saving model to /content/drive/My Drive/deep_learning/NMT/model_deu.h1.24_jan_19\n"
          ]
        },
        {
          "output_type": "stream",
          "name": "stderr",
          "text": [
            "WARNING:absl:Found untraced functions such as lstm_cell_layer_call_fn, lstm_cell_layer_call_and_return_conditional_losses, lstm_cell_1_layer_call_fn, lstm_cell_1_layer_call_and_return_conditional_losses while saving (showing 4 of 4). These functions will not be directly callable after loading.\n",
            "WARNING:absl:<keras.layers.recurrent.LSTMCell object at 0x7f0cfe104190> has the same name 'LSTMCell' as a built-in Keras object. Consider renaming <class 'keras.layers.recurrent.LSTMCell'> to avoid naming conflicts when loading with `tf.keras.models.load_model`. If renaming is not possible, pass the object in the `custom_objects` parameter of the load function.\n",
            "WARNING:absl:<keras.layers.recurrent.LSTMCell object at 0x7f0cf91fd2d0> has the same name 'LSTMCell' as a built-in Keras object. Consider renaming <class 'keras.layers.recurrent.LSTMCell'> to avoid naming conflicts when loading with `tf.keras.models.load_model`. If renaming is not possible, pass the object in the `custom_objects` parameter of the load function.\n"
          ]
        },
        {
          "output_type": "stream",
          "name": "stdout",
          "text": [
            "\b\b\b\b\b\b\b\b\b\b\b\b\b\b\b\b\b\b\b\b\b\b\b\b\b\b\b\b\b\b\b\b\b\b\b\b\b\b\b\b\b\b\b\b\b\b\b\b\b\b\b\b\b\b\b\b\b\b\b\b\b\b\b\r71/71 [==============================] - 19s 265ms/step - loss: 0.6977 - val_loss: 1.5236\n",
            "Epoch 29/30\n",
            "70/71 [============================>.] - ETA: 0s - loss: 0.6588\n",
            "Epoch 29: val_loss did not improve from 1.52362\n",
            "71/71 [==============================] - 6s 82ms/step - loss: 0.6590 - val_loss: 1.5357\n",
            "Epoch 30/30\n",
            "70/71 [============================>.] - ETA: 0s - loss: 0.6219\n",
            "Epoch 30: val_loss improved from 1.52362 to 1.50900, saving model to /content/drive/My Drive/deep_learning/NMT/model_deu.h1.24_jan_19\n"
          ]
        },
        {
          "output_type": "stream",
          "name": "stderr",
          "text": [
            "WARNING:absl:Found untraced functions such as lstm_cell_layer_call_fn, lstm_cell_layer_call_and_return_conditional_losses, lstm_cell_1_layer_call_fn, lstm_cell_1_layer_call_and_return_conditional_losses while saving (showing 4 of 4). These functions will not be directly callable after loading.\n",
            "WARNING:absl:<keras.layers.recurrent.LSTMCell object at 0x7f0cfe104190> has the same name 'LSTMCell' as a built-in Keras object. Consider renaming <class 'keras.layers.recurrent.LSTMCell'> to avoid naming conflicts when loading with `tf.keras.models.load_model`. If renaming is not possible, pass the object in the `custom_objects` parameter of the load function.\n",
            "WARNING:absl:<keras.layers.recurrent.LSTMCell object at 0x7f0cf91fd2d0> has the same name 'LSTMCell' as a built-in Keras object. Consider renaming <class 'keras.layers.recurrent.LSTMCell'> to avoid naming conflicts when loading with `tf.keras.models.load_model`. If renaming is not possible, pass the object in the `custom_objects` parameter of the load function.\n"
          ]
        },
        {
          "output_type": "stream",
          "name": "stdout",
          "text": [
            "\b\b\b\b\b\b\b\b\b\b\b\b\b\b\b\b\b\b\b\b\b\b\b\b\b\b\b\b\b\b\b\b\b\b\b\b\b\b\b\b\b\b\b\b\b\b\b\b\b\b\b\b\b\b\b\b\b\b\b\b\b\b\b\r71/71 [==============================] - 20s 282ms/step - loss: 0.6223 - val_loss: 1.5090\n"
          ]
        }
      ]
    },
    {
      "cell_type": "markdown",
      "metadata": {
        "id": "DAi_i2A-DcJx"
      },
      "source": [
        "Let's compare the training loss and the validation loss."
      ]
    },
    {
      "cell_type": "code",
      "metadata": {
        "id": "baR7J2r9DcJy",
        "colab": {
          "base_uri": "https://localhost:8080/",
          "height": 265
        },
        "outputId": "ed3997de-a8ed-4148-b692-414247209ecd"
      },
      "source": [
        "plt.plot(history.history['loss'])\n",
        "plt.plot(history.history['val_loss'])\n",
        "plt.legend(['train','validation'])\n",
        "plt.show()"
      ],
      "execution_count": null,
      "outputs": [
        {
          "output_type": "display_data",
          "data": {
            "text/plain": [
              "<Figure size 432x288 with 1 Axes>"
            ],
            "image/png": "[encoded data removed]"
          },
          "metadata": {
            "needs_background": "light"
          }
        }
      ]
    },
    {
      "cell_type": "markdown",
      "metadata": {
        "id": "wXoWzlKaDcJy"
      },
      "source": [
        "##### Make Predictions"
      ]
    },
    {
      "cell_type": "markdown",
      "metadata": {
        "id": "YFRxYZSwDcJy"
      },
      "source": [
        "Let's load the saved model to make predictions."
      ]
    },
    {
      "cell_type": "code",
      "source": [
        "preds = model.predict(testX).astype('float16')\n",
        "preds = np.argmax(preds, axis=-1)"
      ],
      "metadata": {
        "id": "inGeTQO5vI3V"
      },
      "execution_count": null,
      "outputs": []
    },
    {
      "cell_type": "code",
      "metadata": {
        "id": "YEXUjwNyDcJz"
      },
      "source": [
        "def get_word(n, tokenizer):\n",
        "    for word, index in tokenizer.word_index.items():\n",
        "        if index == n:\n",
        "            return word\n",
        "    return None"
      ],
      "execution_count": null,
      "outputs": []
    },
    {
      "cell_type": "code",
      "metadata": {
        "id": "c3z_zYtKDcJ0"
      },
      "source": [
        "# convert predictions into text (English)\n",
        "preds_text = []\n",
        "for i in preds:\n",
        "    temp = []\n",
        "    for j in range(len(i)):\n",
        "        t = get_word(i[j], deu_tokenizer)\n",
        "        if j > 0:\n",
        "            if ((t == get_word(i[j-1], deu_tokenizer)) or (t == None)):\n",
        "                temp.append('')\n",
        "            else:\n",
        "                temp.append(t)\n",
        "             \n",
        "        else:\n",
        "            if(t == None):\n",
        "                temp.append('')\n",
        "            else:\n",
        "                temp.append(t)            \n",
        "        \n",
        "    preds_text.append(' '.join(temp))"
      ],
      "execution_count": null,
      "outputs": []
    },
    {
      "cell_type": "code",
      "metadata": {
        "id": "TsyPGJ18DcJ0"
      },
      "source": [
        "pred_df = pd.DataFrame({'predicted' : preds_text, 'deu' : test[:,1], 'actual' : test[:,0]})"
      ],
      "execution_count": null,
      "outputs": []
    },
    {
      "cell_type": "code",
      "metadata": {
        "id": "B5cTuSaJDcJ0"
      },
      "source": [
        "pd.set_option('display.max_colwidth', 200)"
      ],
      "execution_count": null,
      "outputs": []
    },
    {
      "cell_type": "code",
      "metadata": {
        "id": "wmZUR0EKDcJ0",
        "colab": {
          "base_uri": "https://localhost:8080/",
          "height": 520
        },
        "outputId": "d78c4ab4-240c-4f0a-953e-40c3346c9538"
      },
      "source": [
        "pred_df.head(15)"
      ],
      "execution_count": null,
      "outputs": [
        {
          "output_type": "execute_result",
          "data": {
            "text/plain": [
              "                        predicted                         deu  \\\n",
              "0         tom ist dein bruder              tom ist ihr bruder   \n",
              "1                tom sprach                        tom sprach   \n",
              "2               tom war früh                tom war früh dran   \n",
              "3           sie wurde wütend                 sie wurde wütend   \n",
              "4      wann haben sie  gekauft       wann hast du ihn gekauft   \n",
              "5        bitte sie  keine mühe      bitte mach dir keine mühe   \n",
              "6                 gib mir  zu             ruf mich nachher an   \n",
              "7         tom hat maria nicht      tom hat mary nicht gesehen   \n",
              "8   hier ist ihr schreibtisch      hier ist dein schreibtisch   \n",
              "9                tom sah aus            tom sah erschöpft aus   \n",
              "10         ich mag knoblauch                ich mag knoblauch   \n",
              "11          ich verwende das                  ich benutze das   \n",
              "12          ein mann fuhr ein            ein auto fuhr vorbei   \n",
              "13    du kannst sich ausruhen             sie können ausruhen   \n",
              "14          sie arbeiten eis        sie verkaufen süßigkeiten   \n",
              "\n",
              "                  actual  \n",
              "0     tom is her brother  \n",
              "1              tom spoke  \n",
              "2          tom was early  \n",
              "3          she got angry  \n",
              "4    when did you buy it  \n",
              "5     please dont bother  \n",
              "6   give me a call later  \n",
              "7     tom didnt see mary  \n",
              "8        heres your desk  \n",
              "9    tom looked fatigued  \n",
              "10         i like garlic  \n",
              "11            i use this  \n",
              "12         a car went by  \n",
              "13          you can rest  \n",
              "14       they sell candy  "
            ],
            "text/html": [
              "\n",
              "  <div id=\"df-94c1e6c8-6a1f-4461-823e-849aaee829ce\">\n",
              "    <div class=\"colab-df-container\">\n",
              "      <div>\n",
              "<style scoped>\n",
              "    .dataframe tbody tr th:only-of-type {\n",
              "        vertical-align: middle;\n",
              "    }\n",
              "\n",
              "    .dataframe tbody tr th {\n",
              "        vertical-align: top;\n",
              "    }\n",
              "\n",
              "    .dataframe thead th {\n",
              "        text-align: right;\n",
              "    }\n",
              "</style>\n",
              "<table border=\"1\" class=\"dataframe\">\n",
              "  <thead>\n",
              "    <tr style=\"text-align: right;\">\n",
              "      <th></th>\n",
              "      <th>predicted</th>\n",
              "      <th>deu</th>\n",
              "      <th>actual</th>\n",
              "    </tr>\n",
              "  </thead>\n",
              "  <tbody>\n",
              "    <tr>\n",
              "      <th>0</th>\n",
              "      <td>tom ist dein bruder</td>\n",
              "      <td>tom ist ihr bruder</td>\n",
              "      <td>tom is her brother</td>\n",
              "    </tr>\n",
              "    <tr>\n",
              "      <th>1</th>\n",
              "      <td>tom sprach</td>\n",
              "      <td>tom sprach</td>\n",
              "      <td>tom spoke</td>\n",
              "    </tr>\n",
              "    <tr>\n",
              "      <th>2</th>\n",
              "      <td>tom war früh</td>\n",
              "      <td>tom war früh dran</td>\n",
              "      <td>tom was early</td>\n",
              "    </tr>\n",
              "    <tr>\n",
              "      <th>3</th>\n",
              "      <td>sie wurde wütend</td>\n",
              "      <td>sie wurde wütend</td>\n",
              "      <td>she got angry</td>\n",
              "    </tr>\n",
              "    <tr>\n",
              "      <th>4</th>\n",
              "      <td>wann haben sie  gekauft</td>\n",
              "      <td>wann hast du ihn gekauft</td>\n",
              "      <td>when did you buy it</td>\n",
              "    </tr>\n",
              "    <tr>\n",
              "      <th>5</th>\n",
              "      <td>bitte sie  keine mühe</td>\n",
              "      <td>bitte mach dir keine mühe</td>\n",
              "      <td>please dont bother</td>\n",
              "    </tr>\n",
              "    <tr>\n",
              "      <th>6</th>\n",
              "      <td>gib mir  zu</td>\n",
              "      <td>ruf mich nachher an</td>\n",
              "      <td>give me a call later</td>\n",
              "    </tr>\n",
              "    <tr>\n",
              "      <th>7</th>\n",
              "      <td>tom hat maria nicht</td>\n",
              "      <td>tom hat mary nicht gesehen</td>\n",
              "      <td>tom didnt see mary</td>\n",
              "    </tr>\n",
              "    <tr>\n",
              "      <th>8</th>\n",
              "      <td>hier ist ihr schreibtisch</td>\n",
              "      <td>hier ist dein schreibtisch</td>\n",
              "      <td>heres your desk</td>\n",
              "    </tr>\n",
              "    <tr>\n",
              "      <th>9</th>\n",
              "      <td>tom sah aus</td>\n",
              "      <td>tom sah erschöpft aus</td>\n",
              "      <td>tom looked fatigued</td>\n",
              "    </tr>\n",
              "    <tr>\n",
              "      <th>10</th>\n",
              "      <td>ich mag knoblauch</td>\n",
              "      <td>ich mag knoblauch</td>\n",
              "      <td>i like garlic</td>\n",
              "    </tr>\n",
              "    <tr>\n",
              "      <th>11</th>\n",
              "      <td>ich verwende das</td>\n",
              "      <td>ich benutze das</td>\n",
              "      <td>i use this</td>\n",
              "    </tr>\n",
              "    <tr>\n",
              "      <th>12</th>\n",
              "      <td>ein mann fuhr ein</td>\n",
              "      <td>ein auto fuhr vorbei</td>\n",
              "      <td>a car went by</td>\n",
              "    </tr>\n",
              "    <tr>\n",
              "      <th>13</th>\n",
              "      <td>du kannst sich ausruhen</td>\n",
              "      <td>sie können ausruhen</td>\n",
              "      <td>you can rest</td>\n",
              "    </tr>\n",
              "    <tr>\n",
              "      <th>14</th>\n",
              "      <td>sie arbeiten eis</td>\n",
              "      <td>sie verkaufen süßigkeiten</td>\n",
              "      <td>they sell candy</td>\n",
              "    </tr>\n",
              "  </tbody>\n",
              "</table>\n",
              "</div>\n",
              "      <button class=\"colab-df-convert\" onclick=\"convertToInteractive('df-94c1e6c8-6a1f-4461-823e-849aaee829ce')\"\n",
              "              title=\"Convert this dataframe to an interactive table.\"\n",
              "              style=\"display:none;\">\n",
              "        \n",
              "  <svg xmlns=\"http://www.w3.org/2000/svg\" height=\"24px\"viewBox=\"0 0 24 24\"\n",
              "       width=\"24px\">\n",
              "    <path d=\"M0 0h24v24H0V0z\" fill=\"none\"/>\n",
              "    <path d=\"M18.56 5.44l.94 2.06.94-2.06 2.06-.94-2.06-.94-.94-2.06-.94 2.06-2.06.94zm-11 1L8.5 8.5l.94-2.06 2.06-.94-2.06-.94L8.5 2.5l-.94 2.06-2.06.94zm10 10l.94 2.06.94-2.06 2.06-.94-2.06-.94-.94-2.06-.94 2.06-2.06.94z\"/><path d=\"M17.41 7.96l-1.37-1.37c-.4-.4-.92-.59-1.43-.59-.52 0-1.04.2-1.43.59L10.3 9.45l-7.72 7.72c-.78.78-.78 2.05 0 2.83L4 21.41c.39.39.9.59 1.41.59.51 0 1.02-.2 1.41-.59l7.78-7.78 2.81-2.81c.8-.78.8-2.07 0-2.86zM5.41 20L4 18.59l7.72-7.72 1.47 1.35L5.41 20z\"/>\n",
              "  </svg>\n",
              "      </button>\n",
              "      \n",
              "  <style>\n",
              "    .colab-df-container {\n",
              "      display:flex;\n",
              "      flex-wrap:wrap;\n",
              "      gap: 12px;\n",
              "    }\n",
              "\n",
              "    .colab-df-convert {\n",
              "      background-color: #E8F0FE;\n",
              "      border: none;\n",
              "      border-radius: 50%;\n",
              "      cursor: pointer;\n",
              "      display: none;\n",
              "      fill: #1967D2;\n",
              "      height: 32px;\n",
              "      padding: 0 0 0 0;\n",
              "      width: 32px;\n",
              "    }\n",
              "\n",
              "    .colab-df-convert:hover {\n",
              "      background-color: #E2EBFA;\n",
              "      box-shadow: 0px 1px 2px rgba(60, 64, 67, 0.3), 0px 1px 3px 1px rgba(60, 64, 67, 0.15);\n",
              "      fill: #174EA6;\n",
              "    }\n",
              "\n",
              "    [theme=dark] .colab-df-convert {\n",
              "      background-color: #3B4455;\n",
              "      fill: #D2E3FC;\n",
              "    }\n",
              "\n",
              "    [theme=dark] .colab-df-convert:hover {\n",
              "      background-color: #434B5C;\n",
              "      box-shadow: 0px 1px 3px 1px rgba(0, 0, 0, 0.15);\n",
              "      filter: drop-shadow(0px 1px 2px rgba(0, 0, 0, 0.3));\n",
              "      fill: #FFFFFF;\n",
              "    }\n",
              "  </style>\n",
              "\n",
              "      <script>\n",
              "        const buttonEl =\n",
              "          document.querySelector('#df-94c1e6c8-6a1f-4461-823e-849aaee829ce button.colab-df-convert');\n",
              "        buttonEl.style.display =\n",
              "          google.colab.kernel.accessAllowed ? 'block' : 'none';\n",
              "\n",
              "        async function convertToInteractive(key) {\n",
              "          const element = document.querySelector('#df-94c1e6c8-6a1f-4461-823e-849aaee829ce');\n",
              "          const dataTable =\n",
              "            await google.colab.kernel.invokeFunction('convertToInteractive',\n",
              "                                                     [key], {});\n",
              "          if (!dataTable) return;\n",
              "\n",
              "          const docLinkHtml = 'Like what you see? Visit the ' +\n",
              "            '<a target=\"_blank\" href=https://colab.research.google.com/notebooks/data_table.ipynb>data table notebook</a>'\n",
              "            + ' to learn more about interactive tables.';\n",
              "          element.innerHTML = '';\n",
              "          dataTable['output_type'] = 'display_data';\n",
              "          await google.colab.output.renderOutput(dataTable, element);\n",
              "          const docLink = document.createElement('div');\n",
              "          docLink.innerHTML = docLinkHtml;\n",
              "          element.appendChild(docLink);\n",
              "        }\n",
              "      </script>\n",
              "    </div>\n",
              "  </div>\n",
              "  "
            ]
          },
          "metadata": {},
          "execution_count": 42
        }
      ]
    },
    {
      "cell_type": "code",
      "metadata": {
        "id": "r_-4zhpiDcJ1",
        "colab": {
          "base_uri": "https://localhost:8080/",
          "height": 520
        },
        "outputId": "b751ec0b-b650-4237-faba-c72ffb511049"
      },
      "source": [
        "pred_df.tail(15)"
      ],
      "execution_count": null,
      "outputs": [
        {
          "output_type": "execute_result",
          "data": {
            "text/plain": [
              "                           predicted                             deu  \\\n",
              "4985            möchtet sie eis                      möchtest du eis   \n",
              "4986                ist was das                    alles ist möglich   \n",
              "4987          gefällt sie diese                    meinen sie dieses   \n",
              "4988            ich denke nicht       ich verstehe nicht warum nicht   \n",
              "4989  tom hat gegen die verlassen             tom zerbrach die tasse   \n",
              "4990       es wird nicht schaden               es wird nicht schaden   \n",
              "4991    ich hasse diesen teppich              ich hasse diesen laden   \n",
              "4992  ich kann ich nicht ertragen         ich kann es nicht ertragen   \n",
              "4993           wir werden es gut               uns wird es gut gehen   \n",
              "4994       können sie mich hören               können sie mich hören   \n",
              "4995            tom hörte nicht           tom war nicht am schreiben   \n",
              "4996    ich bin ein bisschen müde          ich bin ein bisschen müde   \n",
              "4997               die zeit ist                      die zeit ist um   \n",
              "4998      können sie das glauben               könnt ihr das glauben   \n",
              "4999               ich habe tom                       ich schlug tom   \n",
              "\n",
              "                    actual  \n",
              "4985    would you like ice  \n",
              "4986  anything is possible  \n",
              "4987  do you mean this one  \n",
              "4988    i dont see why not  \n",
              "4989     tom broke the cup  \n",
              "4990          it wont hurt  \n",
              "4991     i hate this store  \n",
              "4992       i cant stand it  \n",
              "4993          well be fine  \n",
              "4994       can you hear me  \n",
              "4995     tom wasnt writing  \n",
              "4996     im a little tired  \n",
              "4997            time is up  \n",
              "4998  can you believe that  \n",
              "4999             i hit tom  "
            ],
            "text/html": [
              "\n",
              "  <div id=\"df-093e9308-3b57-41b4-bc37-2935030309a9\">\n",
              "    <div class=\"colab-df-container\">\n",
              "      <div>\n",
              "<style scoped>\n",
              "    .dataframe tbody tr th:only-of-type {\n",
              "        vertical-align: middle;\n",
              "    }\n",
              "\n",
              "    .dataframe tbody tr th {\n",
              "        vertical-align: top;\n",
              "    }\n",
              "\n",
              "    .dataframe thead th {\n",
              "        text-align: right;\n",
              "    }\n",
              "</style>\n",
              "<table border=\"1\" class=\"dataframe\">\n",
              "  <thead>\n",
              "    <tr style=\"text-align: right;\">\n",
              "      <th></th>\n",
              "      <th>predicted</th>\n",
              "      <th>deu</th>\n",
              "      <th>actual</th>\n",
              "    </tr>\n",
              "  </thead>\n",
              "  <tbody>\n",
              "    <tr>\n",
              "      <th>4985</th>\n",
              "      <td>möchtet sie eis</td>\n",
              "      <td>möchtest du eis</td>\n",
              "      <td>would you like ice</td>\n",
              "    </tr>\n",
              "    <tr>\n",
              "      <th>4986</th>\n",
              "      <td>ist was das</td>\n",
              "      <td>alles ist möglich</td>\n",
              "      <td>anything is possible</td>\n",
              "    </tr>\n",
              "    <tr>\n",
              "      <th>4987</th>\n",
              "      <td>gefällt sie diese</td>\n",
              "      <td>meinen sie dieses</td>\n",
              "      <td>do you mean this one</td>\n",
              "    </tr>\n",
              "    <tr>\n",
              "      <th>4988</th>\n",
              "      <td>ich denke nicht</td>\n",
              "      <td>ich verstehe nicht warum nicht</td>\n",
              "      <td>i dont see why not</td>\n",
              "    </tr>\n",
              "    <tr>\n",
              "      <th>4989</th>\n",
              "      <td>tom hat gegen die verlassen</td>\n",
              "      <td>tom zerbrach die tasse</td>\n",
              "      <td>tom broke the cup</td>\n",
              "    </tr>\n",
              "    <tr>\n",
              "      <th>4990</th>\n",
              "      <td>es wird nicht schaden</td>\n",
              "      <td>es wird nicht schaden</td>\n",
              "      <td>it wont hurt</td>\n",
              "    </tr>\n",
              "    <tr>\n",
              "      <th>4991</th>\n",
              "      <td>ich hasse diesen teppich</td>\n",
              "      <td>ich hasse diesen laden</td>\n",
              "      <td>i hate this store</td>\n",
              "    </tr>\n",
              "    <tr>\n",
              "      <th>4992</th>\n",
              "      <td>ich kann ich nicht ertragen</td>\n",
              "      <td>ich kann es nicht ertragen</td>\n",
              "      <td>i cant stand it</td>\n",
              "    </tr>\n",
              "    <tr>\n",
              "      <th>4993</th>\n",
              "      <td>wir werden es gut</td>\n",
              "      <td>uns wird es gut gehen</td>\n",
              "      <td>well be fine</td>\n",
              "    </tr>\n",
              "    <tr>\n",
              "      <th>4994</th>\n",
              "      <td>können sie mich hören</td>\n",
              "      <td>können sie mich hören</td>\n",
              "      <td>can you hear me</td>\n",
              "    </tr>\n",
              "    <tr>\n",
              "      <th>4995</th>\n",
              "      <td>tom hörte nicht</td>\n",
              "      <td>tom war nicht am schreiben</td>\n",
              "      <td>tom wasnt writing</td>\n",
              "    </tr>\n",
              "    <tr>\n",
              "      <th>4996</th>\n",
              "      <td>ich bin ein bisschen müde</td>\n",
              "      <td>ich bin ein bisschen müde</td>\n",
              "      <td>im a little tired</td>\n",
              "    </tr>\n",
              "    <tr>\n",
              "      <th>4997</th>\n",
              "      <td>die zeit ist</td>\n",
              "      <td>die zeit ist um</td>\n",
              "      <td>time is up</td>\n",
              "    </tr>\n",
              "    <tr>\n",
              "      <th>4998</th>\n",
              "      <td>können sie das glauben</td>\n",
              "      <td>könnt ihr das glauben</td>\n",
              "      <td>can you believe that</td>\n",
              "    </tr>\n",
              "    <tr>\n",
              "      <th>4999</th>\n",
              "      <td>ich habe tom</td>\n",
              "      <td>ich schlug tom</td>\n",
              "      <td>i hit tom</td>\n",
              "    </tr>\n",
              "  </tbody>\n",
              "</table>\n",
              "</div>\n",
              "      <button class=\"colab-df-convert\" onclick=\"convertToInteractive('df-093e9308-3b57-41b4-bc37-2935030309a9')\"\n",
              "              title=\"Convert this dataframe to an interactive table.\"\n",
              "              style=\"display:none;\">\n",
              "        \n",
              "  <svg xmlns=\"http://www.w3.org/2000/svg\" height=\"24px\"viewBox=\"0 0 24 24\"\n",
              "       width=\"24px\">\n",
              "    <path d=\"M0 0h24v24H0V0z\" fill=\"none\"/>\n",
              "    <path d=\"M18.56 5.44l.94 2.06.94-2.06 2.06-.94-2.06-.94-.94-2.06-.94 2.06-2.06.94zm-11 1L8.5 8.5l.94-2.06 2.06-.94-2.06-.94L8.5 2.5l-.94 2.06-2.06.94zm10 10l.94 2.06.94-2.06 2.06-.94-2.06-.94-.94-2.06-.94 2.06-2.06.94z\"/><path d=\"M17.41 7.96l-1.37-1.37c-.4-.4-.92-.59-1.43-.59-.52 0-1.04.2-1.43.59L10.3 9.45l-7.72 7.72c-.78.78-.78 2.05 0 2.83L4 21.41c.39.39.9.59 1.41.59.51 0 1.02-.2 1.41-.59l7.78-7.78 2.81-2.81c.8-.78.8-2.07 0-2.86zM5.41 20L4 18.59l7.72-7.72 1.47 1.35L5.41 20z\"/>\n",
              "  </svg>\n",
              "      </button>\n",
              "      \n",
              "  <style>\n",
              "    .colab-df-container {\n",
              "      display:flex;\n",
              "      flex-wrap:wrap;\n",
              "      gap: 12px;\n",
              "    }\n",
              "\n",
              "    .colab-df-convert {\n",
              "      background-color: #E8F0FE;\n",
              "      border: none;\n",
              "      border-radius: 50%;\n",
              "      cursor: pointer;\n",
              "      display: none;\n",
              "      fill: #1967D2;\n",
              "      height: 32px;\n",
              "      padding: 0 0 0 0;\n",
              "      width: 32px;\n",
              "    }\n",
              "\n",
              "    .colab-df-convert:hover {\n",
              "      background-color: #E2EBFA;\n",
              "      box-shadow: 0px 1px 2px rgba(60, 64, 67, 0.3), 0px 1px 3px 1px rgba(60, 64, 67, 0.15);\n",
              "      fill: #174EA6;\n",
              "    }\n",
              "\n",
              "    [theme=dark] .colab-df-convert {\n",
              "      background-color: #3B4455;\n",
              "      fill: #D2E3FC;\n",
              "    }\n",
              "\n",
              "    [theme=dark] .colab-df-convert:hover {\n",
              "      background-color: #434B5C;\n",
              "      box-shadow: 0px 1px 3px 1px rgba(0, 0, 0, 0.15);\n",
              "      filter: drop-shadow(0px 1px 2px rgba(0, 0, 0, 0.3));\n",
              "      fill: #FFFFFF;\n",
              "    }\n",
              "  </style>\n",
              "\n",
              "      <script>\n",
              "        const buttonEl =\n",
              "          document.querySelector('#df-093e9308-3b57-41b4-bc37-2935030309a9 button.colab-df-convert');\n",
              "        buttonEl.style.display =\n",
              "          google.colab.kernel.accessAllowed ? 'block' : 'none';\n",
              "\n",
              "        async function convertToInteractive(key) {\n",
              "          const element = document.querySelector('#df-093e9308-3b57-41b4-bc37-2935030309a9');\n",
              "          const dataTable =\n",
              "            await google.colab.kernel.invokeFunction('convertToInteractive',\n",
              "                                                     [key], {});\n",
              "          if (!dataTable) return;\n",
              "\n",
              "          const docLinkHtml = 'Like what you see? Visit the ' +\n",
              "            '<a target=\"_blank\" href=https://colab.research.google.com/notebooks/data_table.ipynb>data table notebook</a>'\n",
              "            + ' to learn more about interactive tables.';\n",
              "          element.innerHTML = '';\n",
              "          dataTable['output_type'] = 'display_data';\n",
              "          await google.colab.output.renderOutput(dataTable, element);\n",
              "          const docLink = document.createElement('div');\n",
              "          docLink.innerHTML = docLinkHtml;\n",
              "          element.appendChild(docLink);\n",
              "        }\n",
              "      </script>\n",
              "    </div>\n",
              "  </div>\n",
              "  "
            ]
          },
          "metadata": {},
          "execution_count": 43
        }
      ]
    },
    {
      "cell_type": "code",
      "metadata": {
        "id": "fbKGOwHyDcJ1",
        "colab": {
          "base_uri": "https://localhost:8080/",
          "height": 520
        },
        "outputId": "3f1da3d1-897c-4da0-8d26-12cd1a96424c"
      },
      "source": [
        "pred_df.sample(15)"
      ],
      "execution_count": null,
      "outputs": [
        {
          "output_type": "execute_result",
          "data": {
            "text/plain": [
              "                          predicted                                 deu  \\\n",
              "4095      sie bist vorbereitet                      du bist vorbereitet   \n",
              "3287  kann ich mich zurückrufen               kann ich dich zurückrufen   \n",
              "1874      ich ging zu fuß schule     ich bin zu fuß zur schule gegangen   \n",
              "3458     es gibt keine hoffnung                  es gibt keinen zweifel   \n",
              "1614    sie bist introvertiert                   ihr seid introvertiert   \n",
              "1613               das ist was                  das ist es was tom sagt   \n",
              "3862     was haben sie gefunden                  was haben sie gefunden   \n",
              "4636            ich habe pizza                  ich habe pizza bestellt   \n",
              "4154       ich liebe dich nicht                     ich liebe sie nicht   \n",
              "1932     kann ich dich sprechen                   kann ich sie sprechen   \n",
              "1491             tom war krank                        tom hat erbrochen   \n",
              "1118     ich habe dich gerettet                   ich habe sie gerettet   \n",
              "283           du bist verrückt                      sie sind wahnsinnig   \n",
              "4083  tom wird es nicht bemerken           tom wird es nicht mitkriegen   \n",
              "4135           das könnte sich                         das kann stimmen   \n",
              "\n",
              "                   actual  \n",
              "4095       youre prepared  \n",
              "3287  can i call you back  \n",
              "1874   i walked to school  \n",
              "3458      theres no doubt  \n",
              "1614    youre introverted  \n",
              "1613  thats what tom says  \n",
              "3862   what did they find  \n",
              "4636      i ordered pizza  \n",
              "4154      i dont love you  \n",
              "1932   may i speak to you  \n",
              "1491         tom was sick  \n",
              "1118          i saved you  \n",
              "283          youre insane  \n",
              "4083      tom wont notice  \n",
              "4135  this may be correct  "
            ],
            "text/html": [
              "\n",
              "  <div id=\"df-c9b29093-6d02-4368-ad7f-c1b4ef29c1d7\">\n",
              "    <div class=\"colab-df-container\">\n",
              "      <div>\n",
              "<style scoped>\n",
              "    .dataframe tbody tr th:only-of-type {\n",
              "        vertical-align: middle;\n",
              "    }\n",
              "\n",
              "    .dataframe tbody tr th {\n",
              "        vertical-align: top;\n",
              "    }\n",
              "\n",
              "    .dataframe thead th {\n",
              "        text-align: right;\n",
              "    }\n",
              "</style>\n",
              "<table border=\"1\" class=\"dataframe\">\n",
              "  <thead>\n",
              "    <tr style=\"text-align: right;\">\n",
              "      <th></th>\n",
              "      <th>predicted</th>\n",
              "      <th>deu</th>\n",
              "      <th>actual</th>\n",
              "    </tr>\n",
              "  </thead>\n",
              "  <tbody>\n",
              "    <tr>\n",
              "      <th>4095</th>\n",
              "      <td>sie bist vorbereitet</td>\n",
              "      <td>du bist vorbereitet</td>\n",
              "      <td>youre prepared</td>\n",
              "    </tr>\n",
              "    <tr>\n",
              "      <th>3287</th>\n",
              "      <td>kann ich mich zurückrufen</td>\n",
              "      <td>kann ich dich zurückrufen</td>\n",
              "      <td>can i call you back</td>\n",
              "    </tr>\n",
              "    <tr>\n",
              "      <th>1874</th>\n",
              "      <td>ich ging zu fuß schule</td>\n",
              "      <td>ich bin zu fuß zur schule gegangen</td>\n",
              "      <td>i walked to school</td>\n",
              "    </tr>\n",
              "    <tr>\n",
              "      <th>3458</th>\n",
              "      <td>es gibt keine hoffnung</td>\n",
              "      <td>es gibt keinen zweifel</td>\n",
              "      <td>theres no doubt</td>\n",
              "    </tr>\n",
              "    <tr>\n",
              "      <th>1614</th>\n",
              "      <td>sie bist introvertiert</td>\n",
              "      <td>ihr seid introvertiert</td>\n",
              "      <td>youre introverted</td>\n",
              "    </tr>\n",
              "    <tr>\n",
              "      <th>1613</th>\n",
              "      <td>das ist was</td>\n",
              "      <td>das ist es was tom sagt</td>\n",
              "      <td>thats what tom says</td>\n",
              "    </tr>\n",
              "    <tr>\n",
              "      <th>3862</th>\n",
              "      <td>was haben sie gefunden</td>\n",
              "      <td>was haben sie gefunden</td>\n",
              "      <td>what did they find</td>\n",
              "    </tr>\n",
              "    <tr>\n",
              "      <th>4636</th>\n",
              "      <td>ich habe pizza</td>\n",
              "      <td>ich habe pizza bestellt</td>\n",
              "      <td>i ordered pizza</td>\n",
              "    </tr>\n",
              "    <tr>\n",
              "      <th>4154</th>\n",
              "      <td>ich liebe dich nicht</td>\n",
              "      <td>ich liebe sie nicht</td>\n",
              "      <td>i dont love you</td>\n",
              "    </tr>\n",
              "    <tr>\n",
              "      <th>1932</th>\n",
              "      <td>kann ich dich sprechen</td>\n",
              "      <td>kann ich sie sprechen</td>\n",
              "      <td>may i speak to you</td>\n",
              "    </tr>\n",
              "    <tr>\n",
              "      <th>1491</th>\n",
              "      <td>tom war krank</td>\n",
              "      <td>tom hat erbrochen</td>\n",
              "      <td>tom was sick</td>\n",
              "    </tr>\n",
              "    <tr>\n",
              "      <th>1118</th>\n",
              "      <td>ich habe dich gerettet</td>\n",
              "      <td>ich habe sie gerettet</td>\n",
              "      <td>i saved you</td>\n",
              "    </tr>\n",
              "    <tr>\n",
              "      <th>283</th>\n",
              "      <td>du bist verrückt</td>\n",
              "      <td>sie sind wahnsinnig</td>\n",
              "      <td>youre insane</td>\n",
              "    </tr>\n",
              "    <tr>\n",
              "      <th>4083</th>\n",
              "      <td>tom wird es nicht bemerken</td>\n",
              "      <td>tom wird es nicht mitkriegen</td>\n",
              "      <td>tom wont notice</td>\n",
              "    </tr>\n",
              "    <tr>\n",
              "      <th>4135</th>\n",
              "      <td>das könnte sich</td>\n",
              "      <td>das kann stimmen</td>\n",
              "      <td>this may be correct</td>\n",
              "    </tr>\n",
              "  </tbody>\n",
              "</table>\n",
              "</div>\n",
              "      <button class=\"colab-df-convert\" onclick=\"convertToInteractive('df-c9b29093-6d02-4368-ad7f-c1b4ef29c1d7')\"\n",
              "              title=\"Convert this dataframe to an interactive table.\"\n",
              "              style=\"display:none;\">\n",
              "        \n",
              "  <svg xmlns=\"http://www.w3.org/2000/svg\" height=\"24px\"viewBox=\"0 0 24 24\"\n",
              "       width=\"24px\">\n",
              "    <path d=\"M0 0h24v24H0V0z\" fill=\"none\"/>\n",
              "    <path d=\"M18.56 5.44l.94 2.06.94-2.06 2.06-.94-2.06-.94-.94-2.06-.94 2.06-2.06.94zm-11 1L8.5 8.5l.94-2.06 2.06-.94-2.06-.94L8.5 2.5l-.94 2.06-2.06.94zm10 10l.94 2.06.94-2.06 2.06-.94-2.06-.94-.94-2.06-.94 2.06-2.06.94z\"/><path d=\"M17.41 7.96l-1.37-1.37c-.4-.4-.92-.59-1.43-.59-.52 0-1.04.2-1.43.59L10.3 9.45l-7.72 7.72c-.78.78-.78 2.05 0 2.83L4 21.41c.39.39.9.59 1.41.59.51 0 1.02-.2 1.41-.59l7.78-7.78 2.81-2.81c.8-.78.8-2.07 0-2.86zM5.41 20L4 18.59l7.72-7.72 1.47 1.35L5.41 20z\"/>\n",
              "  </svg>\n",
              "      </button>\n",
              "      \n",
              "  <style>\n",
              "    .colab-df-container {\n",
              "      display:flex;\n",
              "      flex-wrap:wrap;\n",
              "      gap: 12px;\n",
              "    }\n",
              "\n",
              "    .colab-df-convert {\n",
              "      background-color: #E8F0FE;\n",
              "      border: none;\n",
              "      border-radius: 50%;\n",
              "      cursor: pointer;\n",
              "      display: none;\n",
              "      fill: #1967D2;\n",
              "      height: 32px;\n",
              "      padding: 0 0 0 0;\n",
              "      width: 32px;\n",
              "    }\n",
              "\n",
              "    .colab-df-convert:hover {\n",
              "      background-color: #E2EBFA;\n",
              "      box-shadow: 0px 1px 2px rgba(60, 64, 67, 0.3), 0px 1px 3px 1px rgba(60, 64, 67, 0.15);\n",
              "      fill: #174EA6;\n",
              "    }\n",
              "\n",
              "    [theme=dark] .colab-df-convert {\n",
              "      background-color: #3B4455;\n",
              "      fill: #D2E3FC;\n",
              "    }\n",
              "\n",
              "    [theme=dark] .colab-df-convert:hover {\n",
              "      background-color: #434B5C;\n",
              "      box-shadow: 0px 1px 3px 1px rgba(0, 0, 0, 0.15);\n",
              "      filter: drop-shadow(0px 1px 2px rgba(0, 0, 0, 0.3));\n",
              "      fill: #FFFFFF;\n",
              "    }\n",
              "  </style>\n",
              "\n",
              "      <script>\n",
              "        const buttonEl =\n",
              "          document.querySelector('#df-c9b29093-6d02-4368-ad7f-c1b4ef29c1d7 button.colab-df-convert');\n",
              "        buttonEl.style.display =\n",
              "          google.colab.kernel.accessAllowed ? 'block' : 'none';\n",
              "\n",
              "        async function convertToInteractive(key) {\n",
              "          const element = document.querySelector('#df-c9b29093-6d02-4368-ad7f-c1b4ef29c1d7');\n",
              "          const dataTable =\n",
              "            await google.colab.kernel.invokeFunction('convertToInteractive',\n",
              "                                                     [key], {});\n",
              "          if (!dataTable) return;\n",
              "\n",
              "          const docLinkHtml = 'Like what you see? Visit the ' +\n",
              "            '<a target=\"_blank\" href=https://colab.research.google.com/notebooks/data_table.ipynb>data table notebook</a>'\n",
              "            + ' to learn more about interactive tables.';\n",
              "          element.innerHTML = '';\n",
              "          dataTable['output_type'] = 'display_data';\n",
              "          await google.colab.output.renderOutput(dataTable, element);\n",
              "          const docLink = document.createElement('div');\n",
              "          docLink.innerHTML = docLinkHtml;\n",
              "          element.appendChild(docLink);\n",
              "        }\n",
              "      </script>\n",
              "    </div>\n",
              "  </div>\n",
              "  "
            ]
          },
          "metadata": {},
          "execution_count": 44
        }
      ]
    },
    {
      "cell_type": "markdown",
      "source": [
        "# Conclusiones"
      ],
      "metadata": {
        "id": "1BoyhblM0nJP"
      }
    },
    {
      "cell_type": "markdown",
      "source": [
        "Se crearon correctamente las predicciones para la traduccion de ingles a aleman, incluso mejor que para español - ingles, ya que no se observa overfitting y en general hay un descenso mas importante en el loss. En este caso se probo con 50000 lineas para evitar el mismo problema de OOM, y para obtener un vistazo general de la manera en que trabaja este modelo, que por lo que experimentamos cumple su función de una manera correcta, pero que requiere mucha capacidad computacional. "
      ],
      "metadata": {
        "id": "h-NG3R5yz9uq"
      }
    }
  ]
}