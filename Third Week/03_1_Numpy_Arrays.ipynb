{
  "cells": [
    {
      "cell_type": "markdown",
      "metadata": {
        "id": "view-in-github",
        "colab_type": "text"
      },
      "source": [
        "<a href=\"https://colab.research.google.com/github/macanoso/Deep-Learning/blob/main/Third%20Week/03_1_Numpy_Arrays.ipynb\" target=\"_parent\"><img src=\"https://colab.research.google.com/assets/colab-badge.svg\" alt=\"Open In Colab\"/></a>"
      ]
    },
    {
      "cell_type": "markdown",
      "metadata": {
        "id": "1D7kZp4L1DRA"
      },
      "source": [
        "# NUMPY\n",
        "\n",
        "Most of the data analysis which needs data to be stored in memory uses Numpy\n",
        "\n",
        "Why not lists? memory memory memory"
      ]
    },
    {
      "cell_type": "markdown",
      "metadata": {
        "id": "eBXYrm5A1DRK"
      },
      "source": [
        "## Numpy Arrays\n",
        "\n",
        "All elements of a NumPy array should be of same type. Considering the mathematical operations that can be performed on them. It would not be possible with heterogeneous data sets\n",
        "\n",
        "It also provides a mechanism of specifying the data types of the contents, which allows further optimisation of the code."
      ]
    },
    {
      "cell_type": "code",
      "execution_count": 8,
      "metadata": {
        "ExecuteTime": {
          "end_time": "2021-10-16T16:13:40.734240Z",
          "start_time": "2021-10-16T16:13:40.716292Z"
        },
        "colab": {
          "base_uri": "https://localhost:8080/"
        },
        "id": "ONd2M0jh1DRM",
        "outputId": "a85fa635-d288-47f1-a59f-5b08fc077607"
      },
      "outputs": [
        {
          "output_type": "stream",
          "name": "stdout",
          "text": [
            "tamaño de la lista: 168\n",
            "tamaño del np array: 48\n"
          ]
        }
      ],
      "source": [
        "import numpy as np\n",
        "import sys\n",
        "\n",
        "mylst = [1,2,3,4,5,6]\n",
        "numpy_arr = np.array([1,2,3,4,5,6])\n",
        "\n",
        "sizeof_mylst = sys.getsizeof(1) * len(mylst)           \n",
        "sizeof_numpy_arr = numpy_arr.itemsize * numpy_arr.size\n",
        "\n",
        "print('tamaño de la lista:', sizeof_mylst)\n",
        "print('tamaño del np array:', sizeof_numpy_arr)"
      ]
    },
    {
      "cell_type": "code",
      "execution_count": 9,
      "metadata": {
        "ExecuteTime": {
          "end_time": "2021-10-16T16:15:19.347200Z",
          "start_time": "2021-10-16T16:15:19.326258Z"
        },
        "colab": {
          "base_uri": "https://localhost:8080/"
        },
        "id": "yLK9hlqS1DRO",
        "outputId": "2d6bd08f-2569-4fc7-b465-145b27dbbda5"
      },
      "outputs": [
        {
          "output_type": "stream",
          "name": "stdout",
          "text": [
            "6\n",
            "12\n"
          ]
        }
      ],
      "source": [
        "# For NumPy arrays elements limited to 1 Byte / 8 Bits\n",
        "numpy_arr2 = np.array([1,2,3,4,5,6], dtype = np.int8)\n",
        "sizeof_numpy_arr2 = numpy_arr2.itemsize * numpy_arr.size   # Size = 6\n",
        "print(sizeof_numpy_arr2)\n",
        "\n",
        "# For NumPy arrays elements limited to 2 Bytes / 16 Bits\n",
        "numpy_arr3 = np.array([1,2,3,4,5,6], dtype = np.int16)\n",
        "sizeof_numpy_arr3 = numpy_arr3.itemsize * numpy_arr.size   # Size = 12\n",
        "print(sizeof_numpy_arr3)\n",
        "\n"
      ]
    },
    {
      "cell_type": "code",
      "execution_count": 10,
      "metadata": {
        "ExecuteTime": {
          "end_time": "2021-10-03T17:12:47.834502Z",
          "start_time": "2021-10-03T17:12:47.819542Z"
        },
        "colab": {
          "base_uri": "https://localhost:8080/"
        },
        "id": "wNkn1wvs1DRQ",
        "outputId": "02a67b35-3c74-4415-8e1a-d0b620f6c505"
      },
      "outputs": [
        {
          "output_type": "stream",
          "name": "stdout",
          "text": [
            "324\n",
            "160\n"
          ]
        }
      ],
      "source": [
        "mylst = [\"Hello\", \"World\", \"Students\", \"of\", \"Deep\", \"Learning\"]\n",
        "numpy_arr = np.array([\"Hello\", \"World\", \"of\", \"Deep\", \"Learning\"])\n",
        "\n",
        "sizeof_mylst = sys.getsizeof(\"Hello\") * len(mylst)     # Size  > 300\n",
        "sizeof_numpy_arr = numpy_arr.itemsize * numpy_arr.size   # Size = 80\n",
        "\n",
        "print(sizeof_mylst)\n",
        "print(sizeof_numpy_arr)"
      ]
    },
    {
      "cell_type": "code",
      "execution_count": 11,
      "metadata": {
        "colab": {
          "base_uri": "https://localhost:8080/"
        },
        "id": "O23v04ey1DRR",
        "outputId": "48df83af-0296-4640-983c-c216f7b8928e"
      },
      "outputs": [
        {
          "output_type": "stream",
          "name": "stdout",
          "text": [
            "168\n",
            "56\n"
          ]
        }
      ],
      "source": [
        "mylst = [1.1, 1.2,1.3424242, 1.436654646546, 454353.1232131, 32434353.324324, 1234.2321]\n",
        "numpy_arr = np.array([1.1, 1.2,1.3424242, 1.436654646546, 454353.1232131, 32434353.324324, 1234.2321])\n",
        "\n",
        "sizeof_mylst = sys.getsizeof(12345.232343) * len(mylst)           # Size  = 196\n",
        "sizeof_numpy_arr = numpy_arr.itemsize * numpy_arr.size   # Size = 56\n",
        "\n",
        "print(sizeof_mylst)\n",
        "print(sizeof_numpy_arr)"
      ]
    },
    {
      "cell_type": "markdown",
      "metadata": {
        "id": "SUn2At3x1DRS"
      },
      "source": [
        "An n-dimension array is generally used for creating a matrix or tensors.\n",
        "\n",
        "The dimensions of the array can be changed at runtime as long as the multiplicity factor produces the same number of elements: A 2 * 5 matrix can be converted into 5 * 2 and a 1 * 4 into 2 * 2. This can be done by calling the NumPy .reshape(...) function."
      ]
    },
    {
      "cell_type": "code",
      "execution_count": 12,
      "metadata": {
        "ExecuteTime": {
          "end_time": "2021-10-16T16:18:32.899685Z",
          "start_time": "2021-10-16T16:18:32.874747Z"
        },
        "colab": {
          "base_uri": "https://localhost:8080/"
        },
        "id": "38uV58WV1DRT",
        "outputId": "09075669-f2a4-4c1d-bb9a-da7e468a27a6"
      },
      "outputs": [
        {
          "output_type": "stream",
          "name": "stdout",
          "text": [
            "2x5: [[ 1  2  3  4  5]\n",
            " [ 6  7  8  9 10]]\n",
            "5x2: [[ 1  2]\n",
            " [ 3  4]\n",
            " [ 5  6]\n",
            " [ 7  8]\n",
            " [ 9 10]]\n",
            "2x2: [[1 2]\n",
            " [3 4]]\n"
          ]
        }
      ],
      "source": [
        "import numpy as np\n",
        "# A 2 * 5 matrix\n",
        "np_md_arr = np.array ( [ \n",
        "                        [1, 2, 3, 4, 5],\n",
        "                        [6, 7, 8, 9, 10]\n",
        "                        ] )\n",
        "\n",
        "# Creates a 5 * 2 Matrix\n",
        "# [ [1,2], [3,4], [5,6], [7,8], [9,10]]\n",
        "np_modmd_arr = np_md_arr.reshape(5,2)\n",
        "\n",
        "# A 1 * 4 Matrix\n",
        "np_md_arr2 = np.array ( [1, 2, 3, 4] )\n",
        "\n",
        "# Creates a 2 * 2 Matrix\n",
        "#[ [1,2], [3,4] ]\n",
        "np_modmd_arr2 = np_md_arr2.reshape(2,2)\n",
        "\n",
        "print(\"2x5:\", np_md_arr)\n",
        "print(\"5x2:\", np_modmd_arr)\n",
        "print(\"2x2:\", np_modmd_arr2)\n"
      ]
    },
    {
      "cell_type": "markdown",
      "metadata": {
        "id": "ASr0qGKC1DRU"
      },
      "source": [
        "NumPy can also generate a predefined set of number for an array. A predefined set of numbers with steps (including decimal steps can be generated using numpy.arange(...) function."
      ]
    },
    {
      "cell_type": "code",
      "execution_count": 25,
      "metadata": {
        "ExecuteTime": {
          "end_time": "2021-10-03T17:36:57.629374Z",
          "start_time": "2021-10-03T17:36:57.609454Z"
        },
        "colab": {
          "base_uri": "https://localhost:8080/",
          "height": 254
        },
        "id": "XRqgNI511DRV",
        "outputId": "2d0c19b4-7381-4246-cdea-70b8170c272d"
      },
      "outputs": [
        {
          "output_type": "display_data",
          "data": {
            "text/plain": [
              "array([0, 1, 2, 3, 4, 5, 6, 7, 8, 9])"
            ]
          },
          "metadata": {}
        },
        {
          "output_type": "display_data",
          "data": {
            "text/plain": [
              "array([0, 2, 4, 6, 8])"
            ]
          },
          "metadata": {}
        },
        {
          "output_type": "display_data",
          "data": {
            "text/plain": [
              "array([0. , 0.5, 1. , 1.5, 2. , 2.5, 3. , 3.5, 4. , 4.5, 5. , 5.5, 6. ,\n",
              "       6.5, 7. , 7.5, 8. , 8.5, 9. , 9.5])"
            ]
          },
          "metadata": {}
        },
        {
          "output_type": "display_data",
          "data": {
            "text/plain": [
              "array([[0, 1],\n",
              "       [2, 3],\n",
              "       [4, 5],\n",
              "       [6, 7],\n",
              "       [8, 9]])"
            ]
          },
          "metadata": {}
        },
        {
          "output_type": "display_data",
          "data": {
            "text/plain": [
              "array([[0. , 0.5, 1. , 1.5, 2. ],\n",
              "       [2.5, 3. , 3.5, 4. , 4.5],\n",
              "       [5. , 5.5, 6. , 6.5, 7. ],\n",
              "       [7.5, 8. , 8.5, 9. , 9.5]])"
            ]
          },
          "metadata": {}
        }
      ],
      "source": [
        "import numpy as np\n",
        "\n",
        "# Generating predefined data using aranage function\n",
        "\n",
        "np_nd_arr1 = np.arange(0,10)\n",
        "# Generates => [0 1 2 3 4 5 6 7 8 9]\n",
        "np_nd_arr2 = np.arange(0,10,2)\n",
        "# Generates => [0 2 4 6 8] . The 3rd parameter '2' is step\n",
        "\n",
        "# The step could be in floating point\n",
        "np_nd_arr3 = np.arange(0,10,0.5)\n",
        "# Generates => [ 0.  0.5 1.  1.5 2.  2.5 3.  3.5 4.  4.5 5.  5.5 6.  6.5 7.  7.5 8.  8.5 9.  9.5]\n",
        "\n",
        "# Generating n-dimension array from the output\n",
        "np_nd_arr4 = np_nd_arr1.reshape(5,2)\n",
        "\"\"\"\n",
        "Generates the following\n",
        "[[0 1]\n",
        " [2 3]\n",
        " [4 5]\n",
        " [6 7]\n",
        " [8 9]]\n",
        "\"\"\"\n",
        "np_nd_arr5 = np_nd_arr3.reshape(4,5)\n",
        "\"\"\"\n",
        "Generates the following\n",
        "[[0.  0.5 1.  1.5 2. ]\n",
        " [2.5 3.  3.5 4.  4.5]\n",
        " [5.  5.5 6.  6.5 7. ]\n",
        " [7.5 8.  8.5 9.  9.5]]\n",
        "\"\"\"\n",
        "display(np_nd_arr1,\n",
        "        np_nd_arr2,\n",
        "        np_nd_arr3,\n",
        "        np_nd_arr4,\n",
        "        np_nd_arr5)"
      ]
    },
    {
      "cell_type": "markdown",
      "metadata": {
        "id": "IjgP3UvI1DRW"
      },
      "source": [
        "NumPy create n-dimension arrays using pre-filled ones and zeros (matrix values are either zero or one). One of the most probable usage of this is to create a Sparse or Dense matrix for machine learning.\n",
        "\n",
        "By default, NumPy uses floating point float64 data type for creating ones and zeros, however, the data type can be changed to integer using dtype parameter."
      ]
    },
    {
      "cell_type": "code",
      "execution_count": 26,
      "metadata": {
        "ExecuteTime": {
          "end_time": "2021-10-03T17:48:52.174772Z",
          "start_time": "2021-10-03T17:48:52.144632Z"
        },
        "colab": {
          "base_uri": "https://localhost:8080/"
        },
        "id": "oBjeAqid1DRX",
        "outputId": "6bd0ba4f-aae8-44e2-e750-3e0f1c6a8cbf"
      },
      "outputs": [
        {
          "output_type": "stream",
          "name": "stdout",
          "text": [
            "[[1 1 1 1 1]\n",
            " [1 1 1 1 1]]\n"
          ]
        }
      ],
      "source": [
        "import numpy as np\n",
        "\n",
        "np_array_zeros = np.zeros(10)\n",
        "# Generates => [0. 0. 0. 0. 0. 0. 0. 0. 0. 0.]\n",
        "np_array_ones = np.ones(10)\n",
        "# Generates => [1. 1. 1. 1. 1. 1. 1. 1. 1. 1.]\n",
        "np_array = np.zeros((2,5))\n",
        "\"\"\"\n",
        "Generates the following\n",
        "[[0. 0. 0. 0. 0.]\n",
        "[0. 0. 0. 0. 0.]]\n",
        "\"\"\"\n",
        "np_array = np.ones((2,5))\n",
        "\"\"\"\n",
        "Generates the following\n",
        "[[1. 1. 1. 1. 1.]\n",
        " [1. 1. 1. 1. 1.]]\n",
        "\"\"\"\n",
        "# Changing the datatype as Integer\n",
        "np_array = np.ones((2,5), dtype='int32')\n",
        "\"\"\"\n",
        "Generates the following\n",
        "[[1 1 1 1 1]\n",
        " [1 1 1 1 1]]\n",
        "\"\"\"\n",
        "print(np_array)"
      ]
    },
    {
      "cell_type": "code",
      "execution_count": 28,
      "metadata": {
        "ExecuteTime": {
          "end_time": "2021-10-03T17:51:19.016991Z",
          "start_time": "2021-10-03T17:51:19.002035Z"
        },
        "colab": {
          "base_uri": "https://localhost:8080/",
          "height": 90
        },
        "id": "Lbj16vb41DRY",
        "outputId": "17c7738e-65ae-470f-bba6-6785e57f0e70"
      },
      "outputs": [
        {
          "output_type": "stream",
          "name": "stdout",
          "text": [
            "[2 4 6]\n"
          ]
        },
        {
          "output_type": "display_data",
          "data": {
            "text/plain": [
              "21"
            ]
          },
          "metadata": {}
        },
        {
          "output_type": "display_data",
          "data": {
            "text/plain": [
              "1"
            ]
          },
          "metadata": {}
        },
        {
          "output_type": "display_data",
          "data": {
            "text/plain": [
              "6"
            ]
          },
          "metadata": {}
        }
      ],
      "source": [
        "# Math calculations\n",
        "\n",
        "np_arr = np.array([1,2,3]) * 2\n",
        "# Generates [2,4,6]\n",
        "print(np_arr)\n",
        "\n",
        "np_arr = np.array([1,2,3]) + 2\n",
        "# Generates [3,4,5]\n",
        "\n",
        "np_arr1 = np.array([[1,2,3],[4,5,6]])\n",
        "np_arr2 = np.array([[1,2,3],[4,5,6]])\n",
        "np_arr3 = np_arr1 * np_arr2\n",
        "#Generates\n",
        "# [[ 1  4  9]\n",
        "# [16 25 36]]\n",
        "\n",
        "np_arr3 = np_arr1 + np_arr2\n",
        "#Generates\n",
        "# [[ 2  4  6]\n",
        "# [ 8 10 12]]\n",
        "\n",
        "np.sqrt(np_arr1)\n",
        "#generates\n",
        "# [1.         1.41421356 1.73205081]\n",
        "# [2.         2.23606798 2.44948974]]\n",
        "np.mean(np_arr1) #generates 3.5\n",
        "np.median(np_arr1) #generates 3.5\n",
        "\n",
        "display(np_arr1.sum(), # 21\n",
        "np_arr1.min(),  # 1\n",
        "np_arr1.max())  # 6"
      ]
    },
    {
      "cell_type": "markdown",
      "metadata": {
        "id": "0FedbsWn1DRY"
      },
      "source": [
        "## Finding Elements in NumPy array\n",
        "\n",
        "While working with data sets there will be times when we need to find specific data from the available data set. These three will be used more often than others. where, nonzeroand count_nonzero.\n",
        "\n",
        "Where and nonzero functions returns the index associated with the True statement."
      ]
    },
    {
      "cell_type": "code",
      "execution_count": 17,
      "metadata": {
        "ExecuteTime": {
          "end_time": "2021-10-03T18:34:40.750067Z",
          "start_time": "2021-10-03T18:34:40.732113Z"
        },
        "colab": {
          "base_uri": "https://localhost:8080/"
        },
        "id": "TrdPcsD_1DRZ",
        "outputId": "de84a1da-63c4-4abf-d9af-8632450f6fc5"
      },
      "outputs": [
        {
          "output_type": "stream",
          "name": "stdout",
          "text": [
            "(array([3, 4]),)\n",
            "(array([0, 1, 3, 4]),)\n"
          ]
        },
        {
          "output_type": "execute_result",
          "data": {
            "text/plain": [
              "6"
            ]
          },
          "metadata": {},
          "execution_count": 17
        }
      ],
      "source": [
        "np_arr = np.array([1,2,0,4,5])\n",
        "find = np.where(np_arr > 2)  # se leería como... ¿cuales posiciones tienen valores mayores a 2?\n",
        "#returns [3,4]\n",
        "print(find)\n",
        "\n",
        "find2 = np.nonzero(np_arr)  # se leería como... ¿cuales posiciones tienen valores diferentes de cero?\n",
        "print(find2)\n",
        "\n",
        "n_arr = np.array([1,2,3,0,3,0,2,0,0,2])\n",
        "np.count_nonzero(n_arr) #count_nonzero cuenta el número de elementos diferentes de cero\n",
        "# returns 6"
      ]
    },
    {
      "cell_type": "code",
      "execution_count": 18,
      "metadata": {
        "ExecuteTime": {
          "end_time": "2021-10-03T18:41:38.007136Z",
          "start_time": "2021-10-03T18:41:37.987192Z"
        },
        "colab": {
          "base_uri": "https://localhost:8080/"
        },
        "id": "XTxhui8N1DRa",
        "outputId": "69127699-143a-4dc6-88ca-bbcceb81c4cb"
      },
      "outputs": [
        {
          "output_type": "stream",
          "name": "stdout",
          "text": [
            "(10,)\n",
            "(2, 2)\n"
          ]
        }
      ],
      "source": [
        "# find the shape of the NumPy array.\n",
        "\n",
        "n_arr1 = np.array([1.,2,3,0,3,0,2,0,0,2])\n",
        "n_arr1.shape\n",
        "# Generates => (10,)\n",
        "print(n_arr1.shape)\n",
        "\n",
        "n_arr2 = np.array([[1,2],[3,0]])\n",
        "# Generates => (2,2)\n",
        "print(n_arr2.shape)\n"
      ]
    },
    {
      "cell_type": "code",
      "execution_count": 19,
      "metadata": {
        "ExecuteTime": {
          "end_time": "2021-10-03T18:48:09.852990Z",
          "start_time": "2021-10-03T18:48:09.834042Z"
        },
        "colab": {
          "base_uri": "https://localhost:8080/"
        },
        "id": "rmEzqyIh1DRb",
        "outputId": "4019b34f-2f17-4373-8bce-eaf991b2743a"
      },
      "outputs": [
        {
          "output_type": "execute_result",
          "data": {
            "text/plain": [
              "array([5, 6])"
            ]
          },
          "metadata": {},
          "execution_count": 19
        }
      ],
      "source": [
        "# Slicing NumPy Arrays\n",
        "''' The ':' is called the separator and works with Inclusive — Exclusive principal,\n",
        "which means that the left of the separator shall be included while right of the\n",
        "separator will be excluded.'''\n",
        "\n",
        "import numpy as np\n",
        "\n",
        "np_arr = np.array([1,2,3,4,5,6])\n",
        "\n",
        "np_arr[:]    # All Elements of an array\n",
        "np_arr[0:2]  # Elements Index ] -> 0 & 1\n",
        "np_arr[1:4]  # Elements Index] -> 1,2, & 3\n",
        "np_arr[0:]   # Elements Index] -> Starting from 0 till end\n",
        "np_arr[1:4]  # Elements Index -> 1,2, & 3\n",
        "np_arr[:4]   # Elements Index Starting from 0 till 4\n",
        "np_arr[-2:]\n"
      ]
    },
    {
      "cell_type": "code",
      "execution_count": 20,
      "metadata": {
        "ExecuteTime": {
          "end_time": "2021-10-16T16:28:47.218741Z",
          "start_time": "2021-10-16T16:28:47.201788Z"
        },
        "colab": {
          "base_uri": "https://localhost:8080/"
        },
        "id": "fAmQ9d3a1DRc",
        "outputId": "77c5215c-25e2-494a-c1f7-433cd7cf0b3f"
      },
      "outputs": [
        {
          "output_type": "stream",
          "name": "stdout",
          "text": [
            "[100 100 100 100 100]\n"
          ]
        }
      ],
      "source": [
        "# Numpy has the ability to change multiple elements of the array in-place with a value.\n",
        "\n",
        "import numpy as np\n",
        "\n",
        "np_arr = np.array([1,2,3,4,5])\n",
        "\n",
        "np_arr[:] = 100  # All elements shall be change to 100\n",
        "print(np_arr)\n"
      ]
    },
    {
      "cell_type": "code",
      "execution_count": 21,
      "metadata": {
        "ExecuteTime": {
          "end_time": "2021-10-16T16:29:07.552873Z",
          "start_time": "2021-10-16T16:29:07.536917Z"
        },
        "colab": {
          "base_uri": "https://localhost:8080/"
        },
        "id": "opHuH3w-1DRc",
        "outputId": "83574dde-7eb8-4db2-dfdd-e9146d650abd"
      },
      "outputs": [
        {
          "output_type": "stream",
          "name": "stdout",
          "text": [
            "[100 -50 -50 100 100]\n"
          ]
        }
      ],
      "source": [
        "np_arr[1:3] = -50 # Element index 1,2 & 3 changed to 200\n",
        "print(np_arr)\n"
      ]
    },
    {
      "cell_type": "code",
      "execution_count": 22,
      "metadata": {
        "ExecuteTime": {
          "end_time": "2021-10-16T16:29:26.984468Z",
          "start_time": "2021-10-16T16:29:26.975492Z"
        },
        "colab": {
          "base_uri": "https://localhost:8080/"
        },
        "id": "T3RgjKSZ1DRd",
        "outputId": "da4a7898-6e86-4868-818f-19428910c524"
      },
      "outputs": [
        {
          "output_type": "stream",
          "name": "stdout",
          "text": [
            "[100 -50 100 100 100]\n"
          ]
        }
      ],
      "source": [
        "np_arr[2:] = 100  # Element index starting from 2 till end will be changed to 100\n",
        "print(np_arr)\n"
      ]
    },
    {
      "cell_type": "code",
      "execution_count": 23,
      "metadata": {
        "ExecuteTime": {
          "end_time": "2021-10-16T16:30:09.568095Z",
          "start_time": "2021-10-16T16:30:09.544367Z"
        },
        "colab": {
          "base_uri": "https://localhost:8080/"
        },
        "id": "VyxwFXEj1DRd",
        "outputId": "40c567aa-810d-4067-d1cb-5dfc832a50f9"
      },
      "outputs": [
        {
          "output_type": "stream",
          "name": "stdout",
          "text": [
            "[[1 2 3]\n",
            " [4 5 6]\n",
            " [7 8 9]]\n"
          ]
        }
      ],
      "source": [
        "# Here are some examples on what slicing means in case of 2D arrays\n",
        "\n",
        "import numpy as np\n",
        "\n",
        "np_arr = np.array([ [1,2,3],\n",
        "                    [4,5,6],\n",
        "                    [7,8,9]])\n",
        "\n",
        "np_arr[:]        # Display all rows and columns                    \n",
        "np_arr[:,:]      # Display all rows and columns\n",
        "np_arr[0:3, 0:3] # Display all rows and columns\n",
        "np_arr[0:2]      # Display 0th row & 1st Row and All Columns (Since Columns are not specified)\n",
        "np_arr[0:3,0:2]  # Display all rows but only 0th and 1st column i.e (0, 1) exluding 2\n",
        "np_arr[:,1]      # Display all rows but only 2nd column \n",
        "np_arr[:,0:2]    # Display all rows and 0th and 1st Column\n",
        "\n",
        "print(np_arr)\n"
      ]
    }
  ],
  "metadata": {
    "celltoolbar": "Slideshow",
    "kernelspec": {
      "display_name": "Python 3",
      "language": "python",
      "name": "python3"
    },
    "language_info": {
      "codemirror_mode": {
        "name": "ipython",
        "version": 3
      },
      "file_extension": ".py",
      "mimetype": "text/x-python",
      "name": "python",
      "nbconvert_exporter": "python",
      "pygments_lexer": "ipython3",
      "version": "3.7.4"
    },
    "latex_envs": {
      "LaTeX_envs_menu_present": true,
      "autoclose": false,
      "autocomplete": true,
      "bibliofile": "biblio.bib",
      "cite_by": "apalike",
      "current_citInitial": 1,
      "eqLabelWithNumbers": true,
      "eqNumInitial": 1,
      "hotkeys": {
        "equation": "Ctrl-E",
        "itemize": "Ctrl-I"
      },
      "labels_anchors": false,
      "latex_user_defs": false,
      "report_style_numbering": false,
      "user_envs_cfg": false
    },
    "toc": {
      "base_numbering": 1,
      "nav_menu": {},
      "number_sections": true,
      "sideBar": true,
      "skip_h1_title": false,
      "title_cell": "Table of Contents",
      "title_sidebar": "Contents",
      "toc_cell": false,
      "toc_position": {},
      "toc_section_display": true,
      "toc_window_display": false
    },
    "varInspector": {
      "cols": {
        "lenName": 16,
        "lenType": 16,
        "lenVar": 40
      },
      "kernels_config": {
        "python": {
          "delete_cmd_postfix": "",
          "delete_cmd_prefix": "del ",
          "library": "var_list.py",
          "varRefreshCmd": "print(var_dic_list())"
        },
        "r": {
          "delete_cmd_postfix": ") ",
          "delete_cmd_prefix": "rm(",
          "library": "var_list.r",
          "varRefreshCmd": "cat(var_dic_list()) "
        }
      },
      "types_to_exclude": [
        "module",
        "function",
        "builtin_function_or_method",
        "instance",
        "_Feature"
      ],
      "window_display": false
    },
    "colab": {
      "name": "03_1_Numpy_Arrays.ipynb",
      "provenance": [],
      "include_colab_link": true
    }
  },
  "nbformat": 4,
  "nbformat_minor": 0
}